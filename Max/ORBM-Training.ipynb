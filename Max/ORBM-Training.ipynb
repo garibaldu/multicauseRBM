{
 "cells": [
  {
   "cell_type": "code",
   "execution_count": 1,
   "metadata": {
    "collapsed": false
   },
   "outputs": [],
   "source": [
    "from scipy.special import expit\n",
    "from rbmpy.rbm import RBM\n",
    "from rbmpy.sampler import VanillaSampler, PartitionedSampler, ApproximatedSampler, LayerWiseApproxSampler,ApproximatedMulDimSampler, goodnight, orbm_goodnight, FullCorrectionMulDimSampler\n",
    "from rbmpy.trainer import VanillaTrainier, ORBMTrainer\n",
    "from rbmpy.performance import Result\n",
    "\n",
    "import numpy as np\n",
    "import rbmpy.datasets as datasets\n",
    "import rbmpy.performance, pickle, rbmpy.rbm, os, math, logging\n",
    "\n",
    "import rbmpy.plotter as pp\n",
    "from rbmpy.datasets import SquareToyData\n",
    "import matplotlib.pyplot as plt\n",
    "import matplotlib.image as mpimg\n",
    "\n",
    "logger = logging.getLogger()\n",
    "# Set the logging level to logging.DEBUG \n",
    "logger.setLevel(logging.INFO)\n",
    "\n",
    "%matplotlib inline"
   ]
  },
  {
   "cell_type": "code",
   "execution_count": 2,
   "metadata": {
    "collapsed": false
   },
   "outputs": [],
   "source": [
    "def image_composition(a, b):\n",
    "    return np.maximum(a,b)"
   ]
  },
  {
   "cell_type": "markdown",
   "metadata": {},
   "source": [
    "## Dataset ##\n",
    "\n",
    "First we construct a dataset of toy data. Back to the XOR case, so 2 bits. "
   ]
  },
  {
   "cell_type": "code",
   "execution_count": 3,
   "metadata": {
    "collapsed": false
   },
   "outputs": [
    {
     "name": "stderr",
     "output_type": "stream",
     "text": [
      "WARNING:root:Unsquashing will not work with none squares yet!\n"
     ]
    }
   ],
   "source": [
    "square_factory = SquareToyData()\n",
    "sq_shape = (1,1)\n",
    "img_size = (1,2)\n",
    "dataset_one = square_factory.gen_training(sq_shape, img_size)"
   ]
  },
  {
   "cell_type": "code",
   "execution_count": 4,
   "metadata": {
    "collapsed": false
   },
   "outputs": [
    {
     "data": {
      "image/png": "[encoded data removed]",
      "text/plain": [
       "<matplotlib.figure.Figure at 0x1119b9c50>"
      ]
     },
     "metadata": {},
     "output_type": "display_data"
    },
    {
     "name": "stderr",
     "output_type": "stream",
     "text": [
      "INFO:root:Training Dataset\n"
     ]
    }
   ],
   "source": [
    "dataset_composite = np.append(dataset_one,image_composition(dataset_one, np.flipud(dataset_one)), axis = 0)\n",
    "pp.images(dataset_composite, color_range=(0,1))\n",
    "logger.info(\"Training Dataset\")"
   ]
  },
  {
   "cell_type": "code",
   "execution_count": 5,
   "metadata": {
    "collapsed": true
   },
   "outputs": [],
   "source": [
    "def plot_rbm_vanilla_dreams(rbm):\n",
    "    reconstructions = goodnight(rbm, VanillaSampler(rbm),2000,200)[0]\n",
    "    pp.plot_dict(reconstructions)\n",
    "\n",
    "def plot_orbm_dreams(rbm_a, rbm_b, sampler):\n",
    "    ab_orbm_dreams = orbm_goodnight(rbm_a,rbm_b,sampler, 1000,200)[0]\n",
    "    pp.plot_dict(ab_orbm_dreams)\n",
    "\n",
    "def evaluate_orbm_training(num_hid, sampler_class, dataset_composite, epochs):\n",
    "    (num_items, num_vis ) = datasets.squash_images(dataset_composite).shape\n",
    "    rbm_a = RBM(num_hid, num_vis,num_items, zerod_bias=True)\n",
    "    rbm_b = rbm_a #RBM(num_hid, num_vis,num_items)\n",
    "    sampler = sampler_class(rbm_a.weights ,rbm_b.weights, rbm_a.hidden_bias, rbm_b.hidden_bias)\n",
    "    trainer = ORBMTrainer(rbm_a,rbm_b, sampler)\n",
    "    \n",
    "    trainer.train(epochs,datasets.squash_images(dataset_composite), logging_freq=10)\n",
    "    logger.info(\"RBM_A Dreams\")\n",
    "    plot_rbm_vanilla_dreams(rbm_a)\n",
    "    logger.info(\"RBM_B Dreams\")\n",
    "    plot_rbm_vanilla_dreams(rbm_b)\n",
    "    logger.info(\"ORBM Dreams (combined reconstructions)\")\n",
    "    plot_orbm_dreams(rbm_a, rbm_b, sampler)\n",
    "    return (rbm_a, rbm_b)"
   ]
  },
  {
   "cell_type": "code",
   "execution_count": 6,
   "metadata": {
    "collapsed": false
   },
   "outputs": [
    {
     "name": "stderr",
     "output_type": "stream",
     "text": [
      "INFO:rbmpy.trainer:Created Progress logger for task - rbmpy.trainer\n",
      "INFO:rbmpy.trainer:0.0% complete\n",
      "INFO:rbmpy.trainer:10.0% complete\n",
      "INFO:rbmpy.trainer:20.0% complete\n",
      "INFO:rbmpy.trainer:30.0% complete\n",
      "INFO:rbmpy.trainer:40.0% complete\n",
      "INFO:rbmpy.trainer:50.0% complete\n",
      "INFO:rbmpy.trainer:60.0% complete\n",
      "INFO:rbmpy.trainer:70.0% complete\n",
      "INFO:rbmpy.trainer:80.0% complete\n",
      "INFO:rbmpy.trainer:90.0% complete\n",
      "INFO:rbmpy.trainer:100% complete\n",
      "INFO:root:RBM_A Dreams\n"
     ]
    },
    {
     "data": {
      "image/png": "[encoded data removed]",
      "text/plain": [
       "<matplotlib.figure.Figure at 0x111b779b0>"
      ]
     },
     "metadata": {},
     "output_type": "display_data"
    },
    {
     "name": "stderr",
     "output_type": "stream",
     "text": [
      "INFO:root:RBM_B Dreams\n"
     ]
    },
    {
     "data": {
      "image/png": "[encoded data removed]",
      "text/plain": [
       "<matplotlib.figure.Figure at 0x111bef080>"
      ]
     },
     "metadata": {},
     "output_type": "display_data"
    },
    {
     "name": "stderr",
     "output_type": "stream",
     "text": [
      "INFO:root:ORBM Dreams (combined reconstructions)\n"
     ]
    },
    {
     "data": {
      "image/png": "[encoded data removed]",
      "text/plain": [
       "<matplotlib.figure.Figure at 0x111cde5c0>"
      ]
     },
     "metadata": {},
     "output_type": "display_data"
    }
   ],
   "source": [
    "rbm_a, rbm_b = evaluate_orbm_training(2, ApproximatedMulDimSampler, dataset_composite, int(1e3))"
   ]
  },
  {
   "cell_type": "markdown",
   "metadata": {},
   "source": [
    "# An RBM trained on the same data... #"
   ]
  },
  {
   "cell_type": "code",
   "execution_count": 7,
   "metadata": {
    "collapsed": false
   },
   "outputs": [
    {
     "data": {
      "image/png": "[encoded data removed]",
      "text/plain": [
       "<matplotlib.figure.Figure at 0x111dd27b8>"
      ]
     },
     "metadata": {},
     "output_type": "display_data"
    }
   ],
   "source": [
    "pure_dataset = np.append(dataset_one, dataset_one, axis = 0)\n",
    "(num_items, num_vis ) = datasets.squash_images(pure_dataset).shape\n",
    "rbm_vanilla = RBM(2,num_vis,num_items)\n",
    "van_sampler = VanillaSampler(rbm_vanilla)\n",
    "van_trainer = VanillaTrainier(rbm_vanilla,van_sampler)\n",
    "van_trainer.train(int(1e4), datasets.squash_images(pure_dataset))\n",
    "plot_rbm_vanilla_dreams(rbm_vanilla)"
   ]
  },
  {
   "cell_type": "code",
   "execution_count": 8,
   "metadata": {
    "collapsed": false
   },
   "outputs": [
    {
     "name": "stderr",
     "output_type": "stream",
     "text": [
      "INFO:root:Approx ORBM Generative Samples - Free Phase Sampling\n"
     ]
    },
    {
     "data": {
      "image/png": "[encoded data removed]",
      "text/plain": [
       "<matplotlib.figure.Figure at 0x111c09be0>"
      ]
     },
     "metadata": {},
     "output_type": "display_data"
    },
    {
     "name": "stderr",
     "output_type": "stream",
     "text": [
      "INFO:root:Un-Approx ORBM Generative Samples - Free Phase Sampling\n"
     ]
    },
    {
     "data": {
      "image/png": "[encoded data removed]",
      "text/plain": [
       "<matplotlib.figure.Figure at 0x111c090b8>"
      ]
     },
     "metadata": {},
     "output_type": "display_data"
    }
   ],
   "source": [
    "orbm_sampler = ApproximatedMulDimSampler(rbm_vanilla.weights ,rbm_vanilla.weights, rbm_vanilla.hidden_bias, rbm_vanilla.hidden_bias)\n",
    "orbm_trainer = ORBMTrainer(rbm_vanilla,rbm_vanilla, orbm_sampler)\n",
    "unapprox_sampler = FullCorrectionMulDimSampler(rbm_vanilla.weights ,rbm_vanilla.weights, rbm_vanilla.hidden_bias, rbm_vanilla.hidden_bias)\n",
    "logger.info(\"Approx ORBM Generative Samples - Free Phase Sampling\")\n",
    "plot_orbm_dreams(rbm_vanilla, rbm_vanilla, orbm_sampler)\n",
    "logger.info(\"Un-Approx ORBM Generative Samples - Free Phase Sampling\")\n",
    "plot_orbm_dreams(rbm_vanilla, rbm_vanilla, unapprox_sampler)"
   ]
  },
  {
   "cell_type": "code",
   "execution_count": 9,
   "metadata": {
    "collapsed": false
   },
   "outputs": [
    {
     "name": "stderr",
     "output_type": "stream",
     "text": [
      "INFO:rbmpy.trainer:Created Progress logger for task - rbmpy.trainer\n",
      "INFO:rbmpy.trainer:0.0% complete\n",
      "INFO:rbmpy.trainer:10.0% complete\n",
      "INFO:rbmpy.trainer:20.0% complete\n",
      "INFO:rbmpy.trainer:30.0% complete\n",
      "INFO:rbmpy.trainer:40.0% complete\n",
      "INFO:rbmpy.trainer:50.0% complete\n",
      "INFO:rbmpy.trainer:60.0% complete\n",
      "INFO:rbmpy.trainer:70.0% complete\n",
      "INFO:rbmpy.trainer:80.0% complete\n",
      "INFO:rbmpy.trainer:90.0% complete\n",
      "INFO:rbmpy.trainer:100% complete\n"
     ]
    }
   ],
   "source": [
    "orbm_trainer.train(int(1e3),datasets.squash_images(dataset_composite), logging_freq=10)"
   ]
  },
  {
   "cell_type": "code",
   "execution_count": 10,
   "metadata": {
    "collapsed": false
   },
   "outputs": [
    {
     "data": {
      "image/png": "[encoded data removed]",
      "text/plain": [
       "<matplotlib.figure.Figure at 0x111da3400>"
      ]
     },
     "metadata": {},
     "output_type": "display_data"
    }
   ],
   "source": [
    "plot_orbm_dreams(rbm_vanilla, rbm_vanilla, orbm_sampler)"
   ]
  },
  {
   "cell_type": "markdown",
   "metadata": {},
   "source": [
    "# Crap #\n",
    "So it looks like the orbm training drives up the likihood of 1,1! Damn!!!\n",
    "Lets do the same with the full unapproximated corretion"
   ]
  },
  {
   "cell_type": "code",
   "execution_count": 11,
   "metadata": {
    "collapsed": false
   },
   "outputs": [
    {
     "name": "stderr",
     "output_type": "stream",
     "text": [
      "INFO:rbmpy.trainer:Created Progress logger for task - rbmpy.trainer\n",
      "INFO:rbmpy.trainer:0.0% complete\n",
      "INFO:rbmpy.trainer:10.0% complete\n",
      "INFO:rbmpy.trainer:20.0% complete\n",
      "INFO:rbmpy.trainer:30.0% complete\n",
      "INFO:rbmpy.trainer:40.0% complete\n",
      "INFO:rbmpy.trainer:50.0% complete\n",
      "INFO:rbmpy.trainer:60.0% complete\n",
      "INFO:rbmpy.trainer:70.0% complete\n",
      "INFO:rbmpy.trainer:80.0% complete\n",
      "INFO:rbmpy.trainer:90.0% complete\n",
      "INFO:rbmpy.trainer:100% complete\n",
      "INFO:root:RBM_A Dreams\n"
     ]
    },
    {
     "data": {
      "image/png": "[encoded data removed]",
      "text/plain": [
       "<matplotlib.figure.Figure at 0x111b628d0>"
      ]
     },
     "metadata": {},
     "output_type": "display_data"
    },
    {
     "name": "stderr",
     "output_type": "stream",
     "text": [
      "INFO:root:RBM_B Dreams\n"
     ]
    },
    {
     "data": {
      "image/png": "[encoded data removed]",
      "text/plain": [
       "<matplotlib.figure.Figure at 0x111b10ef0>"
      ]
     },
     "metadata": {},
     "output_type": "display_data"
    },
    {
     "name": "stderr",
     "output_type": "stream",
     "text": [
      "INFO:root:ORBM Dreams (combined reconstructions)\n"
     ]
    },
    {
     "data": {
      "image/png": "[encoded data removed]",
      "text/plain": [
       "<matplotlib.figure.Figure at 0x111b9e0b8>"
      ]
     },
     "metadata": {},
     "output_type": "display_data"
    }
   ],
   "source": [
    "rbm_a, rbm_b = evaluate_orbm_training(2, FullCorrectionMulDimSampler, dataset_composite, int(1e3))"
   ]
  },
  {
   "cell_type": "code",
   "execution_count": null,
   "metadata": {
    "collapsed": true
   },
   "outputs": [],
   "source": []
  }
 ],
 "metadata": {
  "kernelspec": {
   "display_name": "Python 3",
   "language": "python",
   "name": "python3"
  },
  "language_info": {
   "codemirror_mode": {
    "name": "ipython",
    "version": 3
   },
   "file_extension": ".py",
   "mimetype": "text/x-python",
   "name": "python",
   "nbconvert_exporter": "python",
   "pygments_lexer": "ipython3",
   "version": "3.4.3"
  }
 },
 "nbformat": 4,
 "nbformat_minor": 0
}
