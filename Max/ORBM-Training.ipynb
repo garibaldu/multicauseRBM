{
 "cells": [
  {
   "cell_type": "code",
   "execution_count": 3,
   "metadata": {
    "collapsed": false
   },
   "outputs": [],
   "source": [
    "import rbmpy.sampler"
   ]
  },
  {
   "cell_type": "code",
   "execution_count": 4,
   "metadata": {
    "collapsed": false
   },
   "outputs": [],
   "source": [
    "from scipy.special import expit\n",
    "from rbmpy.rbm import RBM\n",
    "from rbmpy.sampler import VanillaSampler, PartitionedSampler, ApproximatedSampler, LayerWiseApproxSampler,ApproximatedMulDimSampler\n",
    "from rbmpy.trainer import VanillaTrainier, ORBMTrainer\n",
    "from rbmpy.performance import Result\n",
    "from collections import Counter\n",
    "import numpy as np\n",
    "import rbmpy.datasets as datasets\n",
    "import rbmpy.performance, pickle, rbmpy.rbm, os, math, logging\n",
    "\n",
    "import rbmpy.plotter as pp\n",
    "from rbmpy.datasets import SquareToyData\n",
    "import matplotlib.pyplot as plt\n",
    "import matplotlib.image as mpimg\n",
    "\n",
    "logger = logging.getLogger()\n",
    "# Set the logging level to logging.DEBUG \n",
    "logger.setLevel(logging.INFO)\n",
    "\n",
    "%matplotlib inline"
   ]
  },
  {
   "cell_type": "code",
   "execution_count": 5,
   "metadata": {
    "collapsed": false
   },
   "outputs": [],
   "source": [
    "def key_for_visible(v):\n",
    "    return \"{}\".format(v)\n",
    "\n",
    "def goodnight(model, sampler, hours_of_sleep, num_gibbs_per_hour):\n",
    "    \"\"\"Generate a dictionary of reconstructions to the number of times they occurred\"\"\"\n",
    "    result_dict = Counter()\n",
    "    v_prime = sampler.dream(model, num_gibbs_per_hour)\n",
    "    reconstruction_dict = {} # the actual reconstructions that occurred\n",
    "    for i in range(hours_of_sleep):\n",
    "        v_prime = sampler.dream(model, num_gibbs_per_hour)\n",
    "        result_dict[key_for_visible(v_prime)] += 1\n",
    "        reconstruction_dict[key_for_visible(v_prime)] = v_prime\n",
    "    return result_dict, reconstruction_dict\n",
    "\n",
    "\n",
    "def image_composition(a, b):\n",
    "    return a + b"
   ]
  },
  {
   "cell_type": "code",
   "execution_count": 6,
   "metadata": {
    "collapsed": false
   },
   "outputs": [
    {
     "name": "stderr",
     "output_type": "stream",
     "text": [
      "WARNING:root:Unsquashing will not work with none squares yet!\n"
     ]
    },
    {
     "data": {
      "image/png": "[encoded data removed]",
      "text/plain": [
       "<matplotlib.figure.Figure at 0x111191780>"
      ]
     },
     "metadata": {},
     "output_type": "display_data"
    },
    {
     "name": "stdout",
     "output_type": "stream",
     "text": [
      "Dataset of 1 by 2 with 22 items\n"
     ]
    }
   ],
   "source": [
    "square_factory = SquareToyData()\n",
    "sq_shape = (1,1)\n",
    "img_size = (1,2)\n",
    "dataset_one = square_factory.gen_training(sq_shape, img_size)\n",
    "dataset_two = np.copy(dataset_one)\n",
    "\n",
    "np.random.shuffle(dataset_one)\n",
    "np.random.shuffle(dataset_two)\n",
    "\n",
    "dataset_composite = image_composition(dataset_one, dataset_two)\n",
    "for i in range(10):\n",
    "    np.random.shuffle(dataset_one)\n",
    "    np.random.shuffle(dataset_two)\n",
    "\n",
    "    dataset_composite = np.append(dataset_composite, image_composition(dataset_one , dataset_two), axis=0)\n",
    "\n",
    "np.append(dataset_composite,dataset_one[:5],axis= 0)\n",
    "pp.images(dataset_composite, color_range=(0,1))\n",
    "\n",
    "print(\"Dataset of {1} by {2} with {0} items\".format(*dataset_composite.shape))\n"
   ]
  },
  {
   "cell_type": "code",
   "execution_count": 7,
   "metadata": {
    "collapsed": false
   },
   "outputs": [],
   "source": [
    "(num_items, num_vis ) = datasets.squash_images(dataset_composite).shape\n",
    "num_hid = 2"
   ]
  },
  {
   "cell_type": "code",
   "execution_count": 8,
   "metadata": {
    "collapsed": true
   },
   "outputs": [],
   "source": [
    "rbm_a = RBM(num_hid, num_vis,num_items)\n",
    "rbm_b = RBM(num_hid, num_vis,num_items)"
   ]
  },
  {
   "cell_type": "code",
   "execution_count": 9,
   "metadata": {
    "collapsed": false
   },
   "outputs": [],
   "source": [
    "sampler = ApproximatedMulDimSampler(rbm_a.weights ,rbm_b.weights, rbm_a.hidden_bias, rbm_b.hidden_bias)\n",
    "trainer = ORBMTrainer(rbm_a,rbm_b, sampler)"
   ]
  },
  {
   "cell_type": "code",
   "execution_count": 10,
   "metadata": {
    "collapsed": false
   },
   "outputs": [
    {
     "name": "stderr",
     "output_type": "stream",
     "text": [
      "INFO:rbmpy.trainer:Created Progress logger for task - rbmpy.trainer\n",
      "INFO:rbmpy.trainer:0.0% complete\n",
      "INFO:rbmpy.trainer:10.0% complete\n",
      "INFO:rbmpy.trainer:20.0% complete\n",
      "INFO:rbmpy.trainer:30.0% complete\n",
      "INFO:rbmpy.trainer:40.0% complete\n",
      "INFO:rbmpy.trainer:50.0% complete\n",
      "INFO:rbmpy.trainer:60.0% complete\n",
      "INFO:rbmpy.trainer:70.0% complete\n",
      "INFO:rbmpy.trainer:80.0% complete\n",
      "INFO:rbmpy.trainer:90.0% complete\n",
      "INFO:rbmpy.trainer:100% complete\n"
     ]
    }
   ],
   "source": [
    "trainer.train(int(1e2),datasets.squash_images(dataset_composite), logging_freq=10)"
   ]
  },
  {
   "cell_type": "markdown",
   "metadata": {},
   "source": [
    "pp.images(rbm.weights_into_hiddens(rbm_a.weights), title=\"Hinton Diagram\", cmap=\"gray\")\n",
    "pp.images(rbm.weights_into_hiddens(rbm_b.weights), title=\"Hinton Diagram\", cmap=\"gray\")"
   ]
  },
  {
   "cell_type": "code",
   "execution_count": 11,
   "metadata": {
    "collapsed": false
   },
   "outputs": [
    {
     "name": "stderr",
     "output_type": "stream",
     "text": [
      "INFO:root:Ground Truth\n"
     ]
    },
    {
     "data": {
      "image/png": "[encoded data removed]",
      "text/plain": [
       "<matplotlib.figure.Figure at 0x1119a1470>"
      ]
     },
     "metadata": {},
     "output_type": "display_data"
    },
    {
     "data": {
      "image/png": "[encoded data removed]",
      "text/plain": [
       "<matplotlib.figure.Figure at 0x111a86278>"
      ]
     },
     "metadata": {},
     "output_type": "display_data"
    }
   ],
   "source": [
    "sampler_a = VanillaSampler(rbm_a)\n",
    "sampler_b = VanillaSampler(rbm_b)\n",
    "\n",
    "logging.info(\"Ground Truth\")\n",
    "pp.images(dataset_one)\n",
    "pp.images(dataset_two)"
   ]
  },
  {
   "cell_type": "markdown",
   "metadata": {},
   "source": [
    "logging.info(\"A\")\n",
    "pp.images(datasets.inflate_images(sampler_a.reconstruction_given_visible(datasets.squash_images(dataset_one))))\n",
    "pp.images(datasets.inflate_images(sampler_a.reconstruction_given_visible(datasets.squash_images(dataset_two))))\n",
    "logging.info(\"B\")\n",
    "pp.images(datasets.inflate_images(sampler_b.reconstruction_given_visible(datasets.squash_images(dataset_one))))\n",
    "pp.images(datasets.inflate_images(sampler_b.reconstruction_given_visible(datasets.squash_images(dataset_two))))"
   ]
  },
  {
   "cell_type": "markdown",
   "metadata": {
    "collapsed": false,
    "scrolled": false
   },
   "source": [
    "pp.images(dataset_composite, color_range=(0,1))"
   ]
  },
  {
   "cell_type": "code",
   "execution_count": 12,
   "metadata": {
    "collapsed": false
   },
   "outputs": [
    {
     "data": {
      "image/png": "[encoded data removed]",
      "text/plain": [
       "<matplotlib.figure.Figure at 0x111bb0b38>"
      ]
     },
     "metadata": {},
     "output_type": "display_data"
    },
    {
     "data": {
      "image/png": "[encoded data removed]",
      "text/plain": [
       "<matplotlib.figure.Figure at 0x111c045f8>"
      ]
     },
     "metadata": {},
     "output_type": "display_data"
    }
   ],
   "source": [
    "pp.images(sampler_a.reconstruction_given_visible(datasets.squash_images(dataset_one), return_sigmoid=True).reshape(2,1,2), color_range=(0,1))\n",
    "pp.images(sampler_a.reconstruction_given_visible(datasets.squash_images(dataset_two), return_sigmoid=True).reshape(2,1,2), color_range=(0,1))"
   ]
  },
  {
   "cell_type": "code",
   "execution_count": 13,
   "metadata": {
    "collapsed": false
   },
   "outputs": [
    {
     "data": {
      "image/png": "[encoded data removed]",
      "text/plain": [
       "<matplotlib.figure.Figure at 0x11124aba8>"
      ]
     },
     "metadata": {},
     "output_type": "display_data"
    },
    {
     "data": {
      "image/png": "[encoded data removed]",
      "text/plain": [
       "<matplotlib.figure.Figure at 0x11126a4a8>"
      ]
     },
     "metadata": {},
     "output_type": "display_data"
    }
   ],
   "source": [
    "pp.images(sampler_b.reconstruction_given_visible(datasets.squash_images(dataset_one), return_sigmoid=True).reshape(2,1,2) , color_range=(0,1))\n",
    "pp.images(sampler_b.reconstruction_given_visible(datasets.squash_images(dataset_two), return_sigmoid=True).reshape(2,1,2) , color_range=(0,1)) "
   ]
  }
 ],
 "metadata": {
  "kernelspec": {
   "display_name": "Python 3",
   "language": "python",
   "name": "python3"
  },
  "language_info": {
   "codemirror_mode": {
    "name": "ipython",
    "version": 3
   },
   "file_extension": ".py",
   "mimetype": "text/x-python",
   "name": "python",
   "nbconvert_exporter": "python",
   "pygments_lexer": "ipython3",
   "version": "3.4.3"
  }
 },
 "nbformat": 4,
 "nbformat_minor": 0
}
