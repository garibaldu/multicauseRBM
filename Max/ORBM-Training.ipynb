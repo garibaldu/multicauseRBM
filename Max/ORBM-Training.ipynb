{
 "cells": [
  {
   "cell_type": "code",
   "execution_count": 1,
   "metadata": {
    "collapsed": false
   },
   "outputs": [],
   "source": [
    "from scipy.special import expit\n",
    "from rbmpy.rbm import RBM\n",
    "from rbmpy.sampler import VanillaSampler, DirtyCorrectionMulDimSampler,PartitionedSampler, ApproximatedSampler, LayerWiseApproxSampler,ApproximatedMulDimSampler, goodnight, orbm_goodnight, FullCorrectionMulDimSampler\n",
    "from rbmpy.trainer import VanillaTrainier, ORBMTrainer\n",
    "from rbmpy.performance import Result\n",
    "\n",
    "import numpy as np\n",
    "import rbmpy.datasets as datasets\n",
    "import rbmpy.performance, pickle, rbmpy.rbm, os, math, logging\n",
    "\n",
    "import rbmpy.plotter as pp\n",
    "from rbmpy.datasets import SquareToyData\n",
    "import matplotlib.pyplot as plt\n",
    "import matplotlib.image as mpimg\n",
    "\n",
    "logger = logging.getLogger()\n",
    "# Set the logging level to logging.DEBUG \n",
    "logger.setLevel(logging.INFO)\n",
    "\n",
    "%matplotlib inline"
   ]
  },
  {
   "cell_type": "code",
   "execution_count": 2,
   "metadata": {
    "collapsed": false
   },
   "outputs": [],
   "source": [
    "def image_composition(a, b):\n",
    "    return np.maximum(a,b)"
   ]
  },
  {
   "cell_type": "markdown",
   "metadata": {},
   "source": [
    "## Dataset ##\n",
    "\n",
    "First we construct a dataset of toy data. Back to the XOR case, so 2 bits. "
   ]
  },
  {
   "cell_type": "code",
   "execution_count": 3,
   "metadata": {
    "collapsed": false
   },
   "outputs": [
    {
     "name": "stderr",
     "output_type": "stream",
     "text": [
      "WARNING:root:Unsquashing will not work with none squares yet!\n"
     ]
    }
   ],
   "source": [
    "square_factory = SquareToyData()\n",
    "sq_shape = (1,1)\n",
    "img_size = (1,2)\n",
    "dataset_one = square_factory.gen_training(sq_shape, img_size)"
   ]
  },
  {
   "cell_type": "code",
   "execution_count": 4,
   "metadata": {
    "collapsed": false
   },
   "outputs": [
    {
     "data": {
      "image/png": "[encoded data removed]",
      "text/plain": [
       "<matplotlib.figure.Figure at 0x11441a4e0>"
      ]
     },
     "metadata": {},
     "output_type": "display_data"
    },
    {
     "name": "stderr",
     "output_type": "stream",
     "text": [
      "INFO:root:Training Dataset\n"
     ]
    }
   ],
   "source": [
    "dataset_composite = np.append(dataset_one,image_composition(dataset_one, np.flipud(dataset_one)), axis = 0)\n",
    "pp.images(dataset_composite, color_range=(0,1))\n",
    "logger.info(\"Training Dataset\")"
   ]
  },
  {
   "cell_type": "code",
   "execution_count": 5,
   "metadata": {
    "collapsed": true
   },
   "outputs": [],
   "source": [
    "def plot_rbm_vanilla_dreams(rbm):\n",
    "    reconstructions = goodnight(rbm, VanillaSampler(rbm),2000,200)[0]\n",
    "    pp.plot_dict(reconstructions)\n",
    "\n",
    "def plot_orbm_dreams(rbm_a, rbm_b, sampler):\n",
    "    ab_orbm_dreams = orbm_goodnight(rbm_a,rbm_b,sampler, 2000,100)[0]\n",
    "    pp.plot_dict(ab_orbm_dreams)\n",
    "    return ab_orbm_dreams\n",
    "\n",
    "def evaluate_orbm_training(num_hid, sampler_class, dataset_composite, epochs):\n",
    "    \n",
    "    (num_items, num_vis ) = datasets.squash_images(dataset_composite).shape\n",
    "    rbm_a = RBM(num_hid, num_vis,num_items, zerod_bias=True)\n",
    "    logger.warn(\"Using a single RBM here!!\")\n",
    "    rbm_b = rbm_a #RBM(num_hid, num_vis,num_items, zerod_bias= True)\n",
    "    sampler = sampler_class(rbm_a.weights ,rbm_b.weights, rbm_a.hidden_bias, rbm_b.hidden_bias)\n",
    "    trainer = ORBMTrainer(rbm_a,rbm_b, sampler)\n",
    "    \n",
    "    trainer.train(epochs,datasets.squash_images(dataset_composite), logging_freq=10)\n",
    "    logger.info(\"RBM_A Dreams\")\n",
    "    plot_rbm_vanilla_dreams(rbm_a)\n",
    "    logger.info(\"RBM_B Dreams\")\n",
    "    plot_rbm_vanilla_dreams(rbm_b)\n",
    "    logger.info(\"ORBM Dreams (combined reconstructions)\")\n",
    "    plot_orbm_dreams(rbm_a, rbm_b, sampler)\n",
    "    return (rbm_a, rbm_b)"
   ]
  },
  {
   "cell_type": "code",
   "execution_count": 6,
   "metadata": {
    "collapsed": true
   },
   "outputs": [
    {
     "name": "stderr",
     "output_type": "stream",
     "text": [
      "WARNING:root:Using a single RBM here!!\n",
      "INFO:rbmpy.trainer:Created Progress logger for task - rbmpy.trainer\n",
      "INFO:rbmpy.trainer:0.0% complete\n",
      "INFO:rbmpy.trainer:10.0% complete\n",
      "INFO:rbmpy.trainer:20.0% complete\n",
      "INFO:rbmpy.trainer:30.0% complete\n",
      "INFO:rbmpy.trainer:40.0% complete\n",
      "INFO:rbmpy.trainer:50.0% complete\n",
      "INFO:rbmpy.trainer:60.0% complete\n",
      "INFO:rbmpy.trainer:70.0% complete\n",
      "INFO:rbmpy.trainer:80.0% complete\n",
      "INFO:rbmpy.trainer:90.0% complete\n",
      "INFO:rbmpy.trainer:100% complete\n",
      "INFO:root:RBM_A Dreams\n"
     ]
    },
    {
     "ename": "KeyboardInterrupt",
     "evalue": "",
     "output_type": "error",
     "traceback": [
      "\u001b[0;31m---------------------------------------------------------------------------\u001b[0m",
      "\u001b[0;31mKeyboardInterrupt\u001b[0m                         Traceback (most recent call last)",
      "\u001b[0;32m<ipython-input-6-fced73dc5d83>\u001b[0m in \u001b[0;36m<module>\u001b[0;34m()\u001b[0m\n\u001b[0;32m----> 1\u001b[0;31m \u001b[0mrbm_a\u001b[0m\u001b[0;34m,\u001b[0m \u001b[0mrbm_b\u001b[0m \u001b[0;34m=\u001b[0m \u001b[0mevaluate_orbm_training\u001b[0m\u001b[0;34m(\u001b[0m\u001b[0;36m2\u001b[0m\u001b[0;34m,\u001b[0m \u001b[0mApproximatedMulDimSampler\u001b[0m\u001b[0;34m,\u001b[0m \u001b[0mdataset_composite\u001b[0m\u001b[0;34m,\u001b[0m \u001b[0mint\u001b[0m\u001b[0;34m(\u001b[0m\u001b[0;36m1e3\u001b[0m\u001b[0;34m)\u001b[0m\u001b[0;34m)\u001b[0m\u001b[0;34m\u001b[0m\u001b[0m\n\u001b[0m",
      "\u001b[0;32m<ipython-input-5-eb7b91cf732d>\u001b[0m in \u001b[0;36mevaluate_orbm_training\u001b[0;34m(num_hid, sampler_class, dataset_composite, epochs)\u001b[0m\n\u001b[1;32m     19\u001b[0m     \u001b[0mtrainer\u001b[0m\u001b[0;34m.\u001b[0m\u001b[0mtrain\u001b[0m\u001b[0;34m(\u001b[0m\u001b[0mepochs\u001b[0m\u001b[0;34m,\u001b[0m\u001b[0mdatasets\u001b[0m\u001b[0;34m.\u001b[0m\u001b[0msquash_images\u001b[0m\u001b[0;34m(\u001b[0m\u001b[0mdataset_composite\u001b[0m\u001b[0;34m)\u001b[0m\u001b[0;34m,\u001b[0m \u001b[0mlogging_freq\u001b[0m\u001b[0;34m=\u001b[0m\u001b[0;36m10\u001b[0m\u001b[0;34m)\u001b[0m\u001b[0;34m\u001b[0m\u001b[0m\n\u001b[1;32m     20\u001b[0m     \u001b[0mlogger\u001b[0m\u001b[0;34m.\u001b[0m\u001b[0minfo\u001b[0m\u001b[0;34m(\u001b[0m\u001b[0;34m\"RBM_A Dreams\"\u001b[0m\u001b[0;34m)\u001b[0m\u001b[0;34m\u001b[0m\u001b[0m\n\u001b[0;32m---> 21\u001b[0;31m     \u001b[0mplot_rbm_vanilla_dreams\u001b[0m\u001b[0;34m(\u001b[0m\u001b[0mrbm_a\u001b[0m\u001b[0;34m)\u001b[0m\u001b[0;34m\u001b[0m\u001b[0m\n\u001b[0m\u001b[1;32m     22\u001b[0m     \u001b[0mlogger\u001b[0m\u001b[0;34m.\u001b[0m\u001b[0minfo\u001b[0m\u001b[0;34m(\u001b[0m\u001b[0;34m\"RBM_B Dreams\"\u001b[0m\u001b[0;34m)\u001b[0m\u001b[0;34m\u001b[0m\u001b[0m\n\u001b[1;32m     23\u001b[0m     \u001b[0mplot_rbm_vanilla_dreams\u001b[0m\u001b[0;34m(\u001b[0m\u001b[0mrbm_b\u001b[0m\u001b[0;34m)\u001b[0m\u001b[0;34m\u001b[0m\u001b[0m\n",
      "\u001b[0;32m<ipython-input-5-eb7b91cf732d>\u001b[0m in \u001b[0;36mplot_rbm_vanilla_dreams\u001b[0;34m(rbm)\u001b[0m\n\u001b[1;32m      1\u001b[0m \u001b[0;32mdef\u001b[0m \u001b[0mplot_rbm_vanilla_dreams\u001b[0m\u001b[0;34m(\u001b[0m\u001b[0mrbm\u001b[0m\u001b[0;34m)\u001b[0m\u001b[0;34m:\u001b[0m\u001b[0;34m\u001b[0m\u001b[0m\n\u001b[0;32m----> 2\u001b[0;31m     \u001b[0mreconstructions\u001b[0m \u001b[0;34m=\u001b[0m \u001b[0mgoodnight\u001b[0m\u001b[0;34m(\u001b[0m\u001b[0mrbm\u001b[0m\u001b[0;34m,\u001b[0m \u001b[0mVanillaSampler\u001b[0m\u001b[0;34m(\u001b[0m\u001b[0mrbm\u001b[0m\u001b[0;34m)\u001b[0m\u001b[0;34m,\u001b[0m\u001b[0;36m2000\u001b[0m\u001b[0;34m,\u001b[0m\u001b[0;36m200\u001b[0m\u001b[0;34m)\u001b[0m\u001b[0;34m[\u001b[0m\u001b[0;36m0\u001b[0m\u001b[0;34m]\u001b[0m\u001b[0;34m\u001b[0m\u001b[0m\n\u001b[0m\u001b[1;32m      3\u001b[0m     \u001b[0mpp\u001b[0m\u001b[0;34m.\u001b[0m\u001b[0mplot_dict\u001b[0m\u001b[0;34m(\u001b[0m\u001b[0mreconstructions\u001b[0m\u001b[0;34m)\u001b[0m\u001b[0;34m\u001b[0m\u001b[0m\n\u001b[1;32m      4\u001b[0m \u001b[0;34m\u001b[0m\u001b[0m\n\u001b[1;32m      5\u001b[0m \u001b[0;32mdef\u001b[0m \u001b[0mplot_orbm_dreams\u001b[0m\u001b[0;34m(\u001b[0m\u001b[0mrbm_a\u001b[0m\u001b[0;34m,\u001b[0m \u001b[0mrbm_b\u001b[0m\u001b[0;34m,\u001b[0m \u001b[0msampler\u001b[0m\u001b[0;34m)\u001b[0m\u001b[0;34m:\u001b[0m\u001b[0;34m\u001b[0m\u001b[0m\n",
      "\u001b[0;32m/Users/Max/Documents/Uni/400-Level/ENGR489/RBM/Max/rbmpy/sampler.py\u001b[0m in \u001b[0;36mgoodnight\u001b[0;34m(model, sampler, hours_of_sleep, num_gibbs_per_hour)\u001b[0m\n\u001b[1;32m     68\u001b[0m     \u001b[0mreconstruction_dict\u001b[0m \u001b[0;34m=\u001b[0m \u001b[0;34m{\u001b[0m\u001b[0;34m}\u001b[0m \u001b[0;31m# the actual reconstructions that occurred\u001b[0m\u001b[0;34m\u001b[0m\u001b[0m\n\u001b[1;32m     69\u001b[0m     \u001b[0;32mfor\u001b[0m \u001b[0mi\u001b[0m \u001b[0;32min\u001b[0m \u001b[0mrange\u001b[0m\u001b[0;34m(\u001b[0m\u001b[0mhours_of_sleep\u001b[0m\u001b[0;34m)\u001b[0m\u001b[0;34m:\u001b[0m\u001b[0;34m\u001b[0m\u001b[0m\n\u001b[0;32m---> 70\u001b[0;31m         \u001b[0mv_prime\u001b[0m \u001b[0;34m=\u001b[0m \u001b[0msampler\u001b[0m\u001b[0;34m.\u001b[0m\u001b[0mdream\u001b[0m\u001b[0;34m(\u001b[0m\u001b[0mmodel\u001b[0m\u001b[0;34m,\u001b[0m \u001b[0mnum_gibbs_per_hour\u001b[0m\u001b[0;34m)\u001b[0m\u001b[0;34m\u001b[0m\u001b[0m\n\u001b[0m\u001b[1;32m     71\u001b[0m         \u001b[0mresult_dict\u001b[0m\u001b[0;34m[\u001b[0m\u001b[0mtuple\u001b[0m\u001b[0;34m(\u001b[0m\u001b[0mv_prime\u001b[0m\u001b[0;34m)\u001b[0m\u001b[0;34m]\u001b[0m \u001b[0;34m+=\u001b[0m \u001b[0;36m1\u001b[0m\u001b[0;34m\u001b[0m\u001b[0m\n\u001b[1;32m     72\u001b[0m         \u001b[0mreconstruction_dict\u001b[0m\u001b[0;34m[\u001b[0m\u001b[0mtuple\u001b[0m\u001b[0;34m(\u001b[0m\u001b[0mv_prime\u001b[0m\u001b[0;34m)\u001b[0m\u001b[0;34m]\u001b[0m \u001b[0;34m=\u001b[0m \u001b[0mv_prime\u001b[0m\u001b[0;34m\u001b[0m\u001b[0m\n",
      "\u001b[0;32m/Users/Max/Documents/Uni/400-Level/ENGR489/RBM/Max/rbmpy/sampler.py\u001b[0m in \u001b[0;36mdream\u001b[0;34m(self, model, num_gibbs, return_sigmoid)\u001b[0m\n\u001b[1;32m     54\u001b[0m         \u001b[0;32mfor\u001b[0m \u001b[0mi\u001b[0m \u001b[0;32min\u001b[0m \u001b[0mrange\u001b[0m\u001b[0;34m(\u001b[0m\u001b[0mnum_gibbs\u001b[0m\u001b[0;34m)\u001b[0m\u001b[0;34m:\u001b[0m\u001b[0;34m\u001b[0m\u001b[0m\n\u001b[1;32m     55\u001b[0m             \u001b[0mdream_hid\u001b[0m \u001b[0;34m=\u001b[0m \u001b[0mself\u001b[0m\u001b[0;34m.\u001b[0m\u001b[0mvisible_to_hidden\u001b[0m\u001b[0;34m(\u001b[0m\u001b[0mcurrent_v\u001b[0m\u001b[0;34m)\u001b[0m\u001b[0;34m\u001b[0m\u001b[0m\n\u001b[0;32m---> 56\u001b[0;31m             \u001b[0mcurrent_v\u001b[0m \u001b[0;34m=\u001b[0m \u001b[0mself\u001b[0m\u001b[0;34m.\u001b[0m\u001b[0mhidden_to_visible\u001b[0m\u001b[0;34m(\u001b[0m\u001b[0mdream_hid\u001b[0m\u001b[0;34m)\u001b[0m\u001b[0;34m\u001b[0m\u001b[0m\n\u001b[0m\u001b[1;32m     57\u001b[0m \u001b[0;34m\u001b[0m\u001b[0m\n\u001b[1;32m     58\u001b[0m         \u001b[0;32mif\u001b[0m \u001b[0mreturn_sigmoid\u001b[0m\u001b[0;34m:\u001b[0m\u001b[0;34m\u001b[0m\u001b[0m\n",
      "\u001b[0;32m/Users/Max/Documents/Uni/400-Level/ENGR489/RBM/Max/rbmpy/sampler.py\u001b[0m in \u001b[0;36mhidden_to_visible\u001b[0;34m(self, hidden, return_sigmoid)\u001b[0m\n\u001b[1;32m     32\u001b[0m         \"\"\"\n\u001b[1;32m     33\u001b[0m         \u001b[0;32mif\u001b[0m \u001b[0;32mnot\u001b[0m \u001b[0mreturn_sigmoid\u001b[0m\u001b[0;34m:\u001b[0m\u001b[0;34m\u001b[0m\u001b[0m\n\u001b[0;32m---> 34\u001b[0;31m             \u001b[0;32mreturn\u001b[0m \u001b[0mself\u001b[0m\u001b[0;34m.\u001b[0m\u001b[0m__bernouli_flip__\u001b[0m\u001b[0;34m(\u001b[0m\u001b[0mnp\u001b[0m\u001b[0;34m.\u001b[0m\u001b[0mdot\u001b[0m\u001b[0;34m(\u001b[0m\u001b[0mhidden\u001b[0m\u001b[0;34m,\u001b[0m \u001b[0mself\u001b[0m\u001b[0;34m.\u001b[0m\u001b[0mrbm\u001b[0m\u001b[0;34m.\u001b[0m\u001b[0mweights\u001b[0m\u001b[0;34m)\u001b[0m \u001b[0;34m+\u001b[0m \u001b[0mself\u001b[0m\u001b[0;34m.\u001b[0m\u001b[0mrbm\u001b[0m\u001b[0;34m.\u001b[0m\u001b[0mvisible_bias\u001b[0m\u001b[0;34m)\u001b[0m\u001b[0;34m\u001b[0m\u001b[0m\n\u001b[0m\u001b[1;32m     35\u001b[0m         \u001b[0;32melse\u001b[0m\u001b[0;34m:\u001b[0m\u001b[0;34m\u001b[0m\u001b[0m\n\u001b[1;32m     36\u001b[0m             \u001b[0;32mreturn\u001b[0m \u001b[0mexpit\u001b[0m\u001b[0;34m(\u001b[0m\u001b[0mnp\u001b[0m\u001b[0;34m.\u001b[0m\u001b[0mdot\u001b[0m\u001b[0;34m(\u001b[0m\u001b[0mhidden\u001b[0m\u001b[0;34m,\u001b[0m \u001b[0mself\u001b[0m\u001b[0;34m.\u001b[0m\u001b[0mrbm\u001b[0m\u001b[0;34m.\u001b[0m\u001b[0mweights\u001b[0m\u001b[0;34m)\u001b[0m \u001b[0;34m+\u001b[0m \u001b[0mself\u001b[0m\u001b[0;34m.\u001b[0m\u001b[0mrbm\u001b[0m\u001b[0;34m.\u001b[0m\u001b[0mvisible_bias\u001b[0m\u001b[0;34m)\u001b[0m\u001b[0;34m\u001b[0m\u001b[0m\n",
      "\u001b[0;32m/Users/Max/Documents/Uni/400-Level/ENGR489/RBM/Max/rbmpy/sampler.py\u001b[0m in \u001b[0;36m__bernouli_flip__\u001b[0;34m(self, weighted_sum)\u001b[0m\n\u001b[1;32m     18\u001b[0m \u001b[0;34m\u001b[0m\u001b[0m\n\u001b[1;32m     19\u001b[0m     \u001b[0;32mdef\u001b[0m \u001b[0m__bernouli_flip__\u001b[0m\u001b[0;34m(\u001b[0m\u001b[0mself\u001b[0m\u001b[0;34m,\u001b[0m \u001b[0mweighted_sum\u001b[0m\u001b[0;34m)\u001b[0m\u001b[0;34m:\u001b[0m\u001b[0;34m\u001b[0m\u001b[0m\n\u001b[0;32m---> 20\u001b[0;31m         \u001b[0mp\u001b[0m \u001b[0;34m=\u001b[0m \u001b[0mexpit\u001b[0m\u001b[0;34m(\u001b[0m\u001b[0mweighted_sum\u001b[0m\u001b[0;34m)\u001b[0m \u001b[0;34m>\u001b[0m \u001b[0mnp\u001b[0m\u001b[0;34m.\u001b[0m\u001b[0mrandom\u001b[0m\u001b[0;34m.\u001b[0m\u001b[0mrand\u001b[0m\u001b[0;34m(\u001b[0m\u001b[0;34m*\u001b[0m\u001b[0mweighted_sum\u001b[0m\u001b[0;34m.\u001b[0m\u001b[0mshape\u001b[0m\u001b[0;34m)\u001b[0m\u001b[0;34m\u001b[0m\u001b[0m\n\u001b[0m\u001b[1;32m     21\u001b[0m         \u001b[0;32mreturn\u001b[0m \u001b[0mnp\u001b[0m\u001b[0;34m.\u001b[0m\u001b[0mwhere\u001b[0m\u001b[0;34m(\u001b[0m\u001b[0mp\u001b[0m\u001b[0;34m,\u001b[0m \u001b[0;36m1\u001b[0m\u001b[0;34m,\u001b[0m \u001b[0;36m0\u001b[0m\u001b[0;34m)\u001b[0m\u001b[0;34m\u001b[0m\u001b[0m\n\u001b[1;32m     22\u001b[0m \u001b[0;34m\u001b[0m\u001b[0m\n",
      "\u001b[0;31mKeyboardInterrupt\u001b[0m: "
     ]
    }
   ],
   "source": [
    "rbm_a, rbm_b = evaluate_orbm_training(2, ApproximatedMulDimSampler, dataset_composite, int(1e3))"
   ]
  },
  {
   "cell_type": "markdown",
   "metadata": {},
   "source": [
    "# An RBM trained on the same data... #"
   ]
  },
  {
   "cell_type": "code",
   "execution_count": 6,
   "metadata": {
    "collapsed": false
   },
   "outputs": [
    {
     "data": {
      "image/png": "[encoded data removed]",
      "text/plain": [
       "<matplotlib.figure.Figure at 0x1145d6c18>"
      ]
     },
     "metadata": {},
     "output_type": "display_data"
    },
    {
     "name": "stdout",
     "output_type": "stream",
     "text": [
      "[[-5.0142305   4.36287192]\n",
      " [ 4.14986684 -4.44013054]]\n"
     ]
    }
   ],
   "source": [
    "pure_dataset = np.append(dataset_one, dataset_one, axis = 0)\n",
    "(num_items, num_vis ) = datasets.squash_images(pure_dataset).shape\n",
    "rbm_vanilla = RBM(2,num_vis,num_items)\n",
    "van_sampler = VanillaSampler(rbm_vanilla)\n",
    "van_trainer = VanillaTrainier(rbm_vanilla,van_sampler)\n",
    "van_trainer.train(int(1e4), datasets.squash_images(pure_dataset))\n",
    "plot_rbm_vanilla_dreams(rbm_vanilla)\n",
    "print(rbm_vanilla.weights)\n",
    "original_van_weights = np.copy(rbm_vanilla.weights)"
   ]
  },
  {
   "cell_type": "code",
   "execution_count": 7,
   "metadata": {
    "collapsed": false
   },
   "outputs": [
    {
     "name": "stderr",
     "output_type": "stream",
     "text": [
      "INFO:root:Approx ORBM Generative Samples - Free Phase Sampling\n"
     ]
    },
    {
     "data": {
      "image/png": "[encoded data removed]",
      "text/plain": [
       "<matplotlib.figure.Figure at 0x1145d6470>"
      ]
     },
     "metadata": {},
     "output_type": "display_data"
    },
    {
     "data": {
      "text/plain": [
       "Counter({(0, 1): 952, (1, 0): 582, (0, 0): 339, (1, 1): 127})"
      ]
     },
     "execution_count": 7,
     "metadata": {},
     "output_type": "execute_result"
    }
   ],
   "source": [
    "orbm_sampler = ApproximatedMulDimSampler(rbm_vanilla.weights ,rbm_vanilla.weights, rbm_vanilla.hidden_bias, rbm_vanilla.hidden_bias)\n",
    "unapprox_sampler = FullCorrectionMulDimSampler(rbm_vanilla.weights ,rbm_vanilla.weights, rbm_vanilla.hidden_bias, rbm_vanilla.hidden_bias)\n",
    "orbm_trainer = ORBMTrainer(rbm_vanilla,rbm_vanilla, unapprox_sampler)\n",
    "\n",
    "dirty_sampler = DirtyCorrectionMulDimSampler(rbm_vanilla.weights ,rbm_vanilla.weights, rbm_vanilla.hidden_bias, rbm_vanilla.hidden_bias)\n",
    "logger.info(\"Approx ORBM Generative Samples - Free Phase Sampling\")\n",
    "plot_orbm_dreams(rbm_vanilla, rbm_vanilla, orbm_sampler)\n",
    "\n",
    "# logger.info(\"Un-Approx ORBM Generative Samples - Free Phase Sampling\")\n",
    "# plot_orbm_dreams(rbm_vanilla, rbm_vanilla, unapprox_sampler)\n",
    "# logger.info(\"Dirty ORBM Generative Samples - Free Phase Sampling\")\n",
    "# plot_orbm_dreams(rbm_vanilla, rbm_vanilla, dirty_sampler)\n"
   ]
  },
  {
   "cell_type": "code",
   "execution_count": 8,
   "metadata": {
    "collapsed": false
   },
   "outputs": [
    {
     "name": "stderr",
     "output_type": "stream",
     "text": [
      "INFO:rbmpy.trainer:Created Progress logger for task - rbmpy.trainer\n",
      "INFO:rbmpy.trainer:0.0% complete\n",
      "INFO:rbmpy.trainer:50.0% complete\n",
      "INFO:rbmpy.trainer:100% complete\n"
     ]
    },
    {
     "name": "stdout",
     "output_type": "stream",
     "text": [
      "[[-5.0142305   4.36287192]\n",
      " [ 4.14986684 -4.44013054]]\n",
      "[[-3.71527116  4.07210981]\n",
      " [ 4.28718084 -3.28180182]]\n"
     ]
    }
   ],
   "source": [
    "print(original_van_weights)\n",
    "orbm_trainer.train(100,datasets.squash_images(dataset_composite), logging_freq=50)\n",
    "print(rbm_vanilla.weights)"
   ]
  },
  {
   "cell_type": "code",
   "execution_count": 9,
   "metadata": {
    "collapsed": false
   },
   "outputs": [
    {
     "name": "stderr",
     "output_type": "stream",
     "text": [
      "INFO:rbmpy.trainer:Created Progress logger for task - rbmpy.trainer\n",
      "INFO:rbmpy.trainer:0.0% complete\n",
      "INFO:rbmpy.trainer:10.0% complete\n",
      "INFO:rbmpy.trainer:20.0% complete\n",
      "INFO:rbmpy.trainer:30.0% complete\n",
      "INFO:rbmpy.trainer:40.0% complete\n",
      "INFO:rbmpy.trainer:50.0% complete\n",
      "INFO:rbmpy.trainer:60.0% complete\n",
      "INFO:rbmpy.trainer:70.0% complete\n",
      "INFO:rbmpy.trainer:80.0% complete\n",
      "INFO:rbmpy.trainer:90.0% complete\n",
      "INFO:rbmpy.trainer:100% complete\n"
     ]
    }
   ],
   "source": [
    "orbm_trainer.train(int(1e4),datasets.squash_images(dataset_composite), logging_freq=10)"
   ]
  },
  {
   "cell_type": "code",
   "execution_count": 10,
   "metadata": {
    "collapsed": false
   },
   "outputs": [
    {
     "data": {
      "image/png": "[encoded data removed]",
      "text/plain": [
       "<matplotlib.figure.Figure at 0x11458be80>"
      ]
     },
     "metadata": {},
     "output_type": "display_data"
    },
    {
     "data": {
      "text/plain": [
       "Counter({(1, 1): 651, (0, 1): 491, (1, 0): 478, (0, 0): 380})"
      ]
     },
     "execution_count": 10,
     "metadata": {},
     "output_type": "execute_result"
    }
   ],
   "source": [
    "plot_orbm_dreams(rbm_vanilla, rbm_vanilla, orbm_sampler)"
   ]
  },
  {
   "cell_type": "code",
   "execution_count": 19,
   "metadata": {
    "collapsed": false
   },
   "outputs": [
    {
     "name": "stdout",
     "output_type": "stream",
     "text": [
      "[[-5.09800988  4.10930515]\n",
      " [ 3.70986568 -4.97462364]]\n",
      "[[ 0.8930044   2.61385741]\n",
      " [ 2.57977601  0.66303963]]\n"
     ]
    },
    {
     "data": {
      "text/plain": [
       "array([[ 5.99101428, -1.49544774],\n",
       "       [-1.13008967,  5.63766328]])"
      ]
     },
     "execution_count": 19,
     "metadata": {},
     "output_type": "execute_result"
    }
   ],
   "source": [
    "print(original_van_weights)\n",
    "print(rbm_vanilla.weights)\n",
    "rbm_vanilla.weights - original_van_weights"
   ]
  },
  {
   "cell_type": "code",
   "execution_count": 126,
   "metadata": {
    "collapsed": false
   },
   "outputs": [],
   "source": [
    "rbm_vanilla.weights[0,0] = -3\n",
    "rbm_vanilla.weights[1,1] = -3\n",
    "rbm_vanilla.weights[1,0] = 6\n",
    "rbm_vanilla.weights[0,1] = 6"
   ]
  },
  {
   "cell_type": "code",
   "execution_count": 23,
   "metadata": {
    "collapsed": false
   },
   "outputs": [
    {
     "data": {
      "image/png": "[encoded data removed]",
      "text/plain": [
       "<matplotlib.figure.Figure at 0x1109206a0>"
      ]
     },
     "metadata": {},
     "output_type": "display_data"
    }
   ],
   "source": [
    "plot_rbm_vanilla_dreams(rbm_vanilla)\n"
   ]
  },
  {
   "cell_type": "code",
   "execution_count": 24,
   "metadata": {
    "collapsed": false
   },
   "outputs": [
    {
     "data": {
      "image/png": "[encoded data removed]",
      "text/plain": [
       "<matplotlib.figure.Figure at 0x1108459b0>"
      ]
     },
     "metadata": {},
     "output_type": "display_data"
    },
    {
     "data": {
      "text/plain": [
       "Counter({(1, 1): 988, (0, 1): 510, (1, 0): 502})"
      ]
     },
     "execution_count": 24,
     "metadata": {},
     "output_type": "execute_result"
    }
   ],
   "source": [
    "plot_orbm_dreams(rbm_vanilla, rbm_vanilla, orbm_sampler)"
   ]
  },
  {
   "cell_type": "code",
   "execution_count": 19,
   "metadata": {
    "collapsed": false
   },
   "outputs": [
    {
     "name": "stderr",
     "output_type": "stream",
     "text": [
      "INFO:rbmpy.trainer:Created Progress logger for task - rbmpy.trainer\n",
      "INFO:rbmpy.trainer:0.0% complete\n",
      "INFO:rbmpy.trainer:10.0% complete\n",
      "INFO:rbmpy.trainer:20.0% complete\n",
      "INFO:rbmpy.trainer:30.0% complete\n",
      "INFO:rbmpy.trainer:40.0% complete\n",
      "INFO:rbmpy.trainer:50.0% complete\n",
      "INFO:rbmpy.trainer:60.0% complete\n",
      "INFO:rbmpy.trainer:70.0% complete\n",
      "INFO:rbmpy.trainer:80.0% complete\n",
      "INFO:rbmpy.trainer:90.0% complete\n",
      "INFO:rbmpy.trainer:100% complete\n"
     ]
    }
   ],
   "source": [
    "orbm_trainer.train(int(1e4),datasets.squash_images(dataset_composite), logging_freq=10)"
   ]
  },
  {
   "cell_type": "code",
   "execution_count": 20,
   "metadata": {
    "collapsed": false
   },
   "outputs": [
    {
     "data": {
      "image/png": "[encoded data removed]",
      "text/plain": [
       "<matplotlib.figure.Figure at 0x11144fe10>"
      ]
     },
     "metadata": {},
     "output_type": "display_data"
    }
   ],
   "source": [
    "plot_orbm_dreams(rbm_vanilla, rbm_vanilla, orbm_sampler)"
   ]
  },
  {
   "cell_type": "code",
   "execution_count": 26,
   "metadata": {
    "collapsed": false
   },
   "outputs": [
    {
     "data": {
      "image/png": "[encoded data removed]",
      "text/plain": [
       "<matplotlib.figure.Figure at 0x1102a99b0>"
      ]
     },
     "metadata": {},
     "output_type": "display_data"
    }
   ],
   "source": [
    "plot_rbm_vanilla_dreams(rbm_vanilla)"
   ]
  },
  {
   "cell_type": "code",
   "execution_count": 13,
   "metadata": {
    "collapsed": true
   },
   "outputs": [
    {
     "name": "stderr",
     "output_type": "stream",
     "text": [
      "INFO:rbmpy.trainer:Created Progress logger for task - rbmpy.trainer\n",
      "INFO:rbmpy.trainer:0.0% complete\n",
      "INFO:rbmpy.trainer:10.0% complete\n",
      "INFO:rbmpy.trainer:20.0% complete\n",
      "INFO:rbmpy.trainer:30.0% complete\n",
      "INFO:rbmpy.trainer:40.0% complete\n",
      "INFO:rbmpy.trainer:50.0% complete\n",
      "INFO:rbmpy.trainer:60.0% complete\n",
      "INFO:rbmpy.trainer:70.0% complete\n",
      "INFO:rbmpy.trainer:80.0% complete\n",
      "INFO:rbmpy.trainer:90.0% complete\n",
      "INFO:rbmpy.trainer:100% complete\n"
     ]
    },
    {
     "data": {
      "image/png": "[encoded data removed]",
      "text/plain": [
       "<matplotlib.figure.Figure at 0x10a4e5898>"
      ]
     },
     "metadata": {},
     "output_type": "display_data"
    }
   ],
   "source": [
    "orbm_trainer.train(int(1e3),datasets.squash_images(dataset_composite), logging_freq=10)\n",
    "plot_orbm_dreams(rbm_vanilla, rbm_vanilla, orbm_sampler)"
   ]
  },
  {
   "cell_type": "code",
   "execution_count": 11,
   "metadata": {
    "collapsed": true
   },
   "outputs": [
    {
     "name": "stderr",
     "output_type": "stream",
     "text": [
      "INFO:rbmpy.trainer:Created Progress logger for task - rbmpy.trainer\n",
      "INFO:rbmpy.trainer:0.0% complete\n",
      "INFO:rbmpy.trainer:10.0% complete\n",
      "INFO:rbmpy.trainer:20.0% complete\n",
      "INFO:rbmpy.trainer:30.0% complete\n",
      "INFO:rbmpy.trainer:40.0% complete\n",
      "INFO:rbmpy.trainer:50.0% complete\n",
      "INFO:rbmpy.trainer:60.0% complete\n",
      "INFO:rbmpy.trainer:70.0% complete\n",
      "INFO:rbmpy.trainer:80.0% complete\n",
      "INFO:rbmpy.trainer:90.0% complete\n",
      "INFO:rbmpy.trainer:100% complete\n",
      "INFO:root:RBM_A Dreams\n"
     ]
    },
    {
     "data": {
      "image/png": "[encoded data removed]",
      "text/plain": [
       "<matplotlib.figure.Figure at 0x111b628d0>"
      ]
     },
     "metadata": {},
     "output_type": "display_data"
    },
    {
     "name": "stderr",
     "output_type": "stream",
     "text": [
      "INFO:root:RBM_B Dreams\n"
     ]
    },
    {
     "data": {
      "image/png": "[encoded data removed]",
      "text/plain": [
       "<matplotlib.figure.Figure at 0x111b10ef0>"
      ]
     },
     "metadata": {},
     "output_type": "display_data"
    },
    {
     "name": "stderr",
     "output_type": "stream",
     "text": [
      "INFO:root:ORBM Dreams (combined reconstructions)\n"
     ]
    },
    {
     "data": {
      "image/png": "[encoded data removed]",
      "text/plain": [
       "<matplotlib.figure.Figure at 0x111b9e0b8>"
      ]
     },
     "metadata": {},
     "output_type": "display_data"
    }
   ],
   "source": [
    "rbm_a, rbm_b = evaluate_orbm_training(2, FullCorrectionMulDimSampler, dataset_composite, int(1e3))"
   ]
  },
  {
   "cell_type": "code",
   "execution_count": 94,
   "metadata": {
    "collapsed": false
   },
   "outputs": [],
   "source": [
    "def van_dream_clamped(sampler, clamped_v,model, num_gibbs = 1000):\n",
    "\n",
    "    dream_hid = rbmpy.rbm.random_hiddens_for_rbm(model)\n",
    "\n",
    "    for i in range(num_gibbs):\n",
    "        dream_hid = sampler.visible_to_hidden(clamped_v)\n",
    "\n",
    "    return dream_hid\n",
    "\n",
    "def dream_clamped( clamped_v ,model_a, model_b, num_gibbs = 1000):\n",
    "    a_vanilla = VanillaSampler(model_a)\n",
    "    b_vanilla = VanillaSampler(model_b)\n",
    "\n",
    "    a_dream_h = van_dream_clamped(a_vanilla,clamped_v, model_a, num_gibbs=num_gibbs)\n",
    "    b_dream_h = van_dream_clamped(b_vanilla,clamped_v, model_b, num_gibbs=num_gibbs)\n",
    "\n",
    "    phi_a =  np.dot(a_dream_h, model_a.weights)\n",
    "    phi_b =  np.dot(b_dream_h, model_b.weights)\n",
    "    sig_ab = expit(phi_a + phi_b)\n",
    "    # print(\"phi_a {}\\tphi_b {}\\t\\tdream_h_a {}\\tdream_h_b {}\\tSig_ab {}\".format(phi_a, phi_b, a_dream_h, b_dream_h, sig_ab))\n",
    "    return self.__bernoulli_trial__(sig_ab)\n",
    "\n",
    "\n",
    "\n",
    "\n",
    "def orbm_clamped_dream_a(clamped_v, num_gibbs = 50):\n",
    "    orbm_sampler = ApproximatedSampler(rbm_vanilla.weights, rbm_vanilla.weights, rbm_vanilla.hidden_bias, rbm_vanilla.hidden_bias)\n",
    "    h_a, h_b = orbm_sampler.v_to_h(np.zeros(2), np.zeros(2), dataset_one[0])\n",
    "#     print(h_a.shape)\n",
    "    return (h_a,h_b)"
   ]
  },
  {
   "cell_type": "code",
   "execution_count": 108,
   "metadata": {
    "collapsed": false
   },
   "outputs": [],
   "source": [
    "def key_for_hiddens(h_a,h_b):\n",
    "    if h_a.sum() == 1 and h_b.sum() == 1:\n",
    "        return \"h_a{} h_b{}\".format(h_a,h_b)\n",
    "    else:\n",
    "        return \"other\"\n",
    "\n",
    "def orbm_goodnight(clamped_v,model_a, model_b, hours_of_sleep, num_gibbs_per_hour):\n",
    "    \"\"\"Generate a dictionary of reconstructions to the number of times they occurred\"\"\"\n",
    "    result_dict = Counter()\n",
    "    h_prime = orbm_clamped_dream_a(clamped_v, num_gibbs_per_hour)\n",
    "    reconstruction_dict = {} # the actual reconstructions that occurred\n",
    "    for i in range(hours_of_sleep):\n",
    "        h_prime_a, h_prime_b = orbm_clamped_dream_a(clamped_v, num_gibbs_per_hour)\n",
    "        result_dict[key_for_hiddens(h_prime_a,h_prime_b)] += 1\n",
    "\n",
    "    return result_dict, reconstruction_dict"
   ]
  },
  {
   "cell_type": "code",
   "execution_count": 127,
   "metadata": {
    "collapsed": false
   },
   "outputs": [],
   "source": [
    "a = orbm_goodnight(np.array([1,1]),rbm_vanilla, rbm_vanilla, 2000, 200)\n",
    "b = orbm_goodnight(np.array([0,1]),rbm_vanilla, rbm_vanilla, 2000, 200)\n",
    "c = orbm_goodnight(np.array([1,0]),rbm_vanilla, rbm_vanilla, 2000, 200)\n",
    "d = orbm_goodnight(np.array([0,0]),rbm_vanilla, rbm_vanilla, 2000, 200)"
   ]
  },
  {
   "cell_type": "code",
   "execution_count": 128,
   "metadata": {
    "collapsed": true
   },
   "outputs": [],
   "source": [
    "from collections import Counter"
   ]
  },
  {
   "cell_type": "code",
   "execution_count": 129,
   "metadata": {
    "collapsed": false
   },
   "outputs": [
    {
     "data": {
      "image/png": "[encoded data removed]",
      "text/plain": [
       "<matplotlib.figure.Figure at 0x114b2d358>"
      ]
     },
     "metadata": {},
     "output_type": "display_data"
    },
    {
     "data": {
      "image/png": "[encoded data removed]",
      "text/plain": [
       "<matplotlib.figure.Figure at 0x114b2d7f0>"
      ]
     },
     "metadata": {},
     "output_type": "display_data"
    },
    {
     "data": {
      "image/png": "[encoded data removed]",
      "text/plain": [
       "<matplotlib.figure.Figure at 0x114489240>"
      ]
     },
     "metadata": {},
     "output_type": "display_data"
    },
    {
     "data": {
      "image/png": "[encoded data removed]",
      "text/plain": [
       "<matplotlib.figure.Figure at 0x114bc0518>"
      ]
     },
     "metadata": {},
     "output_type": "display_data"
    }
   ],
   "source": [
    "pp.plot_dict(a[0])\n",
    "pp.plot_dict(b[0])\n",
    "pp.plot_dict(c[0])\n",
    "pp.plot_dict(d[0])"
   ]
  },
  {
   "cell_type": "code",
   "execution_count": 130,
   "metadata": {
    "collapsed": false
   },
   "outputs": [
    {
     "ename": "SyntaxError",
     "evalue": "invalid syntax (<ipython-input-130-9c284e70f9df>, line 1)",
     "output_type": "error",
     "traceback": [
      "\u001b[0;36m  File \u001b[0;32m\"<ipython-input-130-9c284e70f9df>\"\u001b[0;36m, line \u001b[0;32m1\u001b[0m\n\u001b[0;31m    rbm_vanilla.weights[]\u001b[0m\n\u001b[0m                        ^\u001b[0m\n\u001b[0;31mSyntaxError\u001b[0m\u001b[0;31m:\u001b[0m invalid syntax\n"
     ]
    }
   ],
   "source": [
    "rbm_vanilla.weights[]"
   ]
  },
  {
   "cell_type": "code",
   "execution_count": null,
   "metadata": {
    "collapsed": true
   },
   "outputs": [],
   "source": []
  }
 ],
 "metadata": {
  "kernelspec": {
   "display_name": "Python 3",
   "language": "python",
   "name": "python3"
  },
  "language_info": {
   "codemirror_mode": {
    "name": "ipython",
    "version": 3
   },
   "file_extension": ".py",
   "mimetype": "text/x-python",
   "name": "python",
   "nbconvert_exporter": "python",
   "pygments_lexer": "ipython3",
   "version": "3.4.3"
  }
 },
 "nbformat": 4,
 "nbformat_minor": 0
}
