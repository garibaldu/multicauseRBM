{
 "cells": [
  {
   "cell_type": "code",
   "execution_count": 1,
   "metadata": {
    "collapsed": false
   },
   "outputs": [],
   "source": [
    "from scipy.special import expit\n",
    "from rbmpy.rbm import RBM\n",
    "from rbmpy.sampler import VanillaSampler, PartitionedSampler, ApproximatedSampler, LayerWiseApproxSampler,ApproximatedMulDimSampler, goodnight\n",
    "from rbmpy.trainer import VanillaTrainier, ORBMTrainer\n",
    "from rbmpy.performance import Result\n",
    "\n",
    "import numpy as np\n",
    "import rbmpy.datasets as datasets\n",
    "import rbmpy.performance, pickle, rbmpy.rbm, os, math, logging\n",
    "\n",
    "import rbmpy.plotter as pp\n",
    "from rbmpy.datasets import SquareToyData\n",
    "import matplotlib.pyplot as plt\n",
    "import matplotlib.image as mpimg\n",
    "\n",
    "logger = logging.getLogger()\n",
    "# Set the logging level to logging.DEBUG \n",
    "logger.setLevel(logging.INFO)\n",
    "\n",
    "%matplotlib inline"
   ]
  },
  {
   "cell_type": "code",
   "execution_count": 2,
   "metadata": {
    "collapsed": false
   },
   "outputs": [],
   "source": [
    "def image_composition(a, b):\n",
    "    return np.maximum(a,b)"
   ]
  },
  {
   "cell_type": "markdown",
   "metadata": {},
   "source": [
    "## Dataset ##\n",
    "\n",
    "First we construct a dataset of toy data. Back to the XOR case, so 2 bits. "
   ]
  },
  {
   "cell_type": "code",
   "execution_count": 3,
   "metadata": {
    "collapsed": false
   },
   "outputs": [
    {
     "name": "stderr",
     "output_type": "stream",
     "text": [
      "WARNING:root:Unsquashing will not work with none squares yet!\n"
     ]
    }
   ],
   "source": [
    "square_factory = SquareToyData()\n",
    "sq_shape = (1,1)\n",
    "img_size = (1,2)\n",
    "dataset_one = square_factory.gen_training(sq_shape, img_size)"
   ]
  },
  {
   "cell_type": "code",
   "execution_count": 5,
   "metadata": {
    "collapsed": false
   },
   "outputs": [
    {
     "data": {
      "image/png": "[encoded data removed]",
      "text/plain": [
       "<matplotlib.figure.Figure at 0x111762c88>"
      ]
     },
     "metadata": {},
     "output_type": "display_data"
    }
   ],
   "source": [
    "dataset_composite = np.append(dataset_one,image_composition(dataset_one, np.flipud(dataset_one)), axis = 0)\n",
    "pp.images(dataset_composite, color_range=(0,1))"
   ]
  },
  {
   "cell_type": "code",
   "execution_count": 6,
   "metadata": {
    "collapsed": false
   },
   "outputs": [],
   "source": [
    "(num_items, num_vis ) = datasets.squash_images(dataset_composite).shape\n",
    "num_hid = 2\n",
    "rbm_a = RBM(num_hid, num_vis,num_items)\n",
    "rbm_b = RBM(num_hid, num_vis,num_items)\n",
    "sampler = ApproximatedMulDimSampler(rbm_a.weights ,rbm_b.weights, rbm_a.hidden_bias, rbm_b.hidden_bias)\n",
    "trainer = ORBMTrainer(rbm_a,rbm_b, sampler)"
   ]
  },
  {
   "cell_type": "code",
   "execution_count": 7,
   "metadata": {
    "collapsed": false
   },
   "outputs": [
    {
     "name": "stderr",
     "output_type": "stream",
     "text": [
      "INFO:rbmpy.trainer:Created Progress logger for task - rbmpy.trainer\n",
      "INFO:rbmpy.trainer:0.0% complete\n",
      "INFO:rbmpy.trainer:10.0% complete\n",
      "INFO:rbmpy.trainer:20.0% complete\n",
      "INFO:rbmpy.trainer:30.0% complete\n",
      "INFO:rbmpy.trainer:40.0% complete\n",
      "INFO:rbmpy.trainer:50.0% complete\n",
      "INFO:rbmpy.trainer:60.0% complete\n",
      "INFO:rbmpy.trainer:70.0% complete\n",
      "INFO:rbmpy.trainer:80.0% complete\n",
      "INFO:rbmpy.trainer:90.0% complete\n",
      "INFO:rbmpy.trainer:100% complete\n"
     ]
    },
    {
     "data": {
      "image/png": "[encoded data removed]",
      "text/plain": [
       "<matplotlib.figure.Figure at 0x11195cac8>"
      ]
     },
     "metadata": {},
     "output_type": "display_data"
    }
   ],
   "source": [
    "trainer.train(int(1e4),datasets.squash_images(dataset_composite), logging_freq=10)\n",
    "pp.plot_dict(goodnight(rbm_a, VanillaSampler(rbm_a),1000,100)[0])"
   ]
  },
  {
   "cell_type": "code",
   "execution_count": 8,
   "metadata": {
    "collapsed": false
   },
   "outputs": [
    {
     "data": {
      "image/png": "[encoded data removed]",
      "text/plain": [
       "<matplotlib.figure.Figure at 0x111762c18>"
      ]
     },
     "metadata": {},
     "output_type": "display_data"
    }
   ],
   "source": [
    "pp.plot_dict(goodnight(rbm_b, VanillaSampler(rbm_b),1000,100)[0])"
   ]
  },
  {
   "cell_type": "code",
   "execution_count": 17,
   "metadata": {
    "collapsed": false
   },
   "outputs": [
    {
     "data": {
      "image/png": "[encoded data removed]",
      "text/plain": [
       "<matplotlib.figure.Figure at 0x11186e748>"
      ]
     },
     "metadata": {},
     "output_type": "display_data"
    }
   ],
   "source": [
    "rbm_c = RBM(num_hid, num_vis,num_items)\n",
    "c_trainer = VanillaTrainier(rbm_c, VanillaSampler(rbm_c))\n",
    "c_trainer.train(int(1e4),datasets.squash_images(dataset_composite))\n",
    "pp.plot_dict(goodnight(rbm_c, VanillaSampler(rbm_c),1000,100)[0])"
   ]
  },
  {
   "cell_type": "markdown",
   "metadata": {},
   "source": [
    "\n",
    "```\n",
    "dataset_two = np.copy(dataset_one)\n",
    "np.random.shuffle(dataset_one)\n",
    "np.random.shuffle(dataset_two)\n",
    "\n",
    "dataset_composite = image_composition(dataset_one, dataset_two)\n",
    "for i in range(10):\n",
    "    np.random.shuffle(dataset_one)\n",
    "    np.random.shuffle(dataset_two)\n",
    "\n",
    "    dataset_composite = np.append(dataset_composite, image_composition(dataset_one , dataset_two), axis=0)\n",
    "\n",
    "np.append(dataset_composite,dataset_one[:5],axis= 0)\n",
    "pp.images(dataset_composite, color_range=(0,1))\n",
    "\n",
    "print(\"Dataset of {1} by {2} with {0} items\".format(*dataset_composite.shape))```"
   ]
  },
  {
   "cell_type": "markdown",
   "metadata": {},
   "source": [
    "pp.images(rbm.weights_into_hiddens(rbm_a.weights), title=\"Hinton Diagram\", cmap=\"gray\")\n",
    "pp.images(rbm.weights_into_hiddens(rbm_b.weights), title=\"Hinton Diagram\", cmap=\"gray\")"
   ]
  },
  {
   "cell_type": "code",
   "execution_count": 10,
   "metadata": {
    "collapsed": false
   },
   "outputs": [
    {
     "name": "stderr",
     "output_type": "stream",
     "text": [
      "INFO:root:Ground Truth\n"
     ]
    },
    {
     "data": {
      "image/png": "[encoded data removed]",
      "text/plain": [
       "<matplotlib.figure.Figure at 0x1119e2cc0>"
      ]
     },
     "metadata": {},
     "output_type": "display_data"
    },
    {
     "ename": "NameError",
     "evalue": "name 'dataset_two' is not defined",
     "output_type": "error",
     "traceback": [
      "\u001b[0;31m---------------------------------------------------------------------------\u001b[0m",
      "\u001b[0;31mNameError\u001b[0m                                 Traceback (most recent call last)",
      "\u001b[0;32m<ipython-input-10-dd5b361f0597>\u001b[0m in \u001b[0;36m<module>\u001b[0;34m()\u001b[0m\n\u001b[1;32m      4\u001b[0m \u001b[0mlogging\u001b[0m\u001b[0;34m.\u001b[0m\u001b[0minfo\u001b[0m\u001b[0;34m(\u001b[0m\u001b[0;34m\"Ground Truth\"\u001b[0m\u001b[0;34m)\u001b[0m\u001b[0;34m\u001b[0m\u001b[0m\n\u001b[1;32m      5\u001b[0m \u001b[0mpp\u001b[0m\u001b[0;34m.\u001b[0m\u001b[0mimages\u001b[0m\u001b[0;34m(\u001b[0m\u001b[0mdataset_one\u001b[0m\u001b[0;34m)\u001b[0m\u001b[0;34m\u001b[0m\u001b[0m\n\u001b[0;32m----> 6\u001b[0;31m \u001b[0mpp\u001b[0m\u001b[0;34m.\u001b[0m\u001b[0mimages\u001b[0m\u001b[0;34m(\u001b[0m\u001b[0mdataset_two\u001b[0m\u001b[0;34m)\u001b[0m\u001b[0;34m\u001b[0m\u001b[0m\n\u001b[0m",
      "\u001b[0;31mNameError\u001b[0m: name 'dataset_two' is not defined"
     ]
    }
   ],
   "source": [
    "sampler_a = VanillaSampler(rbm_a)\n",
    "sampler_b = VanillaSampler(rbm_b)\n",
    "\n",
    "logging.info(\"Ground Truth\")\n",
    "pp.images(dataset_one)\n",
    "pp.images(dataset_two)"
   ]
  },
  {
   "cell_type": "markdown",
   "metadata": {},
   "source": [
    "logging.info(\"A\")\n",
    "pp.images(datasets.inflate_images(sampler_a.reconstruction_given_visible(datasets.squash_images(dataset_one))))\n",
    "pp.images(datasets.inflate_images(sampler_a.reconstruction_given_visible(datasets.squash_images(dataset_two))))\n",
    "logging.info(\"B\")\n",
    "pp.images(datasets.inflate_images(sampler_b.reconstruction_given_visible(datasets.squash_images(dataset_one))))\n",
    "pp.images(datasets.inflate_images(sampler_b.reconstruction_given_visible(datasets.squash_images(dataset_two))))"
   ]
  },
  {
   "cell_type": "markdown",
   "metadata": {
    "collapsed": false,
    "scrolled": false
   },
   "source": [
    "pp.images(dataset_composite, color_range=(0,1))"
   ]
  },
  {
   "cell_type": "markdown",
   "metadata": {},
   "source": [
    "## Reconstruction Probabilities ##\n",
    "\n",
    "Below we see a few examples of reconstruction sigmoid values (i.e. before we would do a bernouli flip) given the ground truth dataset."
   ]
  },
  {
   "cell_type": "code",
   "execution_count": 24,
   "metadata": {
    "collapsed": false
   },
   "outputs": [
    {
     "data": {
      "image/png": "[encoded data removed]",
      "text/plain": [
       "<matplotlib.figure.Figure at 0x111faf9b0>"
      ]
     },
     "metadata": {},
     "output_type": "display_data"
    },
    {
     "data": {
      "image/png": "[encoded data removed]",
      "text/plain": [
       "<matplotlib.figure.Figure at 0x111d895c0>"
      ]
     },
     "metadata": {},
     "output_type": "display_data"
    },
    {
     "data": {
      "image/png": "[encoded data removed]",
      "text/plain": [
       "<matplotlib.figure.Figure at 0x1120d4160>"
      ]
     },
     "metadata": {},
     "output_type": "display_data"
    },
    {
     "data": {
      "image/png": "[encoded data removed]",
      "text/plain": [
       "<matplotlib.figure.Figure at 0x1118f3278>"
      ]
     },
     "metadata": {},
     "output_type": "display_data"
    },
    {
     "data": {
      "image/png": "[encoded data removed]",
      "text/plain": [
       "<matplotlib.figure.Figure at 0x1117a63c8>"
      ]
     },
     "metadata": {},
     "output_type": "display_data"
    }
   ],
   "source": [
    "for i in range(5):\n",
    "    pp.images(sampler_a.reconstruction_given_visible(datasets.squash_images(dataset_one), return_sigmoid=True).reshape(2,1,2), color_range=(0,1))"
   ]
  },
  {
   "cell_type": "code",
   "execution_count": 25,
   "metadata": {
    "collapsed": false
   },
   "outputs": [
    {
     "data": {
      "image/png": "[encoded data removed]",
      "text/plain": [
       "<matplotlib.figure.Figure at 0x111f07588>"
      ]
     },
     "metadata": {},
     "output_type": "display_data"
    },
    {
     "data": {
      "image/png": "[encoded data removed]",
      "text/plain": [
       "<matplotlib.figure.Figure at 0x11179e748>"
      ]
     },
     "metadata": {},
     "output_type": "display_data"
    },
    {
     "data": {
      "image/png": "[encoded data removed]",
      "text/plain": [
       "<matplotlib.figure.Figure at 0x11183cb38>"
      ]
     },
     "metadata": {},
     "output_type": "display_data"
    },
    {
     "data": {
      "image/png": "[encoded data removed]",
      "text/plain": [
       "<matplotlib.figure.Figure at 0x111cd4128>"
      ]
     },
     "metadata": {},
     "output_type": "display_data"
    },
    {
     "data": {
      "image/png": "[encoded data removed]",
      "text/plain": [
       "<matplotlib.figure.Figure at 0x1117de2b0>"
      ]
     },
     "metadata": {},
     "output_type": "display_data"
    }
   ],
   "source": [
    "for i in range(5):\n",
    "    pp.images(sampler_b.reconstruction_given_visible(datasets.squash_images(dataset_one), return_sigmoid=True).reshape(2,1,2) , color_range=(0,1))\n"
   ]
  }
 ],
 "metadata": {
  "kernelspec": {
   "display_name": "Python 3",
   "language": "python",
   "name": "python3"
  },
  "language_info": {
   "codemirror_mode": {
    "name": "ipython",
    "version": 3
   },
   "file_extension": ".py",
   "mimetype": "text/x-python",
   "name": "python",
   "nbconvert_exporter": "python",
   "pygments_lexer": "ipython3",
   "version": "3.4.3"
  }
 },
 "nbformat": 4,
 "nbformat_minor": 0
}
