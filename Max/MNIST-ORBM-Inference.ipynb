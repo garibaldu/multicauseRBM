{
 "cells": [
  {
   "cell_type": "code",
   "execution_count": 1,
   "metadata": {
    "collapsed": false,
    "scrolled": true
   },
   "outputs": [],
   "source": [
    "from scipy.special import expit\n",
    "from rbm import RBM\n",
    "from sampler import VanillaSampler, PartitionedSampler\n",
    "from trainer import VanillaTrainier\n",
    "from performance import Result\n",
    "import numpy as np\n",
    "import datasets, performance, plotter, mnist, pickle, rbm, os, logging\n",
    "\n",
    "logger = logging.getLogger()\n",
    "# Set the logging level to logging.DEBUG to \n",
    "logger.setLevel(logging.INFO)\n",
    "\n",
    "\n",
    "%matplotlib inline\n",
    "\n",
    "models_names = [\n",
    "    \"one\",\"two\",\"three\",\"four\",\"five\",\"six\",\"seven\", \"eight\", \"nine\", \"bar\",\"two_three\"]\n",
    "# RBM's keyed by a label of what they were trained on\n",
    "models = datasets.load_models(models_names)"
   ]
  },
  {
   "cell_type": "code",
   "execution_count": 18,
   "metadata": {
    "collapsed": false,
    "scrolled": false
   },
   "outputs": [
    {
     "name": "stderr",
     "output_type": "stream",
     "text": [
      "INFO:root:Getting result for nine\n"
     ]
    },
    {
     "name": "stdout",
     "output_type": "stream",
     "text": [
      "Constructing Composite Dataset\n",
      "Generating Vanilla Samples\n",
      "Generating Partitioned Reconstructions (This may take a while)\n",
      "Running batch 0 of 100\n",
      "Running batch 1 of 100\n",
      "Running batch 2 of 100\n",
      "Running batch 3 of 100\n",
      "Running batch 4 of 100\n",
      "Running batch 5 of 100\n",
      "Running batch 6 of 100\n",
      "Running batch 7 of 100\n",
      "Running batch 8 of 100\n",
      "Running batch 9 of 100\n",
      "Running batch 10 of 100\n",
      "Running batch 11 of 100\n",
      "Running batch 12 of 100\n",
      "Running batch 13 of 100\n",
      "Running batch 14 of 100\n",
      "Running batch 15 of 100\n",
      "Running batch 16 of 100\n",
      "Running batch 17 of 100\n",
      "Running batch 18 of 100\n",
      "Running batch 19 of 100\n",
      "Running batch 20 of 100\n",
      "Running batch 21 of 100\n",
      "Running batch 22 of 100\n",
      "Running batch 23 of 100\n",
      "Running batch 24 of 100\n",
      "Running batch 25 of 100\n",
      "Running batch 26 of 100\n",
      "Running batch 27 of 100\n",
      "Running batch 28 of 100\n",
      "Running batch 29 of 100\n",
      "Running batch 30 of 100\n",
      "Running batch 31 of 100\n",
      "Running batch 32 of 100\n",
      "Running batch 33 of 100\n",
      "Running batch 34 of 100\n",
      "Running batch 35 of 100\n",
      "Running batch 36 of 100\n",
      "Running batch 37 of 100\n",
      "Running batch 38 of 100\n",
      "Running batch 39 of 100\n",
      "Running batch 40 of 100\n",
      "Running batch 41 of 100\n",
      "Running batch 42 of 100\n",
      "Running batch 43 of 100\n",
      "Running batch 44 of 100\n",
      "Running batch 45 of 100\n",
      "Running batch 46 of 100\n",
      "Running batch 47 of 100\n",
      "Running batch 48 of 100\n",
      "Running batch 49 of 100\n",
      "Running batch 50 of 100\n",
      "Running batch 51 of 100\n",
      "Running batch 52 of 100\n",
      "Running batch 53 of 100\n",
      "Running batch 54 of 100\n",
      "Running batch 55 of 100\n",
      "Running batch 56 of 100\n",
      "Running batch 57 of 100\n",
      "Running batch 58 of 100\n",
      "Running batch 59 of 100\n",
      "Running batch 60 of 100\n",
      "Running batch 61 of 100\n",
      "Running batch 62 of 100\n",
      "Running batch 63 of 100\n",
      "Running batch 64 of 100\n",
      "Running batch 65 of 100\n",
      "Running batch 66 of 100\n",
      "Running batch 67 of 100\n",
      "Running batch 68 of 100\n",
      "Running batch 69 of 100\n",
      "Running batch 70 of 100\n",
      "Running batch 71 of 100\n",
      "Running batch 72 of 100\n",
      "Running batch 73 of 100\n",
      "Running batch 74 of 100\n",
      "Running batch 75 of 100\n",
      "Running batch 76 of 100\n",
      "Running batch 77 of 100\n",
      "Running batch 78 of 100\n",
      "Running batch 79 of 100\n",
      "Running batch 80 of 100\n",
      "Running batch 81 of 100\n",
      "Running batch 82 of 100\n",
      "Running batch 83 of 100\n",
      "Running batch 84 of 100\n",
      "Running batch 85 of 100\n",
      "Running batch 86 of 100\n",
      "Running batch 87 of 100\n",
      "Running batch 88 of 100\n",
      "Running batch 89 of 100\n",
      "Running batch 90 of 100\n",
      "Running batch 91 of 100\n",
      "Running batch 92 of 100\n",
      "Running batch 93 of 100\n",
      "Running batch 94 of 100\n",
      "Running batch 95 of 100\n",
      "Running batch 96 of 100\n",
      "Running batch 97 of 100\n",
      "Running batch 98 of 100\n",
      "Running batch 99 of 100"
     ]
    },
    {
     "name": "stderr",
     "output_type": "stream",
     "text": [
      "INFO:root:Getting result for seven\n"
     ]
    },
    {
     "name": "stdout",
     "output_type": "stream",
     "text": [
      "\n",
      "Constructing Composite Dataset\n",
      "Generating Vanilla Samples\n",
      "Generating Partitioned Reconstructions (This may take a while)\n",
      "Running batch 0 of 100\n",
      "Running batch 1 of 100\n",
      "Running batch 2 of 100\n",
      "Running batch 3 of 100\n",
      "Running batch 4 of 100\n",
      "Running batch 5 of 100\n",
      "Running batch 6 of 100\n",
      "Running batch 7 of 100\n",
      "Running batch 8 of 100\n",
      "Running batch 9 of 100\n",
      "Running batch 10 of 100\n",
      "Running batch 11 of 100\n",
      "Running batch 12 of 100\n",
      "Running batch 13 of 100\n",
      "Running batch 14 of 100\n",
      "Running batch 15 of 100\n",
      "Running batch 16 of 100\n",
      "Running batch 17 of 100\n",
      "Running batch 18 of 100\n",
      "Running batch 19 of 100\n",
      "Running batch 20 of 100\n",
      "Running batch 21 of 100\n",
      "Running batch 22 of 100\n",
      "Running batch 23 of 100\n",
      "Running batch 24 of 100\n",
      "Running batch 25 of 100\n",
      "Running batch 26 of 100\n",
      "Running batch 27 of 100\n",
      "Running batch 28 of 100\n",
      "Running batch 29 of 100\n",
      "Running batch 30 of 100\n",
      "Running batch 31 of 100\n",
      "Running batch 32 of 100\n",
      "Running batch 33 of 100\n",
      "Running batch 34 of 100\n",
      "Running batch 35 of 100\n",
      "Running batch 36 of 100\n",
      "Running batch 37 of 100\n",
      "Running batch 38 of 100\n",
      "Running batch 39 of 100\n",
      "Running batch 40 of 100\n",
      "Running batch 41 of 100\n",
      "Running batch 42 of 100\n",
      "Running batch 43 of 100\n",
      "Running batch 44 of 100\n",
      "Running batch 45 of 100\n",
      "Running batch 46 of 100\n",
      "Running batch 47 of 100\n",
      "Running batch 48 of 100\n",
      "Running batch 49 of 100\n",
      "Running batch 50 of 100\n",
      "Running batch 51 of 100\n",
      "Running batch 52 of 100\n",
      "Running batch 53 of 100\n",
      "Running batch 54 of 100\n",
      "Running batch 55 of 100\n",
      "Running batch 56 of 100\n",
      "Running batch 57 of 100\n",
      "Running batch 58 of 100\n",
      "Running batch 59 of 100\n",
      "Running batch 60 of 100\n",
      "Running batch 61 of 100\n",
      "Running batch 62 of 100\n",
      "Running batch 63 of 100\n",
      "Running batch 64 of 100\n",
      "Running batch 65 of 100\n",
      "Running batch 66 of 100\n",
      "Running batch 67 of 100\n",
      "Running batch 68 of 100\n",
      "Running batch 69 of 100\n",
      "Running batch 70 of 100\n",
      "Running batch 71 of 100\n",
      "Running batch 72 of 100\n",
      "Running batch 73 of 100\n",
      "Running batch 74 of 100\n",
      "Running batch 75 of 100\n",
      "Running batch 76 of 100\n",
      "Running batch 77 of 100\n",
      "Running batch 78 of 100\n",
      "Running batch 79 of 100\n",
      "Running batch 80 of 100\n",
      "Running batch 81 of 100\n",
      "Running batch 82 of 100\n",
      "Running batch 83 of 100\n",
      "Running batch 84 of 100\n",
      "Running batch 85 of 100\n",
      "Running batch 86 of 100\n",
      "Running batch 87 of 100\n",
      "Running batch 88 of 100\n",
      "Running batch 89 of 100\n",
      "Running batch 90 of 100\n",
      "Running batch 91 of 100\n",
      "Running batch 92 of 100\n",
      "Running batch 93 of 100\n",
      "Running batch 94 of 100\n",
      "Running batch 95 of 100\n",
      "Running batch 96 of 100\n",
      "Running batch 97 of 100\n",
      "Running batch 98 of 100\n",
      "Running batch 99 of 100"
     ]
    },
    {
     "name": "stderr",
     "output_type": "stream",
     "text": [
      "INFO:root:Getting result for four\n"
     ]
    },
    {
     "name": "stdout",
     "output_type": "stream",
     "text": [
      "\n",
      "Constructing Composite Dataset\n",
      "Generating Vanilla Samples\n",
      "Generating Partitioned Reconstructions (This may take a while)\n",
      "Running batch 0 of 100\n",
      "Running batch 1 of 100\n",
      "Running batch 2 of 100\n",
      "Running batch 3 of 100\n",
      "Running batch 4 of 100\n",
      "Running batch 5 of 100\n",
      "Running batch 6 of 100\n",
      "Running batch 7 of 100\n",
      "Running batch 8 of 100\n",
      "Running batch 9 of 100\n",
      "Running batch 10 of 100\n",
      "Running batch 11 of 100\n",
      "Running batch 12 of 100\n",
      "Running batch 13 of 100\n",
      "Running batch 14 of 100\n",
      "Running batch 15 of 100\n",
      "Running batch 16 of 100\n",
      "Running batch 17 of 100\n",
      "Running batch 18 of 100\n",
      "Running batch 19 of 100\n",
      "Running batch 20 of 100\n",
      "Running batch 21 of 100\n",
      "Running batch 22 of 100\n",
      "Running batch 23 of 100\n",
      "Running batch 24 of 100\n",
      "Running batch 25 of 100\n",
      "Running batch 26 of 100\n",
      "Running batch 27 of 100\n",
      "Running batch 28 of 100\n",
      "Running batch 29 of 100\n",
      "Running batch 30 of 100\n",
      "Running batch 31 of 100\n",
      "Running batch 32 of 100\n",
      "Running batch 33 of 100\n",
      "Running batch 34 of 100\n",
      "Running batch 35 of 100\n",
      "Running batch 36 of 100\n",
      "Running batch 37 of 100\n",
      "Running batch 38 of 100\n",
      "Running batch 39 of 100\n",
      "Running batch 40 of 100\n",
      "Running batch 41 of 100\n",
      "Running batch 42 of 100\n",
      "Running batch 43 of 100\n",
      "Running batch 44 of 100\n",
      "Running batch 45 of 100\n",
      "Running batch 46 of 100\n",
      "Running batch 47 of 100\n",
      "Running batch 48 of 100\n",
      "Running batch 49 of 100\n",
      "Running batch 50 of 100\n",
      "Running batch 51 of 100\n",
      "Running batch 52 of 100\n",
      "Running batch 53 of 100\n",
      "Running batch 54 of 100\n",
      "Running batch 55 of 100\n",
      "Running batch 56 of 100\n",
      "Running batch 57 of 100\n",
      "Running batch 58 of 100\n",
      "Running batch 59 of 100\n",
      "Running batch 60 of 100\n",
      "Running batch 61 of 100\n",
      "Running batch 62 of 100\n",
      "Running batch 63 of 100\n",
      "Running batch 64 of 100\n",
      "Running batch 65 of 100\n",
      "Running batch 66 of 100\n",
      "Running batch 67 of 100\n",
      "Running batch 68 of 100\n",
      "Running batch 69 of 100\n",
      "Running batch 70 of 100\n",
      "Running batch 71 of 100\n",
      "Running batch 72 of 100\n",
      "Running batch 73 of 100\n",
      "Running batch 74 of 100\n",
      "Running batch 75 of 100\n",
      "Running batch 76 of 100\n",
      "Running batch 77 of 100\n",
      "Running batch 78 of 100\n",
      "Running batch 79 of 100\n",
      "Running batch 80 of 100\n",
      "Running batch 81 of 100\n",
      "Running batch 82 of 100\n",
      "Running batch 83 of 100\n",
      "Running batch 84 of 100\n",
      "Running batch 85 of 100\n",
      "Running batch 86 of 100\n",
      "Running batch 87 of 100\n",
      "Running batch 88 of 100\n",
      "Running batch 89 of 100\n",
      "Running batch 90 of 100\n",
      "Running batch 91 of 100\n",
      "Running batch 92 of 100\n",
      "Running batch 93 of 100\n",
      "Running batch 94 of 100\n",
      "Running batch 95 of 100\n",
      "Running batch 96 of 100\n",
      "Running batch 97 of 100\n",
      "Running batch 98 of 100\n",
      "Running batch 99 of 100"
     ]
    },
    {
     "name": "stderr",
     "output_type": "stream",
     "text": [
      "INFO:root:Getting result for two\n"
     ]
    },
    {
     "name": "stdout",
     "output_type": "stream",
     "text": [
      "\n",
      "Constructing Composite Dataset\n",
      "Generating Vanilla Samples\n",
      "Generating Partitioned Reconstructions (This may take a while)\n",
      "Running batch 0 of 100\n",
      "Running batch 1 of 100\n",
      "Running batch 2 of 100\n",
      "Running batch 3 of 100\n",
      "Running batch 4 of 100\n",
      "Running batch 5 of 100\n",
      "Running batch 6 of 100\n",
      "Running batch 7 of 100\n",
      "Running batch 8 of 100\n",
      "Running batch 9 of 100\n",
      "Running batch 10 of 100\n",
      "Running batch 11 of 100\n",
      "Running batch 12 of 100\n",
      "Running batch 13 of 100\n",
      "Running batch 14 of 100\n",
      "Running batch 15 of 100\n",
      "Running batch 16 of 100\n",
      "Running batch 17 of 100\n",
      "Running batch 18 of 100\n",
      "Running batch 19 of 100\n",
      "Running batch 20 of 100\n",
      "Running batch 21 of 100\n",
      "Running batch 22 of 100\n",
      "Running batch 23 of 100\n",
      "Running batch 24 of 100\n",
      "Running batch 25 of 100\n",
      "Running batch 26 of 100\n",
      "Running batch 27 of 100\n",
      "Running batch 28 of 100\n",
      "Running batch 29 of 100\n",
      "Running batch 30 of 100\n",
      "Running batch 31 of 100\n",
      "Running batch 32 of 100\n",
      "Running batch 33 of 100\n",
      "Running batch 34 of 100\n",
      "Running batch 35 of 100\n",
      "Running batch 36 of 100\n",
      "Running batch 37 of 100\n",
      "Running batch 38 of 100\n",
      "Running batch 39 of 100\n",
      "Running batch 40 of 100\n",
      "Running batch 41 of 100\n",
      "Running batch 42 of 100\n",
      "Running batch 43 of 100\n",
      "Running batch 44 of 100\n",
      "Running batch 45 of 100\n",
      "Running batch 46 of 100\n",
      "Running batch 47 of 100\n",
      "Running batch 48 of 100\n",
      "Running batch 49 of 100\n",
      "Running batch 50 of 100\n",
      "Running batch 51 of 100\n",
      "Running batch 52 of 100\n",
      "Running batch 53 of 100\n",
      "Running batch 54 of 100\n",
      "Running batch 55 of 100\n",
      "Running batch 56 of 100\n",
      "Running batch 57 of 100\n",
      "Running batch 58 of 100\n",
      "Running batch 59 of 100\n",
      "Running batch 60 of 100\n",
      "Running batch 61 of 100\n",
      "Running batch 62 of 100\n",
      "Running batch 63 of 100\n",
      "Running batch 64 of 100\n",
      "Running batch 65 of 100\n",
      "Running batch 66 of 100\n",
      "Running batch 67 of 100\n",
      "Running batch 68 of 100\n",
      "Running batch 69 of 100\n",
      "Running batch 70 of 100\n",
      "Running batch 71 of 100\n",
      "Running batch 72 of 100\n",
      "Running batch 73 of 100\n",
      "Running batch 74 of 100\n",
      "Running batch 75 of 100\n",
      "Running batch 76 of 100\n",
      "Running batch 77 of 100\n",
      "Running batch 78 of 100\n",
      "Running batch 79 of 100\n",
      "Running batch 80 of 100\n",
      "Running batch 81 of 100\n",
      "Running batch 82 of 100\n",
      "Running batch 83 of 100\n",
      "Running batch 84 of 100\n",
      "Running batch 85 of 100\n",
      "Running batch 86 of 100\n",
      "Running batch 87 of 100\n",
      "Running batch 88 of 100\n",
      "Running batch 89 of 100\n",
      "Running batch 90 of 100\n",
      "Running batch 91 of 100\n",
      "Running batch 92 of 100\n",
      "Running batch 93 of 100\n",
      "Running batch 94 of 100\n",
      "Running batch 95 of 100\n",
      "Running batch 96 of 100\n",
      "Running batch 97 of 100\n",
      "Running batch 98 of 100\n",
      "Running batch 99 of 100"
     ]
    },
    {
     "name": "stderr",
     "output_type": "stream",
     "text": [
      "INFO:root:Getting result for eight\n"
     ]
    },
    {
     "name": "stdout",
     "output_type": "stream",
     "text": [
      "\n",
      "Constructing Composite Dataset\n",
      "Generating Vanilla Samples\n",
      "Generating Partitioned Reconstructions (This may take a while)\n",
      "Running batch 0 of 100\n",
      "Running batch 1 of 100\n",
      "Running batch 2 of 100\n",
      "Running batch 3 of 100\n",
      "Running batch 4 of 100\n",
      "Running batch 5 of 100\n",
      "Running batch 6 of 100\n",
      "Running batch 7 of 100\n",
      "Running batch 8 of 100\n",
      "Running batch 9 of 100\n",
      "Running batch 10 of 100\n",
      "Running batch 11 of 100\n",
      "Running batch 12 of 100\n",
      "Running batch 13 of 100\n",
      "Running batch 14 of 100\n",
      "Running batch 15 of 100\n",
      "Running batch 16 of 100\n",
      "Running batch 17 of 100\n",
      "Running batch 18 of 100\n",
      "Running batch 19 of 100\n",
      "Running batch 20 of 100\n",
      "Running batch 21 of 100\n",
      "Running batch 22 of 100\n",
      "Running batch 23 of 100\n",
      "Running batch 24 of 100\n",
      "Running batch 25 of 100\n",
      "Running batch 26 of 100\n",
      "Running batch 27 of 100\n",
      "Running batch 28 of 100\n",
      "Running batch 29 of 100\n",
      "Running batch 30 of 100\n",
      "Running batch 31 of 100\n",
      "Running batch 32 of 100\n",
      "Running batch 33 of 100\n",
      "Running batch 34 of 100\n",
      "Running batch 35 of 100\n",
      "Running batch 36 of 100\n",
      "Running batch 37 of 100\n",
      "Running batch 38 of 100\n",
      "Running batch 39 of 100\n",
      "Running batch 40 of 100\n",
      "Running batch 41 of 100\n",
      "Running batch 42 of 100\n",
      "Running batch 43 of 100\n",
      "Running batch 44 of 100\n",
      "Running batch 45 of 100\n",
      "Running batch 46 of 100\n",
      "Running batch 47 of 100\n",
      "Running batch 48 of 100\n",
      "Running batch 49 of 100\n",
      "Running batch 50 of 100\n",
      "Running batch 51 of 100\n",
      "Running batch 52 of 100\n",
      "Running batch 53 of 100\n",
      "Running batch 54 of 100\n",
      "Running batch 55 of 100\n",
      "Running batch 56 of 100\n",
      "Running batch 57 of 100\n",
      "Running batch 58 of 100\n",
      "Running batch 59 of 100\n",
      "Running batch 60 of 100\n",
      "Running batch 61 of 100\n",
      "Running batch 62 of 100\n",
      "Running batch 63 of 100\n",
      "Running batch 64 of 100\n",
      "Running batch 65 of 100\n",
      "Running batch 66 of 100\n",
      "Running batch 67 of 100\n",
      "Running batch 68 of 100\n",
      "Running batch 69 of 100\n",
      "Running batch 70 of 100\n",
      "Running batch 71 of 100\n",
      "Running batch 72 of 100\n",
      "Running batch 73 of 100\n",
      "Running batch 74 of 100\n",
      "Running batch 75 of 100\n",
      "Running batch 76 of 100\n",
      "Running batch 77 of 100\n",
      "Running batch 78 of 100\n",
      "Running batch 79 of 100\n",
      "Running batch 80 of 100\n",
      "Running batch 81 of 100\n",
      "Running batch 82 of 100\n",
      "Running batch 83 of 100\n",
      "Running batch 84 of 100\n",
      "Running batch 85 of 100\n",
      "Running batch 86 of 100\n",
      "Running batch 87 of 100\n",
      "Running batch 88 of 100\n",
      "Running batch 89 of 100\n",
      "Running batch 90 of 100\n",
      "Running batch 91 of 100\n",
      "Running batch 92 of 100\n",
      "Running batch 93 of 100\n",
      "Running batch 94 of 100\n",
      "Running batch 95 of 100\n",
      "Running batch 96 of 100\n",
      "Running batch 97 of 100\n",
      "Running batch 98 of 100\n",
      "Running batch 99 of 100"
     ]
    },
    {
     "name": "stderr",
     "output_type": "stream",
     "text": [
      "INFO:root:Getting result for five\n"
     ]
    },
    {
     "name": "stdout",
     "output_type": "stream",
     "text": [
      "\n",
      "Constructing Composite Dataset\n",
      "Generating Vanilla Samples\n",
      "Generating Partitioned Reconstructions (This may take a while)\n",
      "Running batch 0 of 100\n",
      "Running batch 1 of 100\n",
      "Running batch 2 of 100\n",
      "Running batch 3 of 100\n",
      "Running batch 4 of 100\n",
      "Running batch 5 of 100\n",
      "Running batch 6 of 100\n",
      "Running batch 7 of 100\n",
      "Running batch 8 of 100\n",
      "Running batch 9 of 100\n",
      "Running batch 10 of 100\n",
      "Running batch 11 of 100\n",
      "Running batch 12 of 100\n",
      "Running batch 13 of 100\n",
      "Running batch 14 of 100\n",
      "Running batch 15 of 100\n",
      "Running batch 16 of 100\n",
      "Running batch 17 of 100\n",
      "Running batch 18 of 100\n",
      "Running batch 19 of 100\n",
      "Running batch 20 of 100\n",
      "Running batch 21 of 100\n",
      "Running batch 22 of 100\n",
      "Running batch 23 of 100\n",
      "Running batch 24 of 100\n",
      "Running batch 25 of 100\n",
      "Running batch 26 of 100\n",
      "Running batch 27 of 100\n",
      "Running batch 28 of 100\n",
      "Running batch 29 of 100\n",
      "Running batch 30 of 100\n",
      "Running batch 31 of 100\n",
      "Running batch 32 of 100\n",
      "Running batch 33 of 100\n",
      "Running batch 34 of 100\n",
      "Running batch 35 of 100\n",
      "Running batch 36 of 100\n",
      "Running batch 37 of 100\n",
      "Running batch 38 of 100\n",
      "Running batch 39 of 100\n",
      "Running batch 40 of 100\n",
      "Running batch 41 of 100\n",
      "Running batch 42 of 100\n",
      "Running batch 43 of 100\n",
      "Running batch 44 of 100\n",
      "Running batch 45 of 100\n",
      "Running batch 46 of 100\n",
      "Running batch 47 of 100\n",
      "Running batch 48 of 100\n",
      "Running batch 49 of 100\n",
      "Running batch 50 of 100\n",
      "Running batch 51 of 100\n",
      "Running batch 52 of 100\n",
      "Running batch 53 of 100\n",
      "Running batch 54 of 100\n",
      "Running batch 55 of 100\n",
      "Running batch 56 of 100\n",
      "Running batch 57 of 100\n",
      "Running batch 58 of 100\n",
      "Running batch 59 of 100\n",
      "Running batch 60 of 100\n",
      "Running batch 61 of 100\n",
      "Running batch 62 of 100\n",
      "Running batch 63 of 100\n",
      "Running batch 64 of 100\n",
      "Running batch 65 of 100\n",
      "Running batch 66 of 100\n",
      "Running batch 67 of 100\n",
      "Running batch 68 of 100\n",
      "Running batch 69 of 100\n",
      "Running batch 70 of 100\n",
      "Running batch 71 of 100\n",
      "Running batch 72 of 100\n",
      "Running batch 73 of 100\n",
      "Running batch 74 of 100\n",
      "Running batch 75 of 100\n",
      "Running batch 76 of 100\n",
      "Running batch 77 of 100\n",
      "Running batch 78 of 100\n",
      "Running batch 79 of 100\n",
      "Running batch 80 of 100\n",
      "Running batch 81 of 100\n",
      "Running batch 82 of 100\n",
      "Running batch 83 of 100\n",
      "Running batch 84 of 100\n",
      "Running batch 85 of 100\n",
      "Running batch 86 of 100\n",
      "Running batch 87 of 100\n",
      "Running batch 88 of 100\n",
      "Running batch 89 of 100\n",
      "Running batch 90 of 100\n",
      "Running batch 91 of 100\n",
      "Running batch 92 of 100\n",
      "Running batch 93 of 100\n",
      "Running batch 94 of 100\n",
      "Running batch 95 of 100\n",
      "Running batch 96 of 100\n",
      "Running batch 97 of 100\n",
      "Running batch 98 of 100\n",
      "Running batch 99 of 100"
     ]
    },
    {
     "name": "stderr",
     "output_type": "stream",
     "text": [
      "INFO:root:Getting result for one\n"
     ]
    },
    {
     "name": "stdout",
     "output_type": "stream",
     "text": [
      "\n",
      "Constructing Composite Dataset\n",
      "Generating Vanilla Samples\n",
      "Generating Partitioned Reconstructions (This may take a while)\n",
      "Running batch 0 of 100\n",
      "Running batch 1 of 100\n",
      "Running batch 2 of 100\n",
      "Running batch 3 of 100\n",
      "Running batch 4 of 100\n",
      "Running batch 5 of 100\n",
      "Running batch 6 of 100\n",
      "Running batch 7 of 100\n",
      "Running batch 8 of 100\n",
      "Running batch 9 of 100\n",
      "Running batch 10 of 100\n",
      "Running batch 11 of 100\n",
      "Running batch 12 of 100\n",
      "Running batch 13 of 100\n",
      "Running batch 14 of 100\n",
      "Running batch 15 of 100\n",
      "Running batch 16 of 100\n",
      "Running batch 17 of 100\n",
      "Running batch 18 of 100\n",
      "Running batch 19 of 100\n",
      "Running batch 20 of 100\n",
      "Running batch 21 of 100\n",
      "Running batch 22 of 100\n",
      "Running batch 23 of 100\n",
      "Running batch 24 of 100\n",
      "Running batch 25 of 100\n",
      "Running batch 26 of 100\n",
      "Running batch 27 of 100\n",
      "Running batch 28 of 100\n",
      "Running batch 29 of 100\n",
      "Running batch 30 of 100\n",
      "Running batch 31 of 100\n",
      "Running batch 32 of 100\n",
      "Running batch 33 of 100\n",
      "Running batch 34 of 100\n",
      "Running batch 35 of 100\n",
      "Running batch 36 of 100\n",
      "Running batch 37 of 100\n",
      "Running batch 38 of 100\n",
      "Running batch 39 of 100\n",
      "Running batch 40 of 100\n",
      "Running batch 41 of 100\n",
      "Running batch 42 of 100\n",
      "Running batch 43 of 100\n",
      "Running batch 44 of 100\n",
      "Running batch 45 of 100\n",
      "Running batch 46 of 100\n",
      "Running batch 47 of 100\n",
      "Running batch 48 of 100\n",
      "Running batch 49 of 100\n",
      "Running batch 50 of 100\n",
      "Running batch 51 of 100\n",
      "Running batch 52 of 100\n",
      "Running batch 53 of 100\n",
      "Running batch 54 of 100\n",
      "Running batch 55 of 100\n",
      "Running batch 56 of 100\n",
      "Running batch 57 of 100\n",
      "Running batch 58 of 100\n",
      "Running batch 59 of 100\n",
      "Running batch 60 of 100\n",
      "Running batch 61 of 100\n",
      "Running batch 62 of 100\n",
      "Running batch 63 of 100\n",
      "Running batch 64 of 100\n",
      "Running batch 65 of 100\n",
      "Running batch 66 of 100\n",
      "Running batch 67 of 100\n",
      "Running batch 68 of 100\n",
      "Running batch 69 of 100\n",
      "Running batch 70 of 100\n",
      "Running batch 71 of 100\n",
      "Running batch 72 of 100\n",
      "Running batch 73 of 100\n",
      "Running batch 74 of 100\n",
      "Running batch 75 of 100\n",
      "Running batch 76 of 100\n",
      "Running batch 77 of 100\n",
      "Running batch 78 of 100\n",
      "Running batch 79 of 100\n",
      "Running batch 80 of 100\n",
      "Running batch 81 of 100\n",
      "Running batch 82 of 100\n",
      "Running batch 83 of 100\n",
      "Running batch 84 of 100\n",
      "Running batch 85 of 100\n",
      "Running batch 86 of 100\n",
      "Running batch 87 of 100\n",
      "Running batch 88 of 100\n",
      "Running batch 89 of 100\n",
      "Running batch 90 of 100\n",
      "Running batch 91 of 100\n",
      "Running batch 92 of 100\n",
      "Running batch 93 of 100\n",
      "Running batch 94 of 100\n",
      "Running batch 95 of 100\n",
      "Running batch 96 of 100\n",
      "Running batch 97 of 100\n",
      "Running batch 98 of 100\n",
      "Running batch 99 of 100"
     ]
    },
    {
     "name": "stderr",
     "output_type": "stream",
     "text": [
      "/Users/Max/Documents/Uni/400-Level/ENGR489/RBM/Max/performance.py:13: RuntimeWarning: divide by zero encountered in log\n",
      "  score = (target * np.log(sample)) + ((1 - target) * np.log((1 - sample)))\n",
      "/Users/Max/Documents/Uni/400-Level/ENGR489/RBM/Max/performance.py:13: RuntimeWarning: invalid value encountered in multiply\n",
      "  score = (target * np.log(sample)) + ((1 - target) * np.log((1 - sample)))\n",
      "INFO:root:Getting result for three\n"
     ]
    },
    {
     "name": "stdout",
     "output_type": "stream",
     "text": [
      "\n",
      "Constructing Composite Dataset\n",
      "Generating Vanilla Samples\n",
      "Generating Partitioned Reconstructions (This may take a while)\n",
      "Running batch 0 of 100\n",
      "Running batch 1 of 100\n",
      "Running batch 2 of 100\n",
      "Running batch 3 of 100\n",
      "Running batch 4 of 100\n",
      "Running batch 5 of 100\n",
      "Running batch 6 of 100\n",
      "Running batch 7 of 100\n",
      "Running batch 8 of 100\n",
      "Running batch 9 of 100\n",
      "Running batch 10 of 100\n",
      "Running batch 11 of 100\n",
      "Running batch 12 of 100\n",
      "Running batch 13 of 100\n",
      "Running batch 14 of 100\n",
      "Running batch 15 of 100\n",
      "Running batch 16 of 100\n",
      "Running batch 17 of 100\n",
      "Running batch 18 of 100\n",
      "Running batch 19 of 100\n",
      "Running batch 20 of 100\n",
      "Running batch 21 of 100\n",
      "Running batch 22 of 100\n",
      "Running batch 23 of 100\n",
      "Running batch 24 of 100\n",
      "Running batch 25 of 100\n",
      "Running batch 26 of 100\n",
      "Running batch 27 of 100\n",
      "Running batch 28 of 100\n",
      "Running batch 29 of 100\n",
      "Running batch 30 of 100\n",
      "Running batch 31 of 100\n",
      "Running batch 32 of 100\n",
      "Running batch 33 of 100\n",
      "Running batch 34 of 100\n",
      "Running batch 35 of 100\n",
      "Running batch 36 of 100\n",
      "Running batch 37 of 100\n",
      "Running batch 38 of 100\n",
      "Running batch 39 of 100\n",
      "Running batch 40 of 100\n",
      "Running batch 41 of 100\n",
      "Running batch 42 of 100\n",
      "Running batch 43 of 100\n",
      "Running batch 44 of 100\n",
      "Running batch 45 of 100\n",
      "Running batch 46 of 100\n",
      "Running batch 47 of 100\n",
      "Running batch 48 of 100\n",
      "Running batch 49 of 100\n",
      "Running batch 50 of 100\n",
      "Running batch 51 of 100\n",
      "Running batch 52 of 100\n",
      "Running batch 53 of 100\n",
      "Running batch 54 of 100\n",
      "Running batch 55 of 100\n",
      "Running batch 56 of 100\n",
      "Running batch 57 of 100\n",
      "Running batch 58 of 100\n",
      "Running batch 59 of 100\n",
      "Running batch 60 of 100\n",
      "Running batch 61 of 100\n",
      "Running batch 62 of 100\n",
      "Running batch 63 of 100\n",
      "Running batch 64 of 100\n",
      "Running batch 65 of 100\n",
      "Running batch 66 of 100\n",
      "Running batch 67 of 100\n",
      "Running batch 68 of 100\n",
      "Running batch 69 of 100\n",
      "Running batch 70 of 100\n",
      "Running batch 71 of 100\n",
      "Running batch 72 of 100\n",
      "Running batch 73 of 100\n",
      "Running batch 74 of 100\n",
      "Running batch 75 of 100\n",
      "Running batch 76 of 100\n",
      "Running batch 77 of 100\n",
      "Running batch 78 of 100\n",
      "Running batch 79 of 100\n",
      "Running batch 80 of 100\n",
      "Running batch 81 of 100\n",
      "Running batch 82 of 100\n",
      "Running batch 83 of 100\n",
      "Running batch 84 of 100\n",
      "Running batch 85 of 100\n",
      "Running batch 86 of 100\n",
      "Running batch 87 of 100\n",
      "Running batch 88 of 100\n",
      "Running batch 89 of 100\n",
      "Running batch 90 of 100\n",
      "Running batch 91 of 100\n",
      "Running batch 92 of 100\n",
      "Running batch 93 of 100\n",
      "Running batch 94 of 100\n",
      "Running batch 95 of 100\n",
      "Running batch 96 of 100\n",
      "Running batch 97 of 100\n",
      "Running batch 98 of 100\n",
      "Running batch 99 of 100"
     ]
    },
    {
     "name": "stderr",
     "output_type": "stream",
     "text": [
      "INFO:root:Getting result for six\n"
     ]
    },
    {
     "name": "stdout",
     "output_type": "stream",
     "text": [
      "\n",
      "Constructing Composite Dataset\n",
      "Generating Vanilla Samples\n",
      "Generating Partitioned Reconstructions (This may take a while)\n",
      "Running batch 0 of 100\n",
      "Running batch 1 of 100\n",
      "Running batch 2 of 100\n",
      "Running batch 3 of 100\n",
      "Running batch 4 of 100\n",
      "Running batch 5 of 100\n",
      "Running batch 6 of 100\n",
      "Running batch 7 of 100\n",
      "Running batch 8 of 100\n",
      "Running batch 9 of 100\n",
      "Running batch 10 of 100\n",
      "Running batch 11 of 100\n",
      "Running batch 12 of 100\n",
      "Running batch 13 of 100\n",
      "Running batch 14 of 100\n",
      "Running batch 15 of 100\n",
      "Running batch 16 of 100\n",
      "Running batch 17 of 100\n",
      "Running batch 18 of 100\n",
      "Running batch 19 of 100\n",
      "Running batch 20 of 100\n",
      "Running batch 21 of 100\n",
      "Running batch 22 of 100\n",
      "Running batch 23 of 100\n",
      "Running batch 24 of 100\n",
      "Running batch 25 of 100\n",
      "Running batch 26 of 100\n",
      "Running batch 27 of 100\n",
      "Running batch 28 of 100\n",
      "Running batch 29 of 100\n",
      "Running batch 30 of 100\n",
      "Running batch 31 of 100\n",
      "Running batch 32 of 100\n",
      "Running batch 33 of 100\n",
      "Running batch 34 of 100\n",
      "Running batch 35 of 100\n",
      "Running batch 36 of 100\n",
      "Running batch 37 of 100\n",
      "Running batch 38 of 100\n",
      "Running batch 39 of 100\n",
      "Running batch 40 of 100\n",
      "Running batch 41 of 100\n",
      "Running batch 42 of 100\n",
      "Running batch 43 of 100\n",
      "Running batch 44 of 100\n",
      "Running batch 45 of 100\n",
      "Running batch 46 of 100\n",
      "Running batch 47 of 100\n",
      "Running batch 48 of 100\n",
      "Running batch 49 of 100\n",
      "Running batch 50 of 100\n",
      "Running batch 51 of 100\n",
      "Running batch 52 of 100\n",
      "Running batch 53 of 100\n",
      "Running batch 54 of 100\n",
      "Running batch 55 of 100\n",
      "Running batch 56 of 100\n",
      "Running batch 57 of 100\n",
      "Running batch 58 of 100\n",
      "Running batch 59 of 100\n",
      "Running batch 60 of 100\n",
      "Running batch 61 of 100\n",
      "Running batch 62 of 100\n",
      "Running batch 63 of 100\n",
      "Running batch 64 of 100\n",
      "Running batch 65 of 100\n",
      "Running batch 66 of 100\n",
      "Running batch 67 of 100\n",
      "Running batch 68 of 100\n",
      "Running batch 69 of 100\n",
      "Running batch 70 of 100\n",
      "Running batch 71 of 100\n",
      "Running batch 72 of 100\n",
      "Running batch 73 of 100\n",
      "Running batch 74 of 100\n",
      "Running batch 75 of 100\n",
      "Running batch 76 of 100\n",
      "Running batch 77 of 100\n",
      "Running batch 78 of 100\n",
      "Running batch 79 of 100\n",
      "Running batch 80 of 100\n",
      "Running batch 81 of 100\n",
      "Running batch 82 of 100\n",
      "Running batch 83 of 100\n",
      "Running batch 84 of 100\n",
      "Running batch 85 of 100\n",
      "Running batch 86 of 100\n",
      "Running batch 87 of 100\n",
      "Running batch 88 of 100\n",
      "Running batch 89 of 100\n",
      "Running batch 90 of 100\n",
      "Running batch 91 of 100\n",
      "Running batch 92 of 100\n",
      "Running batch 93 of 100\n",
      "Running batch 94 of 100\n",
      "Running batch 95 of 100\n",
      "Running batch 96 of 100\n",
      "Running batch 97 of 100\n",
      "Running batch 98 of 100\n",
      "Running batch 99 of 100"
     ]
    },
    {
     "name": "stderr",
     "output_type": "stream",
     "text": [
      "INFO:root:Getting result for two_three\n"
     ]
    },
    {
     "name": "stdout",
     "output_type": "stream",
     "text": [
      "\n",
      "Constructing Composite Dataset\n",
      "Generating Vanilla Samples\n",
      "Generating Partitioned Reconstructions (This may take a while)\n",
      "Running batch 0 of 100\n",
      "Running batch 1 of 100\n",
      "Running batch 2 of 100\n",
      "Running batch 3 of 100\n",
      "Running batch 4 of 100\n",
      "Running batch 5 of 100\n",
      "Running batch 6 of 100\n",
      "Running batch 7 of 100\n",
      "Running batch 8 of 100\n",
      "Running batch 9 of 100\n",
      "Running batch 10 of 100\n",
      "Running batch 11 of 100\n",
      "Running batch 12 of 100\n",
      "Running batch 13 of 100\n",
      "Running batch 14 of 100\n",
      "Running batch 15 of 100\n",
      "Running batch 16 of 100\n",
      "Running batch 17 of 100\n",
      "Running batch 18 of 100\n",
      "Running batch 19 of 100\n",
      "Running batch 20 of 100\n",
      "Running batch 21 of 100\n",
      "Running batch 22 of 100\n",
      "Running batch 23 of 100\n",
      "Running batch 24 of 100\n",
      "Running batch 25 of 100\n",
      "Running batch 26 of 100\n",
      "Running batch 27 of 100\n",
      "Running batch 28 of 100\n",
      "Running batch 29 of 100\n",
      "Running batch 30 of 100\n",
      "Running batch 31 of 100\n",
      "Running batch 32 of 100\n",
      "Running batch 33 of 100\n",
      "Running batch 34 of 100\n",
      "Running batch 35 of 100\n",
      "Running batch 36 of 100\n",
      "Running batch 37 of 100\n",
      "Running batch 38 of 100\n",
      "Running batch 39 of 100\n",
      "Running batch 40 of 100\n",
      "Running batch 41 of 100\n",
      "Running batch 42 of 100\n",
      "Running batch 43 of 100\n",
      "Running batch 44 of 100\n",
      "Running batch 45 of 100\n",
      "Running batch 46 of 100\n",
      "Running batch 47 of 100\n",
      "Running batch 48 of 100\n",
      "Running batch 49 of 100\n",
      "Running batch 50 of 100\n",
      "Running batch 51 of 100\n",
      "Running batch 52 of 100\n",
      "Running batch 53 of 100\n",
      "Running batch 54 of 100\n",
      "Running batch 55 of 100\n",
      "Running batch 56 of 100\n",
      "Running batch 57 of 100\n",
      "Running batch 58 of 100\n",
      "Running batch 59 of 100\n",
      "Running batch 60 of 100\n",
      "Running batch 61 of 100\n",
      "Running batch 62 of 100\n",
      "Running batch 63 of 100\n",
      "Running batch 64 of 100\n",
      "Running batch 65 of 100\n",
      "Running batch 66 of 100\n",
      "Running batch 67 of 100\n",
      "Running batch 68 of 100\n",
      "Running batch 69 of 100\n",
      "Running batch 70 of 100\n",
      "Running batch 71 of 100\n",
      "Running batch 72 of 100\n",
      "Running batch 73 of 100\n",
      "Running batch 74 of 100\n",
      "Running batch 75 of 100\n",
      "Running batch 76 of 100\n",
      "Running batch 77 of 100\n",
      "Running batch 78 of 100\n",
      "Running batch 79 of 100\n",
      "Running batch 80 of 100\n",
      "Running batch 81 of 100\n",
      "Running batch 82 of 100\n",
      "Running batch 83 of 100\n",
      "Running batch 84 of 100\n",
      "Running batch 85 of 100\n",
      "Running batch 86 of 100\n",
      "Running batch 87 of 100\n",
      "Running batch 88 of 100\n",
      "Running batch 89 of 100\n",
      "Running batch 90 of 100\n",
      "Running batch 91 of 100\n",
      "Running batch 92 of 100\n",
      "Running batch 93 of 100\n",
      "Running batch 94 of 100\n",
      "Running batch 95 of 100\n",
      "Running batch 96 of 100\n",
      "Running batch 97 of 100\n",
      "Running batch 98 of 100\n",
      "Running batch 99 of 100\n"
     ]
    }
   ],
   "source": [
    "data_set_size = 40\n",
    "number_gibbs_alternations = 1000\n",
    "# the model we will be `corrupting` the others with, in this case we are adding bars to the digit models\n",
    "corruption_model_name = \"bar\"\n",
    "\n",
    "def result_key(data_set_size, num_gibbs_alternations, model_name, corruption_name):\n",
    "    return '{}Size_{}nGibbs_{}Model_{}Corruption'.format(data_set_size, number_gibbs_alternations, model_name, corruption_name)\n",
    "\n",
    "def results_for_models(models, corruption_model_name, data_set_size, num_gibbs_alternations):\n",
    "   \n",
    "    results = {}\n",
    "    for model_name in models:\n",
    "        if model_name is not corruption_model_name:\n",
    "            key = result_key(data_set_size, number_gibbs_alternations, model_name, corruption_model_name)\n",
    "            logging.info(\"Getting result for {}\".format(model_name))\n",
    "            model_a = models[model_name]   \n",
    "            model_b = models[corruption_model_name]\n",
    "            model_a_data = model_a.visible[:data_set_size]#visibles that model_a was fit to. \n",
    "            model_b_data = model_b.visible[:data_set_size]#visibles that model_b was fit to. \n",
    "            r = Result(data_set_size, num_gibbs_alternations, model_a, model_b,model_a_data, model_b_data)\n",
    "            r.calculate_result()\n",
    "            results[key] = r\n",
    "    return results\n",
    "    \n",
    "results = results_for_models(models, corruption_model_name, data_set_size, number_gibbs_alternations)"
   ]
  },
  {
   "cell_type": "code",
   "execution_count": 24,
   "metadata": {
    "collapsed": true
   },
   "outputs": [
    {
     "data": {
      "image/png": "[encoded data removed]",
      "text/plain": [
       "<matplotlib.figure.Figure at 0x1160466a0>"
      ]
     },
     "metadata": {},
     "output_type": "display_data"
    },
    {
     "data": {
      "image/png": "[encoded data removed]",
      "text/plain": [
       "<matplotlib.figure.Figure at 0x115c6d5f8>"
      ]
     },
     "metadata": {},
     "output_type": "display_data"
    },
    {
     "data": {
      "image/png": "[encoded data removed]",
      "text/plain": [
       "<matplotlib.figure.Figure at 0x118008c50>"
      ]
     },
     "metadata": {},
     "output_type": "display_data"
    },
    {
     "data": {
      "image/png": "[encoded data removed]",
      "text/plain": [
       "<matplotlib.figure.Figure at 0x115ec4048>"
      ]
     },
     "metadata": {},
     "output_type": "display_data"
    },
    {
     "data": {
      "image/png": "[encoded data removed]",
      "text/plain": [
       "<matplotlib.figure.Figure at 0x11611e400>"
      ]
     },
     "metadata": {},
     "output_type": "display_data"
    },
    {
     "data": {
      "image/png": "[encoded data removed]",
      "text/plain": [
       "<matplotlib.figure.Figure at 0x118384860>"
      ]
     },
     "metadata": {},
     "output_type": "display_data"
    },
    {
     "data": {
      "image/png": "[encoded data removed]",
      "text/plain": [
       "<matplotlib.figure.Figure at 0x117f0e908>"
      ]
     },
     "metadata": {},
     "output_type": "display_data"
    },
    {
     "data": {
      "image/png": "[encoded data removed]",
      "text/plain": [
       "<matplotlib.figure.Figure at 0x117a757f0>"
      ]
     },
     "metadata": {},
     "output_type": "display_data"
    },
    {
     "data": {
      "image/png": "[encoded data removed]",
      "text/plain": [
       "<matplotlib.figure.Figure at 0x11856e588>"
      ]
     },
     "metadata": {},
     "output_type": "display_data"
    },
    {
     "data": {
      "image/png": "[encoded data removed]",
      "text/plain": [
       "<matplotlib.figure.Figure at 0x1179aa668>"
      ]
     },
     "metadata": {},
     "output_type": "display_data"
    },
    {
     "data": {
      "image/png": "[encoded data removed]",
      "text/plain": [
       "<matplotlib.figure.Figure at 0x11702c1d0>"
      ]
     },
     "metadata": {},
     "output_type": "display_data"
    }
   ],
   "source": [
    "for key in models:\n",
    "#     plotter.plot(results[key].composite)\n",
    "#     plotter.plot(results[key].visibles_for_stored_hidden(9)[0])\n",
    "#     plotter.plot(results[key].vis_van_a)\n",
    "    plotter.plot(models[key].visible[:40])\n"
   ]
  },
  {
   "cell_type": "markdown",
   "metadata": {},
   "source": [
    "#In the cell below #\n",
    "\n",
    "I have calculated in the previous cell the loglikelyhood score of the partitioned sampling and vanilla sampling technique image-wise. So I have a score for each image. I have done this for all the MNIST digits that have been 'corrupted' by the bar images. That is RBM's trained models 1 - 9 and an RBM trained on 2's and 3's\n",
    "\n",
    "The `wins` for a given model are where the partitioned scored better than the vanilla sampling technique\n",
    "\n",
    "Conversly, `losses` are images where the vanilla score better.\n",
    "\n",
    "Intuitively, `ties` is where they scored the same, which could only really occur when the correction would be zero, or ultimately cancelled out."
   ]
  },
  {
   "cell_type": "code",
   "execution_count": 3,
   "metadata": {
    "collapsed": false,
    "scrolled": false
   },
   "outputs": [
    {
     "name": "stderr",
     "output_type": "stream",
     "text": [
      "INFO:root:Plotting, win, lose and tie images for the 400Size_100nGibbs_fiveModel_barCorruption\n"
     ]
    },
    {
     "name": "stdout",
     "output_type": "stream",
     "text": [
      "Wins For Model A:115 plotting will only show 54 at maximum\n"
     ]
    },
    {
     "data": {
      "image/png": "[encoded data removed]",
      "text/plain": [
       "<matplotlib.figure.Figure at 0x1123662e8>"
      ]
     },
     "metadata": {},
     "output_type": "display_data"
    },
    {
     "name": "stdout",
     "output_type": "stream",
     "text": [
      "Losses For Model A: 62 plotting will only show 54 at maximum \n"
     ]
    },
    {
     "data": {
      "image/png": "[encoded data removed]",
      "text/plain": [
       "<matplotlib.figure.Figure at 0x115897d30>"
      ]
     },
     "metadata": {},
     "output_type": "display_data"
    },
    {
     "name": "stdout",
     "output_type": "stream",
     "text": [
      "Tie For Model A: 223 plotting will only show 54 at maximum \n"
     ]
    },
    {
     "data": {
      "image/png": "[encoded data removed]",
      "text/plain": [
       "<matplotlib.figure.Figure at 0x115744908>"
      ]
     },
     "metadata": {},
     "output_type": "display_data"
    },
    {
     "name": "stderr",
     "output_type": "stream",
     "text": [
      "INFO:root:Plotting, win, lose and tie images for the 400Size_100nGibbs_fourModel_barCorruption\n"
     ]
    },
    {
     "name": "stdout",
     "output_type": "stream",
     "text": [
      "Wins For Model A:196 plotting will only show 54 at maximum\n"
     ]
    },
    {
     "data": {
      "image/png": "[encoded data removed]",
      "text/plain": [
       "<matplotlib.figure.Figure at 0x115b8a208>"
      ]
     },
     "metadata": {},
     "output_type": "display_data"
    },
    {
     "name": "stdout",
     "output_type": "stream",
     "text": [
      "Losses For Model A: 94 plotting will only show 54 at maximum \n"
     ]
    },
    {
     "data": {
      "image/png": "[encoded data removed]",
      "text/plain": [
       "<matplotlib.figure.Figure at 0x1158bcf60>"
      ]
     },
     "metadata": {},
     "output_type": "display_data"
    },
    {
     "name": "stdout",
     "output_type": "stream",
     "text": [
      "Tie For Model A: 110 plotting will only show 54 at maximum \n"
     ]
    },
    {
     "data": {
      "image/png": "[encoded data removed]",
      "text/plain": [
       "<matplotlib.figure.Figure at 0x11615a240>"
      ]
     },
     "metadata": {},
     "output_type": "display_data"
    },
    {
     "name": "stderr",
     "output_type": "stream",
     "text": [
      "INFO:root:Plotting, win, lose and tie images for the 400Size_100nGibbs_sixModel_barCorruption\n"
     ]
    },
    {
     "name": "stdout",
     "output_type": "stream",
     "text": [
      "Wins For Model A:190 plotting will only show 54 at maximum\n"
     ]
    },
    {
     "data": {
      "image/png": "[encoded data removed]",
      "text/plain": [
       "<matplotlib.figure.Figure at 0x115788320>"
      ]
     },
     "metadata": {},
     "output_type": "display_data"
    },
    {
     "name": "stdout",
     "output_type": "stream",
     "text": [
      "Losses For Model A: 29 plotting will only show 54 at maximum \n"
     ]
    },
    {
     "data": {
      "image/png": "[encoded data removed]",
      "text/plain": [
       "<matplotlib.figure.Figure at 0x115793b70>"
      ]
     },
     "metadata": {},
     "output_type": "display_data"
    },
    {
     "name": "stdout",
     "output_type": "stream",
     "text": [
      "Tie For Model A: 181 plotting will only show 54 at maximum \n"
     ]
    },
    {
     "data": {
      "image/png": "[encoded data removed]",
      "text/plain": [
       "<matplotlib.figure.Figure at 0x1123668d0>"
      ]
     },
     "metadata": {},
     "output_type": "display_data"
    },
    {
     "name": "stderr",
     "output_type": "stream",
     "text": [
      "INFO:root:Plotting, win, lose and tie images for the 400Size_100nGibbs_sevenModel_barCorruption\n"
     ]
    },
    {
     "name": "stdout",
     "output_type": "stream",
     "text": [
      "Wins For Model A:204 plotting will only show 54 at maximum\n"
     ]
    },
    {
     "data": {
      "image/png": "[encoded data removed]",
      "text/plain": [
       "<matplotlib.figure.Figure at 0x115264f98>"
      ]
     },
     "metadata": {},
     "output_type": "display_data"
    },
    {
     "name": "stdout",
     "output_type": "stream",
     "text": [
      "Losses For Model A: 106 plotting will only show 54 at maximum \n"
     ]
    },
    {
     "data": {
      "image/png": "[encoded data removed]",
      "text/plain": [
       "<matplotlib.figure.Figure at 0x116169860>"
      ]
     },
     "metadata": {},
     "output_type": "display_data"
    },
    {
     "name": "stdout",
     "output_type": "stream",
     "text": [
      "Tie For Model A: 90 plotting will only show 54 at maximum \n"
     ]
    },
    {
     "data": {
      "image/png": "[encoded data removed]",
      "text/plain": [
       "<matplotlib.figure.Figure at 0x1153b99b0>"
      ]
     },
     "metadata": {},
     "output_type": "display_data"
    },
    {
     "name": "stderr",
     "output_type": "stream",
     "text": [
      "INFO:root:Plotting, win, lose and tie images for the 400Size_100nGibbs_oneModel_barCorruption\n"
     ]
    },
    {
     "name": "stdout",
     "output_type": "stream",
     "text": [
      "Wins For Model A:246 plotting will only show 54 at maximum\n"
     ]
    },
    {
     "name": "stderr",
     "output_type": "stream",
     "text": [
      "/Users/Max/Documents/Uni/400-Level/ENGR489/RBM/performance.py:120: RuntimeWarning: invalid value encountered in greater\n",
      "  win_a = np.compress((part_a > van_a), self.composite, axis = 0)\n",
      "/Users/Max/Documents/Uni/400-Level/ENGR489/RBM/performance.py:141: RuntimeWarning: invalid value encountered in less\n",
      "  win_a = np.compress((part_a < van_a), self.composite, axis = 0)\n"
     ]
    },
    {
     "data": {
      "image/png": "[encoded data removed]",
      "text/plain": [
       "<matplotlib.figure.Figure at 0x115e27a20>"
      ]
     },
     "metadata": {},
     "output_type": "display_data"
    },
    {
     "name": "stdout",
     "output_type": "stream",
     "text": [
      "Losses For Model A: 13 plotting will only show 54 at maximum \n"
     ]
    },
    {
     "data": {
      "image/png": "[encoded data removed]",
      "text/plain": [
       "<matplotlib.figure.Figure at 0x114d2b668>"
      ]
     },
     "metadata": {},
     "output_type": "display_data"
    },
    {
     "name": "stdout",
     "output_type": "stream",
     "text": [
      "Tie For Model A: 19 plotting will only show 54 at maximum \n"
     ]
    },
    {
     "data": {
      "image/png": "[encoded data removed]",
      "text/plain": [
       "<matplotlib.figure.Figure at 0x115414be0>"
      ]
     },
     "metadata": {},
     "output_type": "display_data"
    },
    {
     "name": "stderr",
     "output_type": "stream",
     "text": [
      "INFO:root:Plotting, win, lose and tie images for the 400Size_100nGibbs_two_threeModel_barCorruption\n"
     ]
    },
    {
     "name": "stdout",
     "output_type": "stream",
     "text": [
      "Wins For Model A:154 plotting will only show 54 at maximum\n"
     ]
    },
    {
     "data": {
      "image/png": "[encoded data removed]",
      "text/plain": [
       "<matplotlib.figure.Figure at 0x115040ba8>"
      ]
     },
     "metadata": {},
     "output_type": "display_data"
    },
    {
     "name": "stdout",
     "output_type": "stream",
     "text": [
      "Losses For Model A: 61 plotting will only show 54 at maximum \n"
     ]
    },
    {
     "data": {
      "image/png": "[encoded data removed]",
      "text/plain": [
       "<matplotlib.figure.Figure at 0x115760f98>"
      ]
     },
     "metadata": {},
     "output_type": "display_data"
    },
    {
     "name": "stdout",
     "output_type": "stream",
     "text": [
      "Tie For Model A: 185 plotting will only show 54 at maximum \n"
     ]
    },
    {
     "data": {
      "image/png": "[encoded data removed]",
      "text/plain": [
       "<matplotlib.figure.Figure at 0x114fb8d68>"
      ]
     },
     "metadata": {},
     "output_type": "display_data"
    },
    {
     "name": "stderr",
     "output_type": "stream",
     "text": [
      "INFO:root:Plotting, win, lose and tie images for the 400Size_100nGibbs_threeModel_barCorruption\n"
     ]
    },
    {
     "name": "stdout",
     "output_type": "stream",
     "text": [
      "Wins For Model A:296 plotting will only show 54 at maximum\n"
     ]
    },
    {
     "data": {
      "image/png": "[encoded data removed]",
      "text/plain": [
       "<matplotlib.figure.Figure at 0x114e3c978>"
      ]
     },
     "metadata": {},
     "output_type": "display_data"
    },
    {
     "name": "stdout",
     "output_type": "stream",
     "text": [
      "Losses For Model A: 66 plotting will only show 54 at maximum \n"
     ]
    },
    {
     "data": {
      "image/png": "[encoded data removed]",
      "text/plain": [
       "<matplotlib.figure.Figure at 0x114b34080>"
      ]
     },
     "metadata": {},
     "output_type": "display_data"
    },
    {
     "name": "stdout",
     "output_type": "stream",
     "text": [
      "Tie For Model A: 38 plotting will only show 54 at maximum \n"
     ]
    },
    {
     "data": {
      "image/png": "[encoded data removed]",
      "text/plain": [
       "<matplotlib.figure.Figure at 0x1159be4e0>"
      ]
     },
     "metadata": {},
     "output_type": "display_data"
    },
    {
     "name": "stderr",
     "output_type": "stream",
     "text": [
      "INFO:root:Plotting, win, lose and tie images for the 400Size_100nGibbs_eightModel_barCorruption\n"
     ]
    },
    {
     "name": "stdout",
     "output_type": "stream",
     "text": [
      "Wins For Model A:67 plotting will only show 54 at maximum\n"
     ]
    },
    {
     "data": {
      "image/png": "[encoded data removed]",
      "text/plain": [
       "<matplotlib.figure.Figure at 0x1157dc048>"
      ]
     },
     "metadata": {},
     "output_type": "display_data"
    },
    {
     "name": "stdout",
     "output_type": "stream",
     "text": [
      "Losses For Model A: 17 plotting will only show 54 at maximum \n"
     ]
    },
    {
     "data": {
      "image/png": "[encoded data removed]",
      "text/plain": [
       "<matplotlib.figure.Figure at 0x11541beb8>"
      ]
     },
     "metadata": {},
     "output_type": "display_data"
    },
    {
     "name": "stdout",
     "output_type": "stream",
     "text": [
      "Tie For Model A: 316 plotting will only show 54 at maximum \n"
     ]
    },
    {
     "data": {
      "image/png": "[encoded data removed]",
      "text/plain": [
       "<matplotlib.figure.Figure at 0x115606198>"
      ]
     },
     "metadata": {},
     "output_type": "display_data"
    },
    {
     "name": "stderr",
     "output_type": "stream",
     "text": [
      "INFO:root:Plotting, win, lose and tie images for the 400Size_100nGibbs_twoModel_barCorruption\n"
     ]
    },
    {
     "name": "stdout",
     "output_type": "stream",
     "text": [
      "Wins For Model A:166 plotting will only show 54 at maximum\n"
     ]
    },
    {
     "data": {
      "image/png": "[encoded data removed]",
      "text/plain": [
       "<matplotlib.figure.Figure at 0x11522acc0>"
      ]
     },
     "metadata": {},
     "output_type": "display_data"
    },
    {
     "name": "stdout",
     "output_type": "stream",
     "text": [
      "Losses For Model A: 92 plotting will only show 54 at maximum \n"
     ]
    },
    {
     "data": {
      "image/png": "[encoded data removed]",
      "text/plain": [
       "<matplotlib.figure.Figure at 0x115552eb8>"
      ]
     },
     "metadata": {},
     "output_type": "display_data"
    },
    {
     "name": "stdout",
     "output_type": "stream",
     "text": [
      "Tie For Model A: 142 plotting will only show 54 at maximum \n"
     ]
    },
    {
     "data": {
      "image/png": "[encoded data removed]",
      "text/plain": [
       "<matplotlib.figure.Figure at 0x1160fd400>"
      ]
     },
     "metadata": {},
     "output_type": "display_data"
    },
    {
     "name": "stderr",
     "output_type": "stream",
     "text": [
      "INFO:root:Plotting, win, lose and tie images for the 400Size_100nGibbs_nineModel_barCorruption\n"
     ]
    },
    {
     "name": "stdout",
     "output_type": "stream",
     "text": [
      "Wins For Model A:183 plotting will only show 54 at maximum\n"
     ]
    },
    {
     "data": {
      "image/png": "[encoded data removed]",
      "text/plain": [
       "<matplotlib.figure.Figure at 0x114c21dd8>"
      ]
     },
     "metadata": {},
     "output_type": "display_data"
    },
    {
     "name": "stdout",
     "output_type": "stream",
     "text": [
      "Losses For Model A: 42 plotting will only show 54 at maximum \n"
     ]
    },
    {
     "data": {
      "image/png": "[encoded data removed]",
      "text/plain": [
       "<matplotlib.figure.Figure at 0x114ece470>"
      ]
     },
     "metadata": {},
     "output_type": "display_data"
    },
    {
     "name": "stdout",
     "output_type": "stream",
     "text": [
      "Tie For Model A: 175 plotting will only show 54 at maximum \n"
     ]
    },
    {
     "data": {
      "image/png": "[encoded data removed]",
      "text/plain": [
       "<matplotlib.figure.Figure at 0x115061f60>"
      ]
     },
     "metadata": {},
     "output_type": "display_data"
    }
   ],
   "source": [
    "for key in results:\n",
    "    logging.info(\"Plotting, win, lose and tie images for the {}\".format(key))\n",
    "    results[key].plot_various_images()"
   ]
  },
  {
   "cell_type": "markdown",
   "metadata": {},
   "source": [
    "#Thoughts#\n",
    "\n",
    "So on a dataset of size 50, with 100 gibbs alterations we see in all cases that for the digit model, 1,2,3,..,9 that the partitioned sampling technique does either better or the same more often than the vanilla does. Let's try some different configurations."
   ]
  },
  {
   "cell_type": "code",
   "execution_count": 4,
   "metadata": {
    "collapsed": false
   },
   "outputs": [
    {
     "name": "stderr",
     "output_type": "stream",
     "text": [
      "INFO:root:Getting result for four\n"
     ]
    },
    {
     "name": "stdout",
     "output_type": "stream",
     "text": [
      "Constructing Composite Dataset\n",
      "Generating Vanilla Samples\n",
      "Generating Partitioned Reconstructions (This may take a while)\n",
      "Running batch 0 of 50\n",
      "Running batch 1 of 50\n",
      "Running batch 2 of 50\n",
      "Running batch 3 of 50\n",
      "Running batch 4 of 50\n",
      "Running batch 5 of 50\n",
      "Running batch 6 of 50\n",
      "Running batch 7 of 50\n",
      "Running batch 8 of 50\n",
      "Running batch 9 of 50\n",
      "Running batch 10 of 50\n",
      "Running batch 11 of 50\n",
      "Running batch 12 of 50\n",
      "Running batch 13 of 50\n",
      "Running batch 14 of 50\n",
      "Running batch 15 of 50\n",
      "Running batch 16 of 50\n",
      "Running batch 17 of 50\n",
      "Running batch 18 of 50\n",
      "Running batch 19 of 50\n",
      "Running batch 20 of 50\n",
      "Running batch 21 of 50\n",
      "Running batch 22 of 50\n",
      "Running batch 23 of 50\n",
      "Running batch 24 of 50\n",
      "Running batch 25 of 50\n",
      "Running batch 26 of 50\n",
      "Running batch 27 of 50\n",
      "Running batch 28 of 50\n",
      "Running batch 29 of 50\n",
      "Running batch 30 of 50\n",
      "Running batch 31 of 50\n",
      "Running batch 32 of 50\n",
      "Running batch 33 of 50\n",
      "Running batch 34 of 50\n",
      "Running batch 35 of 50\n",
      "Running batch 36 of 50\n",
      "Running batch 37 of 50\n",
      "Running batch 38 of 50\n",
      "Running batch 39 of 50\n",
      "Running batch 40 of 50\n",
      "Running batch 41 of 50\n",
      "Running batch 42 of 50\n",
      "Running batch 43 of 50\n",
      "Running batch 44 of 50\n",
      "Running batch 45 of 50\n",
      "Running batch 46 of 50\n",
      "Running batch 47 of 50\n",
      "Running batch 48 of 50\n",
      "Running batch 49 of 50"
     ]
    },
    {
     "name": "stderr",
     "output_type": "stream",
     "text": [
      "INFO:root:Getting result for seven\n"
     ]
    },
    {
     "name": "stdout",
     "output_type": "stream",
     "text": [
      "\n",
      "Constructing Composite Dataset\n",
      "Generating Vanilla Samples\n",
      "Generating Partitioned Reconstructions (This may take a while)\n",
      "Running batch 0 of 50\n",
      "Running batch 1 of 50\n",
      "Running batch 2 of 50\n",
      "Running batch 3 of 50\n",
      "Running batch 4 of 50\n",
      "Running batch 5 of 50\n",
      "Running batch 6 of 50\n",
      "Running batch 7 of 50\n",
      "Running batch 8 of 50\n",
      "Running batch 9 of 50\n",
      "Running batch 10 of 50\n",
      "Running batch 11 of 50\n",
      "Running batch 12 of 50\n",
      "Running batch 13 of 50\n",
      "Running batch 14 of 50\n",
      "Running batch 15 of 50\n",
      "Running batch 16 of 50\n",
      "Running batch 17 of 50\n",
      "Running batch 18 of 50\n",
      "Running batch 19 of 50\n",
      "Running batch 20 of 50\n",
      "Running batch 21 of 50\n",
      "Running batch 22 of 50\n",
      "Running batch 23 of 50\n",
      "Running batch 24 of 50\n",
      "Running batch 25 of 50\n",
      "Running batch 26 of 50\n",
      "Running batch 27 of 50\n",
      "Running batch 28 of 50\n",
      "Running batch 29 of 50\n",
      "Running batch 30 of 50\n",
      "Running batch 31 of 50\n",
      "Running batch 32 of 50\n",
      "Running batch 33 of 50\n",
      "Running batch 34 of 50\n",
      "Running batch 35 of 50\n",
      "Running batch 36 of 50\n",
      "Running batch 37 of 50\n",
      "Running batch 38 of 50\n",
      "Running batch 39 of 50\n",
      "Running batch 40 of 50\n",
      "Running batch 41 of 50\n",
      "Running batch 42 of 50\n",
      "Running batch 43 of 50\n",
      "Running batch 44 of 50\n",
      "Running batch 45 of 50\n",
      "Running batch 46 of 50\n",
      "Running batch 47 of 50\n",
      "Running batch 48 of 50\n",
      "Running batch 49 of 50"
     ]
    },
    {
     "name": "stderr",
     "output_type": "stream",
     "text": [
      "INFO:root:Getting result for three\n"
     ]
    },
    {
     "name": "stdout",
     "output_type": "stream",
     "text": [
      "\n",
      "Constructing Composite Dataset\n",
      "Generating Vanilla Samples\n",
      "Generating Partitioned Reconstructions (This may take a while)\n",
      "Running batch 0 of 50\n",
      "Running batch 1 of 50\n",
      "Running batch 2 of 50\n",
      "Running batch 3 of 50\n",
      "Running batch 4 of 50\n",
      "Running batch 5 of 50\n",
      "Running batch 6 of 50\n",
      "Running batch 7 of 50\n",
      "Running batch 8 of 50\n",
      "Running batch 9 of 50\n",
      "Running batch 10 of 50\n",
      "Running batch 11 of 50\n",
      "Running batch 12 of 50\n",
      "Running batch 13 of 50\n",
      "Running batch 14 of 50\n",
      "Running batch 15 of 50\n",
      "Running batch 16 of 50\n",
      "Running batch 17 of 50\n",
      "Running batch 18 of 50\n",
      "Running batch 19 of 50\n",
      "Running batch 20 of 50\n",
      "Running batch 21 of 50\n",
      "Running batch 22 of 50\n",
      "Running batch 23 of 50\n",
      "Running batch 24 of 50\n",
      "Running batch 25 of 50\n",
      "Running batch 26 of 50\n",
      "Running batch 27 of 50\n",
      "Running batch 28 of 50\n",
      "Running batch 29 of 50\n",
      "Running batch 30 of 50\n",
      "Running batch 31 of 50\n",
      "Running batch 32 of 50\n",
      "Running batch 33 of 50\n",
      "Running batch 34 of 50\n",
      "Running batch 35 of 50\n",
      "Running batch 36 of 50\n",
      "Running batch 37 of 50\n",
      "Running batch 38 of 50\n",
      "Running batch 39 of 50\n",
      "Running batch 40 of 50\n",
      "Running batch 41 of 50\n",
      "Running batch 42 of 50\n",
      "Running batch 43 of 50\n",
      "Running batch 44 of 50\n",
      "Running batch 45 of 50\n",
      "Running batch 46 of 50\n",
      "Running batch 47 of 50\n",
      "Running batch 48 of 50\n",
      "Running batch 49 of 50"
     ]
    },
    {
     "name": "stderr",
     "output_type": "stream",
     "text": [
      "INFO:root:Getting result for two_three\n"
     ]
    },
    {
     "name": "stdout",
     "output_type": "stream",
     "text": [
      "\n",
      "Constructing Composite Dataset\n",
      "Generating Vanilla Samples\n",
      "Generating Partitioned Reconstructions (This may take a while)\n",
      "Running batch 0 of 50\n",
      "Running batch 1 of 50\n",
      "Running batch 2 of 50\n",
      "Running batch 3 of 50\n",
      "Running batch 4 of 50\n",
      "Running batch 5 of 50\n",
      "Running batch 6 of 50\n",
      "Running batch 7 of 50\n",
      "Running batch 8 of 50\n",
      "Running batch 9 of 50\n",
      "Running batch 10 of 50\n",
      "Running batch 11 of 50\n",
      "Running batch 12 of 50\n",
      "Running batch 13 of 50\n",
      "Running batch 14 of 50\n",
      "Running batch 15 of 50\n",
      "Running batch 16 of 50\n",
      "Running batch 17 of 50\n",
      "Running batch 18 of 50\n",
      "Running batch 19 of 50\n",
      "Running batch 20 of 50\n",
      "Running batch 21 of 50\n",
      "Running batch 22 of 50\n",
      "Running batch 23 of 50\n",
      "Running batch 24 of 50\n",
      "Running batch 25 of 50\n",
      "Running batch 26 of 50\n",
      "Running batch 27 of 50\n",
      "Running batch 28 of 50\n",
      "Running batch 29 of 50\n",
      "Running batch 30 of 50\n",
      "Running batch 31 of 50\n",
      "Running batch 32 of 50\n",
      "Running batch 33 of 50\n",
      "Running batch 34 of 50\n",
      "Running batch 35 of 50\n",
      "Running batch 36 of 50\n",
      "Running batch 37 of 50\n",
      "Running batch 38 of 50\n",
      "Running batch 39 of 50\n",
      "Running batch 40 of 50\n",
      "Running batch 41 of 50\n",
      "Running batch 42 of 50\n",
      "Running batch 43 of 50\n",
      "Running batch 44 of 50\n",
      "Running batch 45 of 50\n",
      "Running batch 46 of 50\n",
      "Running batch 47 of 50\n",
      "Running batch 48 of 50\n",
      "Running batch 49 of 50"
     ]
    },
    {
     "name": "stderr",
     "output_type": "stream",
     "text": [
      "INFO:root:Getting result for nine\n"
     ]
    },
    {
     "name": "stdout",
     "output_type": "stream",
     "text": [
      "\n",
      "Constructing Composite Dataset\n",
      "Generating Vanilla Samples\n",
      "Generating Partitioned Reconstructions (This may take a while)\n",
      "Running batch 0 of 50\n",
      "Running batch 1 of 50\n",
      "Running batch 2 of 50\n",
      "Running batch 3 of 50\n",
      "Running batch 4 of 50\n",
      "Running batch 5 of 50\n",
      "Running batch 6 of 50\n",
      "Running batch 7 of 50\n",
      "Running batch 8 of 50\n",
      "Running batch 9 of 50\n",
      "Running batch 10 of 50\n",
      "Running batch 11 of 50\n",
      "Running batch 12 of 50\n",
      "Running batch 13 of 50\n",
      "Running batch 14 of 50\n",
      "Running batch 15 of 50\n",
      "Running batch 16 of 50\n",
      "Running batch 17 of 50\n",
      "Running batch 18 of 50\n",
      "Running batch 19 of 50\n",
      "Running batch 20 of 50\n",
      "Running batch 21 of 50\n",
      "Running batch 22 of 50\n",
      "Running batch 23 of 50\n",
      "Running batch 24 of 50\n",
      "Running batch 25 of 50\n",
      "Running batch 26 of 50\n",
      "Running batch 27 of 50\n",
      "Running batch 28 of 50\n",
      "Running batch 29 of 50\n",
      "Running batch 30 of 50\n",
      "Running batch 31 of 50\n",
      "Running batch 32 of 50\n",
      "Running batch 33 of 50\n",
      "Running batch 34 of 50\n",
      "Running batch 35 of 50\n",
      "Running batch 36 of 50\n",
      "Running batch 37 of 50\n",
      "Running batch 38 of 50\n",
      "Running batch 39 of 50\n",
      "Running batch 40 of 50\n",
      "Running batch 41 of 50\n",
      "Running batch 42 of 50\n",
      "Running batch 43 of 50\n",
      "Running batch 44 of 50\n",
      "Running batch 45 of 50\n",
      "Running batch 46 of 50\n",
      "Running batch 47 of 50\n",
      "Running batch 48 of 50\n",
      "Running batch 49 of 50"
     ]
    },
    {
     "name": "stderr",
     "output_type": "stream",
     "text": [
      "INFO:root:Getting result for six\n"
     ]
    },
    {
     "name": "stdout",
     "output_type": "stream",
     "text": [
      "\n",
      "Constructing Composite Dataset\n",
      "Generating Vanilla Samples\n",
      "Generating Partitioned Reconstructions (This may take a while)\n",
      "Running batch 0 of 50\n",
      "Running batch 1 of 50\n",
      "Running batch 2 of 50\n",
      "Running batch 3 of 50\n",
      "Running batch 4 of 50\n",
      "Running batch 5 of 50\n",
      "Running batch 6 of 50\n",
      "Running batch 7 of 50\n",
      "Running batch 8 of 50\n",
      "Running batch 9 of 50\n",
      "Running batch 10 of 50\n",
      "Running batch 11 of 50\n",
      "Running batch 12 of 50\n",
      "Running batch 13 of 50\n",
      "Running batch 14 of 50\n",
      "Running batch 15 of 50\n",
      "Running batch 16 of 50\n",
      "Running batch 17 of 50\n",
      "Running batch 18 of 50\n",
      "Running batch 19 of 50\n",
      "Running batch 20 of 50\n",
      "Running batch 21 of 50\n",
      "Running batch 22 of 50\n",
      "Running batch 23 of 50\n",
      "Running batch 24 of 50\n",
      "Running batch 25 of 50\n",
      "Running batch 26 of 50\n",
      "Running batch 27 of 50\n",
      "Running batch 28 of 50\n",
      "Running batch 29 of 50\n",
      "Running batch 30 of 50\n",
      "Running batch 31 of 50\n",
      "Running batch 32 of 50\n",
      "Running batch 33 of 50\n",
      "Running batch 34 of 50\n",
      "Running batch 35 of 50\n",
      "Running batch 36 of 50\n",
      "Running batch 37 of 50\n",
      "Running batch 38 of 50\n",
      "Running batch 39 of 50\n",
      "Running batch 40 of 50\n",
      "Running batch 41 of 50\n",
      "Running batch 42 of 50\n",
      "Running batch 43 of 50\n",
      "Running batch 44 of 50\n",
      "Running batch 45 of 50\n",
      "Running batch 46 of 50\n",
      "Running batch 47 of 50\n",
      "Running batch 48 of 50\n",
      "Running batch 49 of 50"
     ]
    },
    {
     "name": "stderr",
     "output_type": "stream",
     "text": [
      "INFO:root:Getting result for two\n"
     ]
    },
    {
     "name": "stdout",
     "output_type": "stream",
     "text": [
      "\n",
      "Constructing Composite Dataset\n",
      "Generating Vanilla Samples\n",
      "Generating Partitioned Reconstructions (This may take a while)\n",
      "Running batch 0 of 50\n",
      "Running batch 1 of 50\n",
      "Running batch 2 of 50\n",
      "Running batch 3 of 50\n",
      "Running batch 4 of 50\n",
      "Running batch 5 of 50\n",
      "Running batch 6 of 50\n",
      "Running batch 7 of 50\n",
      "Running batch 8 of 50\n",
      "Running batch 9 of 50\n",
      "Running batch 10 of 50\n",
      "Running batch 11 of 50\n",
      "Running batch 12 of 50\n",
      "Running batch 13 of 50\n",
      "Running batch 14 of 50\n",
      "Running batch 15 of 50\n",
      "Running batch 16 of 50\n",
      "Running batch 17 of 50\n",
      "Running batch 18 of 50\n",
      "Running batch 19 of 50\n",
      "Running batch 20 of 50\n",
      "Running batch 21 of 50\n",
      "Running batch 22 of 50\n",
      "Running batch 23 of 50\n",
      "Running batch 24 of 50\n",
      "Running batch 25 of 50\n",
      "Running batch 26 of 50\n",
      "Running batch 27 of 50\n",
      "Running batch 28 of 50\n",
      "Running batch 29 of 50\n",
      "Running batch 30 of 50\n",
      "Running batch 31 of 50\n",
      "Running batch 32 of 50\n",
      "Running batch 33 of 50\n",
      "Running batch 34 of 50\n",
      "Running batch 35 of 50\n",
      "Running batch 36 of 50\n",
      "Running batch 37 of 50\n",
      "Running batch 38 of 50\n",
      "Running batch 39 of 50\n",
      "Running batch 40 of 50\n",
      "Running batch 41 of 50\n",
      "Running batch 42 of 50\n",
      "Running batch 43 of 50\n",
      "Running batch 44 of 50\n",
      "Running batch 45 of 50\n",
      "Running batch 46 of 50\n",
      "Running batch 47 of 50\n",
      "Running batch 48 of 50\n",
      "Running batch 49 of 50"
     ]
    },
    {
     "name": "stderr",
     "output_type": "stream",
     "text": [
      "INFO:root:Getting result for eight\n"
     ]
    },
    {
     "name": "stdout",
     "output_type": "stream",
     "text": [
      "\n",
      "Constructing Composite Dataset\n",
      "Generating Vanilla Samples\n",
      "Generating Partitioned Reconstructions (This may take a while)\n",
      "Running batch 0 of 50\n",
      "Running batch 1 of 50\n",
      "Running batch 2 of 50\n",
      "Running batch 3 of 50\n",
      "Running batch 4 of 50\n",
      "Running batch 5 of 50\n",
      "Running batch 6 of 50\n",
      "Running batch 7 of 50\n",
      "Running batch 8 of 50\n",
      "Running batch 9 of 50\n",
      "Running batch 10 of 50\n",
      "Running batch 11 of 50\n",
      "Running batch 12 of 50\n",
      "Running batch 13 of 50\n",
      "Running batch 14 of 50\n",
      "Running batch 15 of 50\n",
      "Running batch 16 of 50\n",
      "Running batch 17 of 50\n",
      "Running batch 18 of 50\n",
      "Running batch 19 of 50\n",
      "Running batch 20 of 50\n",
      "Running batch 21 of 50\n",
      "Running batch 22 of 50\n",
      "Running batch 23 of 50\n",
      "Running batch 24 of 50\n",
      "Running batch 25 of 50\n",
      "Running batch 26 of 50\n",
      "Running batch 27 of 50\n",
      "Running batch 28 of 50\n",
      "Running batch 29 of 50\n",
      "Running batch 30 of 50\n",
      "Running batch 31 of 50\n",
      "Running batch 32 of 50\n",
      "Running batch 33 of 50\n",
      "Running batch 34 of 50\n",
      "Running batch 35 of 50\n",
      "Running batch 36 of 50\n",
      "Running batch 37 of 50\n",
      "Running batch 38 of 50\n",
      "Running batch 39 of 50\n",
      "Running batch 40 of 50\n",
      "Running batch 41 of 50\n",
      "Running batch 42 of 50\n",
      "Running batch 43 of 50\n",
      "Running batch 44 of 50\n",
      "Running batch 45 of 50\n",
      "Running batch 46 of 50\n",
      "Running batch 47 of 50\n",
      "Running batch 48 of 50\n",
      "Running batch 49 of 50"
     ]
    },
    {
     "name": "stderr",
     "output_type": "stream",
     "text": [
      "INFO:root:Getting result for one\n"
     ]
    },
    {
     "name": "stdout",
     "output_type": "stream",
     "text": [
      "\n",
      "Constructing Composite Dataset\n",
      "Generating Vanilla Samples\n",
      "Generating Partitioned Reconstructions (This may take a while)\n",
      "Running batch 0 of 50\n",
      "Running batch 1 of 50\n",
      "Running batch 2 of 50\n",
      "Running batch 3 of 50\n",
      "Running batch 4 of 50\n",
      "Running batch 5 of 50\n",
      "Running batch 6 of 50\n",
      "Running batch 7 of 50\n",
      "Running batch 8 of 50\n",
      "Running batch 9 of 50\n",
      "Running batch 10 of 50\n",
      "Running batch 11 of 50\n",
      "Running batch 12 of 50\n",
      "Running batch 13 of 50\n",
      "Running batch 14 of 50\n",
      "Running batch 15 of 50\n",
      "Running batch 16 of 50\n",
      "Running batch 17 of 50\n",
      "Running batch 18 of 50\n",
      "Running batch 19 of 50\n",
      "Running batch 20 of 50\n",
      "Running batch 21 of 50\n",
      "Running batch 22 of 50\n",
      "Running batch 23 of 50\n",
      "Running batch 24 of 50\n",
      "Running batch 25 of 50\n",
      "Running batch 26 of 50\n",
      "Running batch 27 of 50\n",
      "Running batch 28 of 50\n",
      "Running batch 29 of 50\n",
      "Running batch 30 of 50\n",
      "Running batch 31 of 50\n",
      "Running batch 32 of 50\n",
      "Running batch 33 of 50\n",
      "Running batch 34 of 50\n",
      "Running batch 35 of 50\n",
      "Running batch 36 of 50\n",
      "Running batch 37 of 50\n",
      "Running batch 38 of 50\n",
      "Running batch 39 of 50\n",
      "Running batch 40 of 50\n",
      "Running batch 41 of 50\n",
      "Running batch 42 of 50\n",
      "Running batch 43 of 50\n",
      "Running batch 44 of 50\n",
      "Running batch 45 of 50\n",
      "Running batch 46 of 50\n",
      "Running batch 47 of 50\n",
      "Running batch 48 of 50\n",
      "Running batch 49 of 50"
     ]
    },
    {
     "name": "stderr",
     "output_type": "stream",
     "text": [
      "/Users/Max/Documents/Uni/400-Level/ENGR489/RBM/performance.py:13: RuntimeWarning: divide by zero encountered in log\n",
      "  score = (target * np.log(sample)) + ((1 - target) * np.log((1 - sample)))\n",
      "/Users/Max/Documents/Uni/400-Level/ENGR489/RBM/performance.py:13: RuntimeWarning: invalid value encountered in multiply\n",
      "  score = (target * np.log(sample)) + ((1 - target) * np.log((1 - sample)))\n",
      "INFO:root:Getting result for five\n"
     ]
    },
    {
     "name": "stdout",
     "output_type": "stream",
     "text": [
      "\n",
      "Constructing Composite Dataset\n",
      "Generating Vanilla Samples\n",
      "Generating Partitioned Reconstructions (This may take a while)\n",
      "Running batch 0 of 50\n",
      "Running batch 1 of 50\n",
      "Running batch 2 of 50\n",
      "Running batch 3 of 50\n",
      "Running batch 4 of 50\n",
      "Running batch 5 of 50\n",
      "Running batch 6 of 50\n",
      "Running batch 7 of 50\n",
      "Running batch 8 of 50\n",
      "Running batch 9 of 50\n",
      "Running batch 10 of 50\n",
      "Running batch 11 of 50\n",
      "Running batch 12 of 50\n",
      "Running batch 13 of 50\n",
      "Running batch 14 of 50\n",
      "Running batch 15 of 50\n",
      "Running batch 16 of 50\n",
      "Running batch 17 of 50\n",
      "Running batch 18 of 50\n",
      "Running batch 19 of 50\n",
      "Running batch 20 of 50\n",
      "Running batch 21 of 50\n",
      "Running batch 22 of 50\n",
      "Running batch 23 of 50\n",
      "Running batch 24 of 50\n",
      "Running batch 25 of 50\n",
      "Running batch 26 of 50\n",
      "Running batch 27 of 50\n",
      "Running batch 28 of 50\n",
      "Running batch 29 of 50\n",
      "Running batch 30 of 50\n",
      "Running batch 31 of 50\n",
      "Running batch 32 of 50\n",
      "Running batch 33 of 50\n",
      "Running batch 34 of 50\n",
      "Running batch 35 of 50\n",
      "Running batch 36 of 50\n",
      "Running batch 37 of 50\n",
      "Running batch 38 of 50\n",
      "Running batch 39 of 50\n",
      "Running batch 40 of 50\n",
      "Running batch 41 of 50\n",
      "Running batch 42 of 50\n",
      "Running batch 43 of 50\n",
      "Running batch 44 of 50\n",
      "Running batch 45 of 50\n",
      "Running batch 46 of 50\n",
      "Running batch 47 of 50\n",
      "Running batch 48 of 50\n",
      "Running batch 49 of 50\n"
     ]
    }
   ],
   "source": [
    "results.update(results_for_models(models, corruption_model_name, 400, 500))"
   ]
  },
  {
   "cell_type": "markdown",
   "metadata": {
    "collapsed": true
   },
   "source": [
    "results.update(results_for_models(models, corruption_model_name, 10, 1))"
   ]
  },
  {
   "cell_type": "code",
   "execution_count": 6,
   "metadata": {
    "collapsed": false
   },
   "outputs": [
    {
     "data": {
      "text/plain": [
       "{'10Size_100nGibbs_eightModel_barCorruption': <performance.Result at 0x10fd90940>,\n",
       " '10Size_100nGibbs_fiveModel_barCorruption': <performance.Result at 0x1161b90b8>,\n",
       " '10Size_100nGibbs_fourModel_barCorruption': <performance.Result at 0x10fd907b8>,\n",
       " '10Size_100nGibbs_nineModel_barCorruption': <performance.Result at 0x10fd90780>,\n",
       " '10Size_100nGibbs_oneModel_barCorruption': <performance.Result at 0x10fd90470>,\n",
       " '10Size_100nGibbs_sevenModel_barCorruption': <performance.Result at 0x10fd909b0>,\n",
       " '10Size_100nGibbs_sixModel_barCorruption': <performance.Result at 0x10fd90be0>,\n",
       " '10Size_100nGibbs_threeModel_barCorruption': <performance.Result at 0x10fd90b00>,\n",
       " '10Size_100nGibbs_twoModel_barCorruption': <performance.Result at 0x10fd905c0>,\n",
       " '10Size_100nGibbs_two_threeModel_barCorruption': <performance.Result at 0x10fd906a0>,\n",
       " '400Size_100nGibbs_eightModel_barCorruption': <performance.Result at 0x115b29a20>,\n",
       " '400Size_100nGibbs_fiveModel_barCorruption': <performance.Result at 0x115b191d0>,\n",
       " '400Size_100nGibbs_fourModel_barCorruption': <performance.Result at 0x1123660f0>,\n",
       " '400Size_100nGibbs_nineModel_barCorruption': <performance.Result at 0x1158251d0>,\n",
       " '400Size_100nGibbs_oneModel_barCorruption': <performance.Result at 0x115b29128>,\n",
       " '400Size_100nGibbs_sevenModel_barCorruption': <performance.Result at 0x115822eb8>,\n",
       " '400Size_100nGibbs_sixModel_barCorruption': <performance.Result at 0x115b2b080>,\n",
       " '400Size_100nGibbs_threeModel_barCorruption': <performance.Result at 0x114d88080>,\n",
       " '400Size_100nGibbs_twoModel_barCorruption': <performance.Result at 0x115b2e9e8>,\n",
       " '400Size_100nGibbs_two_threeModel_barCorruption': <performance.Result at 0x115848d68>}"
      ]
     },
     "execution_count": 6,
     "metadata": {},
     "output_type": "execute_result"
    }
   ],
   "source": [
    "results"
   ]
  },
  {
   "cell_type": "code",
   "execution_count": 2,
   "metadata": {
    "collapsed": false
   },
   "outputs": [
    {
     "ename": "FileNotFoundError",
     "evalue": "[Errno 2] No such file or directory: 'results_dict'",
     "output_type": "error",
     "traceback": [
      "\u001b[0;31m---------------------------------------------------------------------------\u001b[0m",
      "\u001b[0;31mFileNotFoundError\u001b[0m                         Traceback (most recent call last)",
      "\u001b[0;32m<ipython-input-2-17b5063f203f>\u001b[0m in \u001b[0;36m<module>\u001b[0;34m()\u001b[0m\n\u001b[1;32m      1\u001b[0m \u001b[0;31m# with open('results_dict', 'wb') as f3le:\u001b[0m\u001b[0;34m\u001b[0m\u001b[0;34m\u001b[0m\u001b[0m\n\u001b[1;32m      2\u001b[0m \u001b[0;31m#     pickle.dump(results,f3le, protocol = None)\u001b[0m\u001b[0;34m\u001b[0m\u001b[0;34m\u001b[0m\u001b[0m\n\u001b[0;32m----> 3\u001b[0;31m \u001b[0;32mwith\u001b[0m \u001b[0mopen\u001b[0m\u001b[0;34m(\u001b[0m\u001b[0;34m'results_dict'\u001b[0m\u001b[0;34m,\u001b[0m \u001b[0;34m'rb'\u001b[0m\u001b[0;34m)\u001b[0m \u001b[0;32mas\u001b[0m \u001b[0mf4le\u001b[0m\u001b[0;34m:\u001b[0m\u001b[0;34m\u001b[0m\u001b[0m\n\u001b[0m\u001b[1;32m      4\u001b[0m     \u001b[0mresults\u001b[0m \u001b[0;34m=\u001b[0m \u001b[0mpickle\u001b[0m\u001b[0;34m.\u001b[0m\u001b[0mload\u001b[0m\u001b[0;34m(\u001b[0m\u001b[0mf4le\u001b[0m\u001b[0;34m)\u001b[0m\u001b[0;34m\u001b[0m\u001b[0m\n",
      "\u001b[0;31mFileNotFoundError\u001b[0m: [Errno 2] No such file or directory: 'results_dict'"
     ]
    }
   ],
   "source": [
    "# with open('results_dict', 'wb') as f3le:\n",
    "#     pickle.dump(results,f3le, protocol = None)\n",
    "with open('results_dict', 'rb') as f4le:\n",
    "    results = pickle.load(f4le)"
   ]
  },
  {
   "cell_type": "code",
   "execution_count": null,
   "metadata": {
    "collapsed": false
   },
   "outputs": [],
   "source": [
    "# for key in results:\n",
    "#     if key.startswith('400'):\n",
    "#         logging.info(\"Results for hiddens\")\n",
    "#         r = results[key].stored_hiddens\n",
    "#         for i in range(len(r)):\n",
    "#             print(results[key].imagewise_score())\n",
    "            "
   ]
  },
  {
   "cell_type": "code",
   "execution_count": null,
   "metadata": {
    "collapsed": true
   },
   "outputs": [],
   "source": []
  }
 ],
 "metadata": {
  "kernelspec": {
   "display_name": "Python 3",
   "language": "python",
   "name": "python3"
  },
  "language_info": {
   "codemirror_mode": {
    "name": "ipython",
    "version": 3
   },
   "file_extension": ".py",
   "mimetype": "text/x-python",
   "name": "python",
   "nbconvert_exporter": "python",
   "pygments_lexer": "ipython3",
   "version": "3.4.3"
  }
 },
 "nbformat": 4,
 "nbformat_minor": 0
}
