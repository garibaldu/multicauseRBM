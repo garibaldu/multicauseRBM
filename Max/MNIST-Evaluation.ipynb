{
 "cells": [
  {
   "cell_type": "code",
   "execution_count": 1,
   "metadata": {
    "collapsed": true
   },
   "outputs": [],
   "source": [
    "from scipy.special import expit\n",
    "from rbmpy.rbm import RBM\n",
    "from rbmpy.sampler import DirtyCorrectionMulDimSampler,VanillaSampler,ContinuousSampler,ContinuousApproxSampler, ContinuousApproxMulDimSampler, ApproximatedSampler, LayerWiseApproxSampler,ApproximatedMulDimSampler\n",
    "from rbmpy.trainer import VanillaTrainier\n",
    "from rbmpy.performance import Result\n",
    "import numpy as np\n",
    "import rbmpy.datasets, rbmpy.performance, rbmpy.plotter, pickle, rbmpy.rbm, os, logging, rbmpy.sampler,math\n",
    "import math\n",
    "from rbmpy.rbm import weights_into_hiddens\n",
    "from rbmpy.progress import Progress\n",
    "\n",
    "import rbmpy.plotter as pp\n",
    "from numpy import newaxis\n",
    "from collections import Counter\n",
    "\n",
    "import matplotlib.pyplot as plt\n",
    "import matplotlib.image as mpimg\n",
    "\n",
    "logger = logging.getLogger()\n",
    "# Set the logging level to logging.DEBUG \n",
    "logger.setLevel(logging.INFO)\n",
    "\n",
    "%matplotlib inline"
   ]
  },
  {
   "cell_type": "code",
   "execution_count": 2,
   "metadata": {
    "collapsed": true
   },
   "outputs": [],
   "source": [
    "#load the data\n",
    "import glob\n",
    "result_file_name = glob.glob(\"Results/2607241/*\")\n",
    "\n",
    "\n",
    "raw_data = []\n",
    "for result in result_file_name:\n",
    "    with open(result,\"rb\") as f:\n",
    "        raw_data.append(pickle.load(f))"
   ]
  },
  {
   "cell_type": "code",
   "execution_count": 3,
   "metadata": {
    "collapsed": true
   },
   "outputs": [],
   "source": [
    "def get_data(size):\n",
    "    mnist_data = dict()\n",
    "    for i in range(1,10):\n",
    "        ds = np.load(\"datasets/{}.npy\".format(i))[:size]\n",
    "        try:\n",
    "            with open(\"models/{}_models\".format(i), 'rb') as f:\n",
    "                model = pickle.load(f)\n",
    "            mnist_data[i] = (model, ds)\n",
    "        except FileNotFoundError:\n",
    "            logging.warn(\"There is no model for {}\".format(i))\n",
    "    return mnist_data"
   ]
  },
  {
   "cell_type": "markdown",
   "metadata": {},
   "source": [
    "# Structure of data\n",
    "\n",
    "```{(n,m) => {'ORBM_RECONS':..,'RBM_RECONS':..., 'model_ids':(n,m),'DS_COMP':... }}```\n",
    "\n"
   ]
  },
  {
   "cell_type": "code",
   "execution_count": 383,
   "metadata": {
    "collapsed": false
   },
   "outputs": [],
   "source": [
    "\n",
    "\n",
    "class Result(object):\n",
    "    \n",
    "    def __init__(self):\n",
    "        self.orbm_a_recons = {}\n",
    "        self.orbm_b_recons = {}\n",
    "        self.rbm_a_recons  = {}\n",
    "        self.rbm_b_recons  = {}\n",
    "        \n",
    "        self.orbm_a_scores = {}\n",
    "        self.orbm_b_scores = {}\n",
    "        self.rbm_a_scores = {}\n",
    "        self.rbm_b_scores = {}\n",
    "        \n",
    "    def safe_add(self, key, value, score_dict):\n",
    "        if key not in score_dict:\n",
    "            score_dict[key] = []\n",
    "        score_dict[key].append(value)\n",
    "    \n",
    "    \n",
    "    def add_scores(self,model_ids, orbm_a_recons, orbm_b_recons, rbm_a_recons, rbm_b_recons,orbm_a, orbm_b, rbm_a,rbm_b):\n",
    "        self.safe_add(model_ids, orbm_a_recons, self.orbm_a_recons)\n",
    "        self.safe_add(model_ids, orbm_b_recons, self.orbm_b_recons)\n",
    "        self.safe_add(model_ids, rbm_a_recons, self.rbm_a_recons)\n",
    "        self.safe_add(model_ids, rbm_b_recons, self.rbm_b_recons)\n",
    "        \n",
    "        self.safe_add(model_ids, orbm_a, self.orbm_a_scores)\n",
    "        self.safe_add(model_ids, orbm_b, self.orbm_b_scores)\n",
    "    \n",
    "        self.safe_add(model_ids, rbm_a, self.rbm_a_scores)\n",
    "        self.safe_add(model_ids, rbm_b, self.rbm_b_scores)\n",
    "    \n",
    "    def hightest_scores(key, n):\n",
    "        \"\"\"Grab the n highest values from the key thing\"\"\"\n",
    "        pass\n",
    "    \n",
    "    \n",
    "    def ndarrayify(self, score_dict):\n",
    "        nd_score_dict = {}\n",
    "        for key in score_dict:\n",
    "            nd_score_dict[key] = np.array(score_dict[key])\n",
    "        return nd_score_dict\n",
    "\n",
    "    def mean_scores(self):\n",
    "        or_a = self.ndarrayify(self.orbm_a_scores)\n",
    "        or_b = self.ndarrayify(self.orbm_b_scores)\n",
    "        r_a  = self.ndarrayify(self.rbm_a_scores)\n",
    "        r_b  = self.ndarrayify(self.rbm_b_scores)\n",
    "    \n",
    "        or_a = {k: v.mean(axis = 0) for k, v in or_a.items()}\n",
    "        or_b = {k: v.mean(axis = 0) for k, v in or_b.items()}\n",
    "        r_a  = {k: v.mean(axis = 0) for k, v in r_a.items()}\n",
    "        r_b  = {k: v.mean(axis = 0) for k, v in r_b.items()}\n",
    "        \n",
    "        return or_a, or_b, r_a, r_b\n",
    "    \n",
    "    def matrix_for_scores(self,scores):\n",
    "        x_idx, y_idx = list(map(list, zip(*scores.keys())))\n",
    "\n",
    "        matrix = np.ones(shape=(max(x_idx)+1, max(y_idx)+1))\n",
    "        for key in scores:\n",
    "            matrix[key[0],key[1]] = scores[key].sum()\n",
    "\n",
    "        return matrix\n",
    "    \n",
    "    def mean_score_matrices(self):\n",
    "        or_a, or_b, r_a, r_b = self.mean_scores()\n",
    "        \n",
    "        return self.matrix_for_scores(or_a), self.matrix_for_scores(or_b), self.matrix_for_scores(r_a), self.matrix_for_scores(r_b)\n",
    "    \n",
    "def ll_image_wise_score(v, v_prime):\n",
    "#     return (v * np.log(v_prime)).sum(1)\n",
    "    return -(abs(v - v_prime))\n",
    "\n",
    "    \n",
    "def unzip_and_ndarrays(list_of_2d_tuple):\n",
    "    a = list(map(list, zip(*list_of_2d_tuple)))\n",
    "    return np.array(a[0]), np.array(a[1])\n",
    "       \n",
    "def scores_for_recons(target_recons,orbm_recons, rbm_recons):\n",
    "    \n",
    "    target_a_recons, target_b_recons = target_recons\n",
    "    \n",
    "    orbm_a_recons, orbm_b_recons = unzip_and_ndarrays(orbm_recons)\n",
    "    rbm_a_recons, rbm_b_recons = unzip_and_ndarrays(rbm_recons)\n",
    "    # Calculate the scores\n",
    "    orbm_a_score = ll_image_wise_score(target_a_recons, orbm_a_recons)\n",
    "    orbm_b_score = ll_image_wise_score(target_b_recons, orbm_b_recons)\n",
    "    rbm_a_score = ll_image_wise_score(target_a_recons, rbm_a_recons)\n",
    "    rbm_b_score = ll_image_wise_score(target_b_recons, rbm_b_recons)\n",
    "    return orbm_a_recons, orbm_b_recons,rbm_a_recons, rbm_b_recons ,orbm_a_score, orbm_b_score, rbm_a_score, rbm_b_score"
   ]
  },
  {
   "cell_type": "markdown",
   "metadata": {},
   "source": [
    "<img src = \"Assets/LL_Score.png\">"
   ]
  },
  {
   "cell_type": "code",
   "execution_count": 384,
   "metadata": {
    "collapsed": false
   },
   "outputs": [],
   "source": [
    "mnist_data = get_data(None)"
   ]
  },
  {
   "cell_type": "code",
   "execution_count": 385,
   "metadata": {
    "collapsed": false
   },
   "outputs": [],
   "source": [
    "def ds_from_mnist_ids(key, size):\n",
    "    a_data = mnist_data[key[0]][1][:size]\n",
    "    b_data = mnist_data[key[1]][1][:size]\n",
    "    return rbmpy.datasets.flatten_data_set(a_data),rbmpy.datasets.flatten_data_set(b_data)"
   ]
  },
  {
   "cell_type": "code",
   "execution_count": 386,
   "metadata": {
    "collapsed": true
   },
   "outputs": [],
   "source": [
    "# # def scores_for_recons(target_recons,obrm_recons, rbm_recons, flattened_ds_comp)\n",
    "# temp_orbm = raw_data[0][(1,1)][\"ORBM_RECONS\"] \n",
    "# temp_rbm = raw_data[0][(1,1)][\"RBM_RECONS\"]\n",
    "# temp_ds_comp = raw_data[0][(1,1)][\"DS_COMP\"].reshape(temp_ds_comp.shape[0], temp_ds_comp.shape[1] * temp_ds_comp.shape[2])\n",
    "# scores_for_recons((temp_ds_comp,temp_ds_comp),temp_orbm,temp_rbm, temp_ds_comp)[0].shape\n",
    "# flattened_ds_comp = ds_comp.reshape(ds_comp.shape[0], ds_comp.shape[1] * ds_comp.shape[2])"
   ]
  },
  {
   "cell_type": "code",
   "execution_count": 387,
   "metadata": {
    "collapsed": false
   },
   "outputs": [],
   "source": [
    "result = Result()\n",
    "for run in raw_data:\n",
    "    for key in run:\n",
    "        current_comp = run[key]\n",
    "        orbm_recons = current_comp[\"ORBM_RECONS\"]\n",
    "        rbm_recons = current_comp[\"RBM_RECONS\"]\n",
    "        \n",
    "        size = current_comp[\"DS_COMP\"].shape[0]\n",
    "        target_recons = ds_from_mnist_ids(key, size)\n",
    "        result.add_scores(key, *scores_for_recons(target_recons, orbm_recons,rbm_recons))"
   ]
  },
  {
   "cell_type": "code",
   "execution_count": 388,
   "metadata": {
    "collapsed": false
   },
   "outputs": [],
   "source": [
    "a = result.mean_scores()\n",
    "o_a, o_b, r_a, r_b = result.mean_score_matrices()"
   ]
  },
  {
   "cell_type": "code",
   "execution_count": 389,
   "metadata": {
    "collapsed": true
   },
   "outputs": [],
   "source": [
    "def plot_matrix(m, ticks):\n",
    "    plt.imshow(m, interpolation='nearest',cmap=plt.cm.RdYlBu)\n",
    "    plt.xticks(ticks)\n",
    "    plt.yticks(ticks)\n",
    "    plt.colorbar()\n",
    "    plt.show()"
   ]
  },
  {
   "cell_type": "code",
   "execution_count": 390,
   "metadata": {
    "collapsed": false
   },
   "outputs": [
    {
     "data": {
      "image/png": "[encoded data removed]",
      "text/plain": [
       "<matplotlib.figure.Figure at 0x149feb198>"
      ]
     },
     "metadata": {},
     "output_type": "display_data"
    },
    {
     "data": {
      "image/png": "[encoded data removed]",
      "text/plain": [
       "<matplotlib.figure.Figure at 0x149febb00>"
      ]
     },
     "metadata": {},
     "output_type": "display_data"
    }
   ],
   "source": [
    "ticks = np.arange(10)\n",
    "plot_matrix(o_a - r_a, ticks)\n",
    "plot_matrix(o_b - r_b, ticks)"
   ]
  },
  {
   "cell_type": "code",
   "execution_count": 391,
   "metadata": {
    "collapsed": false
   },
   "outputs": [
    {
     "data": {
      "text/plain": [
       "17"
      ]
     },
     "execution_count": 391,
     "metadata": {},
     "output_type": "execute_result"
    }
   ],
   "source": [
    "49 - np.where(np.isclose((o_b - r_b).T, (o_a - r_a)), 1,0).sum()\n"
   ]
  },
  {
   "cell_type": "code",
   "execution_count": 392,
   "metadata": {
    "collapsed": false
   },
   "outputs": [
    {
     "data": {
      "image/png": "[encoded data removed]",
      "text/plain": [
       "<matplotlib.figure.Figure at 0x149ec14e0>"
      ]
     },
     "metadata": {},
     "output_type": "display_data"
    },
    {
     "data": {
      "image/png": "[encoded data removed]",
      "text/plain": [
       "<matplotlib.figure.Figure at 0x146767390>"
      ]
     },
     "metadata": {},
     "output_type": "display_data"
    },
    {
     "data": {
      "image/png": "[encoded data removed]",
      "text/plain": [
       "<matplotlib.figure.Figure at 0x149bef5f8>"
      ]
     },
     "metadata": {},
     "output_type": "display_data"
    }
   ],
   "source": [
    "comp = (8,1)\n",
    "or_score_of_interest = np.array(result.orbm_a_scores[comp])\n",
    "or_recon_of_interest = np.array(result.orbm_a_recons[comp])\n",
    "\n",
    "r_score_of_interest = np.array(result.rbm_a_scores[comp])\n",
    "r_recon_of_interest = np.array(result.rbm_a_recons[comp])\n",
    "\n",
    "or_max_idx = np.unravel_index(or_score_of_interest.argmax(), or_score_of_interest.shape)\n",
    "r_max_idx  = np.unravel_index(r_score_of_interest.argmax(), r_score_of_interest.shape)\n",
    "\n",
    "pp.image(or_recon_of_interest[or_max_idx[0], or_max_idx[1], :].reshape(28,28))\n",
    "pp.image(r_recon_of_interest[r_max_idx[0], r_max_idx[1], :].reshape(28,28))\n",
    "pp.image(mnist_data[comp[0]][1][max_idx[1]])"
   ]
  },
  {
   "cell_type": "code",
   "execution_count": null,
   "metadata": {
    "collapsed": true
   },
   "outputs": [],
   "source": []
  }
 ],
 "metadata": {
  "kernelspec": {
   "display_name": "Python 3",
   "language": "python",
   "name": "python3"
  },
  "language_info": {
   "codemirror_mode": {
    "name": "ipython",
    "version": 3
   },
   "file_extension": ".py",
   "mimetype": "text/x-python",
   "name": "python",
   "nbconvert_exporter": "python",
   "pygments_lexer": "ipython3",
   "version": "3.4.3"
  }
 },
 "nbformat": 4,
 "nbformat_minor": 0
}
