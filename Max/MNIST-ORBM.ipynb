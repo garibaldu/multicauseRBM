{
 "cells": [
  {
   "cell_type": "code",
   "execution_count": 1,
   "metadata": {
    "collapsed": false
   },
   "outputs": [],
   "source": [
    "from scipy.special import expit\n",
    "from rbmpy.rbm import RBM\n",
    "from rbmpy.sampler import VanillaSampler, PartitionedSampler\n",
    "from rbmpy.trainer import VanillaTrainier\n",
    "import numpy as np\n",
    "import rbmpy.datasets, rbmpy.performance, rbmpy.plotter, rbmpy.mnist, pickle, rbmpy.rbm\n",
    "\n",
    "%matplotlib inline"
   ]
  },
  {
   "cell_type": "code",
   "execution_count": 4,
   "metadata": {
    "collapsed": false
   },
   "outputs": [
    {
     "ename": "ImportError",
     "evalue": "No module named 'rbm'",
     "output_type": "error",
     "traceback": [
      "\u001b[0;31m---------------------------------------------------------------------------\u001b[0m",
      "\u001b[0;31mImportError\u001b[0m                               Traceback (most recent call last)",
      "\u001b[0;32m<ipython-input-4-542121679897>\u001b[0m in \u001b[0;36m<module>\u001b[0;34m()\u001b[0m\n\u001b[1;32m      1\u001b[0m \u001b[0;31m# load the data\u001b[0m\u001b[0;34m\u001b[0m\u001b[0;34m\u001b[0m\u001b[0m\n\u001b[1;32m      2\u001b[0m \u001b[0;32mwith\u001b[0m \u001b[0mopen\u001b[0m\u001b[0;34m(\u001b[0m\u001b[0;34m'models/bar_model'\u001b[0m\u001b[0;34m,\u001b[0m \u001b[0;34m'rb'\u001b[0m\u001b[0;34m)\u001b[0m \u001b[0;32mas\u001b[0m \u001b[0mf1\u001b[0m\u001b[0;34m:\u001b[0m\u001b[0;34m\u001b[0m\u001b[0m\n\u001b[0;32m----> 3\u001b[0;31m     \u001b[0mbar_model\u001b[0m \u001b[0;34m=\u001b[0m \u001b[0mpickle\u001b[0m\u001b[0;34m.\u001b[0m\u001b[0mload\u001b[0m\u001b[0;34m(\u001b[0m\u001b[0mf1\u001b[0m\u001b[0;34m)\u001b[0m\u001b[0;34m\u001b[0m\u001b[0m\n\u001b[0m\u001b[1;32m      4\u001b[0m \u001b[0;34m\u001b[0m\u001b[0m\n\u001b[1;32m      5\u001b[0m \u001b[0;32mwith\u001b[0m \u001b[0mopen\u001b[0m\u001b[0;34m(\u001b[0m\u001b[0;34m'./models/two_model'\u001b[0m\u001b[0;34m,\u001b[0m \u001b[0;34m'rb'\u001b[0m\u001b[0;34m)\u001b[0m \u001b[0;32mas\u001b[0m \u001b[0mf2\u001b[0m\u001b[0;34m:\u001b[0m\u001b[0;34m\u001b[0m\u001b[0m\n",
      "\u001b[0;31mImportError\u001b[0m: No module named 'rbm'"
     ]
    }
   ],
   "source": [
    "# load the data\n",
    "with open('./models/bar_model', 'rb') as f1:\n",
    "    bar_model = pickle.load(f1)\n",
    "\n",
    "with open('./models/two_model', 'rb') as f2:\n",
    "    two_model = pickle.load(f2)\n",
    "\n",
    "num_items = 20\n",
    "bar = bar_model.visible[:num_items]\n",
    "two = two_model.visible[:num_items]\n",
    "composite = datasets.composite_datasets(bar, two)\n",
    "\n",
    "part_sampler = PartitionedSampler(two_model, bar_model, num_items= num_items)\n",
    "van_two_sampler = VanillaSampler(two_model)\n",
    "van_bar_sampler = VanillaSampler(bar_model)\n",
    "\n",
    "\n",
    "vis_van_a = van_two_sampler.reconstruction_given_visible(composite)\n",
    "vis_van_b = van_bar_sampler.reconstruction_given_visible(composite)\n",
    "\n",
    "vis_target_a = van_two_sampler.reconstruction_given_visible(two)\n",
    "vis_target_b = van_bar_sampler.reconstruction_given_visible(bar)\n",
    "\n",
    "\n",
    "    \n",
    "\n",
    "plotter.plot(vis_van_a)\n",
    "plotter.plot(vis_target_a)\n",
    "\n",
    "plotter.plot(vis_van_b)\n",
    "plotter.plot(vis_target_b)\n",
    "# score_part_a = performance.log_likelyhood_score(vis_part_a, vis_target_a)\n",
    "# score_van_a = performance.log_likelyhood_score(vis_van_a, vis_target_a)\n",
    "\n",
    "# score_part_b = performance.log_likelyhood_score(vis_part_b, vis_target_b)\n",
    "# score_van_b = performance.log_likelyhood_score(vis_van_b, vis_target_b)\n"
   ]
  },
  {
   "cell_type": "code",
   "execution_count": 3,
   "metadata": {
    "collapsed": false
   },
   "outputs": [
    {
     "name": "stdout",
     "output_type": "stream",
     "text": [
      "0.0% complete\n",
      "5.0% complete\n",
      "10.0% complete\n",
      "15.0% complete\n",
      "20.0% complete\n",
      "25.0% complete\n",
      "30.0% complete\n",
      "35.0% complete\n",
      "40.0% complete\n",
      "45.0% complete\n",
      "50.0% complete\n",
      "55.00000000000001% complete\n",
      "60.0% complete\n",
      "65.0% complete\n",
      "70.0% complete\n",
      "75.0% complete\n",
      "80.0% complete\n",
      "85.0% complete\n",
      "90.0% complete\n",
      "95.0% complete\n"
     ]
    },
    {
     "data": {
      "image/png": "[encoded data removed]",
      "text/plain": [
       "<matplotlib.figure.Figure at 0x103405160>"
      ]
     },
     "metadata": {},
     "output_type": "display_data"
    },
    {
     "data": {
      "image/png": "[encoded data removed]",
      "text/plain": [
       "<matplotlib.figure.Figure at 0x103405588>"
      ]
     },
     "metadata": {},
     "output_type": "display_data"
    }
   ],
   "source": [
    "vis_part_a, vis_part_b = part_sampler.reconstructions_given_visible(composite, num_samples = 40)\n",
    "plotter.plot(vis_part_a)\n",
    "plotter.plot(vis_part_b)"
   ]
  },
  {
   "cell_type": "code",
   "execution_count": 18,
   "metadata": {
    "collapsed": false
   },
   "outputs": [
    {
     "name": "stderr",
     "output_type": "stream",
     "text": [
      "/usr/local/lib/python3.4/site-packages/IPython/kernel/__main__.py:10: RuntimeWarning: divide by zero encountered in log\n",
      "/usr/local/lib/python3.4/site-packages/IPython/kernel/__main__.py:13: RuntimeWarning: divide by zero encountered in log\n"
     ]
    }
   ],
   "source": [
    "from scipy.special import xlogy\n",
    "import math\n",
    "\n",
    "def log_likelyhood_score(sample, target):\n",
    "    \"\"\"Lets find the log likelyhood\"\"\"\n",
    "    # we need the actual visible pattern that we want to compute the score for\n",
    "    # if vi|ha is 400 | 786\n",
    "    # and actual vi is 400 | 786 we are in business\n",
    "    \n",
    "    safe_log_sample = np.where(sample != 0, np.log(sample), 0)\n",
    "\n",
    "    sample_off = 1 - sample\n",
    "    safe_log_off_sample = np.where(sample_off != 0, np.log(sample_off), 0)\n",
    "    \n",
    "    score = ((target * safe_log_sample) + ((1 - target) * safe_log_off_sample))\n",
    "\n",
    "    score_sum = score.sum()\n",
    "    return score_sum\n",
    "\n",
    "score_part_a = log_likelyhood_score(vis_part_a, vis_target_a)\n",
    "score_van_a = log_likelyhood_score(vis_van_a, vis_target_a)\n",
    "\n",
    "score_part_b = log_likelyhood_score(vis_part_b, vis_target_b)\n",
    "score_van_b = log_likelyhood_score(vis_van_b, vis_target_b)"
   ]
  },
  {
   "cell_type": "code",
   "execution_count": 19,
   "metadata": {
    "collapsed": false
   },
   "outputs": [
    {
     "data": {
      "image/png": "[encoded data removed]",
      "text/plain": [
       "<matplotlib.figure.Figure at 0x107e73ef0>"
      ]
     },
     "metadata": {},
     "output_type": "display_data"
    },
    {
     "name": "stdout",
     "output_type": "stream",
     "text": [
      "Scores:\n",
      "\tPart_a 0.0\tVan_a 0.0\n",
      "\tPart_b 0.0\tVan_b 0.0\n",
      "\tA Win?False\tB Win?False\n"
     ]
    }
   ],
   "source": [
    "plotter.plot(composite)\n",
    "print(\"Scores:\\n\\tPart_a {}\\tVan_a {}\\n\\tPart_b {}\\tVan_b {}\\n\\tA Win?{}\\tB Win?{}\".format(score_part_a, score_van_a, score_part_b, score_van_b, score_part_a > score_van_a, score_part_b > score_van_b))\n",
    "# part_a = performance.score(vis_part_a, vis_target_a, two_model.weights, two_model.visible_bias, two_model.hidden_bias)\n",
    "# van_a = performance.score(vis_van_a, vis_target_a, two_model.weights, two_model.visible_bias, two_model.hidden_bias)\n",
    "# print((part_a)\n",
    "# print(van_a)"
   ]
  },
  {
   "cell_type": "code",
   "execution_count": null,
   "metadata": {
    "collapsed": false
   },
   "outputs": [],
   "source": [
    "p = PartitionedSampler(two_model, bar_model, num_items= num_items)\n",
    "ha, hb=  p.visible_to_hidden(composite, 100)\n",
    "def sample(hidden, weights, bias):\n",
    "    return expit(np.dot(hidden,weights) + bias)\n",
    "vis = sample(hb, bar_model.weights, bar_model.visible_bias)\n",
    "plotter.plot(vis)\n",
    "plotter.plot(composite)"
   ]
  },
  {
   "cell_type": "code",
   "execution_count": 3,
   "metadata": {
    "collapsed": true
   },
   "outputs": [],
   "source": [
    "van_two_sampler = VanillaSampler(two_model)\n",
    "van_bar_sampler = VanillaSampler(bar_model)"
   ]
  },
  {
   "cell_type": "code",
   "execution_count": 4,
   "metadata": {
    "collapsed": false
   },
   "outputs": [
    {
     "ename": "NameError",
     "evalue": "name 'sample' is not defined",
     "output_type": "error",
     "traceback": [
      "\u001b[0;31m---------------------------------------------------------------------------\u001b[0m",
      "\u001b[0;31mNameError\u001b[0m                                 Traceback (most recent call last)",
      "\u001b[0;32m<ipython-input-4-436628a2e4c4>\u001b[0m in \u001b[0;36m<module>\u001b[0;34m()\u001b[0m\n\u001b[0;32m----> 1\u001b[0;31m \u001b[0mvis_van_two\u001b[0m \u001b[0;34m=\u001b[0m \u001b[0msample\u001b[0m\u001b[0;34m(\u001b[0m\u001b[0;34m(\u001b[0m\u001b[0mvan_two_sampler\u001b[0m\u001b[0;34m.\u001b[0m\u001b[0mvisible_to_hidden\u001b[0m\u001b[0;34m(\u001b[0m\u001b[0mcomposite\u001b[0m\u001b[0;34m)\u001b[0m\u001b[0;34m)\u001b[0m\u001b[0;34m,\u001b[0m \u001b[0mtwo_model\u001b[0m\u001b[0;34m.\u001b[0m\u001b[0mweights\u001b[0m\u001b[0;34m,\u001b[0m \u001b[0mtwo_model\u001b[0m\u001b[0;34m.\u001b[0m\u001b[0mvisible_bias\u001b[0m\u001b[0;34m)\u001b[0m\u001b[0;34m\u001b[0m\u001b[0m\n\u001b[0m\u001b[1;32m      2\u001b[0m \u001b[0mvis_van_bar\u001b[0m \u001b[0;34m=\u001b[0m \u001b[0msample\u001b[0m\u001b[0;34m(\u001b[0m\u001b[0;34m(\u001b[0m\u001b[0mvan_bar_sampler\u001b[0m\u001b[0;34m.\u001b[0m\u001b[0mvisible_to_hidden\u001b[0m\u001b[0;34m(\u001b[0m\u001b[0mcomposite\u001b[0m\u001b[0;34m)\u001b[0m\u001b[0;34m)\u001b[0m\u001b[0;34m,\u001b[0m \u001b[0mbar_model\u001b[0m\u001b[0;34m.\u001b[0m\u001b[0mweights\u001b[0m\u001b[0;34m,\u001b[0m \u001b[0mbar_model\u001b[0m\u001b[0;34m.\u001b[0m\u001b[0mvisible_bias\u001b[0m\u001b[0;34m)\u001b[0m\u001b[0;34m\u001b[0m\u001b[0m\n\u001b[1;32m      3\u001b[0m \u001b[0mgoal\u001b[0m \u001b[0;34m=\u001b[0m \u001b[0msample\u001b[0m\u001b[0;34m(\u001b[0m\u001b[0;34m(\u001b[0m\u001b[0mvan_bar_sampler\u001b[0m\u001b[0;34m.\u001b[0m\u001b[0mvisible_to_hidden\u001b[0m\u001b[0;34m(\u001b[0m\u001b[0mbar\u001b[0m\u001b[0;34m)\u001b[0m\u001b[0;34m)\u001b[0m\u001b[0;34m,\u001b[0m \u001b[0mbar_model\u001b[0m\u001b[0;34m.\u001b[0m\u001b[0mweights\u001b[0m\u001b[0;34m,\u001b[0m \u001b[0mbar_model\u001b[0m\u001b[0;34m.\u001b[0m\u001b[0mvisible_bias\u001b[0m\u001b[0;34m)\u001b[0m\u001b[0;34m\u001b[0m\u001b[0m\n",
      "\u001b[0;31mNameError\u001b[0m: name 'sample' is not defined"
     ]
    }
   ],
   "source": [
    "vis_van_two = sample((van_two_sampler.visible_to_hidden(composite)), two_model.weights, two_model.visible_bias)\n",
    "vis_van_bar = sample((van_bar_sampler.visible_to_hidden(composite)), bar_model.weights, bar_model.visible_bias)\n",
    "goal = sample((van_bar_sampler.visible_to_hidden(bar)), bar_model.weights, bar_model.visible_bias)"
   ]
  },
  {
   "cell_type": "code",
   "execution_count": 16,
   "metadata": {
    "collapsed": false
   },
   "outputs": [
    {
     "data": {
      "image/png": "[encoded data removed]",
      "text/plain": [
       "<matplotlib.figure.Figure at 0x10efdb160>"
      ]
     },
     "metadata": {},
     "output_type": "display_data"
    },
    {
     "data": {
      "image/png": "[encoded data removed]",
      "text/plain": [
       "<matplotlib.figure.Figure at 0x10efdb828>"
      ]
     },
     "metadata": {},
     "output_type": "display_data"
    },
    {
     "data": {
      "image/png": "[encoded data removed]",
      "text/plain": [
       "<matplotlib.figure.Figure at 0x1107747f0>"
      ]
     },
     "metadata": {},
     "output_type": "display_data"
    }
   ],
   "source": [
    "plotter.plot(vis_van_bar)\n",
    "plotter.plot(vis)\n",
    "plotter.plot(goal)\n"
   ]
  },
  {
   "cell_type": "code",
   "execution_count": 17,
   "metadata": {
    "collapsed": false
   },
   "outputs": [
    {
     "data": {
      "image/png": "[encoded data removed]",
      "text/plain": [
       "<matplotlib.figure.Figure at 0x10d2fe978>"
      ]
     },
     "metadata": {},
     "output_type": "display_data"
    }
   ],
   "source": [
    "plotter.plot(vis)"
   ]
  },
  {
   "cell_type": "code",
   "execution_count": null,
   "metadata": {
    "collapsed": false
   },
   "outputs": [],
   "source": [
    "sayHello(\"a\",\"b\",'c','d')"
   ]
  },
  {
   "cell_type": "code",
   "execution_count": 22,
   "metadata": {
    "collapsed": false
   },
   "outputs": [
    {
     "name": "stdout",
     "output_type": "stream",
     "text": [
      "(20, 784)\n"
     ]
    },
    {
     "data": {
      "text/plain": [
       "BernoulliRBM(batch_size=10, learning_rate=0.1, n_components=30, n_iter=500,\n",
       "       random_state=None, verbose=0)"
      ]
     },
     "execution_count": 22,
     "metadata": {},
     "output_type": "execute_result"
    }
   ],
   "source": [
    "from sklearn.neural_network import BernoulliRBM\n",
    "print(two.shape)\n",
    "\n",
    "model = BernoulliRBM(n_components=30, n_iter=500,verbose = 0)\n",
    "model.fit(two)\n",
    "\n"
   ]
  },
  {
   "cell_type": "code",
   "execution_count": 16,
   "metadata": {
    "collapsed": false
   },
   "outputs": [
    {
     "data": {
      "image/png": "[encoded data removed]",
      "text/plain": [
       "<matplotlib.figure.Figure at 0x114416ef0>"
      ]
     },
     "metadata": {},
     "output_type": "display_data"
    }
   ],
   "source": [
    "plotter.plot(np.where(model.gibbs(two),1,0))"
   ]
  },
  {
   "cell_type": "code",
   "execution_count": null,
   "metadata": {
    "collapsed": true
   },
   "outputs": [],
   "source": [
    "import numpy as np\n",
    "import rbm\n",
    "from sklearn.linear_model import Perceptron\n",
    "\n",
    "num_items = 400\n",
    "bar = datasets.data_set_with_name(\"bar\", size = num_items)\n",
    "blob = datasets.data_set_with_name(\"blob\", size = num_items)\n",
    "two = datasets.data_set_with_name(2, size = num_items)\n",
    "three = datasets.data_set_with_name(3, size = num_items)\n",
    "\n",
    "def classify(hid_train, train_labels):\n",
    "    classifier = Perceptron()\n",
    "    classifier.fit(self.hid_train, self.train_labels)\n",
    "\n",
    "PartitionedSampler(two_model, bar_model, num_items= num_items)\n",
    "training = \n",
    "train_labels = \n",
    "\n",
    "c = classify(hidden_training_set(training, sampler), train_labels)"
   ]
  }
 ],
 "metadata": {
  "kernelspec": {
   "display_name": "Python 3",
   "language": "python",
   "name": "python3"
  },
  "language_info": {
   "codemirror_mode": {
    "name": "ipython",
    "version": 3
   },
   "file_extension": ".py",
   "mimetype": "text/x-python",
   "name": "python",
   "nbconvert_exporter": "python",
   "pygments_lexer": "ipython3",
   "version": "3.4.3"
  }
 },
 "nbformat": 4,
 "nbformat_minor": 0
}
