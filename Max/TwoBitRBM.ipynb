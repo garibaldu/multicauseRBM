{
 "cells": [
  {
   "cell_type": "code",
   "execution_count": 1,
   "metadata": {
    "collapsed": false
   },
   "outputs": [],
   "source": [
    "from scipy.special import expit\n",
    "from rbm import RBM\n",
    "from sampler import VanillaSampler, PartitionedSampler, ApproximatedSampler\n",
    "from trainer import VanillaTrainier\n",
    "from performance import Result\n",
    "import numpy as np\n",
    "import datasets, performance, plotter, mnist, pickle, rbm, os, logging, sampler\n",
    "from sklearn.linear_model import Perceptron\n",
    "\n",
    "import matplotlib.pyplot as plt\n",
    "import matplotlib.image as mpimg\n",
    "\n",
    "logger = logging.getLogger()\n",
    "# Set the logging level to logging.DEBUG \n",
    "logger.setLevel(logging.INFO)\n",
    "\n",
    "\n",
    "%matplotlib inline\n",
    "# make one 2 bit image, both visibles on\n",
    "v = np.ones(2)\n",
    "\n",
    "# lets make our hiddens, 2 hidden units\n",
    "h_a = np.zeros(2)\n",
    "h_b = np.zeros(2)\n",
    "h_a[0] = 1\n",
    "h_a[1] = 0\n",
    "\n",
    "h_b[0] = 0\n",
    "h_b[1] = 1\n",
    "\n",
    "# Set up our weights matrix (|h| , |v|), with perfect weights.\n",
    "w_a = np.ones((2, 2))\n",
    "w_b = np.ones((2, 2))\n",
    "w_a[0][1] = -1\n",
    "w_a[1][0] = -1\n",
    "w_b[0][1] = -1\n",
    "w_b[1][0] = -1\n",
    "\n",
    "A = RBM(2,2,1)\n",
    "B = RBM(2,2,1)\n",
    "# manually set our RBM's\n",
    "A.hidden = h_a\n",
    "B.hidden = h_b\n",
    "A.visible = v\n",
    "B.visible = v\n",
    "A.weights = w_a\n",
    "B.weights = w_b\n",
    "A.hidden_bias = 0.5\n",
    "B.hidden_bias = 0.5\n",
    "A.visible_bias = 0.5\n",
    "B.visible_bias = 0.5"
   ]
  },
  {
   "cell_type": "code",
   "execution_count": 2,
   "metadata": {
    "collapsed": false,
    "scrolled": false
   },
   "outputs": [],
   "source": [
    "def count_matrix_for_runs(runs, model, visible):\n",
    "    van_sampler = VanillaSampler(model)\n",
    "    counts = {}\n",
    "    for i in range(runs):\n",
    "\n",
    "        vis = np.where(van_sampler.hidden_to_visible(van_sampler.visible_to_hidden(visible)) >= 0.5, 1, 0)\n",
    "        key = np.array_str(vis)\n",
    "        if key in counts:\n",
    "            counts[key] = counts[key] + 1\n",
    "        else:\n",
    "            counts[key] = 0\n",
    "    for key in counts:\n",
    "        counts[key] = counts[key]/runs * 100\n",
    "    \n",
    "    return counts"
   ]
  },
  {
   "cell_type": "code",
   "execution_count": 3,
   "metadata": {
    "collapsed": false,
    "scrolled": false
   },
   "outputs": [
    {
     "name": "stdout",
     "output_type": "stream",
     "text": [
      "{'[1 0]': 21.0, '[1 1]': 56.00000000000001, '[0 1]': 20.0}\n",
      "{'[1 0]': 20.0, '[1 1]': 56.99999999999999, '[0 1]': 20.0}\n"
     ]
    }
   ],
   "source": [
    "# run vanilla sampling 10,000 times, getting the percentage of reconstructions for A and then B\n",
    "print(count_matrix_for_runs(100, A, v))\n",
    "print(count_matrix_for_runs(100, B, v))"
   ]
  },
  {
   "cell_type": "code",
   "execution_count": 4,
   "metadata": {
    "collapsed": false,
    "scrolled": false
   },
   "outputs": [],
   "source": [
    "def weighted_sum_into_vis(vis_idx, w,h):\n",
    "    return np.dot(w.T, h)\n",
    "\n",
    "def visible_to_hidden(visible):\n",
    "    np.dot(w.T,visibe)\n",
    "\n",
    "    \n",
    "def approx_correction(h_a, h_b, w_a, w_b):\n",
    "    col_hid_a = h_a.reshape(2,1)\n",
    "    col_hid_b = h_b.reshape(2,1)\n",
    "    phi_a = np.dot(w_a, h_a) - (w_a * col_hid_a)\n",
    "    phi_b = np.dot(w_b, h_b) - (w_b * col_hid_b)\n",
    "    sig_A = phi_a + w_a/2\n",
    "    sig_B = phi_b + w_b/2\n",
    "    epsilon_a = np.dot(w_b,h_b)\n",
    "    epsilon_b = np.dot(w_a,h_a)\n",
    "    sig_AB = sig_A + epsilon_a\n",
    "    sig_BA = sig_B + epsilon_b\n",
    "    c_a = expit(sig_A) - expit(sig_AB)\n",
    "    c_b = expit(sig_B) - expit(sig_BA)\n",
    "    return c_a, c_b\n",
    "\n",
    "\n",
    "def p_hid(h_a, h_b, w_a, w_b, c = approx_correction):\n",
    "    c_a, c_b = c(h_a, h_b, w_a, w_b)\n",
    "    psi_a = (w_a * (v + c_a)).sum(1) # of course this isn't really the correction it's more of an ammendent (? word)\n",
    "    psi_b = (w_b * (v + c_b)).sum(1) \n",
    "    return expit(psi_a),expit(psi_b)   \n",
    "\n",
    "def run_partitioned_samples(hidden_a, hidden_b, weights_a, weights_b, visible,num_samples):\n",
    "    for epoch in range(num_samples):\n",
    "\n",
    "        p_hid_a, p_hid_b = p_hid(hidden_a, hidden_a, weights_a, weights_b)\n",
    "        \n",
    "        # now, do we turn on he hiddens? Bernoulli sample to decide\n",
    "        hidden_a = np.where(p_hid_a > np.random.rand(*p_hid_a.shape),1,0) \n",
    "        hidden_b = np.where(p_hid_b > np.random.rand(*p_hid_b.shape),1,0) \n",
    "\n",
    "    return hidden_a, hidden_b\n",
    "\n"
   ]
  },
  {
   "cell_type": "code",
   "execution_count": 5,
   "metadata": {
    "collapsed": false,
    "scrolled": false
   },
   "outputs": [],
   "source": [
    "def calculate_result_dict(w_a, w_b, c = approx_correction):\n",
    "    results = {}\n",
    "    base_key = \"h_a{} h_b{}\"\n",
    "    for i_a in range(2):\n",
    "        for j_a in range(2):\n",
    "            for i_b in range(2):\n",
    "                for j_b in range(2):\n",
    "                    hidden_a = np.array([j_a, i_a]) \n",
    "                    hidden_b = np.array([j_b, i_b])\n",
    "                    results[base_key.format(hidden_a, hidden_b)] = p_hid(hidden_a, hidden_b, w_a, w_b,c= c)\n",
    "    return results       \n",
    "\n",
    "def probs_for_result_dict(results, hidd_counts):\n",
    "    tot = 0\n",
    "    for i in hidd_counts:\n",
    "        tot += hidd_counts[i]\n",
    "    for key in hidd_counts:\n",
    "        print(\"{} {}% of the time. {} times out of {}.\\n\\tRespective Probabilities:{}\\n\\t\".format(key, hidd_counts[key]/tot,  hidd_counts[key], tot,results[key] ))\n",
    "        \n",
    "    print(\"tot = {}\".format(tot))"
   ]
  },
  {
   "cell_type": "code",
   "execution_count": 6,
   "metadata": {
    "collapsed": false,
    "scrolled": false
   },
   "outputs": [
    {
     "name": "stdout",
     "output_type": "stream",
     "text": [
      "(array([ 0.59633814,  0.40366186]), array([ 0.59633814,  0.40366186]))\n",
      "(array([ 0.40366186,  0.59633814]), array([ 0.40366186,  0.59633814]))\n"
     ]
    }
   ],
   "source": [
    "r = calculate_result_dict(w_a, w_b)\n",
    "a = r['h_a[0 1] h_b[0 1]']\n",
    "b = r['h_a[1 0] h_b[1 0]']\n",
    "def plot_result_for_hidden_states(h_a, h_b, result_dict):\n",
    "    key = 'h_a{} h_b{}'.format(h_a,h_b)\n",
    "    \n",
    "    kwargs = {'interpolation':'nearest','cmap':'copper', 'vmin':0, 'vmax':1}\n",
    "    plt.subplot(331)\n",
    "    plt.title(\"hA\")\n",
    "    plt.axis('off')\n",
    "    plt.imshow(h_a.reshape((1,2)), **kwargs)\n",
    "    \n",
    "    plt.subplot(332)\n",
    "    plt.title(\"hB\")\n",
    "    plt.axis('off')\n",
    "    plt.imshow(h_b.reshape((1,2)), **kwargs)\n",
    "    \n",
    "    \n",
    "    plt.subplot(334)\n",
    "    plt.title(\"P(A)\")\n",
    "    plt.axis('off')\n",
    "    plt.imshow(result_dict[key][0].reshape(1,2),**kwargs)\n",
    "    \n",
    "    plt.subplot(335)\n",
    "    plt.title(\"P(B)\")\n",
    "    plt.axis('off')\n",
    "    plt.imshow(result_dict[key][1].reshape(1,2),**kwargs)   \n",
    "    plt.show()\n",
    "\n",
    "print(a)\n",
    "print(b)"
   ]
  },
  {
   "cell_type": "code",
   "execution_count": 7,
   "metadata": {
    "collapsed": false
   },
   "outputs": [
    {
     "data": {
      "image/png": "[encoded data removed]",
      "text/plain": [
       "<matplotlib.figure.Figure at 0x1152b7198>"
      ]
     },
     "metadata": {},
     "output_type": "display_data"
    },
    {
     "data": {
      "image/png": "[encoded data removed]",
      "text/plain": [
       "<matplotlib.figure.Figure at 0x1150ee6a0>"
      ]
     },
     "metadata": {},
     "output_type": "display_data"
    },
    {
     "data": {
      "image/png": "[encoded data removed]",
      "text/plain": [
       "<matplotlib.figure.Figure at 0x115594a20>"
      ]
     },
     "metadata": {},
     "output_type": "display_data"
    },
    {
     "data": {
      "image/png": "[encoded data removed]",
      "text/plain": [
       "<matplotlib.figure.Figure at 0x115583400>"
      ]
     },
     "metadata": {},
     "output_type": "display_data"
    },
    {
     "data": {
      "image/png": "[encoded data removed]",
      "text/plain": [
       "<matplotlib.figure.Figure at 0x1153ca3c8>"
      ]
     },
     "metadata": {},
     "output_type": "display_data"
    },
    {
     "data": {
      "image/png": "[encoded data removed]",
      "text/plain": [
       "<matplotlib.figure.Figure at 0x11573ee48>"
      ]
     },
     "metadata": {},
     "output_type": "display_data"
    },
    {
     "data": {
      "image/png": "[encoded data removed]",
      "text/plain": [
       "<matplotlib.figure.Figure at 0x11574d898>"
      ]
     },
     "metadata": {},
     "output_type": "display_data"
    }
   ],
   "source": [
    "r = calculate_result_dict(w_a*4, w_b*4)\n",
    "plot_result_for_hidden_states(np.array([0,1]),np.array([1,0]),r)\n",
    "plot_result_for_hidden_states(np.array([1,0]),np.array([0,1]),r)\n",
    "plot_result_for_hidden_states(np.array([1,1]),np.array([1,0]),r)\n",
    "plot_result_for_hidden_states(np.array([1,1]),np.array([0,1]),r)\n",
    "plot_result_for_hidden_states(np.array([1,1]),np.array([1,1]),r)\n",
    "plot_result_for_hidden_states(np.array([0,1]),np.array([0,1]),r)\n",
    "plot_result_for_hidden_states(np.array([1,0]),np.array([1,0]),r)\n"
   ]
  },
  {
   "cell_type": "code",
   "execution_count": 8,
   "metadata": {
    "collapsed": false
   },
   "outputs": [],
   "source": [
    "training_set = np.eye(2)\n",
    "dot = RBM(2,2,1)\n",
    "s = VanillaSampler(dot)\n",
    "t = VanillaTrainier(dot, s)\n",
    "t.train(10000, training_set)"
   ]
  },
  {
   "cell_type": "code",
   "execution_count": 9,
   "metadata": {
    "collapsed": false
   },
   "outputs": [
    {
     "data": {
      "text/plain": [
       "(array([1, 0]), array([0, 1]))"
      ]
     },
     "execution_count": 9,
     "metadata": {},
     "output_type": "execute_result"
    }
   ],
   "source": [
    "a = ApproximatedSampler(dot.weights,dot.weights, 0,0)\n",
    "a.v_to_v(np.array([1,1]), np.array([1,0]), np.array([1,1]), num_gibbs=10000)\n",
    "\n",
    "# psi_a, psi_b = p_hid(np.array([0,1]), np.array([1,0]), w_a*4, w_b*4)\n",
    "# psi_a\n",
    "# a.__bernoulli_trial__(psi_a)\n",
    "# p =psi_a > np.random.rand(*psi_a.shape)\n",
    "# np.where(p,1,0)"
   ]
  },
  {
   "cell_type": "code",
   "execution_count": 26,
   "metadata": {
    "collapsed": false
   },
   "outputs": [],
   "source": [
    "def result_key(h_a, h_b, v):\n",
    "    return \"ha{} hb{} v{}\".format(h_a, h_b, v)\n",
    "\n",
    "def performance(v, sampler):\n",
    "    result_dict = {}\n",
    "    for i_a in range(2):\n",
    "        for j_a in range(2):\n",
    "            for i_b in range(2):\n",
    "                for j_b in range(2):\n",
    "                    h_a = np.array([i_a,j_a])\n",
    "                    h_b = np.array([i_b,j_b])\n",
    "                    # do 100 runs to see the resulting visibles\n",
    "                    key = result_key(h_a, h_b, v)\n",
    "                    current_dict = {}\n",
    "                    base_key = \"v_a{} v_b{}\"\n",
    "                    for count in range(100):\n",
    "                        v_a, v_b = sampler.v_to_v(h_a, h_b, v, num_gibbs= 1000)\n",
    "                        inner_key = base_key.format(v_a, v_b)\n",
    "                        if inner_key not in current_dict:\n",
    "                            current_dict[inner_key] = 1\n",
    "                        else:\n",
    "                            current_dict[inner_key] = current_dict[inner_key] + 1\n",
    "\n",
    "                    result_dict[key] = current_dict\n",
    "    return result_dict"
   ]
  },
  {
   "cell_type": "markdown",
   "metadata": {},
   "source": [
    "# Reconstructions in the two bit system #\n",
    "-----\n",
    "\n",
    "I would expect (and hope) for all possible hidden configurations when the visible in in state [1,1] the reconstructions produced would be either v_a = [1,0] v_b = [0,1] or visa versa."
   ]
  },
  {
   "cell_type": "code",
   "execution_count": 30,
   "metadata": {
    "collapsed": false
   },
   "outputs": [
    {
     "data": {
      "text/plain": [
       "{'ha[0 0] hb[0 0] v[1 1]': {'v_a[0 0] v_b[0 1]': 2,\n",
       "  'v_a[0 0] v_b[1 0]': 1,\n",
       "  'v_a[0 1] v_b[0 0]': 1,\n",
       "  'v_a[0 1] v_b[0 1]': 2,\n",
       "  'v_a[0 1] v_b[1 0]': 45,\n",
       "  'v_a[1 0] v_b[0 1]': 34,\n",
       "  'v_a[1 0] v_b[1 0]': 6,\n",
       "  'v_a[1 0] v_b[1 1]': 5,\n",
       "  'v_a[1 1] v_b[0 0]': 1,\n",
       "  'v_a[1 1] v_b[0 1]': 1,\n",
       "  'v_a[1 1] v_b[1 0]': 2},\n",
       " 'ha[0 0] hb[0 1] v[1 1]': {'v_a[0 0] v_b[0 1]': 3,\n",
       "  'v_a[0 0] v_b[1 0]': 2,\n",
       "  'v_a[0 1] v_b[0 0]': 3,\n",
       "  'v_a[0 1] v_b[0 1]': 4,\n",
       "  'v_a[0 1] v_b[1 0]': 32,\n",
       "  'v_a[0 1] v_b[1 1]': 5,\n",
       "  'v_a[1 0] v_b[0 0]': 1,\n",
       "  'v_a[1 0] v_b[0 1]': 34,\n",
       "  'v_a[1 0] v_b[1 0]': 6,\n",
       "  'v_a[1 0] v_b[1 1]': 2,\n",
       "  'v_a[1 1] v_b[0 1]': 6,\n",
       "  'v_a[1 1] v_b[1 0]': 2},\n",
       " 'ha[0 0] hb[1 0] v[1 1]': {'v_a[0 0] v_b[0 1]': 1,\n",
       "  'v_a[0 0] v_b[1 0]': 1,\n",
       "  'v_a[0 1] v_b[0 0]': 6,\n",
       "  'v_a[0 1] v_b[0 1]': 3,\n",
       "  'v_a[0 1] v_b[1 0]': 36,\n",
       "  'v_a[0 1] v_b[1 1]': 5,\n",
       "  'v_a[1 0] v_b[0 1]': 38,\n",
       "  'v_a[1 0] v_b[1 0]': 4,\n",
       "  'v_a[1 0] v_b[1 1]': 4,\n",
       "  'v_a[1 1] v_b[0 1]': 1,\n",
       "  'v_a[1 1] v_b[1 1]': 1},\n",
       " 'ha[0 0] hb[1 1] v[1 1]': {'v_a[0 0] v_b[0 1]': 3,\n",
       "  'v_a[0 0] v_b[1 0]': 2,\n",
       "  'v_a[0 1] v_b[0 0]': 5,\n",
       "  'v_a[0 1] v_b[1 0]': 43,\n",
       "  'v_a[0 1] v_b[1 1]': 5,\n",
       "  'v_a[1 0] v_b[0 0]': 2,\n",
       "  'v_a[1 0] v_b[0 1]': 29,\n",
       "  'v_a[1 0] v_b[1 0]': 3,\n",
       "  'v_a[1 0] v_b[1 1]': 4,\n",
       "  'v_a[1 1] v_b[0 1]': 1,\n",
       "  'v_a[1 1] v_b[1 0]': 2,\n",
       "  'v_a[1 1] v_b[1 1]': 1},\n",
       " 'ha[0 1] hb[0 0] v[1 1]': {'v_a[0 0] v_b[1 0]': 1,\n",
       "  'v_a[0 0] v_b[1 1]': 1,\n",
       "  'v_a[0 1] v_b[0 0]': 1,\n",
       "  'v_a[0 1] v_b[0 1]': 3,\n",
       "  'v_a[0 1] v_b[1 0]': 37,\n",
       "  'v_a[0 1] v_b[1 1]': 3,\n",
       "  'v_a[1 0] v_b[0 0]': 1,\n",
       "  'v_a[1 0] v_b[0 1]': 41,\n",
       "  'v_a[1 0] v_b[1 0]': 4,\n",
       "  'v_a[1 0] v_b[1 1]': 3,\n",
       "  'v_a[1 1] v_b[0 1]': 2,\n",
       "  'v_a[1 1] v_b[1 0]': 1,\n",
       "  'v_a[1 1] v_b[1 1]': 2},\n",
       " 'ha[0 1] hb[0 1] v[1 1]': {'v_a[0 0] v_b[0 1]': 1,\n",
       "  'v_a[0 0] v_b[1 0]': 2,\n",
       "  'v_a[0 0] v_b[1 1]': 1,\n",
       "  'v_a[0 1] v_b[0 0]': 2,\n",
       "  'v_a[0 1] v_b[0 1]': 4,\n",
       "  'v_a[0 1] v_b[1 0]': 39,\n",
       "  'v_a[0 1] v_b[1 1]': 2,\n",
       "  'v_a[1 0] v_b[0 0]': 1,\n",
       "  'v_a[1 0] v_b[0 1]': 42,\n",
       "  'v_a[1 1] v_b[0 0]': 1,\n",
       "  'v_a[1 1] v_b[0 1]': 2,\n",
       "  'v_a[1 1] v_b[1 0]': 3},\n",
       " 'ha[0 1] hb[1 0] v[1 1]': {'v_a[0 0] v_b[0 1]': 2,\n",
       "  'v_a[0 0] v_b[1 0]': 3,\n",
       "  'v_a[0 1] v_b[0 0]': 1,\n",
       "  'v_a[0 1] v_b[0 1]': 3,\n",
       "  'v_a[0 1] v_b[1 0]': 38,\n",
       "  'v_a[0 1] v_b[1 1]': 2,\n",
       "  'v_a[1 0] v_b[0 0]': 1,\n",
       "  'v_a[1 0] v_b[0 1]': 39,\n",
       "  'v_a[1 0] v_b[1 0]': 3,\n",
       "  'v_a[1 0] v_b[1 1]': 2,\n",
       "  'v_a[1 1] v_b[0 0]': 1,\n",
       "  'v_a[1 1] v_b[0 1]': 3,\n",
       "  'v_a[1 1] v_b[1 0]': 1,\n",
       "  'v_a[1 1] v_b[1 1]': 1},\n",
       " 'ha[0 1] hb[1 1] v[1 1]': {'v_a[0 0] v_b[0 1]': 1,\n",
       "  'v_a[0 0] v_b[1 0]': 3,\n",
       "  'v_a[0 1] v_b[0 0]': 2,\n",
       "  'v_a[0 1] v_b[0 1]': 8,\n",
       "  'v_a[0 1] v_b[1 0]': 41,\n",
       "  'v_a[1 0] v_b[0 0]': 1,\n",
       "  'v_a[1 0] v_b[0 1]': 35,\n",
       "  'v_a[1 0] v_b[1 0]': 3,\n",
       "  'v_a[1 0] v_b[1 1]': 2,\n",
       "  'v_a[1 1] v_b[0 0]': 1,\n",
       "  'v_a[1 1] v_b[0 1]': 3},\n",
       " 'ha[1 0] hb[0 0] v[1 1]': {'v_a[0 0] v_b[0 1]': 1,\n",
       "  'v_a[0 0] v_b[1 0]': 1,\n",
       "  'v_a[0 0] v_b[1 1]': 2,\n",
       "  'v_a[0 1] v_b[0 0]': 1,\n",
       "  'v_a[0 1] v_b[0 1]': 5,\n",
       "  'v_a[0 1] v_b[1 0]': 41,\n",
       "  'v_a[0 1] v_b[1 1]': 1,\n",
       "  'v_a[1 0] v_b[0 0]': 4,\n",
       "  'v_a[1 0] v_b[0 1]': 32,\n",
       "  'v_a[1 0] v_b[1 0]': 6,\n",
       "  'v_a[1 0] v_b[1 1]': 2,\n",
       "  'v_a[1 1] v_b[0 0]': 1,\n",
       "  'v_a[1 1] v_b[0 1]': 1,\n",
       "  'v_a[1 1] v_b[1 1]': 2},\n",
       " 'ha[1 0] hb[0 1] v[1 1]': {'v_a[0 0] v_b[0 0]': 1,\n",
       "  'v_a[0 0] v_b[0 1]': 2,\n",
       "  'v_a[0 0] v_b[1 0]': 1,\n",
       "  'v_a[0 1] v_b[0 1]': 3,\n",
       "  'v_a[0 1] v_b[1 0]': 43,\n",
       "  'v_a[1 0] v_b[0 1]': 34,\n",
       "  'v_a[1 0] v_b[1 0]': 2,\n",
       "  'v_a[1 0] v_b[1 1]': 3,\n",
       "  'v_a[1 1] v_b[0 1]': 8,\n",
       "  'v_a[1 1] v_b[1 0]': 2,\n",
       "  'v_a[1 1] v_b[1 1]': 1},\n",
       " 'ha[1 0] hb[1 0] v[1 1]': {'v_a[0 0] v_b[0 1]': 2,\n",
       "  'v_a[0 0] v_b[1 0]': 3,\n",
       "  'v_a[0 1] v_b[0 0]': 1,\n",
       "  'v_a[0 1] v_b[0 1]': 5,\n",
       "  'v_a[0 1] v_b[1 0]': 39,\n",
       "  'v_a[0 1] v_b[1 1]': 2,\n",
       "  'v_a[1 0] v_b[0 1]': 35,\n",
       "  'v_a[1 0] v_b[1 0]': 6,\n",
       "  'v_a[1 0] v_b[1 1]': 1,\n",
       "  'v_a[1 1] v_b[0 1]': 2,\n",
       "  'v_a[1 1] v_b[1 0]': 4},\n",
       " 'ha[1 0] hb[1 1] v[1 1]': {'v_a[0 0] v_b[0 1]': 5,\n",
       "  'v_a[0 0] v_b[1 0]': 2,\n",
       "  'v_a[0 0] v_b[1 1]': 2,\n",
       "  'v_a[0 1] v_b[0 0]': 1,\n",
       "  'v_a[0 1] v_b[0 1]': 4,\n",
       "  'v_a[0 1] v_b[1 0]': 45,\n",
       "  'v_a[0 1] v_b[1 1]': 3,\n",
       "  'v_a[1 0] v_b[0 1]': 28,\n",
       "  'v_a[1 0] v_b[1 0]': 4,\n",
       "  'v_a[1 0] v_b[1 1]': 3,\n",
       "  'v_a[1 1] v_b[0 0]': 1,\n",
       "  'v_a[1 1] v_b[0 1]': 1,\n",
       "  'v_a[1 1] v_b[1 0]': 1},\n",
       " 'ha[1 1] hb[0 0] v[1 1]': {'v_a[0 0] v_b[0 1]': 3,\n",
       "  'v_a[0 0] v_b[1 0]': 2,\n",
       "  'v_a[0 1] v_b[0 0]': 2,\n",
       "  'v_a[0 1] v_b[0 1]': 4,\n",
       "  'v_a[0 1] v_b[1 0]': 33,\n",
       "  'v_a[0 1] v_b[1 1]': 1,\n",
       "  'v_a[1 0] v_b[0 1]': 44,\n",
       "  'v_a[1 0] v_b[1 0]': 6,\n",
       "  'v_a[1 0] v_b[1 1]': 1,\n",
       "  'v_a[1 1] v_b[0 1]': 2,\n",
       "  'v_a[1 1] v_b[1 0]': 1,\n",
       "  'v_a[1 1] v_b[1 1]': 1},\n",
       " 'ha[1 1] hb[0 1] v[1 1]': {'v_a[0 0] v_b[0 0]': 1,\n",
       "  'v_a[0 0] v_b[0 1]': 2,\n",
       "  'v_a[0 1] v_b[0 0]': 2,\n",
       "  'v_a[0 1] v_b[0 1]': 2,\n",
       "  'v_a[0 1] v_b[1 0]': 33,\n",
       "  'v_a[0 1] v_b[1 1]': 2,\n",
       "  'v_a[1 0] v_b[0 0]': 3,\n",
       "  'v_a[1 0] v_b[0 1]': 46,\n",
       "  'v_a[1 0] v_b[1 0]': 4,\n",
       "  'v_a[1 0] v_b[1 1]': 3,\n",
       "  'v_a[1 1] v_b[0 1]': 1,\n",
       "  'v_a[1 1] v_b[1 0]': 1},\n",
       " 'ha[1 1] hb[1 0] v[1 1]': {'v_a[0 0] v_b[0 1]': 3,\n",
       "  'v_a[0 0] v_b[1 0]': 1,\n",
       "  'v_a[0 0] v_b[1 1]': 1,\n",
       "  'v_a[0 1] v_b[0 0]': 2,\n",
       "  'v_a[0 1] v_b[0 1]': 1,\n",
       "  'v_a[0 1] v_b[1 0]': 30,\n",
       "  'v_a[0 1] v_b[1 1]': 6,\n",
       "  'v_a[1 0] v_b[0 1]': 45,\n",
       "  'v_a[1 0] v_b[1 0]': 3,\n",
       "  'v_a[1 0] v_b[1 1]': 4,\n",
       "  'v_a[1 1] v_b[0 0]': 1,\n",
       "  'v_a[1 1] v_b[0 1]': 3},\n",
       " 'ha[1 1] hb[1 1] v[1 1]': {'v_a[0 0] v_b[0 1]': 1,\n",
       "  'v_a[0 0] v_b[1 0]': 2,\n",
       "  'v_a[0 1] v_b[0 0]': 3,\n",
       "  'v_a[0 1] v_b[0 1]': 4,\n",
       "  'v_a[0 1] v_b[1 0]': 43,\n",
       "  'v_a[0 1] v_b[1 1]': 2,\n",
       "  'v_a[1 0] v_b[0 1]': 34,\n",
       "  'v_a[1 0] v_b[1 0]': 4,\n",
       "  'v_a[1 0] v_b[1 1]': 2,\n",
       "  'v_a[1 1] v_b[0 0]': 1,\n",
       "  'v_a[1 1] v_b[0 1]': 3,\n",
       "  'v_a[1 1] v_b[1 1]': 1}}"
      ]
     },
     "execution_count": 30,
     "metadata": {},
     "output_type": "execute_result"
    }
   ],
   "source": [
    "results = performance(np.array([1,1]), a)\n",
    "results"
   ]
  },
  {
   "cell_type": "markdown",
   "metadata": {},
   "source": [
    "##Excellent!## \n",
    "\n",
    "In all case it falls into a stable visible configuration and successfully separates the visibles."
   ]
  },
  {
   "cell_type": "code",
   "execution_count": 77,
   "metadata": {
    "collapsed": false
   },
   "outputs": [],
   "source": [
    "def plot_avg_results_for_visible_pattern(v, sampler):\n",
    "    results = performance(v, sampler)\n",
    "    \n",
    "    avgd_results = {}\n",
    "    for key in results:\n",
    "        results[key]\n",
    "        for inner_key in results[key]:\n",
    "            if inner_key not in avgd_results:\n",
    "                avgd_results[inner_key] = results[key][inner_key]\n",
    "            else:\n",
    "                avgd_results[inner_key] += results[key][inner_key]\n",
    "                \n",
    "    keys = []\n",
    "    vals = []\n",
    "    for key in avgd_results:\n",
    "        keys.append(key)\n",
    "        vals.append(avgd_results[key])\n",
    "\n",
    "    plt.title(\"Avg reconstruction given v:{}\".format(v))\n",
    "    plt.bar(range(len(vals)), vals, align='center')\n",
    "    plt.xticks(range(len(keys)), keys, rotation='vertical')\n",
    "    plt.show()\n"
   ]
  },
  {
   "cell_type": "code",
   "execution_count": 78,
   "metadata": {
    "collapsed": false
   },
   "outputs": [
    {
     "data": {
      "image/png": "[encoded data removed]",
      "text/plain": [
       "<matplotlib.figure.Figure at 0x115570f98>"
      ]
     },
     "metadata": {},
     "output_type": "display_data"
    }
   ],
   "source": [
    "plot_avg_results_for_visible_pattern(np.array([1,1]), a)"
   ]
  },
  {
   "cell_type": "markdown",
   "metadata": {},
   "source": [
    "# Yussssssssss#\n",
    "This is perfect, over all cases for the visible pattern it can separate it. Creating excellent reconstructions the majority of the time."
   ]
  },
  {
   "cell_type": "code",
   "execution_count": 79,
   "metadata": {
    "collapsed": false
   },
   "outputs": [
    {
     "data": {
      "image/png": "[encoded data removed]",
      "text/plain": [
       "<matplotlib.figure.Figure at 0x111f23a20>"
      ]
     },
     "metadata": {},
     "output_type": "display_data"
    },
    {
     "data": {
      "image/png": "[encoded data removed]",
      "text/plain": [
       "<matplotlib.figure.Figure at 0x115e98668>"
      ]
     },
     "metadata": {},
     "output_type": "display_data"
    }
   ],
   "source": [
    "plot_avg_results_for_visible_pattern(np.array([1,0]), a)\n",
    "plot_avg_results_for_visible_pattern(np.array([0,1]), a)"
   ]
  },
  {
   "cell_type": "code",
   "execution_count": null,
   "metadata": {
    "collapsed": true
   },
   "outputs": [],
   "source": []
  }
 ],
 "metadata": {
  "kernelspec": {
   "display_name": "Python 3",
   "language": "python",
   "name": "python3"
  },
  "language_info": {
   "codemirror_mode": {
    "name": "ipython",
    "version": 3
   },
   "file_extension": ".py",
   "mimetype": "text/x-python",
   "name": "python",
   "nbconvert_exporter": "python",
   "pygments_lexer": "ipython3",
   "version": "3.4.3"
  }
 },
 "nbformat": 4,
 "nbformat_minor": 0
}
