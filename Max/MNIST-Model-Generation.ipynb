{
 "cells": [
  {
   "cell_type": "code",
   "execution_count": 1,
   "metadata": {
    "collapsed": false
   },
   "outputs": [],
   "source": [
    "from scipy.special import expit\n",
    "from rbmpy.rbm import RBM\n",
    "from rbmpy.sampler import VanillaSampler,ContinuousSampler,ContinuousApproxSampler, ContinuousApproxMulDimSampler, ApproximatedSampler, LayerWiseApproxSampler,ApproximatedMulDimSampler\n",
    "from rbmpy.trainer import VanillaTrainier\n",
    "from rbmpy.performance import Result\n",
    "import numpy as np\n",
    "import rbmpy.datasets, rbmpy.performance, rbmpy.plotter, pickle, rbmpy.rbm, os, logging, rbmpy.sampler,math\n",
    "import math\n",
    "from rbmpy.rbm import weights_into_hiddens\n",
    "\n",
    "import rbmpy.plotter as pp\n",
    "from numpy import newaxis\n",
    "from collections import Counter\n",
    "\n",
    "import matplotlib.pyplot as plt\n",
    "import matplotlib.image as mpimg\n",
    "\n",
    "logger = logging.getLogger()\n",
    "# Set the logging level to logging.DEBUG \n",
    "logger.setLevel(logging.INFO)\n",
    "\n",
    "%matplotlib inline"
   ]
  },
  {
   "cell_type": "code",
   "execution_count": 3,
   "metadata": {
    "collapsed": true
   },
   "outputs": [],
   "source": [
    "ds_zeros = np.load('datasets/0.npy')\n",
    "ds_ones = np.load('datasets/1.npy')\n",
    "ds_twos = np.load('datasets/2.npy')\n",
    "ds_three = np.load('datasets/3.npy')\n",
    "ds_four = np.load('datasets/4.npy')\n",
    "ds_five = np.load('datasets/5.npy')\n",
    "ds_six = np.load('datasets/6.npy')\n",
    "ds_seven = np.load('datasets/7.npy')\n",
    "ds_eight = np.load('datasets/8.npy')\n",
    "ds_nine = np.load('datasets/9.npy')\n",
    "ds = [ds_zeros, ds_ones, ds_twos, ds_three, ds_four,ds_five,ds_six,ds_seven,ds_eight,ds_nine]"
   ]
  },
  {
   "cell_type": "code",
   "execution_count": 4,
   "metadata": {
    "collapsed": true
   },
   "outputs": [],
   "source": [
    "def train_two_models(dataset_one, dataset_two,num_hid, epochs ,training_size = 100):\n",
    "\n",
    "    ds_1_train = dataset_one[0:training_size]\n",
    "    ds_2_train = dataset_two[0:training_size]\n",
    "    ds_comp_train = np.maximum(ds_2_train, ds_1_train)\n",
    "    \n",
    "    return (get_model_and_trainer(num_hid[0],ds_1_train,epochs[0]),  get_model_and_trainer(num_hid[1],ds_2_train,epochs[1]))\n",
    "\n",
    "\n",
    "def eval_complex_model(model):\n",
    "    sampler = ContinuousSampler(model)\n",
    "    \n",
    "    num_vis = round(math.sqrt(model.visible.shape[1]))\n",
    "    \n",
    "    logging.info(\"Reconstruction/Samples\")\n",
    "    pp.images(sampler.reconstruction_given_visible(model.visible).reshape(model.visible.shape[0],28,28)[0:5])\n",
    "    logging.info(\"Dreams\")\n",
    "    dream = sampler.dream(model)\n",
    "    print(dream.min(), dream.max())\n",
    "    pp.image(dream.reshape(num_vis,num_vis), color_range= (0,1))\n",
    "    logging.info(\"Hinton Diagrams 0 - 10\")\n",
    "    pp.images(rbmpy.rbm.weights_into_hiddens(model.weights)[:15], cmap=\"Greys\")"
   ]
  },
  {
   "cell_type": "code",
   "execution_count": 5,
   "metadata": {
    "collapsed": false
   },
   "outputs": [],
   "source": [
    "def get_model_and_trainer(num_hid, training, epochs, batches, l_r = 0.002):\n",
    "    training_size = training.shape[0]\n",
    "    num_vis = training.shape[1] * training.shape[2]\n",
    "    model = RBM(num_hid,num_vis, training_size)\n",
    "    trainerer(model, training, epochs, l_r, batches)\n",
    "#     trainer.train(epochs, rbmpy.datasets.flatten_data_set(training), learning_rate = l_r,logging_freq=10)\n",
    "    return model\n",
    "\n",
    "def trainerer(model,training,epochs,l_r, batches):\n",
    "    sampler = ContinuousSampler(model)\n",
    "    trainer = VanillaTrainier(model, sampler)\n",
    "    trainer.batch_train(epochs,rbmpy.datasets.flatten_data_set(training), batches, learning_rate = l_r)\n",
    "    \n",
    "def save_model(model, name):\n",
    "    with open(\"models/{}\".format(name), 'wb') as f:\n",
    "        pickle.dump(model,f)"
   ]
  },
  {
   "cell_type": "code",
   "execution_count": 7,
   "metadata": {
    "collapsed": false
   },
   "outputs": [
    {
     "name": "stderr",
     "output_type": "stream",
     "text": [
      "INFO:Batch Logger:Created Progress logger for task - Batch Logger\n",
      "INFO:Batch Logger:0.0% complete\n",
      "INFO:Batch Logger:20.0% complete\n",
      "INFO:Batch Logger:40.0% complete\n",
      "INFO:Batch Logger:60.0% complete\n",
      "INFO:Batch Logger:80.0% complete\n"
     ]
    }
   ],
   "source": [
    "a=  get_model_and_trainer(300, ds_zeros[:200], 1000, 5,l_r=0.006)\n",
    "!say \"Done.\""
   ]
  },
  {
   "cell_type": "code",
   "execution_count": 8,
   "metadata": {
    "collapsed": false
   },
   "outputs": [
    {
     "name": "stderr",
     "output_type": "stream",
     "text": [
      "INFO:Batch Logger:Created Progress logger for task - Batch Logger\n",
      "INFO:Batch Logger:0.0% complete\n",
      "INFO:Batch Logger:20.0% complete\n",
      "INFO:Batch Logger:40.0% complete\n",
      "INFO:Batch Logger:60.0% complete\n",
      "INFO:Batch Logger:80.0% complete\n",
      "INFO:Batch Logger:Created Progress logger for task - Batch Logger\n",
      "INFO:Batch Logger:0.0% complete\n",
      "INFO:Batch Logger:20.0% complete\n",
      "INFO:Batch Logger:40.0% complete\n",
      "INFO:Batch Logger:60.0% complete\n",
      "INFO:Batch Logger:80.0% complete\n",
      "INFO:Batch Logger:Created Progress logger for task - Batch Logger\n",
      "INFO:Batch Logger:0.0% complete\n",
      "INFO:Batch Logger:20.0% complete\n",
      "INFO:Batch Logger:40.0% complete\n",
      "INFO:Batch Logger:60.0% complete\n",
      "INFO:Batch Logger:80.0% complete\n",
      "INFO:Batch Logger:Created Progress logger for task - Batch Logger\n",
      "INFO:Batch Logger:0.0% complete\n",
      "INFO:Batch Logger:20.0% complete\n",
      "INFO:Batch Logger:40.0% complete\n",
      "INFO:Batch Logger:60.0% complete\n",
      "INFO:Batch Logger:80.0% complete\n",
      "INFO:Batch Logger:Created Progress logger for task - Batch Logger\n",
      "INFO:Batch Logger:0.0% complete\n",
      "INFO:Batch Logger:20.0% complete\n",
      "INFO:Batch Logger:40.0% complete\n",
      "INFO:Batch Logger:60.0% complete\n",
      "INFO:Batch Logger:80.0% complete\n",
      "INFO:Batch Logger:Created Progress logger for task - Batch Logger\n",
      "INFO:Batch Logger:0.0% complete\n",
      "INFO:Batch Logger:20.0% complete\n",
      "INFO:Batch Logger:40.0% complete\n",
      "INFO:Batch Logger:60.0% complete\n",
      "INFO:Batch Logger:80.0% complete\n",
      "INFO:Batch Logger:Created Progress logger for task - Batch Logger\n",
      "INFO:Batch Logger:0.0% complete\n",
      "INFO:Batch Logger:20.0% complete\n",
      "INFO:Batch Logger:40.0% complete\n",
      "INFO:Batch Logger:60.0% complete\n",
      "INFO:Batch Logger:80.0% complete\n",
      "INFO:Batch Logger:Created Progress logger for task - Batch Logger\n",
      "INFO:Batch Logger:0.0% complete\n",
      "INFO:Batch Logger:20.0% complete\n",
      "INFO:Batch Logger:40.0% complete\n",
      "INFO:Batch Logger:60.0% complete\n",
      "INFO:Batch Logger:80.0% complete\n",
      "INFO:Batch Logger:Created Progress logger for task - Batch Logger\n",
      "INFO:Batch Logger:0.0% complete\n",
      "INFO:Batch Logger:20.0% complete\n",
      "INFO:Batch Logger:40.0% complete\n",
      "INFO:Batch Logger:60.0% complete\n",
      "INFO:Batch Logger:80.0% complete\n"
     ]
    }
   ],
   "source": [
    "for d in ds[1:]:\n",
    "    trainerer(a,d[:200], 1000,l_r = 0.006, batches= 5 )"
   ]
  },
  {
   "cell_type": "code",
   "execution_count": 9,
   "metadata": {
    "collapsed": true
   },
   "outputs": [],
   "source": [
    "!say \"Completely finished!\""
   ]
  },
  {
   "cell_type": "code",
   "execution_count": 58,
   "metadata": {
    "collapsed": false
   },
   "outputs": [
    {
     "name": "stderr",
     "output_type": "stream",
     "text": [
      "INFO:Batch Logger:Created Progress logger for task - Batch Logger\n",
      "INFO:Batch Logger:0.0% complete\n",
      "INFO:Batch Logger:20.0% complete\n",
      "INFO:Batch Logger:40.0% complete\n",
      "INFO:Batch Logger:60.0% complete\n",
      "INFO:Batch Logger:80.0% complete\n"
     ]
    }
   ],
   "source": [
    "trainerer(a,ds_nine[:200], 500,l_r = 0.002, batches= 5 )\n",
    "\n"
   ]
  },
  {
   "cell_type": "code",
   "execution_count": 11,
   "metadata": {
    "collapsed": false
   },
   "outputs": [
    {
     "name": "stderr",
     "output_type": "stream",
     "text": [
      "INFO:root:Reconstruction/Samples\n"
     ]
    },
    {
     "data": {
      "image/png": "[encoded data removed]",
      "text/plain": [
       "<matplotlib.figure.Figure at 0x1289859b0>"
      ]
     },
     "metadata": {},
     "output_type": "display_data"
    },
    {
     "name": "stderr",
     "output_type": "stream",
     "text": [
      "INFO:root:Dreams\n"
     ]
    },
    {
     "name": "stdout",
     "output_type": "stream",
     "text": [
      "3.74707945964e-09 0.998004527755\n"
     ]
    },
    {
     "data": {
      "image/png": "[encoded data removed]",
      "text/plain": [
       "<matplotlib.figure.Figure at 0x13a923470>"
      ]
     },
     "metadata": {},
     "output_type": "display_data"
    },
    {
     "name": "stderr",
     "output_type": "stream",
     "text": [
      "INFO:root:Hinton Diagrams 0 - 10\n"
     ]
    },
    {
     "data": {
      "image/png": "[encoded data removed]",
      "text/plain": [
       "<matplotlib.figure.Figure at 0x1289ee160>"
      ]
     },
     "metadata": {},
     "output_type": "display_data"
    }
   ],
   "source": [
    "eval_complex_model(a)"
   ]
  },
  {
   "cell_type": "code",
   "execution_count": 12,
   "metadata": {
    "collapsed": false
   },
   "outputs": [],
   "source": [
    "save_model(a, \"all_models\")"
   ]
  },
  {
   "cell_type": "code",
   "execution_count": 15,
   "metadata": {
    "collapsed": true
   },
   "outputs": [
    {
     "name": "stderr",
     "output_type": "stream",
     "text": [
      "INFO:VanillaTrainier:Created Progress logger for task - VanillaTrainier\n",
      "INFO:VanillaTrainier:0.0% complete\n",
      "INFO:VanillaTrainier:5.0% complete\n",
      "INFO:VanillaTrainier:10.0% complete\n",
      "INFO:VanillaTrainier:15.0% complete\n",
      "INFO:VanillaTrainier:20.0% complete\n",
      "INFO:VanillaTrainier:25.0% complete\n",
      "INFO:VanillaTrainier:30.0% complete\n",
      "INFO:VanillaTrainier:35.0% complete\n",
      "INFO:VanillaTrainier:40.0% complete\n",
      "INFO:VanillaTrainier:45.0% complete\n",
      "INFO:VanillaTrainier:50.0% complete\n",
      "INFO:VanillaTrainier:60.0% complete\n",
      "INFO:VanillaTrainier:65.0% complete\n",
      "INFO:VanillaTrainier:70.0% complete\n",
      "INFO:VanillaTrainier:75.0% complete\n",
      "INFO:VanillaTrainier:80.0% complete\n",
      "INFO:VanillaTrainier:85.0% complete\n",
      "INFO:VanillaTrainier:90.0% complete\n",
      "INFO:VanillaTrainier:95.0% complete\n",
      "INFO:VanillaTrainier:Created Progress logger for task - VanillaTrainier\n",
      "INFO:VanillaTrainier:0.0% complete\n",
      "INFO:VanillaTrainier:5.0% complete\n",
      "INFO:VanillaTrainier:10.0% complete\n",
      "INFO:VanillaTrainier:15.0% complete\n",
      "INFO:VanillaTrainier:20.0% complete\n",
      "INFO:VanillaTrainier:25.0% complete\n",
      "INFO:VanillaTrainier:30.0% complete\n",
      "INFO:VanillaTrainier:35.0% complete\n",
      "INFO:VanillaTrainier:40.0% complete\n",
      "INFO:VanillaTrainier:45.0% complete\n",
      "INFO:VanillaTrainier:50.0% complete\n",
      "INFO:VanillaTrainier:60.0% complete\n",
      "INFO:VanillaTrainier:65.0% complete\n",
      "INFO:VanillaTrainier:70.0% complete\n",
      "INFO:VanillaTrainier:75.0% complete\n",
      "INFO:VanillaTrainier:80.0% complete\n",
      "INFO:VanillaTrainier:85.0% complete\n",
      "INFO:VanillaTrainier:90.0% complete\n",
      "INFO:VanillaTrainier:95.0% complete\n"
     ]
    }
   ],
   "source": [
    "a,b = train_two_models(ds_ones[:100],ds_twos[:100],(300 ,300),(100,100))"
   ]
  }
 ],
 "metadata": {
  "kernelspec": {
   "display_name": "Python 3",
   "language": "python",
   "name": "python3"
  },
  "language_info": {
   "codemirror_mode": {
    "name": "ipython",
    "version": 3
   },
   "file_extension": ".py",
   "mimetype": "text/x-python",
   "name": "python",
   "nbconvert_exporter": "python",
   "pygments_lexer": "ipython3",
   "version": "3.4.3"
  }
 },
 "nbformat": 4,
 "nbformat_minor": 0
}
