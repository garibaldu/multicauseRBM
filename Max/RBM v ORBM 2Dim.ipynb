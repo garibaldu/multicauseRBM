{
 "cells": [
  {
   "cell_type": "code",
   "execution_count": 1,
   "metadata": {
    "collapsed": false
   },
   "outputs": [],
   "source": [
    "%reset -s -f\n",
    "from scipy.special import expit\n",
    "from rbm import RBM\n",
    "from sampler import VanillaSampler, PartitionedSampler, ApproximatedSampler, LayerWiseApproxSampler\n",
    "from trainer import VanillaTrainier\n",
    "from performance import Result\n",
    "import numpy as np\n",
    "import datasets, performance, plotter, mnist, pickle, rbm, os, logging, sampler\n",
    "from sklearn.linear_model import Perceptron\n",
    "from sklearn.neural_network import BernoulliRBM\n",
    "import plotter as pp\n",
    "\n",
    "from collections import Counter\n",
    "\n",
    "import matplotlib.pyplot as plt\n",
    "import matplotlib.image as mpimg\n",
    "\n",
    "logger = logging.getLogger()\n",
    "# Set the logging level to logging.DEBUG \n",
    "logger.setLevel(logging.INFO)\n",
    "\n",
    "\n",
    "%matplotlib inline\n",
    "from IPython.core.debugger import Tracer; debug_here = Tracer()"
   ]
  },
  {
   "cell_type": "code",
   "execution_count": 2,
   "metadata": {
    "collapsed": true
   },
   "outputs": [],
   "source": [
    "def squash_images(imgs):\n",
    "    squashed = np.array(imgs)\n",
    "    old_shape = squashed.shape\n",
    "    squashed = squashed.reshape(old_shape[0], old_shape[1] * old_shape[2])\n",
    "    return squashed\n",
    "\n",
    "def inflate_images(imgs):\n",
    "    inflated = np.array(imgs)\n",
    "    old_shape = inflated.shape\n",
    "    \n",
    "    inflated = inflated.reshape(old_shape[0], old_shape[1]**2)\n",
    "    return squashed"
   ]
  },
  {
   "cell_type": "code",
   "execution_count": 3,
   "metadata": {
    "collapsed": false
   },
   "outputs": [],
   "source": [
    "def gen_square(xy,sq_shape, img_size):\n",
    "    \"\"\"Square image starting at i, of sq_size within img_size. i must be < (sq_size + img_size)\"\"\"\n",
    "    img = np.zeros(img_size)\n",
    "    x = xy[0]\n",
    "    y = xy[1]\n",
    "    x2 = x + sq_shape[0]\n",
    "    y2 = y + sq_shape[1]\n",
    "    img[x:x2,y:y2] = 1\n",
    "    return img"
   ]
  },
  {
   "cell_type": "code",
   "execution_count": 4,
   "metadata": {
    "collapsed": true
   },
   "outputs": [],
   "source": [
    "def gen_training(sq_shape, img_size):\n",
    "    if img_size[0] != img_size[1]:\n",
    "        logger.warn(\"Unsquashing will not work with none squares yet!\")\n",
    "    training = []\n",
    "    for x in range(img_size[0]-1):\n",
    "        for y in range(img_size[1]-1):\n",
    "            training.append(gen_square((x,y), sq_shape, img_size))\n",
    "    return np.array(training)"
   ]
  },
  {
   "cell_type": "code",
   "execution_count": 5,
   "metadata": {
    "collapsed": false
   },
   "outputs": [
    {
     "data": {
      "image/png": "[encoded data removed]",
      "text/plain": [
       "<matplotlib.figure.Figure at 0x10d994eb8>"
      ]
     },
     "metadata": {},
     "output_type": "display_data"
    }
   ],
   "source": [
    "train = gen_training((2,2),(5,5))\n",
    "np.random.shuffle(train)\n",
    "pp.images(train)"
   ]
  },
  {
   "cell_type": "code",
   "execution_count": 11,
   "metadata": {
    "collapsed": false
   },
   "outputs": [],
   "source": [
    "# self.rbm.weights += learning_rate * (hebbian_pos - hebbian_neg).sum(0).transpose()\n",
    "model = RBM(50,25,16)\n",
    "s = VanillaSampler(model)\n",
    "t = VanillaTrainier(model, s)\n",
    "t.train(100000, squash_images(train))"
   ]
  },
  {
   "cell_type": "code",
   "execution_count": 48,
   "metadata": {
    "collapsed": false
   },
   "outputs": [
    {
     "data": {
      "image/png": "[encoded data removed]",
      "text/plain": [
       "<matplotlib.figure.Figure at 0x10daa4748>"
      ]
     },
     "metadata": {},
     "output_type": "display_data"
    }
   ],
   "source": [
    "pp.image(s.dream(model).reshape(5,5))"
   ]
  },
  {
   "cell_type": "code",
   "execution_count": 14,
   "metadata": {
    "collapsed": false
   },
   "outputs": [
    {
     "data": {
      "image/png": "[encoded data removed]",
      "text/plain": [
       "<matplotlib.figure.Figure at 0x10d994710>"
      ]
     },
     "metadata": {},
     "output_type": "display_data"
    }
   ],
   "source": [
    "pp.images(rbm.weights_into_hiddens(model.weights)[5:7], cmap='Greys')"
   ]
  }
 ],
 "metadata": {
  "kernelspec": {
   "display_name": "Python 3",
   "language": "python",
   "name": "python3"
  },
  "language_info": {
   "codemirror_mode": {
    "name": "ipython",
    "version": 3
   },
   "file_extension": ".py",
   "mimetype": "text/x-python",
   "name": "python",
   "nbconvert_exporter": "python",
   "pygments_lexer": "ipython3",
   "version": "3.4.3"
  }
 },
 "nbformat": 4,
 "nbformat_minor": 0
}
