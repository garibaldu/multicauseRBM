{
 "cells": [
  {
   "cell_type": "markdown",
   "metadata": {},
   "source": [
    "#RBM Versus ORBM#\n",
    "\n",
    "\n",
    "###Context###\n",
    "\n",
    "In this experiement I want to objectively try and find a minimal scenario where the ORBM can do something and RBM of equivalent dimensionality can't. Where by equivalent dimentionality I mean an equivalent number of hidden nodes in total between the ORBM and RBM. \n",
    "\n",
    "Both the RBM and ORBM are generative models, meaning I can compare their dreams and see if they perform better or worse generatively. More objectively, I can look at the dreams and see how closely they compare to elements in the training set - In the context of an image this would be slightly difficult as I would need to compare a given dream to all elements in the training set and find the one with the least pixel-wise difference. That difference gets totalled over all dreams and I get a measure of 'badness'. Whereas if I were creating reconstructions from the training set I could examine an approximation of the log-likely of generating the training set.\n",
    "\n",
    "$$  dream badness = \\sum_k ( v_{k}' - v_{closest} )   $$\n",
    "\n",
    "This is awkward to deal with, however I can avoid it in the in the sense that the dataset is only binary and therefore can use a bit mask (? can I? pretty sure that fact that my input is binary and has an obvious shape makes it easy) or something to decide if it is a 'good dream' or not. Dreams give a good way to measure the model captured by the system, if the model can make reconstructions akin to that of the training data then it's internal representation can't be that good.\n",
    "\n",
    "I should clarify when I say model I am often referring to the new technique of sampling, while the model is really just the trained weight matrix in the context of dreams I really mean the technique in which we sample those weights, or collection of weights as is the case in the ORBM.\n",
    "\n",
    "###Test###\n",
    "\n",
    "The test I want to perform is an atomic case where the RBM is outperformed drastically by the ORBM. The test will proceed as follows:\n",
    "\n",
    "- First a Traditional RBM will be trained to recognise a single bit on in a 16 bit vector. To make it crystal clear the training set is equivalent to np.eye(16). \n",
    "- To have any certainty about how this RBM will dream as an ORBM I will create dreams (generate visible patterns) from the RBM and ensure they a representative of the dataset. This should be trivial as any case where the sum over the vector != 1, that is for reconstruction vector $x$  \n",
    "\n",
    "$$ isCorrect =\n",
    "\\begin{cases} \n",
    "  \\Sigma_{i}( x_i) \\neq 1 & Correct \\\\\n",
    "  else & Incorrect\n",
    "\\end{cases}\n",
    " $$ won't match the training set.\n",
    " \n",
    "- Once confidence is gained that the RBM has learned underlying model, I can then copy it. Giving $RBM_A$ and $RBM_B$, both with equivalent weights matrices.\n",
    "- With this I will create a single RBM with the total number of hidden units of $RBM_A$ and $RBM_B$ combined. Here there is a sense of similar dimensionality in the structure of the RBM  and ORBM that hopefully allows us to compare them.\n",
    "- Next we set the Traditonal RBM against the parity problem - it's a pretty hard problem, goal being, to see if it can learn how to model when there are 2 bits present anywhere in $X$ bits. \n",
    "- I suspect it will struggle. And that reconstructions of the best model I can make with this traditional RBM will leave much to be desired. \n",
    "- The composite reconstructions of the ORBM however, should be spot on, because this is the problem they were almost designed for. \n",
    "  \n",
    "\n",
    "###Hypothesis###\n",
    "\n",
    "I suspect that the ORBM should be able to create be generations than an RBM of similar size. The ORBM better captures the causes. The interesting aspect will be finding the threshold for better performance, obviously there will be some number of bits that an RBM can properly capture despite not understanding the multiple causes.\n",
    "\n",
    "###Results###\n",
    "\n",
    "Todo\n"
   ]
  },
  {
   "cell_type": "code",
   "execution_count": 1,
   "metadata": {
    "collapsed": true
   },
   "outputs": [],
   "source": [
    "from scipy.special import expit\n",
    "from rbmpy.rbm import RBM\n",
    "from rbmpy.sampler import VanillaSampler, PartitionedSampler, ApproximatedSampler\n",
    "from rbmpy.trainer import VanillaTrainier\n",
    "from rbmpy.performance import Result\n",
    "import numpy as np\n",
    "import rbmpy.datasets, rbmpy.performance, rbmpy.plotter, rbmpy.mnist, pickle, rbmpy.rbm, os, logging, rbmpy.sampler\n",
    "from sklearn.linear_model import Perceptron\n",
    "from sklearn.neural_network import BernoulliRBM\n",
    "import math\n",
    "import matplotlib.pyplot as plt\n",
    "import matplotlib.image as mpimg\n",
    "import rbmpy.plotter as pp\n",
    "logger = logging.getLogger()\n",
    "logger.setLevel(logging.INFO)\n",
    "\n",
    "\n",
    "%matplotlib inline\n",
    "\n",
    "def plot_weights(weights):\n",
    "    num_hid = weights.shape[0]\n",
    "    num_vis = weights.shape[1]\n",
    "    \n",
    "    # we want a subplot for the weights going into each hidden, that is num_hid subplots\n",
    "    weights_into_h = weights.reshape(num_vis,1,num_hid)\n",
    "    subplot_count = 0\n",
    "    for row in range(num_vis):\n",
    "        plt.subplot(row+1, 1,subplot_count+1)\n",
    "        plt.imshow(weights_into_h[subplot_count], interpolation='nearest', cmap= 'binary')\n",
    "        subplot_count += 1\n",
    "        \n",
    "    plt.show()\n",
    "    \n",
    "class CountingDict(dict):\n",
    "    \n",
    "    def lazy_set(self,key):\n",
    "        if key not in self:\n",
    "            self[key] = 1\n",
    "        else:\n",
    "            self[key] += 1\n",
    "    \n",
    "\n",
    "def key_for_visible(v):\n",
    "    return \"v{}\".format(v)\n",
    "\n",
    "def check_reconstructions(model,v, times = 1000):\n",
    "    result_dict = CountingDict()\n",
    "    v_prime = v\n",
    "    for i in range(times):\n",
    "        v_prime = model.gibbs(v_prime)\n",
    "        result_dict.lazy_set(key_for_visible(v_prime))\n",
    "    return result_dict\n",
    "    \n",
    "    \n",
    "\n",
    "class WrappedRBM(object):\n",
    "\n",
    "    def __init__(self, sampler):\n",
    "        self.sampler = sampler\n",
    "        \n",
    "    def gibbs(self,v):\n",
    "        return self.sampler.reconstruction_given_visible(v)"
   ]
  },
  {
   "cell_type": "markdown",
   "metadata": {},
   "source": [
    "###Step One##\n",
    "\n",
    "Train an RBM to have a good genrative model of a single bit being on in an x-bit visible"
   ]
  },
  {
   "cell_type": "code",
   "execution_count": 3,
   "metadata": {
    "collapsed": false
   },
   "outputs": [
    {
     "name": "stdout",
     "output_type": "stream",
     "text": [
      "Training set:\n",
      "------------------\n",
      "[[ 1.  0.]\n",
      " [ 0.  1.]]\n",
      "------------------\n",
      "\n",
      "Weights:\n",
      "[[-0.39853119 -0.4050483 ]\n",
      " [-0.41876441 -0.39864651]]\n"
     ]
    },
    {
     "data": {
      "image/png": "[encoded data removed]",
      "text/plain": [
       "<matplotlib.figure.Figure at 0x10bce5d68>"
      ]
     },
     "metadata": {},
     "output_type": "display_data"
    },
    {
     "data": {
      "text/plain": [
       "{'v[ True  True]': 87,\n",
       " 'v[ True False]': 978,\n",
       " 'v[False  True]': 886,\n",
       " 'v[False False]': 8049}"
      ]
     },
     "execution_count": 3,
     "metadata": {},
     "output_type": "execute_result"
    }
   ],
   "source": [
    "# lets think about configuration, what number what I need to vary etc\n",
    "rbm_n_hid = 2\n",
    "orbm_n_hid = rbm_n_hid/2.0\n",
    "n_vis = 2\n",
    "l_rate = 0.001\n",
    "\n",
    "training_set = np.eye(n_vis)\n",
    "print(\"Training set:\\n------------------\\n{}\\n------------------\\n\".format(training_set))\n",
    "\n",
    "model = BernoulliRBM(n_components=rbm_n_hid,learning_rate= l_rate ,n_iter=10000)\n",
    "model.fit(training_set)\n",
    "\n",
    "print(\"Weights:\\n{}\".format(model.components_))\n",
    "plot_weights(model.components_)\n",
    "\n",
    "check_reconstructions(model, np.array([1,0]),times = 10000)"
   ]
  },
  {
   "cell_type": "code",
   "execution_count": 6,
   "metadata": {
    "collapsed": false
   },
   "outputs": [
    {
     "name": "stdout",
     "output_type": "stream",
     "text": [
      "{'v[1 1]': 15, 'v[0 1]': 2811, 'v[0 0]': 12, 'v[1 0]': 7162}\n",
      "Weights:\n",
      "[[ 7.29965558 -7.20149033]\n",
      " [-7.20148875  7.53992981]]\n"
     ]
    },
    {
     "data": {
      "image/png": "[encoded data removed]",
      "text/plain": [
       "<matplotlib.figure.Figure at 0x10bfd4da0>"
      ]
     },
     "metadata": {},
     "output_type": "display_data"
    }
   ],
   "source": [
    "rbm = RBM(rbm_n_hid, n_vis,1)\n",
    "sampler = VanillaSampler(rbm)\n",
    "trainer = VanillaTrainier(rbm, sampler)\n",
    "trainer.train(100000,training_set, learning_rate=0.005)\n",
    "\n",
    "\n",
    "  \n",
    "    \n",
    "print(check_reconstructions(WrappedRBM(sampler), np.array([1,0]), times = 10000))\n",
    "print(\"Weights:\\n{}\".format(rbm.weights))\n",
    "plot_weights(rbm.weights)"
   ]
  },
  {
   "cell_type": "code",
   "execution_count": 8,
   "metadata": {
    "collapsed": false
   },
   "outputs": [
    {
     "data": {
      "image/png": "[encoded data removed]",
      "text/plain": [
       "<matplotlib.figure.Figure at 0x10be99f98>"
      ]
     },
     "metadata": {},
     "output_type": "display_data"
    },
    {
     "data": {
      "image/png": "[encoded data removed]",
      "text/plain": [
       "<matplotlib.figure.Figure at 0x10be99240>"
      ]
     },
     "metadata": {},
     "output_type": "display_data"
    }
   ],
   "source": [
    "pp.plot_dict(check_reconstructions(WrappedRBM(sampler), np.array([0,1]), times = 10000), title = \"Reconstructions Given [0,1]\")\n",
    "pp.plot_dict(check_reconstructions(WrappedRBM(sampler), np.array([1,0]), times = 10000), title = \"Reconstructions Given [1,0]\")"
   ]
  },
  {
   "cell_type": "markdown",
   "metadata": {},
   "source": [
    "#Good Model Achieved#\n",
    "\n",
    "As you can see above the reconstructions from the trained RBM do exactly what I would expect, creating good reconstructuons"
   ]
  },
  {
   "cell_type": "code",
   "execution_count": 9,
   "metadata": {
    "collapsed": false
   },
   "outputs": [],
   "source": [
    "# now I should look at the dreams and see if they are kosher\n",
    "def dream(model, sampler, num_gibbs = 1000):\n",
    "    current_v = np.random.randint(2, size= model.visible.shape[1])\n",
    "\n",
    "    dream_hid = np.random.randint(2, size= model.visible.shape[1])\n",
    "    for i in range(num_gibbs):\n",
    "        dream_hid = sampler.visible_to_hidden(current_v)\n",
    "        current_v = sampler.hidden_to_visible(dream_hid)\n",
    "    return current_v\n",
    "\n",
    "def goodnight(model, sampler, hours_of_sleep, num_gibbs_per_hour):\n",
    "    result_dict = CountingDict()\n",
    "    v_prime = dream(model, sampler, num_gibbs_per_hour)\n",
    "    reconstruction_dict = {} # the actual reconstructions that occurred\n",
    "    for i in range(hours_of_sleep):\n",
    "        v_prime = dream(model, sampler, num_gibbs_per_hour)\n",
    "        result_dict.lazy_set(key_for_visible(v_prime))\n",
    "        reconstruction_dict[key_for_visible(v_prime)] = v_prime\n",
    "    return result_dict, reconstruction_dict\n"
   ]
  },
  {
   "cell_type": "code",
   "execution_count": 11,
   "metadata": {
    "collapsed": false
   },
   "outputs": [],
   "source": [
    "a = goodnight(rbm,sampler, 10000,1000)"
   ]
  },
  {
   "cell_type": "code",
   "execution_count": 13,
   "metadata": {
    "collapsed": false
   },
   "outputs": [
    {
     "data": {
      "image/png": "[encoded data removed]",
      "text/plain": [
       "<matplotlib.figure.Figure at 0x108a47cc0>"
      ]
     },
     "metadata": {},
     "output_type": "display_data"
    }
   ],
   "source": [
    "pp.plot_dict(a[0])"
   ]
  },
  {
   "cell_type": "markdown",
   "metadata": {},
   "source": [
    "#Well the model isn't perfect#\n",
    "\n",
    "But it generates good dreams almost all of the time. It favours [1,0] which is a shame but it still has a good idea of a valid configuration. The weights are quite large aswell, all about -+7\n",
    "\n",
    "##Time to scale it up##\n",
    "\n",
    "I will now train and try and get similar results on a larger 1 bit pattern. Once I ahve this I can introduce a second bit. That should confuse the traditional RBM. "
   ]
  },
  {
   "cell_type": "code",
   "execution_count": 254,
   "metadata": {
    "collapsed": false
   },
   "outputs": [
    {
     "name": "stdout",
     "output_type": "stream",
     "text": [
      "Training set:\n",
      "------------------\n",
      "[[ 1.  0.  0.]\n",
      " [ 0.  1.  0.]\n",
      " [ 0.  0.  1.]]\n",
      "------------------\n",
      "\n"
     ]
    }
   ],
   "source": [
    "rbm_n_hid = 20\n",
    "orbm_n_hid = rbm_n_hid/2.0\n",
    "n_vis = 3\n",
    "training_set = np.eye(n_vis)\n",
    "print(\"Training set:\\n------------------\\n{}\\n------------------\\n\".format(training_set))\n",
    "\n",
    "rbm = RBM(rbm_n_hid, n_vis,1)\n",
    "sampler = VanillaSampler(rbm)\n",
    "trainer = VanillaTrainier(rbm, sampler)\n",
    "trainer.train(10000,training_set, learning_rate=0.09)"
   ]
  },
  {
   "cell_type": "code",
   "execution_count": 255,
   "metadata": {
    "collapsed": false
   },
   "outputs": [
    {
     "data": {
      "text/plain": [
       "{'v[1 0 0]': 10000}"
      ]
     },
     "execution_count": 255,
     "metadata": {},
     "output_type": "execute_result"
    }
   ],
   "source": [
    "check_reconstructions(WrappedRBM(sampler), training_set[0], times = 10000)"
   ]
  },
  {
   "cell_type": "code",
   "execution_count": 256,
   "metadata": {
    "collapsed": false
   },
   "outputs": [
    {
     "data": {
      "text/plain": [
       "{'v[0 1 0]': 10000}"
      ]
     },
     "execution_count": 256,
     "metadata": {},
     "output_type": "execute_result"
    }
   ],
   "source": [
    "check_reconstructions(WrappedRBM(sampler), training_set[1], times = 10000)"
   ]
  },
  {
   "cell_type": "code",
   "execution_count": 257,
   "metadata": {
    "collapsed": false
   },
   "outputs": [
    {
     "data": {
      "text/plain": [
       "{'v[0 0 1]': 10000}"
      ]
     },
     "execution_count": 257,
     "metadata": {},
     "output_type": "execute_result"
    }
   ],
   "source": [
    "check_reconstructions(WrappedRBM(sampler), training_set[2], times = 10000)"
   ]
  },
  {
   "cell_type": "code",
   "execution_count": 258,
   "metadata": {
    "collapsed": false
   },
   "outputs": [
    {
     "data": {
      "text/plain": [
       "{'v[0 0 1]': 112, 'v[0 1 0]': 189, 'v[1 0 0]': 99}"
      ]
     },
     "execution_count": 258,
     "metadata": {},
     "output_type": "execute_result"
    }
   ],
   "source": [
    "goodnight(rbm,sampler, 400,200)"
   ]
  },
  {
   "cell_type": "code",
   "execution_count": null,
   "metadata": {
    "collapsed": false
   },
   "outputs": [],
   "source": [
    "goodnight(rbm,sampler, 400,100)"
   ]
  },
  {
   "cell_type": "code",
   "execution_count": 218,
   "metadata": {
    "collapsed": false
   },
   "outputs": [
    {
     "data": {
      "text/plain": [
       "{'v[0 0 1]': 275, 'v[0 1 0]': 42, 'v[0 1 1]': 1, 'v[1 0 0]': 81, 'v[1 0 1]': 1}"
      ]
     },
     "execution_count": 218,
     "metadata": {},
     "output_type": "execute_result"
    }
   ],
   "source": [
    "goodnight(rbm,sampler, 400,50)"
   ]
  },
  {
   "cell_type": "code",
   "execution_count": 219,
   "metadata": {
    "collapsed": false
   },
   "outputs": [
    {
     "data": {
      "text/plain": [
       "{'v[0 0 1]': 348, 'v[1 0 0]': 52}"
      ]
     },
     "execution_count": 219,
     "metadata": {},
     "output_type": "execute_result"
    }
   ],
   "source": [
    "goodnight(rbm,sampler, 400,500)"
   ]
  },
  {
   "cell_type": "code",
   "execution_count": 259,
   "metadata": {
    "collapsed": false
   },
   "outputs": [
    {
     "data": {
      "text/plain": [
       "{'v[0 0 1]': 109, 'v[0 1 0]': 196, 'v[1 0 0]': 95}"
      ]
     },
     "execution_count": 259,
     "metadata": {},
     "output_type": "execute_result"
    }
   ],
   "source": [
    "goodnight(rbm,sampler, 400,1000)"
   ]
  },
  {
   "cell_type": "code",
   "execution_count": 4,
   "metadata": {
    "collapsed": true
   },
   "outputs": [],
   "source": [
    "class TwoModelRBM(object):\n",
    "    \n",
    "    def __init__(self, A, B):\n",
    "        self.A = A\n",
    "        self.B = B\n",
    "        \n",
    "    def dream_composite(self):\n",
    "        a_dream = dream(self.A.rbm, sampler, num_gibbs = 100)\n",
    "        b_dream = dream(self.B.rbm, sampler, num_gibbs = 100)\n",
    "        h_a = self.A.visible_to_hidden(a_dream)\n",
    "        h_b = self.B.visible_to_hidden(b_dream)\n",
    "        psi_a = np.dot(h_a, self.A.rbm.weights)\n",
    "        psi_b = np.dot(h_b, self.B.rbm.weights)\n",
    "        return np.where(expit((psi_a + psi_b)) > np.random.rand(*psi_a.shape),1,0)\n",
    "    \n",
    "    def composite_v(self,v):\n",
    "        h_a = self.A.visible_to_hidden(v)\n",
    "        h_b = self.B.visible_to_hidden(v)\n",
    "        psi_a = np.dot(h_a, self.A.rbm.weights)\n",
    "        psi_b = np.dot(h_b, self.B.rbm.weights)\n",
    "        print(psi_a)\n",
    "        print(psi_b)\n",
    "        print(psi_a + psi_b)\n",
    "        return np.where(expit((psi_a + psi_b)) > np.random.rand(*psi_a.shape),1,0)\n",
    "    "
   ]
  },
  {
   "cell_type": "code",
   "execution_count": 261,
   "metadata": {
    "collapsed": false
   },
   "outputs": [],
   "source": [
    "multi = TwoModelRBM(sampler, sampler)"
   ]
  },
  {
   "cell_type": "code",
   "execution_count": 262,
   "metadata": {
    "collapsed": false
   },
   "outputs": [
    {
     "name": "stdout",
     "output_type": "stream",
     "text": [
      "[ -0.42621928  22.64876518 -25.27650809]\n",
      "[  4.18963436  14.31047464 -20.52724243]\n",
      "[  3.76341508  36.95923982 -45.80375052]\n"
     ]
    },
    {
     "data": {
      "text/plain": [
       "array([1, 1, 0])"
      ]
     },
     "execution_count": 262,
     "metadata": {},
     "output_type": "execute_result"
    }
   ],
   "source": [
    "multi.composite_v(np.array([1,1,0]))"
   ]
  },
  {
   "cell_type": "code",
   "execution_count": 263,
   "metadata": {
    "collapsed": false
   },
   "outputs": [
    {
     "data": {
      "text/plain": [
       "array([1, 1, 0])"
      ]
     },
     "execution_count": 263,
     "metadata": {},
     "output_type": "execute_result"
    }
   ],
   "source": [
    "multi.dream_composite()"
   ]
  },
  {
   "cell_type": "code",
   "execution_count": 5,
   "metadata": {
    "collapsed": true
   },
   "outputs": [],
   "source": [
    "def bro_time():\n",
    "    result_dict = CountingDict()\n",
    "    v_prime = multi.dream_composite()\n",
    "    for i in range(10000):\n",
    "        v_prime =  multi.dream_composite()\n",
    "        result_dict.lazy_set(key_for_visible(v_prime))\n",
    "    return result_dict"
   ]
  },
  {
   "cell_type": "code",
   "execution_count": 268,
   "metadata": {
    "collapsed": false
   },
   "outputs": [
    {
     "data": {
      "image/png": "[encoded data removed]",
      "text/plain": [
       "<matplotlib.figure.Figure at 0x112e1d400>"
      ]
     },
     "metadata": {},
     "output_type": "display_data"
    }
   ],
   "source": [
    "plotter.plot_dict(bro_time())"
   ]
  },
  {
   "cell_type": "code",
   "execution_count": 6,
   "metadata": {
    "collapsed": true
   },
   "outputs": [],
   "source": [
    "import pickle"
   ]
  },
  {
   "cell_type": "code",
   "execution_count": 7,
   "metadata": {
    "collapsed": false
   },
   "outputs": [],
   "source": [
    "# with open('newfile','wb') as f:\n",
    "#     pickle.dump(rbm,f, protocol=None, fix_imports=True)\n",
    "with open('newfile','rb') as f:\n",
    "    three_bit_rbm = pickle.load(f)"
   ]
  },
  {
   "cell_type": "code",
   "execution_count": 78,
   "metadata": {
    "collapsed": false
   },
   "outputs": [],
   "source": [
    "def train_RBM_on_data(training_set,n_hid, l_r = 0.09):\n",
    "    n_bits = training_set.shape[0]\n",
    "    print(\"Training set:\\n------------------\\n{}\\n------------------\\n\".format(training_set))\n",
    "    rbm = RBM(n_hid, n_bits,1)\n",
    "    sampler = VanillaSampler(rbm)\n",
    "    trainer = VanillaTrainier(rbm, sampler)\n",
    "    trainer.train(100000,training_set, learning_rate=l_r)\n",
    "    return rbm\n",
    "\n",
    "def check_reconstructions_for_data(rbm, data, iterations_per_item = 1000):\n",
    "    # Awful, just awful\n",
    "    for i in range(data.shape[0]):\n",
    "        print(\"Expected:{}\\nGot:{}\".format(data[i],check_reconstructions(WrappedRBM(VanillaSampler(rbm)), data[i], times = iterations_per_item)))\n",
    "        \n",
    "# n_vis = 4\n",
    "# training_set = np.eye(n_vis)\n",
    "# yep = train_RBM_on_data(training_set,20,l_r=0.002)\n",
    "# check_reconstructions_for_data(yep,training_set)\n",
    "\n",
    "# goodnight(yep, VanillaSampler(yep),400,1000)"
   ]
  },
  {
   "cell_type": "code",
   "execution_count": 2,
   "metadata": {
    "collapsed": true
   },
   "outputs": [],
   "source": [
    "def generate_parity_problem(num_bits):\n",
    "    # number of bits of the parity\n",
    "    possibilities = []\n",
    "\n",
    "    for i in range(num_bits):\n",
    "        for j in range(i,num_bits):\n",
    "            if i != j:\n",
    "                current = np.zeros(num_bits)\n",
    "                current[j] = 1\n",
    "                current[i] = 1\n",
    "                possibilities.append(current)\n",
    "                \n",
    "    return np.array(possibilities)\n",
    "                "
   ]
  },
  {
   "cell_type": "code",
   "execution_count": 3,
   "metadata": {
    "collapsed": false
   },
   "outputs": [
    {
     "data": {
      "text/plain": [
       "(6, 4)"
      ]
     },
     "execution_count": 3,
     "metadata": {},
     "output_type": "execute_result"
    }
   ],
   "source": [
    "generate_parity_problem(4).shape"
   ]
  },
  {
   "cell_type": "code",
   "execution_count": 75,
   "metadata": {
    "collapsed": false,
    "scrolled": true
   },
   "outputs": [
    {
     "name": "stdout",
     "output_type": "stream",
     "text": [
      "Training set:\n",
      "------------------\n",
      "[[ 1.  1.  0.]\n",
      " [ 1.  0.  1.]\n",
      " [ 0.  1.  1.]]\n",
      "------------------\n",
      "\n"
     ]
    }
   ],
   "source": [
    "rbm_n_hid = 10\n",
    "n_vis = 3\n",
    "\n",
    "training_set = generate_parity_problem(n_vis)\n",
    "print(\"Training set:\\n------------------\\n{}\\n------------------\\n\".format(training_set))\n",
    "\n",
    "rbm = RBM(rbm_n_hid, n_vis,1)\n",
    "sampler = VanillaSampler(rbm)\n",
    "trainer = VanillaTrainier(rbm, sampler)\n",
    "trainer.train(100000,training_set, learning_rate=0.009)"
   ]
  },
  {
   "cell_type": "code",
   "execution_count": 76,
   "metadata": {
    "collapsed": false
   },
   "outputs": [
    {
     "data": {
      "image/png": "[encoded data removed]",
      "text/plain": [
       "<matplotlib.figure.Figure at 0x10cf39c50>"
      ]
     },
     "metadata": {},
     "output_type": "display_data"
    }
   ],
   "source": [
    "plotter.plot_dict(goodnight(rbm,sampler, 1000,500))"
   ]
  },
  {
   "cell_type": "code",
   "execution_count": 80,
   "metadata": {
    "collapsed": false
   },
   "outputs": [
    {
     "name": "stdout",
     "output_type": "stream",
     "text": [
      "Expected:[ 1.  1.  0.]\n",
      "Got:{'v[1 1 0]': 994, 'v[0 1 0]': 6}\n",
      "Expected:[ 1.  0.  1.]\n",
      "Got:{'v[1 0 1]': 1000}\n",
      "Expected:[ 0.  1.  1.]\n",
      "Got:{'v[0 1 1]': 1000}\n"
     ]
    }
   ],
   "source": [
    "check_reconstructions_for_data(rbm, training_set)"
   ]
  },
  {
   "cell_type": "code",
   "execution_count": 86,
   "metadata": {
    "collapsed": false
   },
   "outputs": [],
   "source": [
    "# with open('three_bit_parity_rbm','wb') as f:\n",
    "#     pickle.dump(rbm,f, protocol=None, fix_imports=True)"
   ]
  },
  {
   "cell_type": "code",
   "execution_count": 121,
   "metadata": {
    "collapsed": false
   },
   "outputs": [],
   "source": [
    "class RBM_Performance_Recorder(object):\n",
    "    \n",
    "    def __init__(self,training_set):\n",
    "        self.training_set = training_set\n",
    "    \n",
    "    def __calc_performance__(self, dream_counts,dreams):\n",
    "        # two values\n",
    "        # bad reconstruction score, count those reconstructions that don't exist in the training set, weighted by the number of times it occurs\n",
    "        reconstruction_penalty = 0\n",
    "        equal_prob_reconstruction_penalty = 0\n",
    "        for dream_key in dreams:\n",
    "            reconstruction_penalty += dream_counts[dream_key] * len(np.setdiff1d(dreams[dream_key], self.training_set))\n",
    "            equal_prob_reconstruction_penalty += dream_counts[dream_key]\n",
    "        equal_prob_reconstruction_penalty = equal_prob_reconstruction_penalty / len(dreams)\n",
    "        return reconstruction_penalty + equal_prob_reconstruction_penalty\n",
    "        \n",
    "    def __do_train__(self,n_hid, l_r,epochs):\n",
    "        n_hid = 10\n",
    "        n_vis = self.training_set.shape[0]\n",
    "\n",
    "        rbm = RBM(n_hid, n_vis,1)\n",
    "        sampler = VanillaSampler(rbm)\n",
    "        trainer = VanillaTrainier(rbm, sampler)\n",
    "        trainer.train(epochs,self.training_set, learning_rate=l_r)\n",
    "        dream_counts, dreams = goodnight_2(rbm,sampler, 5000,300)\n",
    "        return self.__calc_performance__(dream_counts, dreams)\n",
    "    \n",
    "    def key_for_vals(self,epoch, l_r, n_hid):\n",
    "        return \"e:{} l_r:{} n_hid:{}\".format(epoch,l_r, n_hid)\n",
    "    \n",
    "    def perform(self, rbm, l_r_min, l_r_max, l_r_step, n_hid_range, epoch_dict = [1000]):\n",
    "        results = {}\n",
    "        \n",
    "        for num_epochs in epoch_dict:\n",
    "            current_l_r = l_r_min\n",
    "            while current_l_r < l_r_max:\n",
    "                for current_n_hid in n_hid_range:\n",
    "                    results[self.key_for_vals(num_epochs, current_l_r, current_n_hid)] = self.__do_train__(current_n_hid, current_l_r, num_epochs)\n",
    "                current_l_r += l_r_step\n",
    "        return results \n",
    "        \n",
    "    "
   ]
  },
  {
   "cell_type": "code",
   "execution_count": 124,
   "metadata": {
    "collapsed": false
   },
   "outputs": [
    {
     "data": {
      "text/plain": [
       "{'e:1000 l_r:0.001 n_hid:10': 625.0,\n",
       " 'e:1000 l_r:0.001 n_hid:20': 625.0,\n",
       " 'e:1000 l_r:0.001 n_hid:30': 625.0,\n",
       " 'e:1000 l_r:0.051000000000000004 n_hid:10': 714.2857142857143,\n",
       " 'e:1000 l_r:0.051000000000000004 n_hid:20': 714.2857142857143,\n",
       " 'e:1000 l_r:0.051000000000000004 n_hid:30': 714.2857142857143,\n",
       " 'e:10000 l_r:0.001 n_hid:10': 625.0,\n",
       " 'e:10000 l_r:0.001 n_hid:20': 625.0,\n",
       " 'e:10000 l_r:0.001 n_hid:30': 625.0,\n",
       " 'e:10000 l_r:0.051000000000000004 n_hid:10': 1666.6666666666667,\n",
       " 'e:10000 l_r:0.051000000000000004 n_hid:20': 1000.0,\n",
       " 'e:10000 l_r:0.051000000000000004 n_hid:30': 2500.0,\n",
       " 'e:5000 l_r:0.001 n_hid:10': 625.0,\n",
       " 'e:5000 l_r:0.001 n_hid:20': 625.0,\n",
       " 'e:5000 l_r:0.001 n_hid:30': 625.0,\n",
       " 'e:5000 l_r:0.051000000000000004 n_hid:10': 714.2857142857143,\n",
       " 'e:5000 l_r:0.051000000000000004 n_hid:20': 1250.0,\n",
       " 'e:5000 l_r:0.051000000000000004 n_hid:30': 1000.0}"
      ]
     },
     "execution_count": 124,
     "metadata": {},
     "output_type": "execute_result"
    }
   ],
   "source": [
    "pr = RBM_Performance_Recorder(generate_parity_problem(3))\n",
    "pr.perform(rbm, 0.001, 0.1, 0.05, range(10,40, 10), epoch_dict=[1000,5000,10000])"
   ]
  },
  {
   "cell_type": "code",
   "execution_count": 125,
   "metadata": {
    "collapsed": false
   },
   "outputs": [
    {
     "data": {
      "text/plain": [
       "{'e:1000 l_r:0.001 n_hid:10': 625.0,\n",
       " 'e:1000 l_r:0.001 n_hid:20': 625.0,\n",
       " 'e:1000 l_r:0.001 n_hid:30': 625.0,\n",
       " 'e:1000 l_r:0.051000000000000004 n_hid:10': 714.2857142857143,\n",
       " 'e:1000 l_r:0.051000000000000004 n_hid:20': 714.2857142857143,\n",
       " 'e:1000 l_r:0.051000000000000004 n_hid:30': 833.3333333333334,\n",
       " 'e:10000 l_r:0.001 n_hid:10': 625.0,\n",
       " 'e:10000 l_r:0.001 n_hid:20': 625.0,\n",
       " 'e:10000 l_r:0.001 n_hid:30': 625.0,\n",
       " 'e:10000 l_r:0.051000000000000004 n_hid:10': 1000.0,\n",
       " 'e:10000 l_r:0.051000000000000004 n_hid:20': 1000.0,\n",
       " 'e:10000 l_r:0.051000000000000004 n_hid:30': 1000.0,\n",
       " 'e:5000 l_r:0.001 n_hid:10': 625.0,\n",
       " 'e:5000 l_r:0.001 n_hid:20': 625.0,\n",
       " 'e:5000 l_r:0.001 n_hid:30': 625.0,\n",
       " 'e:5000 l_r:0.051000000000000004 n_hid:10': 1000.0,\n",
       " 'e:5000 l_r:0.051000000000000004 n_hid:20': 833.3333333333334,\n",
       " 'e:5000 l_r:0.051000000000000004 n_hid:30': 714.2857142857143}"
      ]
     },
     "execution_count": 125,
     "metadata": {},
     "output_type": "execute_result"
    }
   ],
   "source": [
    "pr.perform(rbm, 0.001, 0.1, 0.05, range(10,40, 10), epoch_dict=[1000,5000,10000])\n"
   ]
  },
  {
   "cell_type": "code",
   "execution_count": 126,
   "metadata": {
    "collapsed": false
   },
   "outputs": [
    {
     "data": {
      "text/plain": [
       "{'e:1000 l_r:0.001 n_hid:10': 625.0,\n",
       " 'e:1000 l_r:0.001 n_hid:20': 625.0,\n",
       " 'e:1000 l_r:0.001 n_hid:30': 625.0,\n",
       " 'e:1000 l_r:0.051000000000000004 n_hid:10': 714.2857142857143,\n",
       " 'e:1000 l_r:0.051000000000000004 n_hid:20': 714.2857142857143,\n",
       " 'e:1000 l_r:0.051000000000000004 n_hid:30': 714.2857142857143,\n",
       " 'e:10000 l_r:0.001 n_hid:10': 625.0,\n",
       " 'e:10000 l_r:0.001 n_hid:20': 625.0,\n",
       " 'e:10000 l_r:0.001 n_hid:30': 625.0,\n",
       " 'e:10000 l_r:0.051000000000000004 n_hid:10': 1250.0,\n",
       " 'e:10000 l_r:0.051000000000000004 n_hid:20': 1666.6666666666667,\n",
       " 'e:10000 l_r:0.051000000000000004 n_hid:30': 714.2857142857143,\n",
       " 'e:5000 l_r:0.001 n_hid:10': 625.0,\n",
       " 'e:5000 l_r:0.001 n_hid:20': 625.0,\n",
       " 'e:5000 l_r:0.001 n_hid:30': 625.0,\n",
       " 'e:5000 l_r:0.051000000000000004 n_hid:10': 833.3333333333334,\n",
       " 'e:5000 l_r:0.051000000000000004 n_hid:20': 1250.0,\n",
       " 'e:5000 l_r:0.051000000000000004 n_hid:30': 833.3333333333334}"
      ]
     },
     "execution_count": 126,
     "metadata": {},
     "output_type": "execute_result"
    }
   ],
   "source": [
    "pr.perform(rbm, 0.001, 0.1, 0.05, range(10,40, 10), epoch_dict=[1000,5000,10000])"
   ]
  },
  {
   "cell_type": "code",
   "execution_count": 127,
   "metadata": {
    "collapsed": false
   },
   "outputs": [
    {
     "data": {
      "text/plain": [
       "{'e:1000 l_r:0.001 n_hid:10': 625.0,\n",
       " 'e:1000 l_r:0.001 n_hid:20': 625.0,\n",
       " 'e:1000 l_r:0.001 n_hid:30': 625.0,\n",
       " 'e:10000 l_r:0.001 n_hid:10': 625.0,\n",
       " 'e:10000 l_r:0.001 n_hid:20': 625.0,\n",
       " 'e:10000 l_r:0.001 n_hid:30': 625.0,\n",
       " 'e:5000 l_r:0.001 n_hid:10': 625.0,\n",
       " 'e:5000 l_r:0.001 n_hid:20': 625.0,\n",
       " 'e:5000 l_r:0.001 n_hid:30': 625.0}"
      ]
     },
     "execution_count": 127,
     "metadata": {},
     "output_type": "execute_result"
    }
   ],
   "source": [
    "pr.perform(rbm, 0.001, 0.1, 0.1, range(10,40, 10), epoch_dict=[10000])"
   ]
  },
  {
   "cell_type": "code",
   "execution_count": 128,
   "metadata": {
    "collapsed": false
   },
   "outputs": [
    {
     "data": {
      "text/plain": [
       "{'e:10000 l_r:0.001 n_hid:10': 625.0,\n",
       " 'e:10000 l_r:0.001 n_hid:20': 625.0,\n",
       " 'e:10000 l_r:0.001 n_hid:30': 625.0}"
      ]
     },
     "execution_count": 128,
     "metadata": {},
     "output_type": "execute_result"
    }
   ],
   "source": [
    "pr.perform(rbm, 0.001, 0.01, 0.1, range(10,40, 10), epoch_dict=[10000])"
   ]
  },
  {
   "cell_type": "code",
   "execution_count": 129,
   "metadata": {
    "collapsed": false
   },
   "outputs": [
    {
     "data": {
      "text/plain": [
       "{'e:10000 l_r:0.0001 n_hid:10': 625.0,\n",
       " 'e:10000 l_r:0.0001 n_hid:20': 625.0,\n",
       " 'e:10000 l_r:0.0001 n_hid:30': 625.0}"
      ]
     },
     "execution_count": 129,
     "metadata": {},
     "output_type": "execute_result"
    }
   ],
   "source": [
    "pr.perform(rbm, 0.0001, 0.01, 0.1, range(10,40, 10), epoch_dict=[10000])"
   ]
  }
 ],
 "metadata": {
  "kernelspec": {
   "display_name": "Python 3",
   "language": "python",
   "name": "python3"
  },
  "language_info": {
   "codemirror_mode": {
    "name": "ipython",
    "version": 3
   },
   "file_extension": ".py",
   "mimetype": "text/x-python",
   "name": "python",
   "nbconvert_exporter": "python",
   "pygments_lexer": "ipython3",
   "version": "3.4.3"
  }
 },
 "nbformat": 4,
 "nbformat_minor": 0
}
