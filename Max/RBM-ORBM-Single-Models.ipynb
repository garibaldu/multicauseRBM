{
 "cells": [
  {
   "cell_type": "markdown",
   "metadata": {},
   "source": [
    "#2 Dimension Square Separation #\n",
    "\n",
    "In this notebook I was able to separate two overlapping squares"
   ]
  },
  {
   "cell_type": "markdown",
   "metadata": {
    "slideshow": {
     "slide_type": "slide"
    }
   },
   "source": [
    "#Log Likelihood#\n",
    "\n",
    "We want to look for the log likelihood of producing the dataset $ \\mathcal{D} $ for a given image from dreams of the image. Wait the dreams? Or should I look at the reconstructions? For looking at the RBM I should be able to get away with a reconstruction\n",
    "$$ LL_{\\mathcal{D}} = \\sum_{i} v_i \\log( \\sigma_i) + (1 - v_i) \\log(1 - \\sigma_i)  $$\n",
    "\n",
    "$$\n",
    "\\log P\\big(v\\big|h_{a}\\big)  = \\begin{cases}\n",
    "\\log( \\sigma_i) & \\text{if $v_i=1$}\\\\\n",
    "\\log(1 - \\sigma_i) & \\text{if $v_i = 0$}\n",
    "\\end{cases}\n",
    "$$\n"
   ]
  },
  {
   "cell_type": "code",
   "execution_count": 1,
   "metadata": {
    "collapsed": false
   },
   "outputs": [],
   "source": [
    "from scipy.special import expit\n",
    "from rbmpy.rbm import RBM\n",
    "from rbmpy.sampler import VanillaSampler, PartitionedSampler, ApproximatedSampler, LayerWiseApproxSampler,ApproximatedMulDimSampler, ContinuousSampler\n",
    "from rbmpy.trainer import VanillaTrainier\n",
    "from rbmpy.performance import Result\n",
    "import numpy as np\n",
    "import rbmpy.datasets, rbmpy.performance, rbmpy.plotter, rbmpy.mnist, pickle, rbmpy.rbm, os, logging, rbmpy.sampler,math\n",
    "from sklearn.linear_model import Perceptron\n",
    "from sklearn.neural_network import BernoulliRBM\n",
    "import rbmpy.plotter as pp\n",
    "from numpy import newaxis\n",
    "from collections import Counter\n",
    "\n",
    "import matplotlib.pyplot as plt\n",
    "import matplotlib.image as mpimg\n",
    "\n",
    "logger = logging.getLogger()\n",
    "# Set the logging level to logging.DEBUG \n",
    "logger.setLevel(logging.INFO)\n",
    "\n",
    "\n",
    "%matplotlib inline\n",
    "from IPython.core.debugger import Tracer; debug_here = Tracer()\n",
    "# Helper Methods\n",
    "def squash_images(imgs):\n",
    "    squashed = np.array(imgs)\n",
    "    old_shape = squashed.shape\n",
    "    squashed = squashed.reshape(old_shape[0], old_shape[1] * old_shape[2])\n",
    "    return squashed\n",
    "\n",
    "def inflate_images(imgs):\n",
    "    inflated = np.array(imgs)\n",
    "    old_shape = inflated.shape\n",
    "    size= math.sqrt(old_shape[1])\n",
    "    inflated = inflated.reshape(old_shape[0], size, size)\n",
    "    return inflated\n",
    "def gen_square(xy,sq_shape, img_size):\n",
    "    \"\"\"Square image starting at i, of sq_size within img_size. i must be < (sq_size + img_size)\"\"\"\n",
    "    img = np.zeros(img_size)\n",
    "    x = xy[0]\n",
    "    y = xy[1]\n",
    "    x2 = x + sq_shape[0]\n",
    "    y2 = y + sq_shape[1]\n",
    "    img[x:x2,y:y2] = 1\n",
    "    return img\n",
    "\n",
    "def gen_training(sq_shape, img_size):\n",
    "    if img_size[0] != img_size[1]:\n",
    "        logger.warn(\"Unsquashing will not work with none squares yet!\")\n",
    "    training = []\n",
    "    for x in range(img_size[0]- 1):\n",
    "        for y in range(img_size[1]-1):\n",
    "            training.append(gen_square((x,y), sq_shape, img_size))\n",
    "    return np.array(training)\n",
    "    \n",
    "def ll_score(v, v_prime):\n",
    "    if v == 1:\n",
    "        return np.log(v_prime)\n",
    "    elif v == 0:\n",
    "        return np.log(1 - v_prime)\n",
    "    else:\n",
    "        raise NotImplementedError()\n",
    "ll_score = np.vectorize(ll_score)\n",
    "\n",
    "def evaluate_model(training, model):\n",
    "    s = VanillaSampler(model)\n",
    "    results = []\n",
    "    avg = 0\n",
    "    for i in range(5000):\n",
    "        results.append(ll_score(squash_images(train),s.reconstruction_given_visible(squash_images(train), return_sigmoid=True)).sum())\n",
    "    avg = avg/i\n",
    "    npr = np.array(results)\n",
    "    return npr\n",
    "   # return np.median(npr,axis=0), np.min(npr, axis = 0), np.max(npr,axis = 0), np.mean(npr,axis = 0)\n",
    "    \n",
    "    \n",
    "def plot_eval(train,model):\n",
    "    # look at the reconstructions\n",
    "    dreams = []\n",
    "    for i in range(16):\n",
    "        dreams.append(s.dream(model).reshape(5,5))\n",
    "    pp.images(np.array(dreams))\n",
    "    # Lets also look at it's weights\n",
    "    pp.images(rbmpy.rbm.weights_into_hiddens(model.weights)[:10], cmap='Greys',title= \"Hinton Diagrams\",filename=\"Results/Weights.png\")\n",
    "    result = evaluate_model(train,model)\n",
    "    plt.plot(result)\n",
    "    plt.show()\n",
    "    print(\"mean{:.2f} Worst {:.2f} Best {:.2f}\".format( np.mean(result), np.min(result), np.max(result)))\n",
    "    pp.images(inflate_images(squash_images(train) - s.reconstruction_given_visible(squash_images(train))))"
   ]
  },
  {
   "cell_type": "code",
   "execution_count": 2,
   "metadata": {
    "collapsed": false,
    "scrolled": true
   },
   "outputs": [
    {
     "data": {
      "image/png": "[encoded data removed]",
      "text/plain": [
       "<matplotlib.figure.Figure at 0x102301c88>"
      ]
     },
     "metadata": {},
     "output_type": "display_data"
    }
   ],
   "source": [
    "train = gen_training((2,2),(5,5))\n",
    "# np.random.shuffle(train)\n",
    "pp.images(train, title=\"Training Set\", filename=\"Results/Training.png\")"
   ]
  },
  {
   "cell_type": "markdown",
   "metadata": {},
   "source": [
    "# Train and Evaluate the Traditional Model"
   ]
  },
  {
   "cell_type": "code",
   "execution_count": 12,
   "metadata": {
    "collapsed": false,
    "scrolled": true
   },
   "outputs": [
    {
     "data": {
      "image/png": "[encoded data removed]",
      "text/plain": [
       "<matplotlib.figure.Figure at 0x105228c50>"
      ]
     },
     "metadata": {},
     "output_type": "display_data"
    },
    {
     "data": {
      "image/png": "[encoded data removed]",
      "text/plain": [
       "<matplotlib.figure.Figure at 0x10577e7f0>"
      ]
     },
     "metadata": {},
     "output_type": "display_data"
    },
    {
     "data": {
      "image/png": "[encoded data removed]",
      "text/plain": [
       "<matplotlib.figure.Figure at 0x105396828>"
      ]
     },
     "metadata": {},
     "output_type": "display_data"
    },
    {
     "name": "stdout",
     "output_type": "stream",
     "text": [
      "mean-6.14 Worst -33.24 Best -1.49\n"
     ]
    },
    {
     "data": {
      "image/png": "[encoded data removed]",
      "text/plain": [
       "<matplotlib.figure.Figure at 0x105781080>"
      ]
     },
     "metadata": {},
     "output_type": "display_data"
    }
   ],
   "source": [
    "model = RBM(25,25,16)\n",
    "s = VanillaSampler(model)\n",
    "t = VanillaTrainier(model, s)\n",
    "t.train(200, squash_images(train), learning_rate=0.05, use_visible_bias = False)\n",
    "# plot the 16 centers\n",
    "plot_eval(train, model)"
   ]
  },
  {
   "cell_type": "markdown",
   "metadata": {},
   "source": [
    "# Make the sampler and random Composite #"
   ]
  },
  {
   "cell_type": "code",
   "execution_count": 70,
   "metadata": {
    "collapsed": false
   },
   "outputs": [
    {
     "name": "stdout",
     "output_type": "stream",
     "text": [
      "Help on method dream in module rbmpy.sampler:\n",
      "\n",
      "dream(model, num_gibbs=1000, return_sigmoid=False) method of rbmpy.sampler.VanillaSampler instance\n",
      "    # now I should look at the dreams and see if they are kosher\n",
      "\n"
     ]
    }
   ],
   "source": [
    "help(s.dream)"
   ]
  },
  {
   "cell_type": "code",
   "execution_count": 22,
   "metadata": {
    "collapsed": false
   },
   "outputs": [
    {
     "data": {
      "image/png": "[encoded data removed]",
      "text/plain": [
       "<matplotlib.figure.Figure at 0x1060ca940>"
      ]
     },
     "metadata": {},
     "output_type": "display_data"
    },
    {
     "data": {
      "image/png": "[encoded data removed]",
      "text/plain": [
       "<matplotlib.figure.Figure at 0x105572eb8>"
      ]
     },
     "metadata": {},
     "output_type": "display_data"
    },
    {
     "data": {
      "image/png": "[encoded data removed]",
      "text/plain": [
       "<matplotlib.figure.Figure at 0x1053d4128>"
      ]
     },
     "metadata": {},
     "output_type": "display_data"
    },
    {
     "data": {
      "image/png": "[encoded data removed]",
      "text/plain": [
       "<matplotlib.figure.Figure at 0x105d5af98>"
      ]
     },
     "metadata": {},
     "output_type": "display_data"
    },
    {
     "data": {
      "image/png": "[encoded data removed]",
      "text/plain": [
       "<matplotlib.figure.Figure at 0x106062e48>"
      ]
     },
     "metadata": {},
     "output_type": "display_data"
    },
    {
     "data": {
      "image/png": "[encoded data removed]",
      "text/plain": [
       "<matplotlib.figure.Figure at 0x105461128>"
      ]
     },
     "metadata": {},
     "output_type": "display_data"
    }
   ],
   "source": [
    "s = VanillaSampler(model)\n",
    "dream1 = s.dream(model, num_gibbs = 500)\n",
    "dream2 = s.dream(model, num_gibbs = 500)\n",
    "\n",
    "phi_1 = np.dot(s.visible_to_hidden(dream1), model.weights)  \n",
    "phi_2 = np.dot(s.visible_to_hidden(dream2), model.weights) \n",
    "pp.image(expit(phi_1).reshape(5,5))\n",
    "pp.image(expit(phi_2).reshape(5,5))\n",
    "# pp.image((expit(phi_1) + expit(phi_2)).reshape(5,5))\n",
    "comp = expit(phi_1 + phi_2)\n",
    "pp.image(comp.reshape(5,5))\n",
    "\n",
    "\n",
    "orbm_sampler = ApproximatedSampler(model.weights,model.weights,model.hidden_bias, model.hidden_bias)\n",
    "\n",
    "\n",
    "rand_h = np.random.randint(0,2,size=( model.num_hid())) \n",
    "\n",
    "left, right =  orbm_sampler.v_to_v(rand_h,rand_h, comp)\n",
    "plt.suptitle(\"ORBM\")\n",
    "pp.image(left.reshape(5,5))\n",
    "pp.image(right.reshape(5,5))\n",
    "rbm_sampler = VanillaSampler(model)\n",
    "plt.suptitle(\"RBM\")\n",
    "pp.image(rbm_sampler.reconstruction_given_visible(comp).reshape(5,5))"
   ]
  },
  {
   "cell_type": "code",
   "execution_count": 102,
   "metadata": {
    "collapsed": true
   },
   "outputs": [
    {
     "data": {
      "image/png": "[encoded data removed]",
      "text/plain": [
       "<matplotlib.figure.Figure at 0x114db4e48>"
      ]
     },
     "metadata": {},
     "output_type": "display_data"
    },
    {
     "data": {
      "image/png": "[encoded data removed]",
      "text/plain": [
       "<matplotlib.figure.Figure at 0x11454e390>"
      ]
     },
     "metadata": {},
     "output_type": "display_data"
    }
   ],
   "source": [
    "\n"
   ]
  },
  {
   "cell_type": "code",
   "execution_count": 103,
   "metadata": {
    "collapsed": true
   },
   "outputs": [
    {
     "data": {
      "image/png": "[encoded data removed]",
      "text/plain": [
       "<matplotlib.figure.Figure at 0x114361f98>"
      ]
     },
     "metadata": {},
     "output_type": "display_data"
    }
   ],
   "source": []
  },
  {
   "cell_type": "code",
   "execution_count": 155,
   "metadata": {
    "collapsed": false,
    "slideshow": {
     "slide_type": "slide"
    }
   },
   "outputs": [
    {
     "data": {
      "image/png": "[encoded data removed]",
      "text/plain": [
       "<matplotlib.figure.Figure at 0x10c838f60>"
      ]
     },
     "metadata": {},
     "output_type": "display_data"
    }
   ],
   "source": [
    "a = ApproximatedMulDimSampler(model.weights,model.weights, model.hidden_bias,model.hidden_bias)\n",
    "data = model.visible.copy()\n",
    "np.random.shuffle(data)\n",
    "item_one = inflate_images(data)[0]\n",
    "item_two = inflate_images(data)[1]\n",
    "composite_v = np.maximum(item_one,item_two )\n",
    "pp.image(item_one+ item_two,cmap='Paired',show_colorbar=False)"
   ]
  },
  {
   "cell_type": "code",
   "execution_count": 6,
   "metadata": {
    "collapsed": false
   },
   "outputs": [
    {
     "ename": "NameError",
     "evalue": "name 'composite_v' is not defined",
     "output_type": "error",
     "traceback": [
      "\u001b[0;31m---------------------------------------------------------------------------\u001b[0m",
      "\u001b[0;31mNameError\u001b[0m                                 Traceback (most recent call last)",
      "\u001b[0;32m<ipython-input-6-a19f576771c8>\u001b[0m in \u001b[0;36m<module>\u001b[0;34m()\u001b[0m\n\u001b[1;32m      1\u001b[0m \u001b[0mrand_h\u001b[0m \u001b[0;34m=\u001b[0m \u001b[0mnp\u001b[0m\u001b[0;34m.\u001b[0m\u001b[0mrandom\u001b[0m\u001b[0;34m.\u001b[0m\u001b[0mrandint\u001b[0m\u001b[0;34m(\u001b[0m\u001b[0;36m0\u001b[0m\u001b[0;34m,\u001b[0m\u001b[0;36m2\u001b[0m\u001b[0;34m,\u001b[0m\u001b[0;36m10\u001b[0m\u001b[0;34m)\u001b[0m\u001b[0;34m\u001b[0m\u001b[0m\n\u001b[1;32m      2\u001b[0m \u001b[0mapprox\u001b[0m\u001b[0;34m=\u001b[0m \u001b[0mApproximatedSampler\u001b[0m\u001b[0;34m(\u001b[0m\u001b[0mmodel\u001b[0m\u001b[0;34m.\u001b[0m\u001b[0mweights\u001b[0m\u001b[0;34m,\u001b[0m \u001b[0mmodel\u001b[0m\u001b[0;34m.\u001b[0m\u001b[0mweights\u001b[0m\u001b[0;34m,\u001b[0m \u001b[0mmodel\u001b[0m\u001b[0;34m.\u001b[0m\u001b[0mhidden_bias\u001b[0m\u001b[0;34m,\u001b[0m \u001b[0mmodel\u001b[0m\u001b[0;34m.\u001b[0m\u001b[0mhidden_bias\u001b[0m\u001b[0;34m)\u001b[0m\u001b[0;34m\u001b[0m\u001b[0m\n\u001b[0;32m----> 3\u001b[0;31m \u001b[0mreconstruction\u001b[0m \u001b[0;34m=\u001b[0m \u001b[0mapprox\u001b[0m\u001b[0;34m.\u001b[0m\u001b[0mv_to_v\u001b[0m\u001b[0;34m(\u001b[0m\u001b[0mrand_h\u001b[0m\u001b[0;34m,\u001b[0m\u001b[0mrand_h\u001b[0m\u001b[0;34m,\u001b[0m \u001b[0mcomposite_v\u001b[0m\u001b[0;34m.\u001b[0m\u001b[0mreshape\u001b[0m\u001b[0;34m(\u001b[0m\u001b[0;36m25\u001b[0m\u001b[0;34m)\u001b[0m\u001b[0;34m,\u001b[0m\u001b[0mnum_gibbs\u001b[0m\u001b[0;34m=\u001b[0m\u001b[0;36m500\u001b[0m\u001b[0;34m)\u001b[0m\u001b[0;34m\u001b[0m\u001b[0m\n\u001b[0m\u001b[1;32m      4\u001b[0m \u001b[0mpp\u001b[0m\u001b[0;34m.\u001b[0m\u001b[0mimage\u001b[0m\u001b[0;34m(\u001b[0m\u001b[0mreconstruction\u001b[0m\u001b[0;34m[\u001b[0m\u001b[0;36m0\u001b[0m\u001b[0;34m]\u001b[0m\u001b[0;34m.\u001b[0m\u001b[0mreshape\u001b[0m\u001b[0;34m(\u001b[0m\u001b[0;36m5\u001b[0m\u001b[0;34m,\u001b[0m\u001b[0;36m5\u001b[0m\u001b[0;34m)\u001b[0m\u001b[0;34m,\u001b[0m\u001b[0mshow_colorbar\u001b[0m\u001b[0;34m=\u001b[0m\u001b[0;32mFalse\u001b[0m\u001b[0;34m,\u001b[0m \u001b[0mtitle\u001b[0m\u001b[0;34m=\u001b[0m\u001b[0;34m\"V'_a\"\u001b[0m\u001b[0;34m)\u001b[0m\u001b[0;34m\u001b[0m\u001b[0m\n\u001b[1;32m      5\u001b[0m \u001b[0mpp\u001b[0m\u001b[0;34m.\u001b[0m\u001b[0mimage\u001b[0m\u001b[0;34m(\u001b[0m\u001b[0mreconstruction\u001b[0m\u001b[0;34m[\u001b[0m\u001b[0;36m1\u001b[0m\u001b[0;34m]\u001b[0m\u001b[0;34m.\u001b[0m\u001b[0mreshape\u001b[0m\u001b[0;34m(\u001b[0m\u001b[0;36m5\u001b[0m\u001b[0;34m,\u001b[0m\u001b[0;36m5\u001b[0m\u001b[0;34m)\u001b[0m\u001b[0;34m,\u001b[0m \u001b[0mshow_colorbar\u001b[0m\u001b[0;34m=\u001b[0m\u001b[0;32mFalse\u001b[0m\u001b[0;34m,\u001b[0m \u001b[0mtitle\u001b[0m \u001b[0;34m=\u001b[0m \u001b[0;34m\"V'_b\"\u001b[0m \u001b[0;34m)\u001b[0m\u001b[0;34m\u001b[0m\u001b[0m\n",
      "\u001b[0;31mNameError\u001b[0m: name 'composite_v' is not defined"
     ]
    }
   ],
   "source": [
    "rand_h = np.random.randint(0,2,10)\n",
    "approx= ApproximatedSampler(model.weights, model.weights, model.hidden_bias, model.hidden_bias)\n",
    "reconstruction = approx.v_to_v(rand_h,rand_h, composite_v.reshape(25),num_gibbs=500)\n",
    "pp.image(reconstruction[0].reshape(5,5),show_colorbar=False, title=\"V'_a\")\n",
    "pp.image(reconstruction[1].reshape(5,5), show_colorbar=False, title = \"V'_b\" )\n",
    "pp.image(reconstruction[0].reshape(5,5) + reconstruction[1].reshape(5,5),title=\"Composite Recon\" ,cmap ='Paired',show_colorbar=False)\n",
    "pp.image(s.reconstruction_given_visible(composite_v.reshape(25)).reshape(5,5),show_colorbar=False)"
   ]
  },
  {
   "cell_type": "markdown",
   "metadata": {},
   "source": [
    "# Make a composite training set #"
   ]
  },
  {
   "cell_type": "code",
   "execution_count": 150,
   "metadata": {
    "collapsed": false
   },
   "outputs": [],
   "source": [
    "def gen_composite_training(sq_shape, img_size, static_xy):\n",
    "    training = []\n",
    "    for x in range(img_size[0]-1):\n",
    "        for y in range(img_size[1]-1):\n",
    "            training.append(np.maximum(gen_square((x,y), sq_shape, img_size),gen_square(static_xy, sq_shape, img_size)))\n",
    "    return np.array(training)"
   ]
  },
  {
   "cell_type": "code",
   "execution_count": 151,
   "metadata": {
    "collapsed": false
   },
   "outputs": [
    {
     "data": {
      "image/png": "[encoded data removed]",
      "text/plain": [
       "<matplotlib.figure.Figure at 0x10c29dcf8>"
      ]
     },
     "metadata": {},
     "output_type": "display_data"
    }
   ],
   "source": [
    "comp = gen_composite_training((2,2),(5,5),(1,1))\n",
    "pp.images(comp)"
   ]
  },
  {
   "cell_type": "code",
   "execution_count": 152,
   "metadata": {
    "collapsed": false
   },
   "outputs": [
    {
     "data": {
      "image/png": "[encoded data removed]",
      "text/plain": [
       "<matplotlib.figure.Figure at 0x10c2f4da0>"
      ]
     },
     "metadata": {},
     "output_type": "display_data"
    },
    {
     "data": {
      "image/png": "[encoded data removed]",
      "text/plain": [
       "<matplotlib.figure.Figure at 0x10c598da0>"
      ]
     },
     "metadata": {},
     "output_type": "display_data"
    },
    {
     "data": {
      "image/png": "[encoded data removed]",
      "text/plain": [
       "<matplotlib.figure.Figure at 0x10c5514a8>"
      ]
     },
     "metadata": {},
     "output_type": "display_data"
    },
    {
     "data": {
      "image/png": "[encoded data removed]",
      "text/plain": [
       "<matplotlib.figure.Figure at 0x10cb78cf8>"
      ]
     },
     "metadata": {},
     "output_type": "display_data"
    },
    {
     "data": {
      "image/png": "[encoded data removed]",
      "text/plain": [
       "<matplotlib.figure.Figure at 0x10c53ae80>"
      ]
     },
     "metadata": {},
     "output_type": "display_data"
    },
    {
     "data": {
      "image/png": "[encoded data removed]",
      "text/plain": [
       "<matplotlib.figure.Figure at 0x10bf9e908>"
      ]
     },
     "metadata": {},
     "output_type": "display_data"
    },
    {
     "data": {
      "image/png": "[encoded data removed]",
      "text/plain": [
       "<matplotlib.figure.Figure at 0x10ca6fb70>"
      ]
     },
     "metadata": {},
     "output_type": "display_data"
    },
    {
     "data": {
      "image/png": "[encoded data removed]",
      "text/plain": [
       "<matplotlib.figure.Figure at 0x10c238c18>"
      ]
     },
     "metadata": {},
     "output_type": "display_data"
    },
    {
     "data": {
      "image/png": "[encoded data removed]",
      "text/plain": [
       "<matplotlib.figure.Figure at 0x10c5c2e48>"
      ]
     },
     "metadata": {},
     "output_type": "display_data"
    },
    {
     "data": {
      "image/png": "[encoded data removed]",
      "text/plain": [
       "<matplotlib.figure.Figure at 0x10cc2d048>"
      ]
     },
     "metadata": {},
     "output_type": "display_data"
    },
    {
     "data": {
      "image/png": "[encoded data removed]",
      "text/plain": [
       "<matplotlib.figure.Figure at 0x10c874ba8>"
      ]
     },
     "metadata": {},
     "output_type": "display_data"
    },
    {
     "data": {
      "image/png": "[encoded data removed]",
      "text/plain": [
       "<matplotlib.figure.Figure at 0x10c702d68>"
      ]
     },
     "metadata": {},
     "output_type": "display_data"
    },
    {
     "data": {
      "image/png": "[encoded data removed]",
      "text/plain": [
       "<matplotlib.figure.Figure at 0x10c84fd68>"
      ]
     },
     "metadata": {},
     "output_type": "display_data"
    },
    {
     "data": {
      "image/png": "[encoded data removed]",
      "text/plain": [
       "<matplotlib.figure.Figure at 0x10c75a518>"
      ]
     },
     "metadata": {},
     "output_type": "display_data"
    },
    {
     "data": {
      "image/png": "[encoded data removed]",
      "text/plain": [
       "<matplotlib.figure.Figure at 0x10c383a58>"
      ]
     },
     "metadata": {},
     "output_type": "display_data"
    },
    {
     "data": {
      "image/png": "[encoded data removed]",
      "text/plain": [
       "<matplotlib.figure.Figure at 0x10cd12978>"
      ]
     },
     "metadata": {},
     "output_type": "display_data"
    }
   ],
   "source": [
    "rand_h = np.random.randint(0,2,35)\n",
    "approx= ApproximatedSampler(model.weights, model.weights, model.hidden_bias, model.hidden_bias)\n",
    "\n",
    "for current_img in comp:\n",
    "    reconstruction = approx.v_to_v(rand_h,rand_h,current_img.reshape(25),num_gibbs=1000)\n",
    "    pp.images(np.array([current_img,reconstruction[0].reshape(5,5), reconstruction[1].reshape(5,5), s.reconstruction_given_visible(current_img.reshape(25)).reshape(5,5)]))"
   ]
  },
  {
   "cell_type": "code",
   "execution_count": null,
   "metadata": {
    "collapsed": true
   },
   "outputs": [],
   "source": []
  }
 ],
 "metadata": {
  "kernelspec": {
   "display_name": "Python 3",
   "language": "python",
   "name": "python3"
  },
  "language_info": {
   "codemirror_mode": {
    "name": "ipython",
    "version": 3
   },
   "file_extension": ".py",
   "mimetype": "text/x-python",
   "name": "python",
   "nbconvert_exporter": "python",
   "pygments_lexer": "ipython3",
   "version": "3.4.3"
  }
 },
 "nbformat": 4,
 "nbformat_minor": 0
}
