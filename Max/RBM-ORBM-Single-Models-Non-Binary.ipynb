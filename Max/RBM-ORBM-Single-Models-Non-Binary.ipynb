{
 "cells": [
  {
   "cell_type": "markdown",
   "metadata": {},
   "source": [
    "# Square Separation Non-Binary Pixels #\n",
    "\n",
    "In this note book I'll look into achieving this\n",
    "<hr>\n",
    "https://trello-attachments.s3.amazonaws.com/55c113812dfbd4e8f6dbd41d/1024x768/eac008a9e47f4d80a006f987122ef805/photo.jpg\n",
    "<hr>\n",
    "That is One model trained on 50% opacity squares. Then the composite image is two of those overlayed such that their opacity is now 1 where they overlap!"
   ]
  },
  {
   "cell_type": "code",
   "execution_count": 4,
   "metadata": {
    "collapsed": false
   },
   "outputs": [],
   "source": [
    "from scipy.special import expit\n",
    "from rbmpy.rbm import RBM\n",
    "from rbmpy.sampler import VanillaSampler,ContinuousApproxSampler, ContinuousSampler,PartitionedSampler, ApproximatedSampler, LayerWiseApproxSampler,ApproximatedMulDimSampler\n",
    "from rbmpy.trainer import VanillaTrainier\n",
    "from rbmpy.performance import Result\n",
    "import numpy as np\n",
    "import rbmpy.datasets, rbmpy.performance, rbmpy.plotter, rbmpy.mnist, pickle, rbmpy.rbm, os, logging, rbmpy.sampler,math\n",
    "from sklearn.linear_model import Perceptron\n",
    "from sklearn.neural_network import BernoulliRBM\n",
    "import rbmpy.plotter as pp\n",
    "from numpy import newaxis\n",
    "from collections import Counter\n",
    "\n",
    "import matplotlib.pyplot as plt\n",
    "import matplotlib.image as mpimg\n",
    "\n",
    "logger = logging.getLogger()\n",
    "# Set the logging level to logging.DEBUG \n",
    "logger.setLevel(logging.INFO)\n",
    "\n",
    "\n",
    "%matplotlib inline\n",
    "from IPython.core.debugger import Tracer; debug_here = Tracer()\n",
    "# Helper Methods\n",
    "def squash_images(imgs):\n",
    "    squashed = np.array(imgs)\n",
    "    old_shape = squashed.shape\n",
    "    squashed = squashed.reshape(old_shape[0], old_shape[1] * old_shape[2])\n",
    "    return squashed\n",
    "\n",
    "def inflate_images(imgs):\n",
    "    inflated = np.array(imgs)\n",
    "    old_shape = inflated.shape\n",
    "    size= math.sqrt(old_shape[1])\n",
    "    inflated = inflated.reshape(old_shape[0], size, size)\n",
    "    return inflated\n",
    "def gen_square(xy,sq_shape, img_size, pixel_value = 1):\n",
    "    \"\"\"Square image starting at i, of sq_size within img_size. i must be < (sq_size + img_size)\"\"\"\n",
    "    img = np.zeros(img_size)\n",
    "    x = xy[0]\n",
    "    y = xy[1]\n",
    "    x2 = x + sq_shape[0]\n",
    "    y2 = y + sq_shape[1]\n",
    "    img[x:x2,y:y2] = pixel_value\n",
    "    return img\n",
    "def gen_training(sq_shape, img_size, pixel_value):\n",
    "    if img_size[0] != img_size[1]:\n",
    "        logger.warn(\"Unsquashing will not work with none squares yet!\")\n",
    "    training = []\n",
    "    for x in range(img_size[0]-1):\n",
    "        for y in range(img_size[1]-1):\n",
    "            training.append(gen_square((x,y), sq_shape, img_size,pixel_value))\n",
    "    return np.array(training)\n",
    "    \n",
    "def ll_score(v, v_prime):\n",
    "    if v == 0.5:\n",
    "        return np.log(v_prime)\n",
    "    elif v == 0:\n",
    "        return np.log(1 - v_prime)\n",
    "    else:\n",
    "        raise NotImplementedError()\n",
    "ll_score = np.vectorize(ll_score)\n",
    "\n",
    "def evaluate_model(training, model):\n",
    "    s = VanillaSampler(model)\n",
    "    results = []\n",
    "    avg = 0\n",
    "    for i in range(5000):\n",
    "        results.append(ll_score(squash_images(train),s.reconstruction_given_visible(squash_images(train), return_sigmoid=True)).sum())\n",
    "    avg = avg/i\n",
    "    npr = np.array(results)\n",
    "    return npr\n",
    "   # return np.median(npr,axis=0), np.min(npr, axis = 0), np.max(npr,axis = 0), np.mean(npr,axis = 0)\n",
    "    \n",
    "    \n",
    "def plot_eval(train,model):\n",
    "    # look at the reconstructions\n",
    "    dreams = []\n",
    "    for i in range(16):\n",
    "        dreams.append(s.dream(model).reshape(5,5))\n",
    "    pp.images(np.array(dreams), color_range=(0,1))\n",
    "    # Lets also look at it's weights\n",
    "    pp.images(rbm.weights_into_hiddens(model.weights)[:10], cmap='Greys',title= \"Hinton Diagrams\",filename=\"Results/Weights.png\")\n",
    "    result = evaluate_model(train,model)\n",
    "    plt.plot(result)\n",
    "    plt.show()\n",
    "    print(\"mean{:.2f} Worst {:.2f} Best {:.2f}\".format( np.mean(result), np.min(result), np.max(result)))\n",
    "    pp.images(inflate_images(squash_images(train) - s.reconstruction_given_visible(squash_images(train))))"
   ]
  },
  {
   "cell_type": "code",
   "execution_count": 2,
   "metadata": {
    "collapsed": true
   },
   "outputs": [],
   "source": [
    "train = gen_training((2,2),(5,5),pixel_value = 0.5)"
   ]
  },
  {
   "cell_type": "code",
   "execution_count": 3,
   "metadata": {
    "collapsed": false
   },
   "outputs": [
    {
     "data": {
      "image/png": "[encoded data removed]",
      "text/plain": [
       "<matplotlib.figure.Figure at 0x10b536a20>"
      ]
     },
     "metadata": {},
     "output_type": "display_data"
    }
   ],
   "source": [
    "np.random.shuffle(train)\n",
    "pp.images(train, title=\"Training Set\", color_range=(0,1))"
   ]
  },
  {
   "cell_type": "code",
   "execution_count": 20,
   "metadata": {
    "collapsed": false
   },
   "outputs": [
    {
     "data": {
      "image/png": "[encoded data removed]",
      "text/plain": [
       "<matplotlib.figure.Figure at 0x107077320>"
      ]
     },
     "metadata": {},
     "output_type": "display_data"
    },
    {
     "data": {
      "image/png": "[encoded data removed]",
      "text/plain": [
       "<matplotlib.figure.Figure at 0x1070ef6d8>"
      ]
     },
     "metadata": {},
     "output_type": "display_data"
    },
    {
     "data": {
      "image/png": "[encoded data removed]",
      "text/plain": [
       "<matplotlib.figure.Figure at 0x1071cce10>"
      ]
     },
     "metadata": {},
     "output_type": "display_data"
    },
    {
     "name": "stdout",
     "output_type": "stream",
     "text": [
      "mean-46.84 Worst -81.06 Best -35.00\n"
     ]
    },
    {
     "data": {
      "image/png": "[encoded data removed]",
      "text/plain": [
       "<matplotlib.figure.Figure at 0x10782d358>"
      ]
     },
     "metadata": {},
     "output_type": "display_data"
    }
   ],
   "source": [
    "model = RBM(25,25,16)\n",
    "s = ContinuousSampler(model)\n",
    "t = VanillaTrainier(model, s)\n",
    "t.train(400000, squash_images(train), learning_rate=0.005)\n",
    "# plot the 16 centers\n",
    "plot_eval(train, model)"
   ]
  },
  {
   "cell_type": "code",
   "execution_count": 41,
   "metadata": {
    "collapsed": false
   },
   "outputs": [
    {
     "data": {
      "image/png": "[encoded data removed]",
      "text/plain": [
       "<matplotlib.figure.Figure at 0x106cdb6d8>"
      ]
     },
     "metadata": {},
     "output_type": "display_data"
    }
   ],
   "source": [
    "data = model.visible.copy()\n",
    "np.random.shuffle(data)\n",
    "item_one = inflate_images(data)[0]\n",
    "item_two = inflate_images(data)[1]\n",
    "composite_v = item_one +item_two\n",
    "pp.image(item_one+ item_two,cmap='Paired',show_colorbar=False,color_range=(0,1))"
   ]
  },
  {
   "cell_type": "code",
   "execution_count": 52,
   "metadata": {
    "collapsed": false
   },
   "outputs": [
    {
     "data": {
      "image/png": "[encoded data removed]",
      "text/plain": [
       "<matplotlib.figure.Figure at 0x106f5e5c0>"
      ]
     },
     "metadata": {},
     "output_type": "display_data"
    },
    {
     "data": {
      "image/png": "[encoded data removed]",
      "text/plain": [
       "<matplotlib.figure.Figure at 0x106c09550>"
      ]
     },
     "metadata": {},
     "output_type": "display_data"
    },
    {
     "data": {
      "image/png": "[encoded data removed]",
      "text/plain": [
       "<matplotlib.figure.Figure at 0x106d57668>"
      ]
     },
     "metadata": {},
     "output_type": "display_data"
    },
    {
     "data": {
      "image/png": "[encoded data removed]",
      "text/plain": [
       "<matplotlib.figure.Figure at 0x106d57358>"
      ]
     },
     "metadata": {},
     "output_type": "display_data"
    }
   ],
   "source": [
    "rand_h = np.random.randint(0,2,25)\n",
    "approx= ContinuousApproxSampler(model.weights, model.weights, model.hidden_bias, model.hidden_bias)\n",
    "reconstruction = approx.v_to_v(rand_h,rand_h, composite_v.reshape(25),num_gibbs=100000)\n",
    "pp.image(reconstruction[0].reshape(5,5),show_colorbar=True, title=\"V'_a\",color_range=(0,1))\n",
    "pp.image(reconstruction[1].reshape(5,5), show_colorbar=True, title = \"V'_b\",color_range=(0,1))\n",
    "pp.image(reconstruction[0].reshape(5,5) + reconstruction[1].reshape(5,5),title=\"Composite Recon\" ,cmap ='Paired',show_colorbar=False)\n",
    "pp.image(s.reconstruction_given_visible(composite_v.reshape(25)).reshape(5,5),show_colorbar=False)"
   ]
  },
  {
   "cell_type": "code",
   "execution_count": 11,
   "metadata": {
    "collapsed": false
   },
   "outputs": [],
   "source": [
    "def gen_composite_training(sq_shape, img_size, static_xy):\n",
    "    training = []\n",
    "    for x in range(img_size[0]-1):\n",
    "        for y in range(img_size[1]-1):\n",
    "            training.append(gen_square((x,y), sq_shape, img_size,pixel_value= 0.5) + gen_square(static_xy, sq_shape, img_size,pixel_value=0.5))\n",
    "    return np.array(training)"
   ]
  },
  {
   "cell_type": "code",
   "execution_count": 12,
   "metadata": {
    "collapsed": false
   },
   "outputs": [
    {
     "data": {
      "image/png": "[encoded data removed]",
      "text/plain": [
       "<matplotlib.figure.Figure at 0x1072a50f0>"
      ]
     },
     "metadata": {},
     "output_type": "display_data"
    }
   ],
   "source": [
    "comp = gen_composite_training((2,2),(5,5),(1,1))\n",
    "pp.images(comp,color_range=(0,1))"
   ]
  },
  {
   "cell_type": "code",
   "execution_count": 19,
   "metadata": {
    "collapsed": false
   },
   "outputs": [
    {
     "data": {
      "image/png": "[encoded data removed]",
      "text/plain": [
       "<matplotlib.figure.Figure at 0x107169588>"
      ]
     },
     "metadata": {},
     "output_type": "display_data"
    },
    {
     "data": {
      "image/png": "[encoded data removed]",
      "text/plain": [
       "<matplotlib.figure.Figure at 0x10777c400>"
      ]
     },
     "metadata": {},
     "output_type": "display_data"
    },
    {
     "data": {
      "image/png": "[encoded data removed]",
      "text/plain": [
       "<matplotlib.figure.Figure at 0x106ff39e8>"
      ]
     },
     "metadata": {},
     "output_type": "display_data"
    },
    {
     "data": {
      "image/png": "[encoded data removed]",
      "text/plain": [
       "<matplotlib.figure.Figure at 0x107094c50>"
      ]
     },
     "metadata": {},
     "output_type": "display_data"
    },
    {
     "data": {
      "image/png": "[encoded data removed]",
      "text/plain": [
       "<matplotlib.figure.Figure at 0x107849b70>"
      ]
     },
     "metadata": {},
     "output_type": "display_data"
    },
    {
     "data": {
      "image/png": "[encoded data removed]",
      "text/plain": [
       "<matplotlib.figure.Figure at 0x10768ffd0>"
      ]
     },
     "metadata": {},
     "output_type": "display_data"
    },
    {
     "data": {
      "image/png": "[encoded data removed]",
      "text/plain": [
       "<matplotlib.figure.Figure at 0x106eb93c8>"
      ]
     },
     "metadata": {},
     "output_type": "display_data"
    },
    {
     "data": {
      "image/png": "[encoded data removed]",
      "text/plain": [
       "<matplotlib.figure.Figure at 0x1072d9898>"
      ]
     },
     "metadata": {},
     "output_type": "display_data"
    },
    {
     "data": {
      "image/png": "[encoded data removed]",
      "text/plain": [
       "<matplotlib.figure.Figure at 0x107147978>"
      ]
     },
     "metadata": {},
     "output_type": "display_data"
    },
    {
     "data": {
      "image/png": "[encoded data removed]",
      "text/plain": [
       "<matplotlib.figure.Figure at 0x1072dee10>"
      ]
     },
     "metadata": {},
     "output_type": "display_data"
    },
    {
     "data": {
      "image/png": "[encoded data removed]",
      "text/plain": [
       "<matplotlib.figure.Figure at 0x107091160>"
      ]
     },
     "metadata": {},
     "output_type": "display_data"
    },
    {
     "data": {
      "image/png": "[encoded data removed]",
      "text/plain": [
       "<matplotlib.figure.Figure at 0x1070ef9e8>"
      ]
     },
     "metadata": {},
     "output_type": "display_data"
    },
    {
     "data": {
      "image/png": "[encoded data removed]",
      "text/plain": [
       "<matplotlib.figure.Figure at 0x107697198>"
      ]
     },
     "metadata": {},
     "output_type": "display_data"
    },
    {
     "data": {
      "image/png": "[encoded data removed]",
      "text/plain": [
       "<matplotlib.figure.Figure at 0x1071b2c18>"
      ]
     },
     "metadata": {},
     "output_type": "display_data"
    },
    {
     "data": {
      "image/png": "[encoded data removed]",
      "text/plain": [
       "<matplotlib.figure.Figure at 0x106e9ed68>"
      ]
     },
     "metadata": {},
     "output_type": "display_data"
    },
    {
     "data": {
      "image/png": "[encoded data removed]",
      "text/plain": [
       "<matplotlib.figure.Figure at 0x107381c18>"
      ]
     },
     "metadata": {},
     "output_type": "display_data"
    }
   ],
   "source": [
    "rand_h = np.random.randint(0,2,model.num_hid())\n",
    "approx= ContinuousApproxSampler(model.weights, model.weights, model.hidden_bias, model.hidden_bias)\n",
    "s = VanillaSampler(model)\n",
    "for current_img in comp:\n",
    "    reconstruction = approx.v_to_v(rand_h,rand_h,current_img.reshape(25),num_gibbs=1000)\n",
    "    pp.images(\n",
    "        np.array([current_img,reconstruction[0].reshape(5,5),\n",
    "                  reconstruction[1].reshape(5,5),\n",
    "                  s.reconstruction_given_visible(current_img.reshape(25)).reshape(5,5)]),color_range =(0,1))"
   ]
  },
  {
   "cell_type": "code",
   "execution_count": null,
   "metadata": {
    "collapsed": true
   },
   "outputs": [],
   "source": []
  }
 ],
 "metadata": {
  "kernelspec": {
   "display_name": "Python 3",
   "language": "python",
   "name": "python3"
  },
  "language_info": {
   "codemirror_mode": {
    "name": "ipython",
    "version": 3
   },
   "file_extension": ".py",
   "mimetype": "text/x-python",
   "name": "python",
   "nbconvert_exporter": "python",
   "pygments_lexer": "ipython3",
   "version": "3.4.3"
  }
 },
 "nbformat": 4,
 "nbformat_minor": 0
}
