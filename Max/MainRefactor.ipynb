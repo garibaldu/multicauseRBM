{
 "cells": [
  {
   "cell_type": "code",
   "execution_count": 1,
   "metadata": {
    "collapsed": false
   },
   "outputs": [],
   "source": [
    "from rbm import RBM\n",
    "from sampler import VanillaSampler, PartitionedSampler\n",
    "from trainer import VanillaTrainier\n",
    "import mnist\n",
    "import numpy as np\n",
    "import datasets\n",
    "import plotter\n",
    "\n",
    "def digit_datasets(size):\n",
    "    digits = []\n",
    "    for d in range(10):\n",
    "        digits.append(datasets.data_set_with_name(d, size = size))\n",
    "    return digits\n",
    "\n",
    "%matplotlib inline"
   ]
  },
  {
   "cell_type": "code",
   "execution_count": 2,
   "metadata": {
    "collapsed": false
   },
   "outputs": [],
   "source": [
    "num_items = 400\n",
    "bar = datasets.data_set_with_name(\"bar\", size = num_items)\n",
    "blob = datasets.data_set_with_name(\"blob\", size = num_items)\n",
    "digits = digit_datasets(num_items)"
   ]
  },
  {
   "cell_type": "code",
   "execution_count": 3,
   "metadata": {
    "collapsed": false
   },
   "outputs": [],
   "source": [
    "model = RBM(30, 784, num_items)\n",
    "sampler = VanillaSampler(model)\n",
    "trainer = VanillaTrainier(model, sampler)\n",
    "trainer.train(500, digits[1])"
   ]
  },
  {
   "cell_type": "code",
   "execution_count": 4,
   "metadata": {
    "collapsed": false
   },
   "outputs": [
    {
     "data": {
      "image/png": "[encoded data removed]",
      "text/plain": [
       "<matplotlib.figure.Figure at 0x10af18710>"
      ]
     },
     "metadata": {},
     "output_type": "display_data"
    }
   ],
   "source": [
    "plotter.plot(sampler.reconstruction_given_visible(digits[1]))"
   ]
  },
  {
   "cell_type": "code",
   "execution_count": 5,
   "metadata": {
    "collapsed": true
   },
   "outputs": [],
   "source": [
    "import pickle\n",
    "with open('one_model', 'wb') as f:\n",
    "    pickle.dump(model, f, protocol=None)"
   ]
  },
  {
   "cell_type": "code",
   "execution_count": 7,
   "metadata": {
    "collapsed": false
   },
   "outputs": [
    {
     "ename": "NameError",
     "evalue": "name 'three' is not defined",
     "output_type": "error",
     "traceback": [
      "\u001b[0;31m---------------------------------------------------------------------------\u001b[0m",
      "\u001b[0;31mNameError\u001b[0m                                 Traceback (most recent call last)",
      "\u001b[0;32m<ipython-input-7-43ff22ac3550>\u001b[0m in \u001b[0;36m<module>\u001b[0;34m()\u001b[0m\n\u001b[1;32m      2\u001b[0m \u001b[0msampler\u001b[0m \u001b[0;34m=\u001b[0m \u001b[0mVanillaSampler\u001b[0m\u001b[0;34m(\u001b[0m\u001b[0mthree_model\u001b[0m\u001b[0;34m)\u001b[0m\u001b[0;34m\u001b[0m\u001b[0m\n\u001b[1;32m      3\u001b[0m \u001b[0mtrainer\u001b[0m \u001b[0;34m=\u001b[0m \u001b[0mVanillaTrainier\u001b[0m\u001b[0;34m(\u001b[0m\u001b[0mthree_model\u001b[0m\u001b[0;34m,\u001b[0m \u001b[0msampler\u001b[0m\u001b[0;34m)\u001b[0m\u001b[0;34m\u001b[0m\u001b[0m\n\u001b[0;32m----> 4\u001b[0;31m \u001b[0mtrainer\u001b[0m\u001b[0;34m.\u001b[0m\u001b[0mtrain\u001b[0m\u001b[0;34m(\u001b[0m\u001b[0;36m500\u001b[0m\u001b[0;34m,\u001b[0m \u001b[0mthree\u001b[0m\u001b[0;34m)\u001b[0m\u001b[0;34m\u001b[0m\u001b[0m\n\u001b[0m",
      "\u001b[0;31mNameError\u001b[0m: name 'three' is not defined"
     ]
    }
   ],
   "source": [
    "three_model = RBM(30, 784, num_items)\n",
    "sampler = VanillaSampler(three_model)\n",
    "trainer = VanillaTrainier(three_model, sampler)\n",
    "trainer.train(500, three)"
   ]
  },
  {
   "cell_type": "code",
   "execution_count": 3,
   "metadata": {
    "collapsed": false
   },
   "outputs": [],
   "source": [
    "two_model = RBM(30, 784, num_items)\n",
    "sampler = VanillaSampler(two_model)\n",
    "trainer = VanillaTrainier(two_model, sampler)\n",
    "trainer.train(500, two)"
   ]
  },
  {
   "cell_type": "code",
   "execution_count": 3,
   "metadata": {
    "collapsed": true
   },
   "outputs": [],
   "source": [
    "two_three_model = RBM(30, 784, num_items)\n",
    "sampler = VanillaSampler(two_three_model)\n",
    "trainer = VanillaTrainier(two_three_model, sampler)\n",
    "trainer.train(500, two)\n",
    "trainer.train(500, three)"
   ]
  },
  {
   "cell_type": "code",
   "execution_count": 4,
   "metadata": {
    "collapsed": false
   },
   "outputs": [],
   "source": [
    "bar_model = RBM(30, 784, num_items)\n",
    "bar_sampler = VanillaSampler(bar_model)\n",
    "bar_trainer = VanillaTrainier(bar_model, bar_sampler)"
   ]
  },
  {
   "cell_type": "code",
   "execution_count": 6,
   "metadata": {
    "collapsed": false
   },
   "outputs": [],
   "source": [
    "bar_trainer.train(500, bar)\n",
    "trainer.train(500, two)"
   ]
  },
  {
   "cell_type": "code",
   "execution_count": 6,
   "metadata": {
    "collapsed": false
   },
   "outputs": [],
   "source": [
    "part_sampler = PartitionedSampler(bar_model, two_model, 40)"
   ]
  },
  {
   "cell_type": "code",
   "execution_count": 4,
   "metadata": {
    "collapsed": false
   },
   "outputs": [],
   "source": [
    "import pickle\n",
    "# with open('bar_model', 'wb') as f:\n",
    "#     pickle.dump(bar_model, f, protocol=None)\n",
    "\n",
    "# with open('two_model', 'wb') as f:\n",
    "#     pickle.dump(two_model, f, protocol=None)\n",
    "  \n",
    "with open('three_model', 'wb') as f:\n",
    "     pickle.dump(three_model, f, protocol=None)\n",
    "# composite = datasets.composite_datasets(bar, two)\n",
    "# ha, hb =  part_sampler.visible_to_hidden(composite, 40)"
   ]
  },
  {
   "cell_type": "code",
   "execution_count": 8,
   "metadata": {
    "collapsed": false
   },
   "outputs": [
    {
     "data": {
      "image/png": "[encoded data removed]",
      "text/plain": [
       "<matplotlib.figure.Figure at 0x11f95f390>"
      ]
     },
     "metadata": {},
     "output_type": "display_data"
    }
   ],
   "source": [
    "plotter.plot(two)"
   ]
  },
  {
   "cell_type": "code",
   "execution_count": 9,
   "metadata": {
    "collapsed": false
   },
   "outputs": [
    {
     "data": {
      "image/png": "[encoded data removed]",
      "text/plain": [
       "<matplotlib.figure.Figure at 0x11f444ef0>"
      ]
     },
     "metadata": {},
     "output_type": "display_data"
    }
   ],
   "source": [
    "plotter.plot(three)"
   ]
  },
  {
   "cell_type": "code",
   "execution_count": 3,
   "metadata": {
    "collapsed": false
   },
   "outputs": [
    {
     "data": {
      "text/plain": [
       "(400, 784)"
      ]
     },
     "execution_count": 3,
     "metadata": {},
     "output_type": "execute_result"
    }
   ],
   "source": [
    "two.shape"
   ]
  },
  {
   "cell_type": "code",
   "execution_count": 4,
   "metadata": {
    "collapsed": false
   },
   "outputs": [
    {
     "data": {
      "text/plain": [
       "(400, 784)"
      ]
     },
     "execution_count": 4,
     "metadata": {},
     "output_type": "execute_result"
    }
   ],
   "source": [
    "three.shape"
   ]
  },
  {
   "cell_type": "code",
   "execution_count": 8,
   "metadata": {
    "collapsed": false
   },
   "outputs": [],
   "source": [
    "two_three_dataset = np.concatenate((two, three), axis=0)\n",
    "np.random.shuffle(two_three_dataset)"
   ]
  },
  {
   "cell_type": "code",
   "execution_count": 11,
   "metadata": {
    "collapsed": false
   },
   "outputs": [],
   "source": [
    "two_three_model = RBM(30, two_three_dataset.shape[1], two_three_dataset.shape[0])\n",
    "sampler = VanillaSampler(two_three_model)\n",
    "trainer = VanillaTrainier(two_three_model, sampler)\n",
    "trainer.train(500, two_three_dataset)"
   ]
  },
  {
   "cell_type": "code",
   "execution_count": 13,
   "metadata": {
    "collapsed": false
   },
   "outputs": [],
   "source": [
    "import pickle\n",
    "with open('two_three_model', 'wb') as f:\n",
    "    pickle.dump(two_three_model, f, protocol=None)"
   ]
  },
  {
   "cell_type": "code",
   "execution_count": null,
   "metadata": {
    "collapsed": true
   },
   "outputs": [],
   "source": []
  }
 ],
 "metadata": {
  "kernelspec": {
   "display_name": "Python 3",
   "language": "python",
   "name": "python3"
  },
  "language_info": {
   "codemirror_mode": {
    "name": "ipython",
    "version": 3
   },
   "file_extension": ".py",
   "mimetype": "text/x-python",
   "name": "python",
   "nbconvert_exporter": "python",
   "pygments_lexer": "ipython3",
   "version": "3.4.3"
  }
 },
 "nbformat": 4,
 "nbformat_minor": 0
}
