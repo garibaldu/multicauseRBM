{
 "metadata": {
  "name": "",
  "signature": "sha256:0adf992fa3e2b66299f3fdcf4858c1a996f08dc3ff744ec56abe5cec13288388"
 },
 "nbformat": 3,
 "nbformat_minor": 0,
 "worksheets": [
  {
   "cells": [
    {
     "cell_type": "code",
     "collapsed": false,
     "input": [
      "%matplotlib inline \n",
      "import numpy as np\n",
      "import numpy.random as rng\n",
      "from pylab import *\n",
      "\n",
      "def sigmoid(x):\n",
      "    return 1.0/(1+np.exp(-x))"
     ],
     "language": "python",
     "metadata": {},
     "outputs": [],
     "prompt_number": 256
    },
    {
     "cell_type": "markdown",
     "metadata": {},
     "source": [
      "Two inputs. two rbms, both the same, having two units each!"
     ]
    },
    {
     "cell_type": "markdown",
     "metadata": {},
     "source": [
      "I will set weights such that patterns 01 and 10  on the visible units get piles of sand (are \"memories\"), and 00 and 11 aren't."
     ]
    },
    {
     "cell_type": "code",
     "collapsed": false,
     "input": [
      "w = 1.0 * np.array([[1,-1],[-1,1]])\n",
      "pats = np.array([[0,0],[0,1],[1,0],[1,1]])"
     ],
     "language": "python",
     "metadata": {},
     "outputs": [],
     "prompt_number": 416
    },
    {
     "cell_type": "code",
     "collapsed": false,
     "input": [
      "#psiA = np.dot(pats, w)\n",
      "#subplot(121)\n",
      "#imshow(pats, interpolation='nearest',cmap='hot', vmin=0, vmax=1)\n",
      "#title('visible')\n",
      "#ax = axis('off')\n",
      "#subplot(122)\n",
      "#imshow(sigmoid(psiA), interpolation='nearest',cmap='hot', vmin=0, vmax=1)\n",
      "#title('hidden')\n",
      "#colorbar()\n",
      "#ax = axis('off')"
     ],
     "language": "python",
     "metadata": {},
     "outputs": [],
     "prompt_number": 410
    },
    {
     "cell_type": "code",
     "collapsed": false,
     "input": [
      "v  = np.array([[1,1]])\n",
      "hB = np.array([[0,1]])\n",
      "phiA = np.dot(pats, w) - np.dot((2*pats-1),w/2)\n",
      "phiB = np.dot(hB, w)\n",
      "sigA  = sigmoid(phiA) \n",
      "sigAB = sigmoid(phiA + phiB)\n",
      "effective_vis = v + sigA - sigAB\n",
      "our_psiA = np.dot(effective_vis, w)"
     ],
     "language": "python",
     "metadata": {},
     "outputs": [],
     "prompt_number": 411
    },
    {
     "cell_type": "code",
     "collapsed": false,
     "input": [
      "# This is showing the action in hA when v=[1,1] is clamped on visible\n",
      "subplot(141)\n",
      "imshow(hB, interpolation='nearest',cmap='copper', vmin=0, vmax=1)\n",
      "title('hidden B')\n",
      "ax = axis('off')\n",
      "subplot(142)\n",
      "imshow(pats, interpolation='nearest',cmap='copper', vmin=0, vmax=1)\n",
      "title('hidden A')\n",
      "ax = axis('off')\n",
      "subplot(143)\n",
      "imshow(sigmoid(our_psiA), interpolation='nearest',cmap='copper', vmin=0, vmax=1)\n",
      "title('our hidA pr')\n",
      "ax = axis('off')\n",
      "subplot(144)\n",
      "naive_psiA = np.dot(v, w)\n",
      "imshow(sigmoid(psiA), interpolation='nearest',cmap='copper', vmin=0, vmax=1)\n",
      "title('hidA prob naive')\n",
      "#colorbar()\n",
      "ax = axis('off')\n",
      "savefig('the_way')"
     ],
     "language": "python",
     "metadata": {},
     "outputs": [
      {
       "metadata": {},
       "output_type": "display_data",
       "png": "[encoded data removed]",
       "text": [
        "<matplotlib.figure.Figure at 0x3d5d6d8>"
       ]
      }
     ],
     "prompt_number": 412
    },
    {
     "cell_type": "markdown",
     "metadata": {},
     "source": [
      "LEARNGIN"
     ]
    },
    {
     "cell_type": "code",
     "collapsed": false,
     "input": [
      "w = 1.0 * np.array([[1,-1],[-1,1]])\n",
      "\n",
      "#testing...\n",
      "v = np.array([4,5]).reshape(1,2)\n",
      "print (v)\n",
      "z = np.dot(v,w).T\n",
      "print (z)\n",
      "print (v-z) #yay...........\n",
      "print (z*w)"
     ],
     "language": "python",
     "metadata": {},
     "outputs": [
      {
       "output_type": "stream",
       "stream": "stdout",
       "text": [
        "[[ 1. -1.]\n",
        " [-1.  1.]]\n",
        "[[-1.]\n",
        " [ 1.]]\n",
        "[[ 5.  6.]\n",
        " [ 3.  4.]]\n",
        "[[-1.  1.]\n",
        " [-1.  1.]]\n"
       ]
      }
     ],
     "prompt_number": 554
    },
    {
     "cell_type": "code",
     "collapsed": false,
     "input": [
      "vpats  = np.array([[0,1],[1,0]])# our data points\n",
      "eta = .05\n",
      "print('weights: \\n', w)\n",
      "for step in range(10):\n",
      "    # Wake phase\n",
      "    for v in vpats: # 'clamped'\n",
      "        v = v.reshape(1,2) # visible states will always be rows\n",
      "        print('shape of v should be 1,2: ',v.shape)\n",
      "        # SAMPLE from hA and hB\n",
      "        # hidden states will always be column vectors\n",
      "        # Start by initialising as if it were a vanilla RBM \n",
      "        hA = 1.0*(sigmoid(np.dot(v,w).T) > rng.random(size=(2,1)))\n",
      "        hB = 1.0*(sigmoid(np.dot(v,w).T) > rng.random(size=(2,1)))\n",
      "        print('shape of hA should be 2,1: ',hA.shape)\n",
      "        for t in range(10):\n",
      "            phiA_self = np.dot(v,w) - hA*w + 0.5*w \n",
      "            phiB_self = np.dot(v,w) - hB*w + 0.5*w \n",
      "            # phi will need to be same shape as w in fact!\n",
      "            phiA_norm = np.dot(w, hA).T + 0.5*w \n",
      "            phiB_norm = np.dot(w, hB).T + 0.5*w \n",
      "            \n",
      "            # I THINK I'M CONSISTENT UP TO THIS POINT - MARCUS\n",
      "            sigA_self  = sigmoid(phiA_self) \n",
      "            sigB_self  = sigmoid(phiB_self) \n",
      "            sigAB_toA = sigmoid(phiA_self + phiB_norm)\n",
      "            sigAB_toB = sigmoid(phiB_self + phiA_norm)\n",
      "            effective_visA = v + sigA_self - sigAB_toA\n",
      "            effective_visB = v + sigB_self - sigAB_toB\n",
      "            our_psiA = np.dot(effective_visA, w)\n",
      "            our_psiB = np.dot(effective_visB, w)\n",
      "            hA = 1.0*(sigmoid(our_psiA) > rng.random(size=(1,2)))\n",
      "            hB = 1.0*(sigmoid(our_psiB) > rng.random(size=(1,2)))\n",
      "        dwA = sigmoid(phiA_norm)*hA + (v - sigAB_toA)*hA\n",
      "        dwB = sigmoid(phiB_norm)*hB + (v - sigAB_toB)*hB\n",
      "        #COMBINE\n",
      "        w = w + eta * (dwA + dwB)\n",
      "\n",
      "    # Sleep phase\n",
      "    for v in vpats: # 'clamped'\n",
      "        # sample from hA and hB\n",
      "        hA = 1.0*(sigmoid(np.dot(v,w)) > rng.random(size=(1,2)))\n",
      "        hB = 1.0*(sigmoid(np.dot(v,w)) > rng.random(size=(1,2)))\n",
      "        for t in range(10):\n",
      "            visAprob = sigmoid(np.dot(hA,w))\n",
      "            visA = 1.0*(visAprob > rng.random(size=(1,2)))\n",
      "            psiAprob = sigmoid(np.dot(visA, w))\n",
      "            hA = 1.0*(psiAprob > rng.random(size=(1,2)))\n",
      "            visBprob = sigmoid(np.dot(hB,w))\n",
      "            visB = 1.0*(visBprob > rng.random(size=(1,2)))\n",
      "            psiBprob = sigmoid(np.dot(visB, w))\n",
      "            hB = 1.0*(psiBprob > rng.random(size=(1,2)))\n",
      "        dwA = visA*hA\n",
      "        dwB = visB*hB\n",
      "        #COMBINE\n",
      "        w = w - eta * (dwA + dwB)\n",
      "    \n",
      "print(w)"
     ],
     "language": "python",
     "metadata": {},
     "outputs": [
      {
       "output_type": "stream",
       "stream": "stdout",
       "text": [
        "weights: \n",
        " [[ 1. -1.]\n",
        " [-1.  1.]]\n",
        "shape of v should be 1,2:  (1, 2)\n",
        "shape of hA should be 2,1:  (2, 1)\n"
       ]
      },
      {
       "ename": "ValueError",
       "evalue": "objects are not aligned",
       "output_type": "pyerr",
       "traceback": [
        "\u001b[1;31m---------------------------------------------------------------------------\u001b[0m\n\u001b[1;31mValueError\u001b[0m                                Traceback (most recent call last)",
        "\u001b[1;32m<ipython-input-548-d2b7a9365940>\u001b[0m in \u001b[0;36m<module>\u001b[1;34m()\u001b[0m\n\u001b[0;32m     14\u001b[0m         \u001b[0mprint\u001b[0m\u001b[1;33m(\u001b[0m\u001b[1;34m'shape of hA should be 2,1: '\u001b[0m\u001b[1;33m,\u001b[0m\u001b[0mhA\u001b[0m\u001b[1;33m.\u001b[0m\u001b[0mshape\u001b[0m\u001b[1;33m)\u001b[0m\u001b[1;33m\u001b[0m\u001b[0m\n\u001b[0;32m     15\u001b[0m         \u001b[1;32mfor\u001b[0m \u001b[0mt\u001b[0m \u001b[1;32min\u001b[0m \u001b[0mrange\u001b[0m\u001b[1;33m(\u001b[0m\u001b[1;36m10\u001b[0m\u001b[1;33m)\u001b[0m\u001b[1;33m:\u001b[0m\u001b[1;33m\u001b[0m\u001b[0m\n\u001b[1;32m---> 16\u001b[1;33m             \u001b[0mphiA_self\u001b[0m \u001b[1;33m=\u001b[0m \u001b[0mnp\u001b[0m\u001b[1;33m.\u001b[0m\u001b[0mdot\u001b[0m\u001b[1;33m(\u001b[0m\u001b[0mw\u001b[0m\u001b[1;33m,\u001b[0m \u001b[0mv\u001b[0m\u001b[1;33m)\u001b[0m \u001b[1;33m-\u001b[0m \u001b[0mnp\u001b[0m\u001b[1;33m.\u001b[0m\u001b[0mdot\u001b[0m\u001b[1;33m(\u001b[0m\u001b[1;33m(\u001b[0m\u001b[1;36m2\u001b[0m\u001b[1;33m*\u001b[0m\u001b[0mhA\u001b[0m\u001b[1;33m-\u001b[0m\u001b[1;36m1\u001b[0m\u001b[1;33m)\u001b[0m\u001b[1;33m,\u001b[0m\u001b[0mw\u001b[0m\u001b[1;33m/\u001b[0m\u001b[1;36m2\u001b[0m\u001b[1;33m)\u001b[0m\u001b[1;33m\u001b[0m\u001b[0m\n\u001b[0m\u001b[0;32m     17\u001b[0m             \u001b[0mphiB_self\u001b[0m \u001b[1;33m=\u001b[0m \u001b[0mnp\u001b[0m\u001b[1;33m.\u001b[0m\u001b[0mdot\u001b[0m\u001b[1;33m(\u001b[0m\u001b[0mw\u001b[0m\u001b[1;33m,\u001b[0m \u001b[0mv\u001b[0m\u001b[1;33m)\u001b[0m \u001b[1;33m-\u001b[0m \u001b[0mnp\u001b[0m\u001b[1;33m.\u001b[0m\u001b[0mdot\u001b[0m\u001b[1;33m(\u001b[0m\u001b[1;33m(\u001b[0m\u001b[1;36m2\u001b[0m\u001b[1;33m*\u001b[0m\u001b[0mhB\u001b[0m\u001b[1;33m-\u001b[0m\u001b[1;36m1\u001b[0m\u001b[1;33m)\u001b[0m\u001b[1;33m,\u001b[0m\u001b[0mw\u001b[0m\u001b[1;33m/\u001b[0m\u001b[1;36m2\u001b[0m\u001b[1;33m)\u001b[0m\u001b[1;33m\u001b[0m\u001b[0m\n\u001b[0;32m     18\u001b[0m             \u001b[0mphiA_norm\u001b[0m \u001b[1;33m=\u001b[0m \u001b[0mnp\u001b[0m\u001b[1;33m.\u001b[0m\u001b[0mdot\u001b[0m\u001b[1;33m(\u001b[0m\u001b[0mhA\u001b[0m\u001b[1;33m,\u001b[0m \u001b[0mw\u001b[0m\u001b[1;33m)\u001b[0m\u001b[1;33m\u001b[0m\u001b[0m\n",
        "\u001b[1;31mValueError\u001b[0m: objects are not aligned"
       ]
      }
     ],
     "prompt_number": 548
    },
    {
     "cell_type": "code",
     "collapsed": false,
     "input": [
      "visAprob = sigmoid(np.dot(hA,w))\n",
      "visA = 1.0*(visAprob > rng.random(size=(1,2)))\n",
      "psiAprob = sigmoid(np.dot(visA, w))\n",
      "hA = 1.0*(psiAprob > rng.random(size=(1,2)))\n",
      "print(visA)"
     ],
     "language": "python",
     "metadata": {},
     "outputs": [
      {
       "output_type": "stream",
       "stream": "stdout",
       "text": [
        "[[ 1.  0.]]\n"
       ]
      }
     ],
     "prompt_number": 522
    },
    {
     "cell_type": "markdown",
     "metadata": {},
     "source": [
      "### TODO:\n",
      " \n",
      " 1. two-bit learning\n",
      " \n",
      " 2. 3-visible-bit RBMs, two of them with shared weights.\n",
      " \n",
      " Something like\n",
      "  * 001 has logP=1\n",
      "  * 011 has logP=2\n",
      "  * 111 has logP=1\n",
      " \n",
      " 3. same but with two sets of weights, learning both of them.\n",
      " \n",
      "Where the complement is\n",
      "  * 110 has logP=1\n",
      "  * 100 has logP=2\n",
      "  * 000 has logP=1\n"
     ]
    },
    {
     "cell_type": "code",
     "collapsed": false,
     "input": [],
     "language": "python",
     "metadata": {},
     "outputs": []
    }
   ],
   "metadata": {}
  }
 ]
}