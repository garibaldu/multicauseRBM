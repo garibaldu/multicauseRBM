{
 "metadata": {
  "name": "",
  "signature": "sha256:602c71a882fe6fdb9afe86a6b71d3a69faf3a3a1871bd34d09028684d88b5a5e"
 },
 "nbformat": 3,
 "nbformat_minor": 0,
 "worksheets": [
  {
   "cells": [
    {
     "cell_type": "code",
     "collapsed": false,
     "input": [
      "%matplotlib inline \n",
      "import numpy as np\n",
      "import numpy.random as rng\n",
      "from pylab import *\n",
      "\n",
      "def sigmoid(x):\n",
      "    return 1.0/(1+np.exp(-x))"
     ],
     "language": "python",
     "metadata": {},
     "outputs": [],
     "prompt_number": 14
    },
    {
     "cell_type": "markdown",
     "metadata": {},
     "source": [
      "Two inputs. two rbms, both the same, having two units each!"
     ]
    },
    {
     "cell_type": "markdown",
     "metadata": {},
     "source": [
      "I will set weights such that patterns 01 and 10  on the visible units get piles of sand (are \"memories\"), and 00 and 11 aren't."
     ]
    },
    {
     "cell_type": "code",
     "collapsed": false,
     "input": [
      "w = 3.0 * np.array([[1,-1],[-1,1]])\n",
      "pats = np.array([[0,0],[0,1],[1,0],[1,1]])"
     ],
     "language": "python",
     "metadata": {},
     "outputs": [],
     "prompt_number": 103
    },
    {
     "cell_type": "code",
     "collapsed": false,
     "input": [
      "psiA = np.dot(pats, w)\n",
      "subplot(121)\n",
      "imshow(pats, interpolation='nearest',cmap='hot', vmin=0, vmax=1)\n",
      "title('visible')\n",
      "ax = axis('off')\n",
      "subplot(122)\n",
      "imshow(sigmoid(psiA), interpolation='nearest',cmap='hot', vmin=0, vmax=1)\n",
      "title('hidden')\n",
      "colorbar()\n",
      "ax = axis('off')"
     ],
     "language": "python",
     "metadata": {},
     "outputs": [
      {
       "metadata": {},
       "output_type": "display_data",
       "png": "[encoded data removed]",
       "text": [
        "<matplotlib.figure.Figure at 0x3393688>"
       ]
      }
     ],
     "prompt_number": 104
    },
    {
     "cell_type": "code",
     "collapsed": false,
     "input": [
      "v  = np.array([1,1])\n",
      "hB = np.array([0,1])\n",
      "phiA = np.dot(pats, w) - np.dot((2*pats-1),w/2)\n",
      "phiB = np.dot(hB, w)\n",
      "sigA  = sigmoid(phiA) \n",
      "sigAB = sigmoid(phiA + phiB)\n",
      "effective_vis = v + sigA - sigAB\n",
      "our_psiA = np.dot(effective_vis, w)"
     ],
     "language": "python",
     "metadata": {},
     "outputs": [],
     "prompt_number": 131
    },
    {
     "cell_type": "code",
     "collapsed": false,
     "input": [
      "subplot(131)\n",
      "imshow(pats, interpolation='nearest',cmap='hot', vmin=0, vmax=1)\n",
      "title('hidden A')\n",
      "ax = axis('off')\n",
      "subplot(132)\n",
      "imshow(sigmoid(our_psiA), interpolation='nearest',cmap='hot', vmin=0, vmax=1)\n",
      "title('hidA prob ours')\n",
      "ax = axis('off')\n",
      "subplot(133)\n",
      "naive_psiA = np.dot(v, w)\n",
      "imshow(sigmoid(psiA), interpolation='nearest',cmap='hot', vmin=0, vmax=1)\n",
      "title('hidA prob naive')\n",
      "#colorbar()\n",
      "ax = axis('off')\n",
      "savefig('the_way')"
     ],
     "language": "python",
     "metadata": {},
     "outputs": [
      {
       "metadata": {},
       "output_type": "display_data",
       "png": "[encoded data removed]",
       "text": [
        "<matplotlib.figure.Figure at 0x377f828>"
       ]
      }
     ],
     "prompt_number": 140
    },
    {
     "cell_type": "code",
     "collapsed": false,
     "input": [],
     "language": "python",
     "metadata": {},
     "outputs": []
    }
   ],
   "metadata": {}
  }
 ]
}