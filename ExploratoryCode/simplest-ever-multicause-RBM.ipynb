{
 "metadata": {
  "name": "",
  "signature": "sha256:5545cbd36ebfd7a8f186a8e877ec344bc6f6effd59b55c5748a8e073c92625ae"
 },
 "nbformat": 3,
 "nbformat_minor": 0,
 "worksheets": [
  {
   "cells": [
    {
     "cell_type": "markdown",
     "metadata": {},
     "source": [
      "# 2 visibles, 2 rbms, with 2 hiddens each, and the same weights!\n",
      "I'm making a super simple example network here, to reality-check our thinking and test the thing out in the smallest possible example."
     ]
    },
    {
     "cell_type": "code",
     "collapsed": false,
     "input": [
      "%matplotlib inline \n",
      "import numpy as np\n",
      "import numpy.random as rng\n",
      "from pylab import *\n",
      "\n",
      "def sigmoid(x):\n",
      "    return 1.0/(1+np.exp(-x))"
     ],
     "language": "python",
     "metadata": {},
     "outputs": [],
     "prompt_number": 101
    },
    {
     "cell_type": "code",
     "collapsed": false,
     "input": [
      "# This is showing the action in hA when v is clamped on visible, \n",
      "# and hB is the pattern on the hidden units of the OTHER rbm.\n",
      "def do_EXACT_figure(fig_name, w, v, hB):\n",
      "    hB = hB.reshape((2,1))\n",
      "    phiB = np.dot(w,hB).T\n",
      "    pats = np.array([[0,0],[0,1],[1,0],[1,1]])\n",
      "    hA_prob = np.zeros(pats.shape, dtype=float)\n",
      "    for row, hA in enumerate(pats):\n",
      "        hA = hA.reshape((2,1))\n",
      "        # phiA is a column vector:\n",
      "        phiA = np.dot(w,hA).T\n",
      "        # phiA0 vector (cols) is like phiA but when each hidden in turn (rows) is off\n",
      "        phiA0 = phiA - hA*w \n",
      "        C = np.log(sigmoid(phiA0))\n",
      "        C = C - np.log(sigmoid(phiA0 + w))\n",
      "        C = C + np.log(sigmoid(phiA0 + w + phiB))\n",
      "        C = C - np.log(sigmoid(phiA0 + phiB))\n",
      "        \n",
      "        our_psiA = (v*w + C).sum(1)\n",
      "        hA_prob[row,:] = sigmoid(our_psiA)\n",
      "\n",
      "\n",
      "    subplot(259)\n",
      "    imshow(v, interpolation='nearest',cmap='copper', vmin=0, vmax=1)\n",
      "    title('visible')\n",
      "    ax = axis('off')\n",
      "    subplot(255)\n",
      "    imshow(hB.T, interpolation='nearest',cmap='copper', vmin=0, vmax=1)\n",
      "    title('rbmB')\n",
      "    ax = axis('off')\n",
      "    subplot(251)\n",
      "    imshow(pats, interpolation='nearest',cmap='copper', vmin=0, vmax=1)\n",
      "    title('rbmA')\n",
      "    ax = axis('off')\n",
      "    subplot(252)\n",
      "    imshow(hA_prob, interpolation='nearest',cmap='copper', vmin=0, vmax=1)\n",
      "    title('orbm Pr(A)')\n",
      "    ax = axis('off')\n",
      "    subplot(253)\n",
      "    psiA = np.dot(v, w)\n",
      "    imshow(sigmoid(psiA), interpolation='nearest',cmap='copper', vmin=0, vmax=1)\n",
      "    title('rbm Pr(A)')\n",
      "    #colorbar()\n",
      "    ax = axis('off')\n",
      "    savefig(fig_name)"
     ],
     "language": "python",
     "metadata": {},
     "outputs": [],
     "prompt_number": 112
    },
    {
     "cell_type": "code",
     "collapsed": false,
     "input": [
      "# This is showing the action in hA when v is clamped on visible, \n",
      "# and hB is the pattern on the hidden units of the OTHER rbm.\n",
      "def do_APPROX_figure(fig_name, w, v, hB):\n",
      "    hB = hB.reshape((2,1))\n",
      "    pats = np.array([[0,0],[0,1],[1,0],[1,1]])\n",
      "    hA_prob = np.zeros(pats.shape, dtype=float)\n",
      "    for row, hA in enumerate(pats):\n",
      "        hA = hA.reshape((2,1))\n",
      "        phiA = np.dot(w,hA).T\n",
      "        phiB = np.dot(w,hB).T\n",
      "        phiA0 = phiA - hA*w \n",
      "        phiB0 = phiB - hB*w \n",
      "        # i.e. phi_alts should now be same shape as w in fact! :(\n",
      "        sigA_to_A  = sigmoid(phiA0 + .5*w)\n",
      "        sigAB_to_A  = sigmoid(phiA0 + .5*w + phiB) \n",
      "        effective_visA = v + sigA_to_A - sigAB_to_A\n",
      "        our_psiA = (effective_visA * w).sum(1)\n",
      "        hA_prob[row,:] = sigmoid(our_psiA)\n",
      "        \n",
      "    print(hA_prob)\n",
      "\n",
      "    subplot(259)\n",
      "    imshow(v, interpolation='nearest',cmap='copper', vmin=0, vmax=1)\n",
      "    title('visible')\n",
      "    ax = axis('off')\n",
      "    subplot(255)\n",
      "    imshow(hB.T, interpolation='nearest',cmap='copper', vmin=0, vmax=1)\n",
      "    title('rbmB')\n",
      "    ax = axis('off')\n",
      "    subplot(251)\n",
      "    imshow(pats, interpolation='nearest',cmap='copper', vmin=0, vmax=1)\n",
      "    title('rbmA')\n",
      "    ax = axis('off')\n",
      "    subplot(252)\n",
      "    imshow(hA_prob, interpolation='nearest',cmap='copper', vmin=0, vmax=1)\n",
      "    title('orbm Pr(A)')\n",
      "    ax = axis('off')\n",
      "    subplot(253)\n",
      "    psiA = np.dot(v, w)\n",
      "    imshow(sigmoid(psiA), interpolation='nearest',cmap='copper', vmin=0, vmax=1)\n",
      "    title('rbm Pr(A)')\n",
      "    #colorbar()\n",
      "    ax = axis('off')\n",
      "    savefig(fig_name)"
     ],
     "language": "python",
     "metadata": {},
     "outputs": [],
     "prompt_number": 142
    },
    {
     "cell_type": "markdown",
     "metadata": {},
     "source": [
      "I will set weights such that patterns 01 and 10  on the visible units get piles of sand (are \"memories\"), and 00 and 11 aren't."
     ]
    },
    {
     "cell_type": "code",
     "collapsed": false,
     "input": [
      "w = 1.0 * np.array([[1,-1],[-1,1]])\n",
      "print(w)"
     ],
     "language": "python",
     "metadata": {},
     "outputs": [
      {
       "output_type": "stream",
       "stream": "stdout",
       "text": [
        "[[ 1. -1.]\n",
        " [-1.  1.]]\n"
       ]
      }
     ],
     "prompt_number": 153
    },
    {
     "cell_type": "markdown",
     "metadata": {},
     "source": [
      "### explaining away, example 1\n",
      "We clamp a visible pattern that requires both the rbms to pitch in. The B network explains the right-most bit.\n",
      "\n",
      "Under regular rbm dynamics, the A network is ambivalent as to which hidden state to choose: all 4 are equally likely.\n",
      "\n",
      "But under orbm dynamics we would expect the A network to be asked to explain the left-most bit. "
     ]
    },
    {
     "cell_type": "code",
     "collapsed": false,
     "input": [
      "do_APPROX_figure('the_way', w, v=np.array([[1,1]]), hB = np.array([[0,1]]))"
     ],
     "language": "python",
     "metadata": {},
     "outputs": [
      {
       "output_type": "stream",
       "stream": "stdout",
       "text": [
        "[[ 0.62006811  0.40366186]\n",
        " [ 0.59633814  0.40366186]\n",
        " [ 0.62006811  0.37993189]\n",
        " [ 0.59633814  0.37993189]]\n"
       ]
      },
      {
       "metadata": {},
       "output_type": "display_data",
       "png": "[encoded data removed]",
       "text": [
        "<matplotlib.figure.Figure at 0x4a30dd8>"
       ]
      }
     ],
     "prompt_number": 154
    },
    {
     "cell_type": "code",
     "collapsed": false,
     "input": [
      "do_EXACT_figure('the_way', w, v=np.array([[1,1]]), hB = np.array([[0,1]]))"
     ],
     "language": "python",
     "metadata": {},
     "outputs": [
      {
       "metadata": {},
       "output_type": "display_data",
       "png": "[encoded data removed]",
       "text": [
        "<matplotlib.figure.Figure at 0x4b96958>"
       ]
      }
     ],
     "prompt_number": 155
    },
    {
     "cell_type": "markdown",
     "metadata": {},
     "source": [
      "_Note: we show the rbmA state alongside the orbm's Pr(A) here because in theory the orbm probabilities do depend on the existing state. However it is extremely heartening that they don't strongly. Perhaps because this example is just so symmetrical._"
     ]
    },
    {
     "cell_type": "markdown",
     "metadata": {},
     "source": [
      "### explaining away, example 2\n",
      "Suppose the entire visible pattern is nicely explained by the B network. What does this mean for the A one? \n",
      "\n",
      "The standard rbm would try to account for the image.\n",
      "\n",
      "In the orbm, here's what happens:"
     ]
    },
    {
     "cell_type": "code",
     "collapsed": false,
     "input": [
      "do_EXACT_figure('the_way', w, v=np.array([[0,1]]), hB = np.array([[0,1]]))"
     ],
     "language": "python",
     "metadata": {},
     "outputs": [
      {
       "metadata": {},
       "output_type": "display_data",
       "png": "[encoded data removed]",
       "text": [
        "<matplotlib.figure.Figure at 0x4cade48>"
       ]
      }
     ],
     "prompt_number": 156
    },
    {
     "cell_type": "markdown",
     "metadata": {},
     "source": [
      "It's still trying, and just as hard..."
     ]
    },
    {
     "cell_type": "markdown",
     "metadata": {},
     "source": [
      "# Learning - to fix, marcus............"
     ]
    },
    {
     "cell_type": "code",
     "collapsed": false,
     "input": [
      "# Our convention: hiddens are rows, visibles are columns.\n",
      "# So our weights are W[hid,vis].\n",
      "# Our hidden states should always be column vectors.\n",
      "# Our visible states should always be row vectors.\n",
      "# psi always refers to hiddens, phi always to visibles: WATCH OUT FUKKAHS.\n",
      "\n",
      "w = 1.0 * np.array([[1,-1],[-1,1]])\n",
      "\n",
      "vpats  = np.array([[0,1],[1,0]])# our data points\n",
      "eta = .05 # learning rate\n",
      "print('initial weights: \\n', w)\n",
      "for step in range(300):\n",
      "    # Wake phase\n",
      "    for v in vpats: # 'clamped'\n",
      "        v = v.reshape(1,2) \n",
      "        #print('shape of v should be 1,2: ',v.shape)\n",
      "        # SAMPLE from hA and hB\n",
      "        # Start by initialising as if it were a vanilla RBM \n",
      "        psiA, psiB = np.dot(v,w), np.dot(v,w)\n",
      "        hA_prob, hB_prob = sigmoid(psiA), sigmoid(psiB)\n",
      "        hA = (hA_prob > rng.random(size=hA_prob.shape)).reshape(2,1)\n",
      "        hB = (hB_prob > rng.random(size=hB_prob.shape)).reshape(2,1)\n",
      "        #print('shape of hA should be 2,1: ',hA.shape)\n",
      "        for t in range(10):\n",
      "            phiA, phiB = np.dot(w,hA), np.dot(w,hB)\n",
      "            phiA_alt = phiA - hA*w + 0.5*w \n",
      "            phiB_alt = phiB - hB*w + 0.5*w \n",
      "            # i.e. phi_alts should now be same shape as w in fact! :(\n",
      "            if (step==1) and (t==1): print('phiA_alt shape is ',phiA_alt.shape)\n",
      "            sigA_to_A  = sigmoid(phiA_alt)\n",
      "            sigB_to_B  = sigmoid(phiB_alt) \n",
      "            sigAB_to_A  = sigmoid(phiA_alt + phiB) \n",
      "            sigAB_to_B  = sigmoid(phiB_alt + phiA) \n",
      "            \n",
      "            effective_visA = v + sigA_to_A - sigAB_to_A\n",
      "            effective_visB = v + sigB_to_B - sigAB_to_B\n",
      "            our_psiA = (effective_visA * w).sum(1)\n",
      "            our_psiB = (effective_visB * w).sum(1)\n",
      "            hA_prob = sigmoid(our_psiA)\n",
      "            hB_prob = sigmoid(our_psiB)\n",
      "            hA = (hA_prob > rng.random(size=hA_prob.shape)).reshape(2,1)\n",
      "            hB = (hB_prob > rng.random(size=hB_prob.shape)).reshape(2,1)\n",
      "\n",
      "        dwA = sigmoid(phiA_norm)*hA + (v - sigAB_toA)*hA\n",
      "        dwB = sigmoid(phiB_norm)*hB + (v - sigAB_toB)*hB\n",
      "        #COMBINE\n",
      "        w = w + eta * (dwA + dwB)\n",
      "\n",
      "    # Sleep phase\n",
      "    for v in vpats: # 'clamped'\n",
      "        for t in range(10):\n",
      "            # visibles to hiddens\n",
      "            psiA, psiB = np.dot(v,w), np.dot(v,w)\n",
      "            hA_prob, hB_prob = sigmoid(psiA), sigmoid(psiB)\n",
      "            hA = (hA_prob > rng.random(size=hA_prob.shape)).reshape(2,1)\n",
      "            hB = (hB_prob > rng.random(size=hB_prob.shape)).reshape(2,1)\n",
      "            # hiddens to visibles\n",
      "            phiA, phiB = np.dot(w,hA), np.dot(w,hB)\n",
      "            vA_prob, vB_prob = sigmoid(phiA), sigmoid(phiB)\n",
      "            vA = (vA_prob > rng.random(size=vA_prob.shape)).reshape(1,2)\n",
      "            vB = (vB_prob > rng.random(size=vB_prob.shape)).reshape(1,2)\n",
      "\n",
      "        dwA = visA*hA\n",
      "        dwB = visB*hB\n",
      "        #COMBINE\n",
      "        #w = w - eta * (dwA + dwB)\n",
      "    \n",
      "print('new weights: \\n',w)"
     ],
     "language": "python",
     "metadata": {},
     "outputs": [
      {
       "output_type": "stream",
       "stream": "stdout",
       "text": [
        "initial weights: \n",
        " [[ 1. -1.]\n",
        " [-1.  1.]]\n"
       ]
      },
      {
       "ename": "NameError",
       "evalue": "name 'phiA_norm' is not defined",
       "output_type": "pyerr",
       "traceback": [
        "\u001b[1;31m---------------------------------------------------------------------------\u001b[0m\n\u001b[1;31mNameError\u001b[0m                                 Traceback (most recent call last)",
        "\u001b[1;32m<ipython-input-157-e31e0ae222f9>\u001b[0m in \u001b[0;36m<module>\u001b[1;34m()\u001b[0m\n\u001b[0;32m     42\u001b[0m             \u001b[0mhB\u001b[0m \u001b[1;33m=\u001b[0m \u001b[1;33m(\u001b[0m\u001b[0mhB_prob\u001b[0m \u001b[1;33m>\u001b[0m \u001b[0mrng\u001b[0m\u001b[1;33m.\u001b[0m\u001b[0mrandom\u001b[0m\u001b[1;33m(\u001b[0m\u001b[0msize\u001b[0m\u001b[1;33m=\u001b[0m\u001b[0mhB_prob\u001b[0m\u001b[1;33m.\u001b[0m\u001b[0mshape\u001b[0m\u001b[1;33m)\u001b[0m\u001b[1;33m)\u001b[0m\u001b[1;33m.\u001b[0m\u001b[0mreshape\u001b[0m\u001b[1;33m(\u001b[0m\u001b[1;36m2\u001b[0m\u001b[1;33m,\u001b[0m\u001b[1;36m1\u001b[0m\u001b[1;33m)\u001b[0m\u001b[1;33m\u001b[0m\u001b[0m\n\u001b[0;32m     43\u001b[0m \u001b[1;33m\u001b[0m\u001b[0m\n\u001b[1;32m---> 44\u001b[1;33m         \u001b[0mdwA\u001b[0m \u001b[1;33m=\u001b[0m \u001b[0msigmoid\u001b[0m\u001b[1;33m(\u001b[0m\u001b[0mphiA_norm\u001b[0m\u001b[1;33m)\u001b[0m\u001b[1;33m*\u001b[0m\u001b[0mhA\u001b[0m \u001b[1;33m+\u001b[0m \u001b[1;33m(\u001b[0m\u001b[0mv\u001b[0m \u001b[1;33m-\u001b[0m \u001b[0msigAB_toA\u001b[0m\u001b[1;33m)\u001b[0m\u001b[1;33m*\u001b[0m\u001b[0mhA\u001b[0m\u001b[1;33m\u001b[0m\u001b[0m\n\u001b[0m\u001b[0;32m     45\u001b[0m         \u001b[0mdwB\u001b[0m \u001b[1;33m=\u001b[0m \u001b[0msigmoid\u001b[0m\u001b[1;33m(\u001b[0m\u001b[0mphiB_norm\u001b[0m\u001b[1;33m)\u001b[0m\u001b[1;33m*\u001b[0m\u001b[0mhB\u001b[0m \u001b[1;33m+\u001b[0m \u001b[1;33m(\u001b[0m\u001b[0mv\u001b[0m \u001b[1;33m-\u001b[0m \u001b[0msigAB_toB\u001b[0m\u001b[1;33m)\u001b[0m\u001b[1;33m*\u001b[0m\u001b[0mhB\u001b[0m\u001b[1;33m\u001b[0m\u001b[0m\n\u001b[0;32m     46\u001b[0m         \u001b[1;31m#COMBINE\u001b[0m\u001b[1;33m\u001b[0m\u001b[1;33m\u001b[0m\u001b[0m\n",
        "\u001b[1;31mNameError\u001b[0m: name 'phiA_norm' is not defined"
       ]
      }
     ],
     "prompt_number": 157
    },
    {
     "cell_type": "code",
     "collapsed": false,
     "input": [
      "visAprob = sigmoid(np.dot(hA,w))\n",
      "visA = 1.0*(visAprob > rng.random(size=(1,2)))\n",
      "psiAprob = sigmoid(np.dot(visA, w))\n",
      "hA = 1.0*(psiAprob > rng.random(size=(1,2)))\n",
      "print(visA)"
     ],
     "language": "python",
     "metadata": {},
     "outputs": [
      {
       "ename": "ValueError",
       "evalue": "objects are not aligned",
       "output_type": "pyerr",
       "traceback": [
        "\u001b[1;31m---------------------------------------------------------------------------\u001b[0m\n\u001b[1;31mValueError\u001b[0m                                Traceback (most recent call last)",
        "\u001b[1;32m<ipython-input-144-91af2112cb29>\u001b[0m in \u001b[0;36m<module>\u001b[1;34m()\u001b[0m\n\u001b[1;32m----> 1\u001b[1;33m \u001b[0mvisAprob\u001b[0m \u001b[1;33m=\u001b[0m \u001b[0msigmoid\u001b[0m\u001b[1;33m(\u001b[0m\u001b[0mnp\u001b[0m\u001b[1;33m.\u001b[0m\u001b[0mdot\u001b[0m\u001b[1;33m(\u001b[0m\u001b[0mhA\u001b[0m\u001b[1;33m,\u001b[0m\u001b[0mw\u001b[0m\u001b[1;33m)\u001b[0m\u001b[1;33m)\u001b[0m\u001b[1;33m\u001b[0m\u001b[0m\n\u001b[0m\u001b[0;32m      2\u001b[0m \u001b[0mvisA\u001b[0m \u001b[1;33m=\u001b[0m \u001b[1;36m1.0\u001b[0m\u001b[1;33m*\u001b[0m\u001b[1;33m(\u001b[0m\u001b[0mvisAprob\u001b[0m \u001b[1;33m>\u001b[0m \u001b[0mrng\u001b[0m\u001b[1;33m.\u001b[0m\u001b[0mrandom\u001b[0m\u001b[1;33m(\u001b[0m\u001b[0msize\u001b[0m\u001b[1;33m=\u001b[0m\u001b[1;33m(\u001b[0m\u001b[1;36m1\u001b[0m\u001b[1;33m,\u001b[0m\u001b[1;36m2\u001b[0m\u001b[1;33m)\u001b[0m\u001b[1;33m)\u001b[0m\u001b[1;33m)\u001b[0m\u001b[1;33m\u001b[0m\u001b[0m\n\u001b[0;32m      3\u001b[0m \u001b[0mpsiAprob\u001b[0m \u001b[1;33m=\u001b[0m \u001b[0msigmoid\u001b[0m\u001b[1;33m(\u001b[0m\u001b[0mnp\u001b[0m\u001b[1;33m.\u001b[0m\u001b[0mdot\u001b[0m\u001b[1;33m(\u001b[0m\u001b[0mvisA\u001b[0m\u001b[1;33m,\u001b[0m \u001b[0mw\u001b[0m\u001b[1;33m)\u001b[0m\u001b[1;33m)\u001b[0m\u001b[1;33m\u001b[0m\u001b[0m\n\u001b[0;32m      4\u001b[0m \u001b[0mhA\u001b[0m \u001b[1;33m=\u001b[0m \u001b[1;36m1.0\u001b[0m\u001b[1;33m*\u001b[0m\u001b[1;33m(\u001b[0m\u001b[0mpsiAprob\u001b[0m \u001b[1;33m>\u001b[0m \u001b[0mrng\u001b[0m\u001b[1;33m.\u001b[0m\u001b[0mrandom\u001b[0m\u001b[1;33m(\u001b[0m\u001b[0msize\u001b[0m\u001b[1;33m=\u001b[0m\u001b[1;33m(\u001b[0m\u001b[1;36m1\u001b[0m\u001b[1;33m,\u001b[0m\u001b[1;36m2\u001b[0m\u001b[1;33m)\u001b[0m\u001b[1;33m)\u001b[0m\u001b[1;33m)\u001b[0m\u001b[1;33m\u001b[0m\u001b[0m\n\u001b[0;32m      5\u001b[0m \u001b[0mprint\u001b[0m\u001b[1;33m(\u001b[0m\u001b[0mvisA\u001b[0m\u001b[1;33m)\u001b[0m\u001b[1;33m\u001b[0m\u001b[0m\n",
        "\u001b[1;31mValueError\u001b[0m: objects are not aligned"
       ]
      }
     ],
     "prompt_number": 144
    },
    {
     "cell_type": "markdown",
     "metadata": {},
     "source": [
      "### TODO:\n",
      " \n",
      " 1. two-bit learning\n",
      " \n",
      " 2. 3-visible-bit RBMs, two of them with shared weights.\n",
      " \n",
      " Something like\n",
      "  * 001 has logP=1\n",
      "  * 011 has logP=2\n",
      "  * 111 has logP=1\n",
      " \n",
      " 3. same but with two sets of weights, learning both of them.\n",
      " \n",
      "Where the complement is\n",
      "  * 110 has logP=1\n",
      "  * 100 has logP=2\n",
      "  * 000 has logP=1\n"
     ]
    },
    {
     "cell_type": "code",
     "collapsed": false,
     "input": [
      "z = (rng.random(size=(2,3)).sum(1) > rng.random(size=(2,))).reshape(2,1)\n",
      "print (z.shape)"
     ],
     "language": "python",
     "metadata": {},
     "outputs": []
    },
    {
     "cell_type": "code",
     "collapsed": false,
     "input": [],
     "language": "python",
     "metadata": {},
     "outputs": []
    },
    {
     "cell_type": "code",
     "collapsed": false,
     "input": [],
     "language": "python",
     "metadata": {},
     "outputs": []
    }
   ],
   "metadata": {}
  }
 ]
}