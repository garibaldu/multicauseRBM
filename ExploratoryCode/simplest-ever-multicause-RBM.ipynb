{
 "metadata": {
  "name": "simplest-ever-multicause-RBM",
  "signature": "sha256:fb5d9d8c50bee18b4c8dfcbc3bc3b50f75e7d39689f68e379ba4ea2a76554d2a"
 },
 "nbformat": 3,
 "nbformat_minor": 0,
 "worksheets": [
  {
   "cells": [
    {
     "cell_type": "markdown",
     "metadata": {},
     "source": [
      "# 2 visibles, 2 rbms, with 2 hiddens each, and the same weights!\n",
      "I'm making a super simple example network here, to reality-check our thinking and test the thing out in the smallest possible example."
     ]
    },
    {
     "cell_type": "code",
     "collapsed": false,
     "input": [
      "%matplotlib inline "
     ],
     "language": "python",
     "metadata": {},
     "outputs": [
      {
       "output_type": "stream",
       "stream": "stderr",
       "text": [
        "ERROR: Line magic function `%matplotlib` not found."
       ]
      }
     ],
     "prompt_number": 147
    },
    {
     "cell_type": "code",
     "collapsed": false,
     "input": [
      "import numpy as np\n",
      "import numpy.random as rng\n",
      "from pylab import *\n",
      "np.set_printoptions(precision=2)\n",
      "\n",
      "def sigmoid(x):\n",
      "    return 1.0/(1+np.exp(-x))"
     ],
     "language": "python",
     "metadata": {},
     "outputs": [],
     "prompt_number": 148
    },
    {
     "cell_type": "markdown",
     "metadata": {},
     "source": [
      "   * Our convention: hiddens are rows, visibles are columns.\n",
      "   * So our weights are W[hid,vis].\n",
      "   * Our hidden states should always be column vectors. In figures they'll use an ORANGE colormap (with darker meaning ON)\n",
      "   * Our visible states should always be row vectors. Use a BLUE colormap (with darker meaning ON)\n",
      "   * psi always refers to hiddens, phi always to visibles.\n"
     ]
    },
    {
     "cell_type": "code",
     "collapsed": false,
     "input": [
      "# This is showing the action in hA when v is clamped on visible, \n",
      "# and hB is the pattern on the hidden units of the OTHER rbm.\n",
      "\n",
      "def do_figure(fig_name, w, v, hB, version='EXACT'):\n",
      "    hB = hB.reshape((2,1))\n",
      "    pats = np.array([[0,0],[0,1],[1,0],[1,1]])\n",
      "    hA_prob = np.zeros(pats.shape, dtype=float)\n",
      "    for row, hA in enumerate(pats):\n",
      "        hA_prob[row,:], tmp = update_hidden_layer(hA, hB, w, v, version)\n",
      "    #print(hA_prob)\n",
      "\n",
      "    subplot(2,5,9)\n",
      "    imshow(v, interpolation='nearest',cmap='PuBu', vmin=0, vmax=1)\n",
      "    title('visible')\n",
      "    ax = axis('off')\n",
      "    subplot(2,5,5)\n",
      "    imshow(hB.T, interpolation='nearest',cmap='Oranges', vmin=0, vmax=1)\n",
      "    title('rbmB')\n",
      "    ax = axis('off')\n",
      "    subplot(2,6,1)\n",
      "    imshow(pats, interpolation='nearest',cmap='Oranges', vmin=0, vmax=1)\n",
      "    title('rbmA')\n",
      "    ax = axis('off')\n",
      "    subplot(2,5,2)\n",
      "    imshow(hA_prob, interpolation='nearest',cmap='Oranges', vmin=0, vmax=1)\n",
      "    title('orbm Pr(A)')\n",
      "    ax = axis('off')\n",
      "    subplot(2,5,3)\n",
      "    psiA = np.dot(v, w)\n",
      "    imshow(sigmoid(psiA), interpolation='nearest',cmap='Oranges', vmin=0, vmax=1)\n",
      "    title('rbm Pr(A)')\n",
      "    ax = axis('off')\n",
      "    savefig(fig_name)"
     ],
     "language": "python",
     "metadata": {},
     "outputs": [],
     "prompt_number": 208
    },
    {
     "cell_type": "code",
     "collapsed": false,
     "input": [
      "def show_reconstructions(fig_name, w, v, version='EXACT'):\n",
      "    num_egs = 17\n",
      "    #visible_pats = np.array([[0,0],[0,1],[1,0],[1,1]])\n",
      "\n",
      "    eg_hA = np.zeros(shape=(num_egs,2))\n",
      "    eg_hB = np.zeros(shape=(num_egs,2))\n",
      "    eg_vA = np.zeros(shape=(num_egs,2))\n",
      "    eg_vB = np.zeros(shape=(num_egs,2))\n",
      "    #i=0\n",
      "    #for subplotrow, v in enumerate(visible_pats):\n",
      "    v = v.reshape((1,2))\n",
      "    for r in range(num_egs):\n",
      "        hA = rng.randint(0,2,(2,1))\n",
      "        hB = rng.randint(0,2,(2,1))\n",
      "        for t in range(50):\n",
      "            prob, hA = update_hidden_layer(hA, hB, w, v, version)\n",
      "            prob, hB = update_hidden_layer(hB, hA, w, v, version)\n",
      "        eg_hA[r,:] = hA.ravel()\n",
      "        eg_hB[r,:] = hB.ravel()\n",
      "        # hiddens to visibles\n",
      "        phiA, phiB = np.dot(w,hA), np.dot(w,hB)\n",
      "        vA_prob, vB_prob = sigmoid(phiA), sigmoid(phiB)\n",
      "        eg_vA[r,:] = (vA_prob > rng.random(size=vA_prob.shape)).reshape(1,2)\n",
      "        eg_vB[r,:] = (vB_prob > rng.random(size=vB_prob.shape)).reshape(1,2)\n",
      "        \n",
      "        \n",
      "    subplot(1,5,1)\n",
      "    imshow(eg_vA, interpolation='nearest',cmap='PuBu', vmin=0, vmax=1)\n",
      "    axis('off')\n",
      "    subplot(1,5,2)\n",
      "    imshow(eg_hA+.1, interpolation='nearest',cmap='Oranges', vmin=0, vmax=1)\n",
      "    axis('off')\n",
      "    draw()\n",
      "    subplot(1,5,3)\n",
      "    imshow(v.reshape((1,2)), interpolation='nearest',cmap='PuBu', vmin=0, vmax=1)\n",
      "    axis('off')\n",
      "    subplot(1,5,4)\n",
      "    imshow(eg_hB, interpolation='nearest',cmap='Oranges', vmin=0, vmax=1)\n",
      "    axis('off')\n",
      "    subplot(1,5,5)\n",
      "    imshow(eg_vB, interpolation='nearest',cmap='PuBu', vmin=0, vmax=1)\n",
      "    axis('off')"
     ],
     "language": "python",
     "metadata": {},
     "outputs": [],
     "prompt_number": 209
    },
    {
     "cell_type": "code",
     "collapsed": false,
     "input": [
      "def update_hidden_layer(h, other_h, w, v, version='APPROX'):  # THIS IS THE APPROX.\n",
      "    hA = h.reshape((2,1))\n",
      "    hB = other_h.reshape((2,1))\n",
      "    phiA = np.dot(w,hA).T # phiA is a column vector\n",
      "    phiB = np.dot(w,hB).T\n",
      "    phiA0 = phiA - hA*w \n",
      "    # phiA0 vector (cols) is like phiA but when each hidden in turn (rows) is off\n",
      "    if version == 'APPROX':\n",
      "        # i.e. phi_alts should now be same shape as w in fact! :(\n",
      "        sigA_to_A  = sigmoid(phiA0 + .5*w)\n",
      "        sigAB_to_A  = sigmoid(phiA0 + .5*w + phiB) \n",
      "        effective_visA = v + sigA_to_A - sigAB_to_A\n",
      "        our_psiA = (effective_visA * w).sum(1)\n",
      "    elif version == 'EXACT':\n",
      "        C = np.log(sigmoid(phiA0))\n",
      "        C = C - np.log(sigmoid(phiA0 + w))\n",
      "        C = C + np.log(sigmoid(phiA0 + w + phiB))\n",
      "        C = C - np.log(sigmoid(phiA0 + phiB))\n",
      "        our_psiA = (v*w + C).sum(1)        \n",
      "\n",
      "    hA_prob = sigmoid(our_psiA)\n",
      "    hA = (hA_prob > rng.random(size=hA_prob.shape)).reshape(2,1)\n",
      "    return hA_prob, hA"
     ],
     "language": "python",
     "metadata": {},
     "outputs": [],
     "prompt_number": 210
    },
    {
     "cell_type": "markdown",
     "metadata": {},
     "source": [
      "I will set weights such that patterns 01 and 10  on the visible units get piles of sand (are \"memories\"), and 00 and 11 aren't."
     ]
    },
    {
     "cell_type": "code",
     "collapsed": false,
     "input": [
      "w = 1.0 * np.array([[1,-1],[-1,1]])\n",
      "print(w)"
     ],
     "language": "python",
     "metadata": {},
     "outputs": [
      {
       "output_type": "stream",
       "stream": "stdout",
       "text": [
        "[[ 1. -1.]\n",
        " [-1.  1.]]\n"
       ]
      }
     ],
     "prompt_number": 211
    },
    {
     "cell_type": "markdown",
     "metadata": {},
     "source": [
      "### explaining away, example 1\n",
      "We clamp a visible pattern that requires both the rbms to pitch in. The B network explains the right-most bit.\n",
      "\n",
      "Under regular rbm dynamics, the A network is ambivalent as to which hidden state to choose: all 4 are equally likely.\n",
      "\n",
      "But under orbm dynamics we would expect the A network to be asked to explain the left-most bit. "
     ]
    },
    {
     "cell_type": "code",
     "collapsed": false,
     "input": [
      "v  = np.array([[1,1]])\n",
      "hB = np.array([[0,1]])\n",
      "do_figure('the_approx_way', w, v, hB, version='APPROX')"
     ],
     "language": "python",
     "metadata": {},
     "outputs": [
      {
       "output_type": "display_data",
       "png": "[encoded data removed]"
      }
     ],
     "prompt_number": 212
    },
    {
     "cell_type": "code",
     "collapsed": false,
     "input": [
      "do_figure('the_exact_way', w, v, hB, version='EXACT')"
     ],
     "language": "python",
     "metadata": {},
     "outputs": [
      {
       "output_type": "display_data",
       "png": "[encoded data removed]"
      }
     ],
     "prompt_number": 196
    },
    {
     "cell_type": "markdown",
     "metadata": {},
     "source": [
      "_Note: we show the rbmA state alongside the orbm's Pr(A) here because in theory the orbm probabilities do depend on the existing state. However it is extremely heartening that they don't strongly. Perhaps because this example is just so symmetrical._"
     ]
    },
    {
     "cell_type": "code",
     "collapsed": false,
     "input": [
      "show_reconstructions('reconstructions', w, v=np.array([[1,1]]), version='EXACT')"
     ],
     "language": "python",
     "metadata": {},
     "outputs": [
      {
       "output_type": "display_data",
       "png": "[encoded data removed]"
      }
     ],
     "prompt_number": 214
    },
    {
     "cell_type": "markdown",
     "metadata": {},
     "source": [
      "# Learning from scratch\n",
      "\n",
      "Fuckity fuck: something's wrong here."
     ]
    },
    {
     "cell_type": "code",
     "collapsed": false,
     "input": [
      "def learn_orbm(w, train, num_train_iters=10, num_Gibbs_iters=10):\n",
      "    eta, momentum = .01, 0.25 # learning parameters\n",
      "    prev_dw = np.zeros(shape=w.shape)\n",
      "    for step in range(num_train_iters):\n",
      "        dw = np.zeros(shape=w.shape)\n",
      "        # Wake phase\n",
      "        for v in train: # 'clamped'\n",
      "            v = v.reshape(1,2) \n",
      "            #print('shape of v should be 1,2: ',v.shape)\n",
      "            # SAMPLE from hA and hB\n",
      "            # Start by initialising as if it were a vanilla RBM \n",
      "            psiA, psiB = np.dot(v,w), np.dot(v,w)\n",
      "            hA_prob, hB_prob = sigmoid(psiA), sigmoid(psiB)\n",
      "            hA = (hA_prob > rng.random(size=hA_prob.shape)).reshape(2,1)\n",
      "            hB = (hB_prob > rng.random(size=hB_prob.shape)).reshape(2,1)\n",
      "            #print('shape of hA should be 2,1: ',hA.shape)\n",
      "            for t in range(num_Gibbs_iters):\n",
      "                # update hA\n",
      "                tmp, hA = update_hidden_layer(hA, hB, w, v, 'EXACT')\n",
      "                # update hB\n",
      "                tmp, hB = update_hidden_layer(hB, hA, w, v, 'EXACT')\n",
      "    \n",
      "            phiA, phiB = np.dot(w,hA).T,  np.dot(w,hB).T\n",
      "            phiA0 = phiA - hA*w \n",
      "            phiB0 = phiB - hB*w \n",
      "            sigAB_toA  = sigmoid(phiA0 + .5*w + phiB)\n",
      "            sigAB_toB  = sigmoid(phiB0 + .5*w + phiA)\n",
      "            dwA = sigmoid(phiA)*hA + (v - sigAB_toA)*hA\n",
      "            dwB = sigmoid(phiB)*hB + (v - sigAB_toB)*hB\n",
      "            #COMBINE\n",
      "            dw = dw + (dwA + dwB)\n",
      "    \n",
      "        # Sleep phase\n",
      "        for v in train: # 'free'\n",
      "            vA = rng.randint(0,2,(1,2))\n",
      "            vB = rng.randint(0,2,(1,2))\n",
      "            for t in range(num_iters):\n",
      "                # visibles to hiddens\n",
      "                psiA, psiB = np.dot(vA,w), np.dot(vB,w)\n",
      "                hA_prob, hB_prob = sigmoid(psiA), sigmoid(psiB)\n",
      "                hA = (hA_prob > rng.random(size=hA_prob.shape)).reshape(2,1)\n",
      "                hB = (hB_prob > rng.random(size=hB_prob.shape)).reshape(2,1)\n",
      "                # hiddens to visibles\n",
      "                phiA, phiB = np.dot(w,hA), np.dot(w,hB)\n",
      "                vA_prob, vB_prob = sigmoid(phiA), sigmoid(phiB)\n",
      "                vA = (vA_prob > rng.random(size=vA_prob.shape)).reshape(1,2)\n",
      "                vB = (vB_prob > rng.random(size=vB_prob.shape)).reshape(1,2)\n",
      "    \n",
      "            dwA = vA*hA  # simple Hebb\n",
      "            dwB = vB*hB  # simple Hebb\n",
      "            #COMBINE\n",
      "            dw = dw - (dwA + dwB)\n",
      "    \n",
      "        w = w + eta * (dw  +  momentum * prev_dw)\n",
      "        prev_dw = dw\n",
      "    return w"
     ],
     "language": "python",
     "metadata": {},
     "outputs": [],
     "prompt_number": 242
    },
    {
     "cell_type": "code",
     "collapsed": false,
     "input": [
      "w = 1.0 * np.array([[1,-1],[-1,1]])\n",
      "train  = np.array([[0,1], [1,0]])# our data points"
     ],
     "language": "python",
     "metadata": {},
     "outputs": [],
     "prompt_number": 243
    },
    {
     "cell_type": "code",
     "collapsed": false,
     "input": [
      "print('old weights:')\n",
      "print(w)\n",
      "\n",
      "w = learn_orbm(w, train, num_train_iters=100, num_Gibbs_iters=1) \n",
      "print('new weights:')\n",
      "print(w)\n",
      "\n",
      "v  = np.array([[1,1]])\n",
      "hB = np.array([[0,1]])\n",
      "do_figure('after_learning', w, v, hB, version='EXACT')"
     ],
     "language": "python",
     "metadata": {},
     "outputs": [
      {
       "output_type": "stream",
       "stream": "stdout",
       "text": [
        "\n",
        "[[ 10.17   3.9 ]\n",
        " [-19.03   8.89]]\n"
       ]
      },
      {
       "output_type": "display_data",
       "png": "[encoded data removed]"
      },
      {
       "output_type": "stream",
       "stream": "stdout",
       "text": [
        "old weights:\n",
        "[[ 10.17   3.9 ]\n",
        " [-19.03   8.89]]\n",
        "new weights:"
       ]
      },
      {
       "output_type": "stream",
       "stream": "stdout",
       "text": [
        "\n",
        "[[ 11.2    6.4 ]\n",
        " [-21.41   9.42]]\n"
       ]
      },
      {
       "output_type": "display_data",
       "png": "[encoded data removed]"
      }
     ],
     "prompt_number": 254
    },
    {
     "cell_type": "code",
     "collapsed": false,
     "input": [
      "show_reconstructions('reconstructions', w*5, v=np.array([[1,1]]), version='EXACT')"
     ],
     "language": "python",
     "metadata": {},
     "outputs": [
      {
       "output_type": "display_data",
       "png": "[encoded data removed]"
      }
     ],
     "prompt_number": 221
    },
    {
     "cell_type": "markdown",
     "metadata": {},
     "source": [
      "### TODO:\n",
      " \n",
      " 1. two-bit learning: work in progress....\n",
      " \n",
      " 2. 3-visible-bit RBMs, two of them with shared weights.\n",
      " \n",
      " Something like\n",
      "  * 001 has logP=1\n",
      "  * 011 has logP=2\n",
      "  * 111 has logP=1\n",
      " \n",
      " 3. same but with two sets of weights, learning both of them.\n",
      " \n",
      "Where the complement is\n",
      "  * 110 has logP=1\n",
      "  * 100 has logP=2\n",
      "  * 000 has logP=1\n"
     ]
    }
   ],
   "metadata": {}
  }
 ]
}