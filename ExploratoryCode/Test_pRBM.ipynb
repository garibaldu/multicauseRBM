{
 "metadata": {
  "name": "",
  "signature": "sha256:8f61c6c728fefc35a0939ae5b7195663cfef9dfa588ce282b071e369d7948cca"
 },
 "nbformat": 3,
 "nbformat_minor": 0,
 "worksheets": [
  {
   "cells": [
    {
     "cell_type": "markdown",
     "metadata": {},
     "source": [
      "Make a standard RBM that makes vertical lines\n",
      "\n",
      "Make a standard RBM that makes horizonal lines\n",
      "\n",
      "Make a visible layer that ORs them together\n",
      "\n",
      "Use as inputs to a normal RBM and watch it fail\n",
      "\n",
      "Use as inputs to the partitioned RBM and cross fingers\n"
     ]
    },
    {
     "cell_type": "code",
     "collapsed": false,
     "input": [
      "import numpy as np\n",
      "import numpy.random as rng\n",
      "\n",
      "def sigmoid(x):\n",
      "    return 1.0/(1+np.exp(-x))"
     ],
     "language": "python",
     "metadata": {},
     "outputs": [],
     "prompt_number": 11
    },
    {
     "cell_type": "code",
     "collapsed": false,
     "input": [
      "Nhid=20 # num units in each hidden layer. \n",
      "N = 10  # The visible layer will correspond to an N*N image.\n",
      "global visibles"
     ],
     "language": "python",
     "metadata": {},
     "outputs": [],
     "prompt_number": 12
    },
    {
     "cell_type": "code",
     "collapsed": false,
     "input": [
      "# Read in some pickled answers from learn_vanilla_RBM_bars instead of trying to engineer a toy model!\n",
      "weightsA = np.load('A_Wgts')\n",
      "Nhid, N2 = weightsA.shape\n",
      "N = sqrt(N2)\n",
      "hidA_bias_weights = np.load('A_hBias')\n",
      "vis_biasA_weights = np.load('A_vBias')\n",
      "weightsB = np.load('B_Wgts')\n",
      "hidB_bias_weights = np.load('B_hBias')\n",
      "vis_biasB_weights = np.load('B_vBias')\n",
      "\n",
      "weightsA = np.reshape(weightsA,(Nhid,N*N))\n",
      "weightsB = np.reshape(weightsB,(Nhid,N*N))\n",
      "vis_biasA_weights = np.reshape(vis_biasA_weights,(1,N*N))  \n",
      "vis_biasB_weights = np.reshape(vis_biasB_weights,(1,N*N))  \n",
      "#EVIL HACKING ALERT:..........................\n",
      "#vis_biasA_weights = vis_biasA_weights / 2 \n",
      "#vis_biasB_weights = vis_biasB_weights / 2 \n",
      "\n",
      "visibles = np.zeros(N*N) \n",
      "hiddenA = np.ones(Nhid)\n",
      "hiddenB = np.ones(Nhid)"
     ],
     "language": "python",
     "metadata": {},
     "outputs": [
      {
       "ename": "OSError",
       "evalue": "Failed to interpret file 'A_Wgts' as a pickle",
       "output_type": "pyerr",
       "traceback": [
        "\u001b[1;31m---------------------------------------------------------------------------\u001b[0m\n\u001b[1;31mOSError\u001b[0m                                   Traceback (most recent call last)",
        "\u001b[1;32m<ipython-input-13-7588ba2f6fc1>\u001b[0m in \u001b[0;36m<module>\u001b[1;34m()\u001b[0m\n\u001b[0;32m      1\u001b[0m \u001b[1;31m# Read in some pickled answers from learn_vanilla_RBM_bars instead of trying to engineer a toy model!\u001b[0m\u001b[1;33m\u001b[0m\u001b[1;33m\u001b[0m\u001b[0m\n\u001b[1;32m----> 2\u001b[1;33m \u001b[0mweightsA\u001b[0m \u001b[1;33m=\u001b[0m \u001b[0mnp\u001b[0m\u001b[1;33m.\u001b[0m\u001b[0mload\u001b[0m\u001b[1;33m(\u001b[0m\u001b[1;34m'A_Wgts'\u001b[0m\u001b[1;33m)\u001b[0m\u001b[1;33m\u001b[0m\u001b[0m\n\u001b[0m\u001b[0;32m      3\u001b[0m \u001b[0mNhid\u001b[0m\u001b[1;33m,\u001b[0m \u001b[0mN2\u001b[0m \u001b[1;33m=\u001b[0m \u001b[0mweightsA\u001b[0m\u001b[1;33m.\u001b[0m\u001b[0mshape\u001b[0m\u001b[1;33m\u001b[0m\u001b[0m\n\u001b[0;32m      4\u001b[0m \u001b[0mN\u001b[0m \u001b[1;33m=\u001b[0m \u001b[0msqrt\u001b[0m\u001b[1;33m(\u001b[0m\u001b[0mN2\u001b[0m\u001b[1;33m)\u001b[0m\u001b[1;33m\u001b[0m\u001b[0m\n\u001b[0;32m      5\u001b[0m \u001b[0mhidA_bias_weights\u001b[0m \u001b[1;33m=\u001b[0m \u001b[0mnp\u001b[0m\u001b[1;33m.\u001b[0m\u001b[0mload\u001b[0m\u001b[1;33m(\u001b[0m\u001b[1;34m'A_hBias'\u001b[0m\u001b[1;33m)\u001b[0m\u001b[1;33m\u001b[0m\u001b[0m\n",
        "\u001b[1;32m/usr/pkg/lib/python3.4/site-packages/numpy/lib/npyio.py\u001b[0m in \u001b[0;36mload\u001b[1;34m(file, mmap_mode)\u001b[0m\n\u001b[0;32m    396\u001b[0m             \u001b[1;32mexcept\u001b[0m\u001b[1;33m:\u001b[0m\u001b[1;33m\u001b[0m\u001b[0m\n\u001b[0;32m    397\u001b[0m                 raise IOError(\n\u001b[1;32m--> 398\u001b[1;33m                     \"Failed to interpret file %s as a pickle\" % repr(file))\n\u001b[0m\u001b[0;32m    399\u001b[0m     \u001b[1;32mfinally\u001b[0m\u001b[1;33m:\u001b[0m\u001b[1;33m\u001b[0m\u001b[0m\n\u001b[0;32m    400\u001b[0m         \u001b[1;32mif\u001b[0m \u001b[0mown_fid\u001b[0m\u001b[1;33m:\u001b[0m\u001b[1;33m\u001b[0m\u001b[0m\n",
        "\u001b[1;31mOSError\u001b[0m: Failed to interpret file 'A_Wgts' as a pickle"
       ]
      }
     ],
     "prompt_number": 13
    },
    {
     "cell_type": "markdown",
     "metadata": {},
     "source": [
      "## Check: generate samples from the full-blown unfolded generative model.\n",
      "\n",
      "do it do it do it"
     ]
    },
    {
     "cell_type": "code",
     "collapsed": false,
     "input": [
      "def do_vanilla_Gibbs_single_RBM(num_iterations, w,bv,bh,v,h):\n",
      "    \n",
      "    for t in range(num_iterations):\n",
      "        # Sample the visible nodes.\n",
      "        phi_vis = np.dot(h,w) + bv # This is phi at the visibles, arising from the hidden layer.\n",
      "        prob1_vis = sigmoid(phi_vis)\n",
      "        # Resample the visible node activities.\n",
      "        v = np.where(prob1_vis > rng.rand(N*N),1,0) # Bernoulli samples based on phi\n",
      "\n",
      "        # Sample hidden nodes.\n",
      "        # First, get the standard RBM input to each of the hidden units, in both RBMs.\n",
      "        psi = np.dot(v,np.transpose(w)) + bh # This is weighted inputs to the hidden layer.\n",
      "        # Now do the actual sampling.\n",
      "        prob1_hid = sigmoid(psi) \n",
      "        h = np.where(prob1_hid > rng.rand(1,Nhid),1,0) # Bernoulli samples based on psi\n",
      "    \n",
      "    return v,h, phi_vis"
     ],
     "language": "python",
     "metadata": {},
     "outputs": [],
     "prompt_number": 4
    },
    {
     "cell_type": "markdown",
     "metadata": {},
     "source": [
      "## run vanilla vs partitioned flavours of Gibbs in the merged architecture"
     ]
    },
    {
     "cell_type": "code",
     "collapsed": false,
     "input": [
      "def do_Gibbs(flavour,num_iterations,clamped, N,wA,wB,bvA,bvB,bhA,bhB,v,hA,hB):  # Gibbs sampling on the new architecture.\n",
      "    \n",
      "    for t in range(num_iterations):\n",
      "        # Sample the visible nodes.\n",
      "        phiA = np.dot(hA,wA) + bvA # This is phi at the visibles, arising from the A hidden layer only.\n",
      "        phiB = np.dot(hB,wB) + bvB # Ditto for B.\n",
      "        phi_vis = phiA + phiB \n",
      "        prob1_vis = sigmoid(phi_vis)\n",
      "        if not clamped:\n",
      "            # Resample the visible node activities.\n",
      "            r = rng.rand(N*N)\n",
      "            v = np.where(prob1_vis>r,1,0) # Bernoulli samples based on phi\n",
      "\n",
      "        # Sample hidden nodes.\n",
      "        # First, get the standard RBM input to each of the hidden units, in both RBMs.\n",
      "        psiA = np.dot(v,np.transpose(wA)) + bhA # This is weighted inputs to the A hidden layer.\n",
      "        psiB = np.dot(v,np.transpose(wB)) + bhB # Ditto for B.\n",
      "        if flavour == \"partitioned\":  # in this case we will need to calculate and add a \"correction\" to the vanilla RBM's psi.\n",
      "            # For the A updates, the \"phi\" is phiA, and the \"epsilon\" is phiB.\n",
      "            hAT = np.transpose(hA)\n",
      "            hBT = np.transpose(hB)\n",
      "            # We need to calculate the matrix C (for A and for B)\n",
      "            CA = +np.log(sigmoid(phiA-(hAT*wA))) +np.log(sigmoid(phiA-(hAT*wA)+wA+phiB)) -np.log(sigmoid(phiA-(hAT*wA)+wA)) -np.log(sigmoid(phiA-(hAT*wA)+phiB))\n",
      "            psiA = psiA + CA.sum(1)\n",
      "            CB = +np.log(sigmoid(phiB-(hBT*wB))) +np.log(sigmoid(phiB-(hBT*wB)+wB+phiA)) -np.log(sigmoid(phiB-(hBT*wB)+wB)) -np.log(sigmoid(phiB-(hBT*wB)+phiA))\n",
      "            psiB = psiB + CB.sum(1)\n",
      "            \n",
      "        # Now do the actual sampling.\n",
      "        prob1_hidA = sigmoid(psiA) \n",
      "        prob1_hidB = sigmoid(psiB)\n",
      "        hA = np.where(prob1_hidA > rng.rand(Nhid),1,0) # Bernoulli samples based on psi\n",
      "        hB = np.where(prob1_hidB > rng.rand(Nhid),1,0) # Bernoulli samples based on psi\n",
      "    #if flavour == \"partitioned\": imshow(CA[0].reshape(N,N), interpolation='nearest', cmap='RdYlGn')\n",
      "    return v,hA,hB"
     ],
     "language": "python",
     "metadata": {},
     "outputs": [],
     "prompt_number": 5
    },
    {
     "cell_type": "code",
     "collapsed": false,
     "input": [
      "def show_samples(flavour):  # Show some samples that each start from a random i.c.\n",
      "    global visibles\n",
      "    nr, nc = 3,6\n",
      "    i=0\n",
      "    num_Gibbs_itns =100\n",
      "    for r in range(nr):\n",
      "        for c in range(nc):\n",
      "            subplot(nr, nc, i+1)\n",
      "\n",
      "            # Start the hidden nodes off at random patterns\n",
      "            hiddenA = np.where(rng.rand(1,Nhid) <2./N,1,0)\n",
      "            hiddenB = np.where(rng.rand(1,Nhid) <2./N,1,0)\n",
      "            if flavour == 'just add':\n",
      "                # run gibbs for sample from RBM \"A\", and again for one from \"B\". Then merge them in a sigmoid visible pass.\n",
      "                vA = visibles.copy()\n",
      "                vB = visibles.copy()\n",
      "                vA,hiddenA,phiA = do_vanilla_Gibbs_single_RBM(num_Gibbs_itns,weightsA,vis_biasA_weights, hidA_bias_weights, vA,hiddenA)\n",
      "                vB,hiddenB,phiB = do_vanilla_Gibbs_single_RBM(num_Gibbs_itns,weightsB,vis_biasB_weights, hidB_bias_weights, vB,hiddenB)\n",
      "                phi_total = phiA + phiB\n",
      "                prob1_vis = sigmoid(phi_total)\n",
      "                visibles = np.where(prob1_vis>rng.rand(N*N),1,0) # Bernoulli samples based on phi            \n",
      "            if flavour in ['vanilla','partitioned']: \n",
      "                kwargs = {\"N\":N,\"wA\":weightsA, \"wB\":weightsB, \"bvA\":vis_biasA_weights, \"bvB\":vis_biasB_weights, \"bhA\":hidA_bias_weights, \"bhB\":hidB_bias_weights, \"v\":visibles, \"hA\":hiddenA, \"hB\":hiddenB}\n",
      "                visibles, hiddenA, hiddenB = do_Gibbs(flavour, num_Gibbs_itns, False, **kwargs)\n",
      "\n",
      "            \n",
      "            imshow(np.reshape(visibles,(N,N)), interpolation='nearest', cmap='copper', vmin=0, vmax=1)\n",
      "            axis('off')\n",
      "            i=i+1"
     ],
     "language": "python",
     "metadata": {},
     "outputs": [],
     "prompt_number": 6
    },
    {
     "cell_type": "code",
     "collapsed": false,
     "input": [
      "show_samples('just add')"
     ],
     "language": "python",
     "metadata": {},
     "outputs": [
      {
       "metadata": {},
       "output_type": "display_data",
       "png": "[encoded data removed]",
       "text": [
        "<matplotlib.figure.Figure at 0xb1d2850c>"
       ]
      }
     ],
     "prompt_number": 7
    },
    {
     "cell_type": "code",
     "collapsed": false,
     "input": [
      "show_samples('vanilla')"
     ],
     "language": "python",
     "metadata": {},
     "outputs": [
      {
       "metadata": {},
       "output_type": "display_data",
       "png": "[encoded data removed]",
       "text": [
        "<matplotlib.figure.Figure at 0xb0f9816c>"
       ]
      }
     ],
     "prompt_number": 8
    },
    {
     "cell_type": "code",
     "collapsed": false,
     "input": [
      "show_samples('partitioned')"
     ],
     "language": "python",
     "metadata": {},
     "outputs": [
      {
       "metadata": {},
       "output_type": "display_data",
       "png": "[encoded data removed]",
       "text": [
        "<matplotlib.figure.Figure at 0xb094a5cc>"
       ]
      }
     ],
     "prompt_number": 9
    },
    {
     "cell_type": "markdown",
     "metadata": {},
     "source": [
      "## Pudding\n",
      "\n",
      "We want to clamp a bar (say) on the visibles, run Gibbs on the hiddens, and generate reconstructions from each hidden layer.\n",
      "\n",
      "We SHOULD see the A network reconstruct a clean bar, and the B reconstruct a clean blob, indicating that they've successfully managed to \"separate the sources\"."
     ]
    },
    {
     "cell_type": "code",
     "collapsed": false,
     "input": [
      "def new_vis_pattern(): # Generate a new plausible visible pattern.\n",
      "    num_Gibbs_itns=100\n",
      "    global visibles\n",
      "    hiddenA = np.where(rng.rand(1,Nhid) <2./N,1,0)\n",
      "    hiddenB = np.where(rng.rand(1,Nhid) <2./N,1,0)\n",
      "    # run gibbs for sample from RBM \"A\", and again for one from \"B\". Then merge them in a sigmoid visible pass.\n",
      "    vA = visibles.copy()\n",
      "    vB = visibles.copy()\n",
      "    vA,hiddenA,phiA = do_vanilla_Gibbs_single_RBM(num_Gibbs_itns,weightsA,vis_biasA_weights, hidA_bias_weights, vA,hiddenA)\n",
      "    vB,hiddenB,phiB = do_vanilla_Gibbs_single_RBM(num_Gibbs_itns,weightsB,vis_biasB_weights, hidB_bias_weights, vB,hiddenB)\n",
      "    r = rng.random()\n",
      "    if r > 0.666: phi_total = phiA # ie. just ONE, not the sum of both.\n",
      "    elif r > 0.333: phi_total = phiB\n",
      "    else: phi_total = phiA + phiB\n",
      "    prob1_vis = sigmoid(phi_total)\n",
      "    visibles = np.where(prob1_vis>rng.rand(N*N),1,0) # Bernoulli samples based on phi            "
     ],
     "language": "python",
     "metadata": {},
     "outputs": [],
     "prompt_number": 10
    },
    {
     "cell_type": "code",
     "collapsed": false,
     "input": [
      "def clamped_samples():  # Show some samples that each start from a random i.c.\n",
      "    global visibles\n",
      "    num_Gibbs_itns = 40 # hoping that's enough to see the difference!\n",
      "    new_vis_pattern()\n",
      "    i=1\n",
      "\n",
      "    nr = 4\n",
      "    for row in range(1,nr+1):\n",
      "        subplot(nr,5,i)\n",
      "        if row is 1: \n",
      "            imshow(np.reshape(visibles,(N,N)), interpolation='nearest', cmap='copper', vmin=0, vmax=1)\n",
      "            title('clamped')\n",
      "        axis('off')\n",
      "        i=i+1\n",
      "\n",
      "        #----------------------------\n",
      "        flavour = 'vanilla'\n",
      "        # Run a Gibbs Sampler for a while, starting from random hidden patterns.\n",
      "        hA = np.where(rng.rand(1,Nhid) <2./N,1,0)\n",
      "        hB = np.where(rng.rand(1,Nhid) <2./N,1,0)\n",
      "        kwargs = {\"N\":N,\"wA\":weightsA, \"wB\":weightsB, \"bvA\":vis_biasA_weights, \"bvB\":vis_biasB_weights, \"bhA\":hidA_bias_weights, \"bhB\":hidB_bias_weights, \"v\":visibles, \"hA\":hA, \"hB\":hB}\n",
      "        visibles, hA, hB = do_Gibbs(flavour, 1, True, **kwargs)\n",
      "\n",
      "        # Make reconstructions from hiddenA and hiddenB, respectively.\n",
      "        subplot(nr,5,i)\n",
      "        prob1_vis = sigmoid(np.dot(hA,weightsA) + vis_biasA_weights)\n",
      "        imshow(np.reshape(prob1_vis,(N,N)), interpolation='nearest', cmap='BuGn', vmin=0, vmax=1)\n",
      "        axis('off')\n",
      "        if row==1: title(flavour[:5] + ' A')\n",
      "        i=i+1\n",
      "\n",
      "        subplot(nr,5,i)\n",
      "        prob1_vis = sigmoid(np.dot(hB,weightsB) + vis_biasB_weights)\n",
      "        imshow(np.reshape(prob1_vis,(N,N)), interpolation='nearest', cmap='RdPu', vmin=0, vmax=1)\n",
      "        axis('off')\n",
      "        if row==1: title(flavour[:5] + ' B')\n",
      "        i=i+1\n",
      "\n",
      "        #----------------------------\n",
      "        flavour = 'partitioned'\n",
      "        # Run a Gibbs Sampler for a while, starting from random hidden patterns.\n",
      "        hA = np.where(rng.rand(1,Nhid) <2./N,1,0)\n",
      "        hB = np.where(rng.rand(1,Nhid) <2./N,1,0)\n",
      "        kwargs = {\"N\":N,\"wA\":weightsA, \"wB\":weightsB, \"bvA\":vis_biasA_weights, \"bvB\":vis_biasB_weights, \"bhA\":hidA_bias_weights, \"bhB\":hidB_bias_weights, \"v\":visibles, \"hA\":hA, \"hB\":hB}\n",
      "        visibles, hA, hB = do_Gibbs(flavour, num_Gibbs_itns, True, **kwargs)\n",
      "\n",
      "        # Make reconstructions from hiddenA and hiddenB, respectively.\n",
      "        subplot(nr,5,i)\n",
      "        prob1_vis = sigmoid(np.dot(hA,weightsA) + vis_biasA_weights)\n",
      "        imshow(np.reshape(prob1_vis,(N,N)), interpolation='nearest', cmap='BuGn', vmin=0, vmax=1)\n",
      "        axis('off')\n",
      "        if row==1: title(flavour[:5] + ' A')\n",
      "        i=i+1\n",
      "\n",
      "        subplot(nr,5,i)\n",
      "        prob1_vis = sigmoid(np.dot(hB,weightsB) + vis_biasB_weights)\n",
      "        imshow(np.reshape(prob1_vis,(N,N)), interpolation='nearest', cmap='RdPu', vmin=0, vmax=1)\n",
      "        axis('off')\n",
      "        if row==1: title(flavour[:5] + ' B')\n",
      "        i=i+1"
     ],
     "language": "python",
     "metadata": {},
     "outputs": [],
     "prompt_number": 11
    },
    {
     "cell_type": "code",
     "collapsed": false,
     "input": [
      "clamped_samples()"
     ],
     "language": "python",
     "metadata": {},
     "outputs": [
      {
       "metadata": {},
       "output_type": "display_data",
       "png": "[encoded data removed]",
       "text": [
        "<matplotlib.figure.Figure at 0xb09e284c>"
       ]
      }
     ],
     "prompt_number": 14
    },
    {
     "cell_type": "code",
     "collapsed": false,
     "input": [],
     "language": "python",
     "metadata": {},
     "outputs": [],
     "prompt_number": 12
    }
   ],
   "metadata": {}
  }
 ]
}