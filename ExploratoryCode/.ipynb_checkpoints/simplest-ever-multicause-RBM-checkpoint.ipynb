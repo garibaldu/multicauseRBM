{
 "metadata": {
  "name": "",
  "signature": "sha256:9c9bcf002f843df923d5859dd76d85c5ebdb7ba770e37d1acecda61f39ac1674"
 },
 "nbformat": 3,
 "nbformat_minor": 0,
 "worksheets": [
  {
   "cells": [
    {
     "cell_type": "markdown",
     "metadata": {},
     "source": [
      "# 2 visibles, 2 rbms, with 2 hiddens each, and the same weights!\n",
      "I'm making a super simple example network here, to reality-check our thinking and test the thing out in the smallest possible example."
     ]
    },
    {
     "cell_type": "code",
     "collapsed": false,
     "input": [
      "%matplotlib inline \n",
      "import numpy as np\n",
      "import numpy.random as rng\n",
      "from pylab import *\n",
      "\n",
      "def sigmoid(x):\n",
      "    return 1.0/(1+np.exp(-x))"
     ],
     "language": "python",
     "metadata": {},
     "outputs": [],
     "prompt_number": 1
    },
    {
     "cell_type": "code",
     "collapsed": false,
     "input": [
      "# This is showing the action in hA when v is clamped on visible, \n",
      "# and hB is the pattern on the hidden units of the OTHER rbm.\n",
      "def do_APPROX_figure(fig_name, w, v, hB):\n",
      "    hB = hB.reshape((2,1))\n",
      "    pats = np.array([[0,0],[0,1],[1,0],[1,1]])\n",
      "    hA_prob = np.zeros(pats.shape, dtype=float)\n",
      "    for row, hA in enumerate(pats):\n",
      "        hA = hA.reshape((2,1))\n",
      "        phiA, phiB = np.dot(w,hA), np.dot(w,hB)\n",
      "        phiA_alt = phiA - hA*w + 0.5*w \n",
      "        phiB_alt = phiB - hB*w + 0.5*w \n",
      "        # i.e. phi_alts should now be same shape as w in fact! :(\n",
      "        sigA_to_A  = sigmoid(phiA_alt)\n",
      "        sigAB_to_A  = sigmoid(phiA_alt + phiB) \n",
      "        effective_visA = v + sigA_to_A - sigAB_to_A\n",
      "        our_psiA = (effective_visA * w).sum(1)\n",
      "        hA_prob[row,:] = sigmoid(our_psiA)\n",
      "\n",
      "    #I DON'T BELIEVE THE FOLLOWING LINE WAS RIGHT AFTERALL.....\n",
      "    #phiA = np.dot(pats, w) - np.dot((2*pats-1),w/2)\n",
      "    #phiB = np.dot(hB, w)\n",
      "    #sigA  = sigmoid(phiA) \n",
      "    #sigAB = sigmoid(phiA + phiB)\n",
      "    #effective_vis = v + sigA - sigAB\n",
      "    #psiA = np.dot(v, w)\n",
      "    #our_psiA = np.dot(effective_vis, w)\n",
      "\n",
      "    subplot(259)\n",
      "    imshow(v, interpolation='nearest',cmap='copper', vmin=0, vmax=1)\n",
      "    title('visible')\n",
      "    ax = axis('off')\n",
      "    subplot(255)\n",
      "    imshow(hB.T, interpolation='nearest',cmap='copper', vmin=0, vmax=1)\n",
      "    title('rbmB')\n",
      "    ax = axis('off')\n",
      "    subplot(251)\n",
      "    imshow(pats, interpolation='nearest',cmap='copper', vmin=0, vmax=1)\n",
      "    title('rbmA')\n",
      "    ax = axis('off')\n",
      "    subplot(252)\n",
      "    imshow(hA_prob, interpolation='nearest',cmap='copper', vmin=0, vmax=1)\n",
      "    title('orbm Pr(A)')\n",
      "    ax = axis('off')\n",
      "    subplot(253)\n",
      "    psiA = np.dot(v, w)\n",
      "    imshow(sigmoid(psiA), interpolation='nearest',cmap='copper', vmin=0, vmax=1)\n",
      "    title('rbm Pr(A)')\n",
      "    #colorbar()\n",
      "    ax = axis('off')\n",
      "    savefig(fig_name)"
     ],
     "language": "python",
     "metadata": {},
     "outputs": [],
     "prompt_number": 133
    },
    {
     "cell_type": "code",
     "collapsed": false,
     "input": [
      "# This is showing the action in hA when v is clamped on visible, \n",
      "# and hB is the pattern on the hidden units of the OTHER rbm.\n",
      "def do_EXACT_figure(fig_name, w, v, hB):\n",
      "    hB = hB.reshape((2,1))\n",
      "    phiB = np.dot(w,hB)\n",
      "    pats = np.array([[0,0],[0,1],[1,0],[1,1]])\n",
      "    hA_prob = np.zeros(pats.shape, dtype=float)\n",
      "    for row, hA in enumerate(pats):\n",
      "        hA = hA.reshape((2,1))\n",
      "        phiA = np.dot(w,hA)\n",
      "        phiA0 = phiA - hA*w # phiA vector (cols) when each hidden in turn (rows) is off\n",
      "        C = np.log(sigmoid(phiA0))\n",
      "        C = C - np.log(sigmoid(phiA0 + w))\n",
      "        C = C + np.log(sigmoid(phiA0 + w + phiB))\n",
      "        C = C - np.log(sigmoid(phiA0 + phiB))\n",
      "        \n",
      "        our_psiA = (v*w + C).sum(1)\n",
      "        hA_prob[row,:] = sigmoid(our_psiA)\n",
      "\n",
      "    #I DON'T BELIEVE THE FOLLOWING LINE WAS RIGHT AFTERALL.....\n",
      "    #phiA = np.dot(pats, w) - np.dot((2*pats-1),w/2)\n",
      "    #phiB = np.dot(hB, w)\n",
      "    #sigA  = sigmoid(phiA) \n",
      "    #sigAB = sigmoid(phiA + phiB)\n",
      "    #effective_vis = v + sigA - sigAB\n",
      "    #psiA = np.dot(v, w)\n",
      "    #our_psiA = np.dot(effective_vis, w)\n",
      "\n",
      "    subplot(259)\n",
      "    imshow(v, interpolation='nearest',cmap='copper', vmin=0, vmax=1)\n",
      "    title('visible')\n",
      "    ax = axis('off')\n",
      "    subplot(255)\n",
      "    imshow(hB.T, interpolation='nearest',cmap='copper', vmin=0, vmax=1)\n",
      "    title('rbmB')\n",
      "    ax = axis('off')\n",
      "    subplot(251)\n",
      "    imshow(pats, interpolation='nearest',cmap='copper', vmin=0, vmax=1)\n",
      "    title('rbmA')\n",
      "    ax = axis('off')\n",
      "    subplot(252)\n",
      "    imshow(hA_prob, interpolation='nearest',cmap='copper', vmin=0, vmax=1)\n",
      "    title('orbm Pr(A)')\n",
      "    ax = axis('off')\n",
      "    subplot(253)\n",
      "    psiA = np.dot(v, w)\n",
      "    imshow(sigmoid(psiA), interpolation='nearest',cmap='copper', vmin=0, vmax=1)\n",
      "    title('rbm Pr(A)')\n",
      "    #colorbar()\n",
      "    ax = axis('off')\n",
      "    savefig(fig_name)"
     ],
     "language": "python",
     "metadata": {},
     "outputs": [],
     "prompt_number": 134
    },
    {
     "cell_type": "markdown",
     "metadata": {},
     "source": [
      "I will set weights such that patterns 01 and 10  on the visible units get piles of sand (are \"memories\"), and 00 and 11 aren't."
     ]
    },
    {
     "cell_type": "code",
     "collapsed": false,
     "input": [
      "w = 1.0 * np.array([[1,-1],[-1,1]])\n"
     ],
     "language": "python",
     "metadata": {},
     "outputs": [],
     "prompt_number": 130
    },
    {
     "cell_type": "markdown",
     "metadata": {},
     "source": [
      "### explaining away, example 1\n",
      "We clamp a visible pattern that requires both the rbms to pitch in. The B network explains the right-most bit.\n",
      "\n",
      "Under regular rbm dynamics, the A network is ambivalent as to which hidden state to choose: all 4 are equally likely.\n",
      "\n",
      "But under orbm dynamics we would expect the A network to be asked to explain the left-most bit. "
     ]
    },
    {
     "cell_type": "code",
     "collapsed": false,
     "input": [
      "do_APPROX_figure('the_way', w, v=np.array([[1,1]]), hB = np.array([[0,1]]))"
     ],
     "language": "python",
     "metadata": {},
     "outputs": [
      {
       "output_type": "stream",
       "stream": "stdout",
       "text": [
        "(2, 2)\n",
        "(2, 2)\n",
        "(2, 2)\n",
        "(2, 2)\n"
       ]
      },
      {
       "metadata": {},
       "output_type": "display_data",
       "png": "[encoded data removed]",
       "text": [
        "<matplotlib.figure.Figure at 0x3c95be8>"
       ]
      }
     ],
     "prompt_number": 132
    },
    {
     "cell_type": "code",
     "collapsed": false,
     "input": [
      "do_EXACT_figure('the_way', w, v=np.array([[1,1]]), hB = np.array([[0,1]]))"
     ],
     "language": "python",
     "metadata": {},
     "outputs": [
      {
       "output_type": "stream",
       "stream": "stdout",
       "text": [
        "(2, 2)\n",
        "(2, 2)\n",
        "(2, 2)\n",
        "(2, 2)\n"
       ]
      },
      {
       "metadata": {},
       "output_type": "display_data",
       "png": "[encoded data removed]",
       "text": [
        "<matplotlib.figure.Figure at 0x3c95be8>"
       ]
      }
     ],
     "prompt_number": 132
    },
    {
     "cell_type": "markdown",
     "metadata": {},
     "source": [
      "Fuckit. This seemed to be making sense Friday.\n",
      "But I think we'd done the calculation wrong.\n",
      "However this still doesn't match the hand-calculated one, which DID seem sensible.\n",
      "\n",
      "_Note: we show the rbmA state alongside the orbm's Pr(A) here because in theory the orbm probabilities do depend on the existing state. However in this particular example they don't - perhaps because it's just so symmetrical._"
     ]
    },
    {
     "cell_type": "markdown",
     "metadata": {},
     "source": [
      "### explaining away, example 2\n",
      "Suppose the entire visible pattern is nicely explained by the B network. What does this mean for the A one? \n",
      "\n",
      "The standard rbm would try to account for the image.\n",
      "\n",
      "In the orbm, here's what happens:"
     ]
    },
    {
     "cell_type": "code",
     "collapsed": false,
     "input": [
      "do_EXACT_figure('the_way', w, v=np.array([[0,1]]), hB = np.array([[0,1]]))"
     ],
     "language": "python",
     "metadata": {},
     "outputs": [
      {
       "output_type": "stream",
       "stream": "stdout",
       "text": [
        "(2, 2)\n",
        "(2, 2)\n",
        "(2, 2)\n",
        "(2, 2)\n"
       ]
      },
      {
       "metadata": {},
       "output_type": "display_data",
       "png": "[encoded data removed]",
       "text": [
        "<matplotlib.figure.Figure at 0x3266c08>"
       ]
      }
     ],
     "prompt_number": 135
    },
    {
     "cell_type": "markdown",
     "metadata": {},
     "source": [
      "It's still trying, but not as hard."
     ]
    },
    {
     "cell_type": "markdown",
     "metadata": {},
     "source": [
      "# Learning"
     ]
    },
    {
     "cell_type": "code",
     "collapsed": false,
     "input": [],
     "language": "python",
     "metadata": {},
     "outputs": [],
     "prompt_number": 70
    },
    {
     "cell_type": "code",
     "collapsed": false,
     "input": [
      "# Our convention: hiddens are rows, visibles are columns.\n",
      "# So our weights are W[hid,vis].\n",
      "# Our hidden states should always be column vectors.\n",
      "# Our visible states should always be row vectors.\n",
      "# psi always refers to hiddens, phi always to visibles: WATCH OUT FUKKAHS.\n",
      "\n",
      "w = 1.0 * np.array([[1,-1],[-1,1]])\n",
      "\n",
      "vpats  = np.array([[0,1],[1,0]])# our data points\n",
      "eta = .05 # learning rate\n",
      "print('initial weights: \\n', w)\n",
      "for step in range(300):\n",
      "    # Wake phase\n",
      "    for v in vpats: # 'clamped'\n",
      "        v = v.reshape(1,2) \n",
      "        #print('shape of v should be 1,2: ',v.shape)\n",
      "        # SAMPLE from hA and hB\n",
      "        # Start by initialising as if it were a vanilla RBM \n",
      "        psiA, psiB = np.dot(v,w), np.dot(v,w)\n",
      "        hA_prob, hB_prob = sigmoid(psiA), sigmoid(psiB)\n",
      "        hA = (hA_prob > rng.random(size=hA_prob.shape)).reshape(2,1)\n",
      "        hB = (hB_prob > rng.random(size=hB_prob.shape)).reshape(2,1)\n",
      "        #print('shape of hA should be 2,1: ',hA.shape)\n",
      "        for t in range(10):\n",
      "            phiA, phiB = np.dot(w,hA), np.dot(w,hB)\n",
      "            phiA_alt = phiA - hA*w + 0.5*w \n",
      "            phiB_alt = phiB - hB*w + 0.5*w \n",
      "            # i.e. phi_alts should now be same shape as w in fact! :(\n",
      "            if (step==1) and (t==1): print('phiA_alt shape is ',phiA_alt.shape)\n",
      "            sigA_to_A  = sigmoid(phiA_alt)\n",
      "            sigB_to_B  = sigmoid(phiB_alt) \n",
      "            sigAB_to_A  = sigmoid(phiA_alt + phiB) \n",
      "            sigAB_to_B  = sigmoid(phiB_alt + phiA) \n",
      "            \n",
      "            effective_visA = v + sigA_to_A - sigAB_to_A\n",
      "            effective_visB = v + sigB_to_B - sigAB_to_B\n",
      "            our_psiA = (effective_visA * w).sum(1)\n",
      "            our_psiB = (effective_visB * w).sum(1)\n",
      "            hA_prob = sigmoid(our_psiA)\n",
      "            hB_prob = sigmoid(our_psiB)\n",
      "            hA = (hA_prob > rng.random(size=hA_prob.shape)).reshape(2,1)\n",
      "            hB = (hB_prob > rng.random(size=hB_prob.shape)).reshape(2,1)\n",
      "\n",
      "        dwA = sigmoid(phiA_norm)*hA + (v - sigAB_toA)*hA\n",
      "        dwB = sigmoid(phiB_norm)*hB + (v - sigAB_toB)*hB\n",
      "        #COMBINE\n",
      "        w = w + eta * (dwA + dwB)\n",
      "\n",
      "    # Sleep phase\n",
      "    for v in vpats: # 'clamped'\n",
      "        for t in range(10):\n",
      "            # visibles to hiddens\n",
      "            psiA, psiB = np.dot(v,w), np.dot(v,w)\n",
      "            hA_prob, hB_prob = sigmoid(psiA), sigmoid(psiB)\n",
      "            hA = (hA_prob > rng.random(size=hA_prob.shape)).reshape(2,1)\n",
      "            hB = (hB_prob > rng.random(size=hB_prob.shape)).reshape(2,1)\n",
      "            # hiddens to visibles\n",
      "            phiA, phiB = np.dot(w,hA), np.dot(w,hB)\n",
      "            vA_prob, vB_prob = sigmoid(phiA), sigmoid(phiB)\n",
      "            vA = (vA_prob > rng.random(size=vA_prob.shape)).reshape(1,2)\n",
      "            vB = (vB_prob > rng.random(size=vB_prob.shape)).reshape(1,2)\n",
      "\n",
      "        dwA = visA*hA\n",
      "        dwB = visB*hB\n",
      "        #COMBINE\n",
      "        #w = w - eta * (dwA + dwB)\n",
      "    \n",
      "print('new weights: \\n',w)"
     ],
     "language": "python",
     "metadata": {},
     "outputs": [
      {
       "output_type": "stream",
       "stream": "stdout",
       "text": [
        "initial weights: \n",
        " [[ 1. -1.]\n",
        " [-1.  1.]]\n",
        "phiA_alt shape is  (2, 2)\n",
        "phiA_alt shape is  (2, 2)\n",
        "new weights: \n"
       ]
      },
      {
       "output_type": "stream",
       "stream": "stdout",
       "text": [
        " [[ 20.44474049  34.9948504 ]\n",
        " [ 25.11727323  27.22756413]]\n"
       ]
      }
     ],
     "prompt_number": 81
    },
    {
     "cell_type": "code",
     "collapsed": false,
     "input": [
      "visAprob = sigmoid(np.dot(hA,w))\n",
      "visA = 1.0*(visAprob > rng.random(size=(1,2)))\n",
      "psiAprob = sigmoid(np.dot(visA, w))\n",
      "hA = 1.0*(psiAprob > rng.random(size=(1,2)))\n",
      "print(visA)"
     ],
     "language": "python",
     "metadata": {},
     "outputs": [
      {
       "output_type": "stream",
       "stream": "stdout",
       "text": [
        "[[ 1.  0.]]\n"
       ]
      }
     ],
     "prompt_number": 522
    },
    {
     "cell_type": "markdown",
     "metadata": {},
     "source": [
      "### TODO:\n",
      " \n",
      " 1. two-bit learning\n",
      " \n",
      " 2. 3-visible-bit RBMs, two of them with shared weights.\n",
      " \n",
      " Something like\n",
      "  * 001 has logP=1\n",
      "  * 011 has logP=2\n",
      "  * 111 has logP=1\n",
      " \n",
      " 3. same but with two sets of weights, learning both of them.\n",
      " \n",
      "Where the complement is\n",
      "  * 110 has logP=1\n",
      "  * 100 has logP=2\n",
      "  * 000 has logP=1\n"
     ]
    },
    {
     "cell_type": "code",
     "collapsed": false,
     "input": [
      "z = (rng.random(size=(2,3)).sum(1) > rng.random(size=(2,))).reshape(2,1)\n",
      "print (z.shape)"
     ],
     "language": "python",
     "metadata": {},
     "outputs": [
      {
       "output_type": "stream",
       "stream": "stdout",
       "text": [
        "(2, 1)\n"
       ]
      }
     ],
     "prompt_number": 34
    },
    {
     "cell_type": "code",
     "collapsed": false,
     "input": [],
     "language": "python",
     "metadata": {},
     "outputs": [],
     "prompt_number": 34
    },
    {
     "cell_type": "code",
     "collapsed": false,
     "input": [],
     "language": "python",
     "metadata": {},
     "outputs": []
    }
   ],
   "metadata": {}
  }
 ]
}