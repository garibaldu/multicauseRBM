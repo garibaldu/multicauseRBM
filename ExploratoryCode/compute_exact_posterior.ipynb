{
 "cells": [
  {
   "cell_type": "code",
   "execution_count": 1,
   "metadata": {
    "collapsed": true
   },
   "outputs": [],
   "source": [
    "%reset -f\n",
    "%matplotlib inline\n",
    "import matplotlib as mpl\n",
    "import numpy as np\n",
    "from numpy import array as a\n",
    "import matplotlib.pyplot as plt\n",
    "import numpy.random as rng\n",
    "from scipy.special import expit as sigmoid\n",
    "np.set_printoptions(precision = 2, suppress = True)\n",
    "import time\n",
    "rng.seed(int(time.time())) # seed the random number generator"
   ]
  },
  {
   "cell_type": "code",
   "execution_count": 7,
   "metadata": {
    "collapsed": false
   },
   "outputs": [
    {
     "name": "stdout",
     "output_type": "stream",
     "text": [
      "[[ 8. -6.]\n",
      " [-6.  8.]]\n"
     ]
    }
   ],
   "source": [
    "# specify a weights matrix\n",
    "N = 2\n",
    "hiWgt, loWgt = 8.0, -6.0\n",
    "W = loWgt * np.ones((N,N), dtype=float)\n",
    "for i in range(N): W[i,i] = hiWgt \n",
    "print(W)"
   ]
  },
  {
   "cell_type": "code",
   "execution_count": 8,
   "metadata": {
    "collapsed": false
   },
   "outputs": [
    {
     "name": "stdout",
     "output_type": "stream",
     "text": [
      "[0 0] 0.000660821119477\n",
      "[1 0] 0.493856324391\n",
      "[0 1] 0.493856324391\n",
      "[1 1] 0.011626530098\n"
     ]
    }
   ],
   "source": [
    "# make up an array with each row being one of the binary patterns. Do 'em all.\n",
    "hidpats = np.array([[0 if (i & (1 << bit) == 0) else 1 for bit in range(N)] for i in range(2**N)]) \n",
    "vispats = np.array([[0 if (i & (1 << bit) == 0) else 1 for bit in range(N)] for i in range(2**N)]) \n",
    "# calculate the true probability distribution over hidden pats for each RBM, under the generative model.\n",
    "pHid = {}\n",
    "total = 0.0\n",
    "for pat in hidpats:\n",
    "    phiVis = np.dot(W.T, pat)\n",
    "    logP_star = np.sum(np.log(1+np.exp(phiVis)))\n",
    "    pHid[tuple(pat)] = np.exp(logP_star)\n",
    "    total += pHid[tuple(pat)]\n",
    "for pat in pHid.keys():\n",
    "    pHid[pat] = pHid[pat] / total\n",
    "for pat in hidpats:\n",
    "    print (pat, pHid[tuple(pat)])"
   ]
  },
  {
   "cell_type": "code",
   "execution_count": 9,
   "metadata": {
    "collapsed": false
   },
   "outputs": [],
   "source": [
    "# form the joint distribution over hiddens AND visibles\n",
    "pHV = {}\n",
    "for vis in vispats:\n",
    "    for hA in hidpats:\n",
    "        for hB in hidpats:\n",
    "            phi = np.dot(W.T, hA) + np.dot(W.T, hB)\n",
    "            pVis = np.prod(vis * sigmoid(phi) + (1-vis) * (1 - sigmoid(phi)))\n",
    "            pHV[(tuple(hA),tuple(hB),tuple(vis))] = pHid[tuple(hA)] * pHid[tuple(hB)] * pVis"
   ]
  },
  {
   "cell_type": "code",
   "execution_count": 10,
   "metadata": {
    "collapsed": false
   },
   "outputs": [
    {
     "name": "stdout",
     "output_type": "stream",
     "text": [
      "visible probabilities under generative model:\n",
      "[0 0]  prob:  0.00693303259109\n",
      "[1 0]  prob:  0.307038769051\n",
      "[0 1]  prob:  0.307038769051\n",
      "[1 1]  prob:  0.378989429306\n"
     ]
    }
   ],
   "source": [
    "print('visible probabilities under generative model:')\n",
    "for vis in vispats:\n",
    "    total = 0.0\n",
    "    for hA in hidpats:\n",
    "        for hB in hidpats:\n",
    "            total += pHV[(tuple(hA),tuple(hB),tuple(vis))]\n",
    "    print(vis, ' prob: ',total)"
   ]
  },
  {
   "cell_type": "code",
   "execution_count": 11,
   "metadata": {
    "collapsed": false
   },
   "outputs": [
    {
     "name": "stdout",
     "output_type": "stream",
     "text": [
      "hidden probabilities, given each visible in turn:\n",
      "vis:  [0 0]\n",
      "\t hA,hB:  [1 0] [0 1]     0.49986393143\n",
      "\t hA,hB:  [0 1] [1 0]     0.49986393143\n",
      "vis:  [1 0]\n",
      "\t hA,hB:  [1 0] [1 0]     0.79433793954\n",
      "\t hA,hB:  [1 0] [0 1]     0.0834009101095\n",
      "\t hA,hB:  [1 0] [1 1]     0.0183634972253\n",
      "\t hA,hB:  [0 1] [1 0]     0.0834009101095\n",
      "\t hA,hB:  [1 1] [1 0]     0.0183634972253\n",
      "vis:  [0 1]\n",
      "\t hA,hB:  [1 0] [0 1]     0.0834009101095\n",
      "\t hA,hB:  [0 1] [1 0]     0.0834009101095\n",
      "\t hA,hB:  [0 1] [0 1]     0.79433793954\n",
      "\t hA,hB:  [0 1] [1 1]     0.0183634972253\n",
      "\t hA,hB:  [1 1] [0 1]     0.0183634972253\n",
      "vis:  [1 1]\n",
      "\t hA,hB:  [1 0] [0 1]     0.499258966152\n",
      "\t hA,hB:  [0 1] [1 0]     0.499258966152\n"
     ]
    }
   ],
   "source": [
    "print('hidden probabilities, given each visible in turn:')\n",
    "for vis in vispats:\n",
    "    print('vis: ',vis)\n",
    "    normalisation = 0.0\n",
    "    for hA in hidpats:\n",
    "        for hB in hidpats:\n",
    "            normalisation += pHV[(tuple(hA),tuple(hB),tuple(vis))]\n",
    "    for hA in hidpats:\n",
    "        for hB in hidpats:\n",
    "            if pHV[(tuple(hA),tuple(hB),tuple(vis))]/normalisation > 0.01:\n",
    "                print ('\\t hA,hB: ', hA, hB, '   ',pHV[(tuple(hA),tuple(hB),tuple(vis))]/normalisation)"
   ]
  }
 ],
 "metadata": {
  "kernelspec": {
   "display_name": "Python 3",
   "language": "python",
   "name": "python3"
  },
  "language_info": {
   "codemirror_mode": {
    "name": "ipython",
    "version": 3
   },
   "file_extension": ".py",
   "mimetype": "text/x-python",
   "name": "python",
   "nbconvert_exporter": "python",
   "pygments_lexer": "ipython3",
   "version": "3.4.3"
  }
 },
 "nbformat": 4,
 "nbformat_minor": 0
}
